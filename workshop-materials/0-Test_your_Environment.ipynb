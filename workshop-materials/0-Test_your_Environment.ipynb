{
 "cells": [
  {
   "attachments": {},
   "cell_type": "markdown",
   "metadata": {},
   "source": [
    "# Test\n",
    "\n",
    "This is an example Jupyter notebook, please make sure that all the required dependencies are installed correctly prior to attending the Python for Data Science workshop.\n",
    "\n",
    "If you can read this, you probably already have the Python VS Code extension, if not please install it from the Extension Marketplace (make sure it's the one signed by Microsoft).\n",
    "\n",
    "You will also need the Python interpreter, [download the latest version from this link](https://www.python.org/downloads/).\n",
    "\n",
    "After Python is installed, run the following code cell to download all of the required libraries:\n",
    "\n",
    "(A pop-up might appear asking you to install `ipykernel`, make sure you install it!)"
   ]
  },
  {
   "cell_type": "code",
   "execution_count": null,
   "metadata": {},
   "outputs": [],
   "source": [
    "%pip install numpy pandas seaborn scikit-learn"
   ]
  },
  {
   "attachments": {},
   "cell_type": "markdown",
   "metadata": {},
   "source": [
    "Once all the libraries are installed, try running the next code cell:"
   ]
  },
  {
   "cell_type": "code",
   "execution_count": null,
   "metadata": {},
   "outputs": [],
   "source": [
    "import numpy as np\n",
    "import pandas as pd\n",
    "import seaborn as sns\n",
    "import sklearn as scl\n",
    "\n",
    "print(\"NumPy: \", np.__version__)\n",
    "print(\"Pandas: \", pd.__version__)\n",
    "print(\"Seaborn: \", sns.__version__)\n",
    "print(\"Scikit-learn: \", scl.__version__)\n",
    "\n",
    "print(\"All good, ISC rules!\")"
   ]
  },
  {
   "attachments": {},
   "cell_type": "markdown",
   "metadata": {},
   "source": [
    "If you run into any problem, please inform us at the Python for DS Discord channel!"
   ]
  }
 ],
 "metadata": {
  "kernelspec": {
   "display_name": "Python 3",
   "language": "python",
   "name": "python3"
  },
  "language_info": {
   "codemirror_mode": {
    "name": "ipython",
    "version": 3
   },
   "file_extension": ".py",
   "mimetype": "text/x-python",
   "name": "python",
   "nbconvert_exporter": "python",
   "pygments_lexer": "ipython3",
   "version": "3.11.1"
  },
  "orig_nbformat": 4,
  "vscode": {
   "interpreter": {
    "hash": "662a8d5b702723448fb135394bc7e38dfc24b1cd27a5bfc790134fc04d249933"
   }
  }
 },
 "nbformat": 4,
 "nbformat_minor": 2
}
