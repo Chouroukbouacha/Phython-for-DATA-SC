{
  "cells": [
    {
      "cell_type": "markdown",
      "metadata": {
        "id": "view-in-github",
        "colab_type": "text"
      },
      "source": [
        "<a href=\"https://colab.research.google.com/github/inelectronics-students-club/Phython-for-DATA-SC/blob/main/DS_learn-modules/DS1LearnModules/3-Pandas.ipynb\" target=\"_parent\"><img src=\"https://colab.research.google.com/assets/colab-badge.svg\" alt=\"Open In Colab\"/></a>"
      ]
    },
    {
      "cell_type": "markdown",
      "metadata": {
        "id": "rsFmmBgo9-Oj"
      },
      "source": [
        "# Introduction to Pandas\n",
        "\n",
        "Having explored NumPy, it is time to get to know the other workhorse of data science in Python: pandas. The pandas library in Python really does a lot to make working with data--and importing, cleaning, and organizing it--so much easier that it is hard to imagine doing data science in Python without it.\n",
        "\n",
        "But it was not always this way. Wes McKinney developed the library out of necessity in 2008 while at AQR Capital Management in order to have a better tool for dealing with data analysis. The library has since taken off as an open-source software project that has become a mature and integral part of the data science ecosystem. (In fact, some examples in this section will be drawn from McKinney's book, *Python for Data Analysis*.)\n",
        "\n",
        "The name 'pandas' actually has nothing to do with Chinese bears but rather comes from the term *panel data*, a form of multi-dimensional data involving measurements over time that comes out the econometrics and statistics community. Ironically, while panel data is a usable data structure in pandas, it is not generally used today and we will not examine it in this course. Instead, we will focus on the two most widely used data structures in pandas: `Series` and `DataFrame`s."
      ]
    },
    {
      "cell_type": "markdown",
      "metadata": {
        "id": "M24nzUNN9-O0"
      },
      "source": [
        "## Reminders about importing and documentation\n",
        "\n",
        "Just as you imported NumPy undwither the alias ``np``, we will import Pandas under the alias ``pd``. Make sure you've installed Pandas first (run `pip install pandas` in the terminal below)."
      ]
    },
    {
      "cell_type": "code",
      "execution_count": null,
      "metadata": {
        "id": "EtLlw27N9-O4"
      },
      "outputs": [],
      "source": [
        "import pandas as pd"
      ]
    },
    {
      "cell_type": "markdown",
      "metadata": {
        "id": "L0oNtk-E9-O8"
      },
      "source": [
        "As with the NumPy convention, `pd` is an important and widely used convention in the data science world; we will use it here and we advise you to use it in your own coding.\n",
        "\n",
        "As we progress through Section 5, don't forget that IPython provides tab-completion feature and function documentation with the ``?`` character. If you don't understand anything about a function you see in this section, take a moment and read the documentation; it can help a great deal. As a reminder, to display the built-in pandas documentation, use this code:\n",
        "\n",
        "```ipython\n",
        "In [4]: pd?\n",
        "```\n",
        "\n",
        "Because it can be useful to lean about `Series` and `DataFrame`s in pandas a extension of `ndarray`s in NumPy, go ahead also import NumPy; you will want it for some of the examples later on:"
      ]
    },
    {
      "cell_type": "code",
      "execution_count": null,
      "metadata": {
        "id": "KS4LhGKH9-O-"
      },
      "outputs": [],
      "source": [
        "import numpy as np"
      ]
    },
    {
      "cell_type": "markdown",
      "metadata": {
        "id": "EoDEA2Va9-PA"
      },
      "source": [
        "Now, on to pandas!"
      ]
    },
    {
      "cell_type": "markdown",
      "metadata": {
        "id": "iXgwltIE9-PD"
      },
      "source": [
        "## Fundamental panda data structures\n",
        "\n",
        "Both `Series` and `DataFrame`s are a lot like they `ndarray`s you encountered in the last section. They provide clean, efficent data storage and handling at the scales necessary for data science. What both of them provide that `ndarray`s lack, however, are essential data-science features like flexibility when dealing with missing data and the ability to label data. These capabilities (along with others) help make `Series` and `DataFrame`s essential to the \"data munging\" that make up so much of data science."
      ]
    },
    {
      "cell_type": "markdown",
      "metadata": {
        "id": "SqMQ67r19-PG"
      },
      "source": [
        "### `Series` objects in pandas\n",
        "\n",
        "A pandas `Series` is a lot like an `ndarray` in NumPy: a one-dimensional array of indexed data.\n",
        "You can create a simple Series from an array of data like this:"
      ]
    },
    {
      "cell_type": "code",
      "execution_count": null,
      "metadata": {
        "id": "ukyjLrBD9-PJ",
        "outputId": "92fb5fcd-cf7b-48cc-9696-6e6174b3c4fd"
      },
      "outputs": [
        {
          "data": {
            "text/plain": "0   -0.50\n1    0.75\n2    1.00\n3   -2.00\ndtype: float64"
          },
          "execution_count": 3,
          "metadata": {},
          "output_type": "execute_result"
        }
      ],
      "source": [
        "series_example = pd.Series([-0.5, 0.75, 1.0, -2])\n",
        "series_example"
      ]
    },
    {
      "cell_type": "markdown",
      "metadata": {
        "id": "FPpv2gm39-PO"
      },
      "source": [
        "Similar to an `ndarray`, a `Series` upcasts entries to be of the same type of data (that `-2` integer in the original array became a `-2.00` float in the `Series`).\n",
        "\n",
        "What is different from an `ndarray` is that the ``Series`` automatically wraps both a sequence of values and a sequence of indices. These are two separate objects within the `Seriers` object that can access with the ``values`` and ``index`` attributes.\n",
        "\n",
        "Try accessing the ``values`` first; they are just a familiar NumPy array:"
      ]
    },
    {
      "cell_type": "code",
      "execution_count": null,
      "metadata": {
        "id": "xxRFXExo9-PQ",
        "outputId": "2ab7731e-62d3-4cb2-f90b-66d9caf42c16"
      },
      "outputs": [
        {
          "data": {
            "text/plain": "array([-0.5 ,  0.75,  1.  , -2.  ])"
          },
          "execution_count": 4,
          "metadata": {},
          "output_type": "execute_result"
        }
      ],
      "source": [
        "series_example.values"
      ]
    },
    {
      "cell_type": "markdown",
      "metadata": {
        "id": "EYyys34-9-PU"
      },
      "source": [
        "The ``index`` is also an array-like object:"
      ]
    },
    {
      "cell_type": "code",
      "execution_count": null,
      "metadata": {
        "id": "7jZ_X7RI9-PY",
        "outputId": "2e9b7528-56a3-41b3-a144-ca03b605d759"
      },
      "outputs": [
        {
          "data": {
            "text/plain": "RangeIndex(start=0, stop=4, step=1)"
          },
          "execution_count": 5,
          "metadata": {},
          "output_type": "execute_result"
        }
      ],
      "source": [
        "series_example.index"
      ]
    },
    {
      "cell_type": "markdown",
      "metadata": {
        "id": "RZCl7haY9-Pa"
      },
      "source": [
        "Just as with `ndarra`s, you can access specific data elements in a `Series` via the familiar Python square-bracket index notation and slicing:"
      ]
    },
    {
      "cell_type": "code",
      "execution_count": null,
      "metadata": {
        "id": "57CRNRwM9-Pb",
        "outputId": "f84ce489-96b0-48be-9df8-066351d817f7"
      },
      "outputs": [
        {
          "data": {
            "text/plain": "0.75"
          },
          "execution_count": 6,
          "metadata": {},
          "output_type": "execute_result"
        }
      ],
      "source": [
        "series_example[1]"
      ]
    },
    {
      "cell_type": "code",
      "execution_count": null,
      "metadata": {
        "id": "Fdpgaz8_9-Pc",
        "outputId": "f3d81c08-ef48-4013-b859-46000f9f2004"
      },
      "outputs": [
        {
          "data": {
            "text/plain": "1    0.75\n2    1.00\ndtype: float64"
          },
          "execution_count": 7,
          "metadata": {},
          "output_type": "execute_result"
        }
      ],
      "source": [
        "series_example[1:3]"
      ]
    },
    {
      "cell_type": "markdown",
      "metadata": {
        "id": "OwF2fCKt9-Pe"
      },
      "source": [
        "Despite a lot of similarities, pandas `Series` have an important distinction from NumPy `ndarrays`: whereas `ndarrays` have  *implicitly defined* integer indices (as do Python lists), pandas `Series` have *explicitly defined* indices. The best part is that you can set the index:"
      ]
    },
    {
      "cell_type": "code",
      "execution_count": null,
      "metadata": {
        "id": "et4f-mZx9-Pf",
        "outputId": "a9788086-b09b-4b6a-fc6e-d7b42851ccc1"
      },
      "outputs": [
        {
          "data": {
            "text/plain": "a   -0.50\nb    0.75\nc    1.00\nd   -2.00\ndtype: float64"
          },
          "execution_count": 8,
          "metadata": {},
          "output_type": "execute_result"
        }
      ],
      "source": [
        "series_example2 = pd.Series([-0.5, 0.75, 1.0, -2], index=['a', 'b', 'c', 'd'])\n",
        "series_example2"
      ]
    },
    {
      "cell_type": "markdown",
      "metadata": {
        "id": "QOBcSQ_e9-Pg"
      },
      "source": [
        "These explicit indices work exactly the way you would expect them to:"
      ]
    },
    {
      "cell_type": "code",
      "execution_count": null,
      "metadata": {
        "id": "KKY5H7B_9-Ph",
        "outputId": "79e2dfc8-62c5-42e3-aad7-bdc920ff852f"
      },
      "outputs": [
        {
          "data": {
            "text/plain": "0.75"
          },
          "execution_count": 9,
          "metadata": {},
          "output_type": "execute_result"
        }
      ],
      "source": [
        "series_example2['b']"
      ]
    },
    {
      "cell_type": "markdown",
      "metadata": {
        "id": "J5CkcAxZ9-Pj"
      },
      "source": [
        "### Exercise:"
      ]
    },
    {
      "cell_type": "code",
      "execution_count": null,
      "metadata": {
        "id": "TqD4F-LY9-Pk"
      },
      "outputs": [],
      "source": [
        "# Do explicit Series indices work *exactly* the way you might expect?\n",
        "# Try slicing series_example2 using its explicit index and find out.\n"
      ]
    },
    {
      "cell_type": "markdown",
      "metadata": {
        "id": "EOdk2X2V9-Pl"
      },
      "source": [
        "With explicit indices in the mix, a `Series` is basically a fixed-length, ordered dictionary in that it maps arbitrary typed index values to arbitrary typed data values. But like `ndarray`s these data are all of the same type, which is important. Just as the type-specific compiled code behind `ndarray` makes them more efficient than a Python lists for certain operations, the type information of pandas ``Series`` makes them much more efficient than Python dictionaries for certain operations.\n",
        "\n",
        "But the connection between `Series` and dictionaries is nevertheless very real: you can construct a ``Series`` object directly from a Python dictionary:"
      ]
    },
    {
      "cell_type": "code",
      "execution_count": null,
      "metadata": {
        "id": "QejP27vk9-Pn",
        "outputId": "e0ba9fac-e0a6-4169-cd0b-73f29350dbdd"
      },
      "outputs": [
        {
          "data": {
            "text/plain": "France      65429495\nGermany     82408706\nRussia     143910127\nJapan      126922333\ndtype: int64"
          },
          "execution_count": 11,
          "metadata": {},
          "output_type": "execute_result"
        }
      ],
      "source": [
        "population_dict = {'France': 65429495,\n",
        "                   'Germany': 82408706,\n",
        "                   'Russia': 143910127,\n",
        "                   'Japan': 126922333}\n",
        "population = pd.Series(population_dict)\n",
        "population"
      ]
    },
    {
      "cell_type": "markdown",
      "metadata": {
        "id": "ssyDPaGe9-Po"
      },
      "source": [
        "Did you see what happened there? The order of the keys `Russia` and `Japan` in the switched places between the order in which they were entered in `population_dict` and how they ended up in the `population` `Series` object. While Python dictionary keys have no order, `Series` keys are ordered.\n",
        "\n",
        "So, at one level, you can interact with `Series` as you would with dictionaries:"
      ]
    },
    {
      "cell_type": "code",
      "execution_count": null,
      "metadata": {
        "id": "SPOWmR6C9-Pp",
        "outputId": "95452db1-8f11-4475-92a9-9f7229ebc2c1"
      },
      "outputs": [
        {
          "data": {
            "text/plain": "143910127"
          },
          "execution_count": 12,
          "metadata": {},
          "output_type": "execute_result"
        }
      ],
      "source": [
        "population['Russia']"
      ]
    },
    {
      "cell_type": "markdown",
      "metadata": {
        "id": "VQ0-3SsP9-Pq"
      },
      "source": [
        "But you can also do powerful array-like operations with `Series` like slicing:"
      ]
    },
    {
      "cell_type": "code",
      "execution_count": null,
      "metadata": {
        "id": "idez3FMI9-Pr"
      },
      "outputs": [],
      "source": [
        "# Try slicing on the population Series on your own.\n",
        "# Would slicing be possible if Series keys were not ordered?\n"
      ]
    },
    {
      "cell_type": "markdown",
      "metadata": {
        "id": "YxmLjZqX9-Ps"
      },
      "source": [
        "You can also add elements to a `Series` the way that you would to an `ndarray`. Try it in the code cell below:"
      ]
    },
    {
      "cell_type": "code",
      "execution_count": null,
      "metadata": {
        "id": "z7JQHOfy9-Pt"
      },
      "outputs": [],
      "source": [
        "# Try running population['Albania'] = 2937590 (or another country of your choice)\n",
        "# What order do the keys appear in when you run population? Is it what you expected?\n"
      ]
    },
    {
      "cell_type": "markdown",
      "metadata": {
        "id": "uZxTXkM89-Pt"
      },
      "source": [
        "Anoter useful `Series` feature (and definitely a difference from dictionaries) is that `Series` automatically aligns differently indexed data in arithmetic operations:"
      ]
    },
    {
      "cell_type": "code",
      "execution_count": null,
      "metadata": {
        "id": "lxE-FpD19-Pu",
        "outputId": "87957d7d-ca62-44ba-de85-948b134bea61"
      },
      "outputs": [
        {
          "data": {
            "text/plain": "Albania           NaN\nFrance     65531816.0\nGermany           NaN\nJapan             NaN\nRussia            NaN\nSpain             NaN\ndtype: float64"
          },
          "execution_count": 15,
          "metadata": {},
          "output_type": "execute_result"
        }
      ],
      "source": [
        "pop2 = pd.Series({'Spain': 46432074, 'France': 102321, 'Albania': 50532})\n",
        "population + pop2"
      ]
    },
    {
      "cell_type": "markdown",
      "metadata": {
        "id": "rAzglUS49-Pv"
      },
      "source": [
        "Notice that in the case of Germany, Japan, Russia, and Spain (and Albania, depending on what you did in the previous exercise), the addition operation produced `NaN` (not a number) values. pandas does not treat missing values as `0`, but as `NaN` (and it can be helpful to think of arithmetic operations involving `NaN` as essentially `NaN`$ + x=$ `NaN`)."
      ]
    },
    {
      "cell_type": "markdown",
      "metadata": {
        "id": "zp77LcH19-Pw"
      },
      "source": [
        "### `DataFrame` object in pandas\n",
        "\n",
        "The other crucial data structure in pandas to get to know for data science is the `DataFrame`.\n",
        "Like the ``Series`` object, ``DataFrame``s can be thought of either as generalizations of `ndarray`s (or as specializations of Python dictionaries).\n",
        "\n",
        "Just as a ``Series`` is like a one-dimensional array with flexible indices, a ``DataFrame`` is like a two-dimensional array with both flexible row indices and flexible column names. Essentially, a `DataFrame` represents a rectangular table of data and contains an ordered collection of labeled columns, each of which can be a different value type (`string`, `int`, `float`, etc.).\n",
        "The DataFrame has both a row and column index; in this way you can think of it as a dictionary of `Series`, all of which share the same index.\n",
        "\n",
        "Let's take a look at how this works in practice. We will start by creating a `Series` called `area`:"
      ]
    },
    {
      "cell_type": "code",
      "execution_count": null,
      "metadata": {
        "id": "KWRrjUH79-Pw",
        "outputId": "0e2060f6-8aa5-4512-e8e1-107e7aeb24f5"
      },
      "outputs": [
        {
          "data": {
            "text/plain": "Albania       28748\nFrance       643801\nGermany      357386\nJapan        377972\nRussia     17125200\ndtype: int64"
          },
          "execution_count": 16,
          "metadata": {},
          "output_type": "execute_result"
        }
      ],
      "source": [
        "area_dict = {'Albania': 28748,\n",
        "             'France': 643801,\n",
        "             'Germany': 357386,\n",
        "             'Japan': 377972,\n",
        "             'Russia': 17125200}\n",
        "area = pd.Series(area_dict)\n",
        "area"
      ]
    },
    {
      "cell_type": "markdown",
      "metadata": {
        "id": "Z5oRQJVW9-Px"
      },
      "source": [
        "Now you can combine this with the `population` `Series` you created earlier by using a dictionary to construct a single two-dimensional table containing data from both `Series`:"
      ]
    },
    {
      "cell_type": "code",
      "execution_count": null,
      "metadata": {
        "id": "a84-tDdH9-Py",
        "outputId": "30894692-adce-4dc1-a2e7-b67ae1d1f95c"
      },
      "outputs": [
        {
          "data": {
            "text/html": "<div>\n<style scoped>\n    .dataframe tbody tr th:only-of-type {\n        vertical-align: middle;\n    }\n\n    .dataframe tbody tr th {\n        vertical-align: top;\n    }\n\n    .dataframe thead th {\n        text-align: right;\n    }\n</style>\n<table border=\"1\" class=\"dataframe\">\n  <thead>\n    <tr style=\"text-align: right;\">\n      <th></th>\n      <th>Population</th>\n      <th>Area</th>\n    </tr>\n  </thead>\n  <tbody>\n    <tr>\n      <th>Albania</th>\n      <td>NaN</td>\n      <td>28748</td>\n    </tr>\n    <tr>\n      <th>France</th>\n      <td>65429495.0</td>\n      <td>643801</td>\n    </tr>\n    <tr>\n      <th>Germany</th>\n      <td>82408706.0</td>\n      <td>357386</td>\n    </tr>\n    <tr>\n      <th>Japan</th>\n      <td>126922333.0</td>\n      <td>377972</td>\n    </tr>\n    <tr>\n      <th>Russia</th>\n      <td>143910127.0</td>\n      <td>17125200</td>\n    </tr>\n  </tbody>\n</table>\n</div>",
            "text/plain": "          Population      Area\nAlbania          NaN     28748\nFrance    65429495.0    643801\nGermany   82408706.0    357386\nJapan    126922333.0    377972\nRussia   143910127.0  17125200"
          },
          "execution_count": 17,
          "metadata": {},
          "output_type": "execute_result"
        }
      ],
      "source": [
        "countries = pd.DataFrame({'Population': population, 'Area': area})\n",
        "countries"
      ]
    },
    {
      "cell_type": "markdown",
      "metadata": {
        "id": "dMbIvQSK9-P1"
      },
      "source": [
        "As with `Series`, note that `DataFrame`s also automatically order indices (in this case, the column indices `Area` and `Population`).\n",
        "\n",
        "So far we have combined dictionaries together to compose a `DataFrame` (which has given our `DataFrame` a row-centric feel), but you can also create `DataFrame`s in a column-wise fashion. Consider adding a `Capital` column using our reliable old array-analog, a list:"
      ]
    },
    {
      "cell_type": "code",
      "execution_count": null,
      "metadata": {
        "id": "YxbqyFb99-P2",
        "outputId": "03edfbf0-a72b-4d0b-ad3b-42669d1fb946"
      },
      "outputs": [
        {
          "data": {
            "text/html": "<div>\n<style scoped>\n    .dataframe tbody tr th:only-of-type {\n        vertical-align: middle;\n    }\n\n    .dataframe tbody tr th {\n        vertical-align: top;\n    }\n\n    .dataframe thead th {\n        text-align: right;\n    }\n</style>\n<table border=\"1\" class=\"dataframe\">\n  <thead>\n    <tr style=\"text-align: right;\">\n      <th></th>\n      <th>Population</th>\n      <th>Area</th>\n      <th>Capital</th>\n    </tr>\n  </thead>\n  <tbody>\n    <tr>\n      <th>Albania</th>\n      <td>NaN</td>\n      <td>28748</td>\n      <td>Tirana</td>\n    </tr>\n    <tr>\n      <th>France</th>\n      <td>65429495.0</td>\n      <td>643801</td>\n      <td>Paris</td>\n    </tr>\n    <tr>\n      <th>Germany</th>\n      <td>82408706.0</td>\n      <td>357386</td>\n      <td>Berlin</td>\n    </tr>\n    <tr>\n      <th>Japan</th>\n      <td>126922333.0</td>\n      <td>377972</td>\n      <td>Tokyo</td>\n    </tr>\n    <tr>\n      <th>Russia</th>\n      <td>143910127.0</td>\n      <td>17125200</td>\n      <td>Moscow</td>\n    </tr>\n  </tbody>\n</table>\n</div>",
            "text/plain": "          Population      Area Capital\nAlbania          NaN     28748  Tirana\nFrance    65429495.0    643801   Paris\nGermany   82408706.0    357386  Berlin\nJapan    126922333.0    377972   Tokyo\nRussia   143910127.0  17125200  Moscow"
          },
          "execution_count": 18,
          "metadata": {},
          "output_type": "execute_result"
        }
      ],
      "source": [
        "countries['Capital'] = ['Tirana', 'Paris', 'Berlin', 'Tokyo', 'Moscow']\n",
        "countries"
      ]
    },
    {
      "cell_type": "markdown",
      "metadata": {
        "id": "WJouVTOE9-P3"
      },
      "source": [
        "As with `Series`, even though initial indices are ordered in `DataFrame`s, subsequent additions to a `DataFrame` stay in the ordered added. However, you can explicitly change the order of `DataFrame` column indices this way:"
      ]
    },
    {
      "cell_type": "code",
      "execution_count": null,
      "metadata": {
        "id": "i99rW75u9-P4",
        "outputId": "bdaeefe7-7469-425d-8180-ee0250a80639"
      },
      "outputs": [
        {
          "data": {
            "text/html": "<div>\n<style scoped>\n    .dataframe tbody tr th:only-of-type {\n        vertical-align: middle;\n    }\n\n    .dataframe tbody tr th {\n        vertical-align: top;\n    }\n\n    .dataframe thead th {\n        text-align: right;\n    }\n</style>\n<table border=\"1\" class=\"dataframe\">\n  <thead>\n    <tr style=\"text-align: right;\">\n      <th></th>\n      <th>Capital</th>\n      <th>Area</th>\n      <th>Population</th>\n    </tr>\n  </thead>\n  <tbody>\n    <tr>\n      <th>Albania</th>\n      <td>Tirana</td>\n      <td>28748</td>\n      <td>NaN</td>\n    </tr>\n    <tr>\n      <th>France</th>\n      <td>Paris</td>\n      <td>643801</td>\n      <td>65429495.0</td>\n    </tr>\n    <tr>\n      <th>Germany</th>\n      <td>Berlin</td>\n      <td>357386</td>\n      <td>82408706.0</td>\n    </tr>\n    <tr>\n      <th>Japan</th>\n      <td>Tokyo</td>\n      <td>377972</td>\n      <td>126922333.0</td>\n    </tr>\n    <tr>\n      <th>Russia</th>\n      <td>Moscow</td>\n      <td>17125200</td>\n      <td>143910127.0</td>\n    </tr>\n  </tbody>\n</table>\n</div>",
            "text/plain": "        Capital      Area   Population\nAlbania  Tirana     28748          NaN\nFrance    Paris    643801   65429495.0\nGermany  Berlin    357386   82408706.0\nJapan     Tokyo    377972  126922333.0\nRussia   Moscow  17125200  143910127.0"
          },
          "execution_count": 19,
          "metadata": {},
          "output_type": "execute_result"
        }
      ],
      "source": [
        "countries = countries[['Capital', 'Area', 'Population']]\n",
        "countries"
      ]
    },
    {
      "cell_type": "markdown",
      "metadata": {
        "id": "y8a-egkF9-P4"
      },
      "source": [
        "Commonly in a data science context, it is necessary to generate new columns of data from existing data sets. Because `DataFrame` columns behave like `Series`, you can do this is by performing operations on them as you would with `Series`:"
      ]
    },
    {
      "cell_type": "code",
      "execution_count": null,
      "metadata": {
        "id": "Hy0Akvq59-P5",
        "outputId": "1090ec01-dc5e-4278-8666-29d16fc60314"
      },
      "outputs": [
        {
          "data": {
            "text/html": "<div>\n<style scoped>\n    .dataframe tbody tr th:only-of-type {\n        vertical-align: middle;\n    }\n\n    .dataframe tbody tr th {\n        vertical-align: top;\n    }\n\n    .dataframe thead th {\n        text-align: right;\n    }\n</style>\n<table border=\"1\" class=\"dataframe\">\n  <thead>\n    <tr style=\"text-align: right;\">\n      <th></th>\n      <th>Capital</th>\n      <th>Area</th>\n      <th>Population</th>\n      <th>Population Density</th>\n    </tr>\n  </thead>\n  <tbody>\n    <tr>\n      <th>Albania</th>\n      <td>Tirana</td>\n      <td>28748</td>\n      <td>NaN</td>\n      <td>NaN</td>\n    </tr>\n    <tr>\n      <th>France</th>\n      <td>Paris</td>\n      <td>643801</td>\n      <td>65429495.0</td>\n      <td>101.629999</td>\n    </tr>\n    <tr>\n      <th>Germany</th>\n      <td>Berlin</td>\n      <td>357386</td>\n      <td>82408706.0</td>\n      <td>230.587393</td>\n    </tr>\n    <tr>\n      <th>Japan</th>\n      <td>Tokyo</td>\n      <td>377972</td>\n      <td>126922333.0</td>\n      <td>335.798242</td>\n    </tr>\n    <tr>\n      <th>Russia</th>\n      <td>Moscow</td>\n      <td>17125200</td>\n      <td>143910127.0</td>\n      <td>8.403413</td>\n    </tr>\n  </tbody>\n</table>\n</div>",
            "text/plain": "        Capital      Area   Population  Population Density\nAlbania  Tirana     28748          NaN                 NaN\nFrance    Paris    643801   65429495.0          101.629999\nGermany  Berlin    357386   82408706.0          230.587393\nJapan     Tokyo    377972  126922333.0          335.798242\nRussia   Moscow  17125200  143910127.0            8.403413"
          },
          "execution_count": 20,
          "metadata": {},
          "output_type": "execute_result"
        }
      ],
      "source": [
        "countries['Population Density'] = countries['Population'] / countries['Area']\n",
        "countries"
      ]
    },
    {
      "cell_type": "markdown",
      "metadata": {
        "id": "X7vd264J9-P6"
      },
      "source": [
        "Note: don't worry if IPython gives you a warning over this. The warning is IPython trying to be a little too helpful. The new column you created is an actual part of the `DataFrame` and not a copy of a slice."
      ]
    },
    {
      "cell_type": "markdown",
      "metadata": {
        "id": "g4hZ2NI59-P6"
      },
      "source": [
        "We have stated before that `DataFrame`s are like dictionaries, and it's true. You can retrieve the contents of a column just as you would the value for a specific key in an ordinary dictionary:"
      ]
    },
    {
      "cell_type": "code",
      "execution_count": null,
      "metadata": {
        "id": "OMHipjj99-P7",
        "outputId": "bf87fd89-bca6-4531-cbc6-ac1a3910b432"
      },
      "outputs": [
        {
          "data": {
            "text/plain": "Albania       28748\nFrance       643801\nGermany      357386\nJapan        377972\nRussia     17125200\nName: Area, dtype: int64"
          },
          "execution_count": 21,
          "metadata": {},
          "output_type": "execute_result"
        }
      ],
      "source": [
        "countries['Area']"
      ]
    },
    {
      "cell_type": "markdown",
      "metadata": {
        "id": "obiTtp5e9-P8"
      },
      "source": [
        "What about using the row indices?"
      ]
    },
    {
      "cell_type": "code",
      "execution_count": null,
      "metadata": {
        "id": "upg-MLZ-9-P8"
      },
      "outputs": [],
      "source": [
        "# Now try accessing row data with a command like countries['Japan']\n"
      ]
    },
    {
      "cell_type": "markdown",
      "metadata": {
        "id": "m1QOpx6v9-P9"
      },
      "source": [
        "This returns an error: `DataFrame`s are dictionaries of `Series`, which are the columns. `DataFrame` rows often have heterogeneous data types, so different methods are necessary to access row data. For that, we use the `.loc` method:"
      ]
    },
    {
      "cell_type": "code",
      "execution_count": null,
      "metadata": {
        "id": "hZrQi7QS9-P9",
        "outputId": "5c6533ab-b9f5-41d2-b989-5b1521d4485c"
      },
      "outputs": [
        {
          "data": {
            "text/plain": "Capital                     Tokyo\nArea                       377972\nPopulation            1.26922e+08\nPopulation Density        335.798\nName: Japan, dtype: object"
          },
          "execution_count": 23,
          "metadata": {},
          "output_type": "execute_result"
        }
      ],
      "source": [
        "countries.loc['Japan']"
      ]
    },
    {
      "cell_type": "markdown",
      "metadata": {
        "id": "JA3sX0sI9-P-"
      },
      "source": [
        "Note that what `.loc` returns is an indexed object in its own right and you can access elements within it using familiar index syntax:"
      ]
    },
    {
      "cell_type": "code",
      "execution_count": null,
      "metadata": {
        "id": "-_agSv869-P-",
        "outputId": "7a703eaa-523f-46e4-f25c-9538229a8a16"
      },
      "outputs": [
        {
          "data": {
            "text/plain": "377972"
          },
          "execution_count": 24,
          "metadata": {},
          "output_type": "execute_result"
        }
      ],
      "source": [
        "countries.loc['Japan']['Area']"
      ]
    },
    {
      "cell_type": "code",
      "execution_count": null,
      "metadata": {
        "id": "b3C5GuuT9-P_"
      },
      "outputs": [],
      "source": [
        "# Can you think of a way to return the area of Japan without using .iloc?\n",
        "# Hint: Try putting the column index first.\n",
        "# Can you slice along these indices as well?\n"
      ]
    },
    {
      "cell_type": "markdown",
      "metadata": {
        "id": "Toh8uTg-9-QA"
      },
      "source": [
        "Sometimes it is helpful in data science projects to add a column to a `DataFrame` without assigning values to it:"
      ]
    },
    {
      "cell_type": "code",
      "execution_count": null,
      "metadata": {
        "id": "F51mt3PS9-QB",
        "outputId": "575a6bb1-b719-4818-9476-7fa5dda26fdb"
      },
      "outputs": [
        {
          "data": {
            "text/html": "<div>\n<style scoped>\n    .dataframe tbody tr th:only-of-type {\n        vertical-align: middle;\n    }\n\n    .dataframe tbody tr th {\n        vertical-align: top;\n    }\n\n    .dataframe thead th {\n        text-align: right;\n    }\n</style>\n<table border=\"1\" class=\"dataframe\">\n  <thead>\n    <tr style=\"text-align: right;\">\n      <th></th>\n      <th>Capital</th>\n      <th>Area</th>\n      <th>Population</th>\n      <th>Population Density</th>\n      <th>Debt-to-GDP Ratio</th>\n    </tr>\n  </thead>\n  <tbody>\n    <tr>\n      <th>Albania</th>\n      <td>Tirana</td>\n      <td>28748</td>\n      <td>NaN</td>\n      <td>NaN</td>\n      <td>NaN</td>\n    </tr>\n    <tr>\n      <th>France</th>\n      <td>Paris</td>\n      <td>643801</td>\n      <td>65429495.0</td>\n      <td>101.629999</td>\n      <td>NaN</td>\n    </tr>\n    <tr>\n      <th>Germany</th>\n      <td>Berlin</td>\n      <td>357386</td>\n      <td>82408706.0</td>\n      <td>230.587393</td>\n      <td>NaN</td>\n    </tr>\n    <tr>\n      <th>Japan</th>\n      <td>Tokyo</td>\n      <td>377972</td>\n      <td>126922333.0</td>\n      <td>335.798242</td>\n      <td>NaN</td>\n    </tr>\n    <tr>\n      <th>Russia</th>\n      <td>Moscow</td>\n      <td>17125200</td>\n      <td>143910127.0</td>\n      <td>8.403413</td>\n      <td>NaN</td>\n    </tr>\n  </tbody>\n</table>\n</div>",
            "text/plain": "        Capital      Area   Population  Population Density  Debt-to-GDP Ratio\nAlbania  Tirana     28748          NaN                 NaN                NaN\nFrance    Paris    643801   65429495.0          101.629999                NaN\nGermany  Berlin    357386   82408706.0          230.587393                NaN\nJapan     Tokyo    377972  126922333.0          335.798242                NaN\nRussia   Moscow  17125200  143910127.0            8.403413                NaN"
          },
          "execution_count": 26,
          "metadata": {},
          "output_type": "execute_result"
        }
      ],
      "source": [
        "countries['Debt-to-GDP Ratio'] = np.nan\n",
        "countries"
      ]
    },
    {
      "cell_type": "markdown",
      "metadata": {
        "id": "r8Cn1bsj9-QB"
      },
      "source": [
        "Again, you can disregard the warning (if it triggers) about adding the column this way.\n",
        "\n",
        "You can also add columns to a `DataFrame` that do not have the same number of rows as the `DataFrame`:"
      ]
    },
    {
      "cell_type": "code",
      "execution_count": null,
      "metadata": {
        "id": "wVgKeTGX9-QC",
        "outputId": "896b1331-3f1e-4864-e427-f8acb9fd8b58"
      },
      "outputs": [
        {
          "data": {
            "text/html": "<div>\n<style scoped>\n    .dataframe tbody tr th:only-of-type {\n        vertical-align: middle;\n    }\n\n    .dataframe tbody tr th {\n        vertical-align: top;\n    }\n\n    .dataframe thead th {\n        text-align: right;\n    }\n</style>\n<table border=\"1\" class=\"dataframe\">\n  <thead>\n    <tr style=\"text-align: right;\">\n      <th></th>\n      <th>Capital</th>\n      <th>Area</th>\n      <th>Population</th>\n      <th>Population Density</th>\n      <th>Debt-to-GDP Ratio</th>\n    </tr>\n  </thead>\n  <tbody>\n    <tr>\n      <th>Albania</th>\n      <td>Tirana</td>\n      <td>28748</td>\n      <td>NaN</td>\n      <td>NaN</td>\n      <td>NaN</td>\n    </tr>\n    <tr>\n      <th>France</th>\n      <td>Paris</td>\n      <td>643801</td>\n      <td>65429495.0</td>\n      <td>101.629999</td>\n      <td>NaN</td>\n    </tr>\n    <tr>\n      <th>Germany</th>\n      <td>Berlin</td>\n      <td>357386</td>\n      <td>82408706.0</td>\n      <td>230.587393</td>\n      <td>NaN</td>\n    </tr>\n    <tr>\n      <th>Japan</th>\n      <td>Tokyo</td>\n      <td>377972</td>\n      <td>126922333.0</td>\n      <td>335.798242</td>\n      <td>2.36</td>\n    </tr>\n    <tr>\n      <th>Russia</th>\n      <td>Moscow</td>\n      <td>17125200</td>\n      <td>143910127.0</td>\n      <td>8.403413</td>\n      <td>0.19</td>\n    </tr>\n  </tbody>\n</table>\n</div>",
            "text/plain": "        Capital      Area   Population  Population Density  Debt-to-GDP Ratio\nAlbania  Tirana     28748          NaN                 NaN                NaN\nFrance    Paris    643801   65429495.0          101.629999                NaN\nGermany  Berlin    357386   82408706.0          230.587393                NaN\nJapan     Tokyo    377972  126922333.0          335.798242               2.36\nRussia   Moscow  17125200  143910127.0            8.403413               0.19"
          },
          "execution_count": 27,
          "metadata": {},
          "output_type": "execute_result"
        }
      ],
      "source": [
        "debt = pd.Series([0.19, 2.36], index=['Russia', 'Japan'])\n",
        "countries['Debt-to-GDP Ratio'] = debt\n",
        "countries"
      ]
    },
    {
      "cell_type": "markdown",
      "metadata": {
        "id": "DkXAaedy9-QD"
      },
      "source": [
        "You can use the `del` command to delete a column from a `DataFrame`:"
      ]
    },
    {
      "cell_type": "code",
      "execution_count": null,
      "metadata": {
        "id": "xgXNRxqr9-QG",
        "outputId": "c3535993-d40d-467a-d1e5-d1f8683eed4b"
      },
      "outputs": [
        {
          "data": {
            "text/html": "<div>\n<style scoped>\n    .dataframe tbody tr th:only-of-type {\n        vertical-align: middle;\n    }\n\n    .dataframe tbody tr th {\n        vertical-align: top;\n    }\n\n    .dataframe thead th {\n        text-align: right;\n    }\n</style>\n<table border=\"1\" class=\"dataframe\">\n  <thead>\n    <tr style=\"text-align: right;\">\n      <th></th>\n      <th>Area</th>\n      <th>Population</th>\n      <th>Population Density</th>\n      <th>Debt-to-GDP Ratio</th>\n    </tr>\n  </thead>\n  <tbody>\n    <tr>\n      <th>Albania</th>\n      <td>28748</td>\n      <td>NaN</td>\n      <td>NaN</td>\n      <td>NaN</td>\n    </tr>\n    <tr>\n      <th>France</th>\n      <td>643801</td>\n      <td>65429495.0</td>\n      <td>101.629999</td>\n      <td>NaN</td>\n    </tr>\n    <tr>\n      <th>Germany</th>\n      <td>357386</td>\n      <td>82408706.0</td>\n      <td>230.587393</td>\n      <td>NaN</td>\n    </tr>\n    <tr>\n      <th>Japan</th>\n      <td>377972</td>\n      <td>126922333.0</td>\n      <td>335.798242</td>\n      <td>2.36</td>\n    </tr>\n    <tr>\n      <th>Russia</th>\n      <td>17125200</td>\n      <td>143910127.0</td>\n      <td>8.403413</td>\n      <td>0.19</td>\n    </tr>\n  </tbody>\n</table>\n</div>",
            "text/plain": "             Area   Population  Population Density  Debt-to-GDP Ratio\nAlbania     28748          NaN                 NaN                NaN\nFrance     643801   65429495.0          101.629999                NaN\nGermany    357386   82408706.0          230.587393                NaN\nJapan      377972  126922333.0          335.798242               2.36\nRussia   17125200  143910127.0            8.403413               0.19"
          },
          "execution_count": 28,
          "metadata": {},
          "output_type": "execute_result"
        }
      ],
      "source": [
        "del countries['Capital']\n",
        "countries"
      ]
    },
    {
      "cell_type": "markdown",
      "metadata": {
        "id": "vIuQZqtU9-QH"
      },
      "source": [
        "In addition to their dictionary-like behavior, `DataFrames` also behave like two-dimensional arrays. For example, it can be useful at times when working with a `DataFrame` to transpose it:"
      ]
    },
    {
      "cell_type": "code",
      "execution_count": null,
      "metadata": {
        "id": "lapypwdS9-QI",
        "outputId": "40f2eead-62ce-430c-b56a-59a4d97cd4d8"
      },
      "outputs": [
        {
          "data": {
            "text/html": "<div>\n<style scoped>\n    .dataframe tbody tr th:only-of-type {\n        vertical-align: middle;\n    }\n\n    .dataframe tbody tr th {\n        vertical-align: top;\n    }\n\n    .dataframe thead th {\n        text-align: right;\n    }\n</style>\n<table border=\"1\" class=\"dataframe\">\n  <thead>\n    <tr style=\"text-align: right;\">\n      <th></th>\n      <th>Albania</th>\n      <th>France</th>\n      <th>Germany</th>\n      <th>Japan</th>\n      <th>Russia</th>\n    </tr>\n  </thead>\n  <tbody>\n    <tr>\n      <th>Area</th>\n      <td>28748.0</td>\n      <td>6.438010e+05</td>\n      <td>3.573860e+05</td>\n      <td>3.779720e+05</td>\n      <td>1.712520e+07</td>\n    </tr>\n    <tr>\n      <th>Population</th>\n      <td>NaN</td>\n      <td>6.542950e+07</td>\n      <td>8.240871e+07</td>\n      <td>1.269223e+08</td>\n      <td>1.439101e+08</td>\n    </tr>\n    <tr>\n      <th>Population Density</th>\n      <td>NaN</td>\n      <td>1.016300e+02</td>\n      <td>2.305874e+02</td>\n      <td>3.357982e+02</td>\n      <td>8.403413e+00</td>\n    </tr>\n    <tr>\n      <th>Debt-to-GDP Ratio</th>\n      <td>NaN</td>\n      <td>NaN</td>\n      <td>NaN</td>\n      <td>2.360000e+00</td>\n      <td>1.900000e-01</td>\n    </tr>\n  </tbody>\n</table>\n</div>",
            "text/plain": "                    Albania        France       Germany         Japan  \\\nArea                28748.0  6.438010e+05  3.573860e+05  3.779720e+05   \nPopulation              NaN  6.542950e+07  8.240871e+07  1.269223e+08   \nPopulation Density      NaN  1.016300e+02  2.305874e+02  3.357982e+02   \nDebt-to-GDP Ratio       NaN           NaN           NaN  2.360000e+00   \n\n                          Russia  \nArea                1.712520e+07  \nPopulation          1.439101e+08  \nPopulation Density  8.403413e+00  \nDebt-to-GDP Ratio   1.900000e-01  "
          },
          "execution_count": 29,
          "metadata": {},
          "output_type": "execute_result"
        }
      ],
      "source": [
        "countries.T"
      ]
    },
    {
      "cell_type": "markdown",
      "metadata": {
        "id": "9hrGpe5e9-QJ"
      },
      "source": [
        "Again, note that `DataFrame` columns are `Series` and thus the data types must consistent, hence the upcasting to floating-point numbers. **If there had been strings in this `DataFrame`, everything would have been upcast to strings.** Use caution when transposing `DataFrame`s."
      ]
    },
    {
      "cell_type": "markdown",
      "metadata": {
        "id": "PnFzmjP89-QK"
      },
      "source": [
        "#### From a two-dimensional NumPy array\n",
        "\n",
        "Given a two-dimensional array of data, we can create a ``DataFrame`` with any specified column and index names.\n",
        "If omitted, an integer index will be used for each:"
      ]
    },
    {
      "cell_type": "code",
      "execution_count": null,
      "metadata": {
        "id": "jekq3P8U9-QL",
        "outputId": "fe958118-9aee-489b-9d79-a95311fb11c8"
      },
      "outputs": [
        {
          "data": {
            "text/html": "<div>\n<style scoped>\n    .dataframe tbody tr th:only-of-type {\n        vertical-align: middle;\n    }\n\n    .dataframe tbody tr th {\n        vertical-align: top;\n    }\n\n    .dataframe thead th {\n        text-align: right;\n    }\n</style>\n<table border=\"1\" class=\"dataframe\">\n  <thead>\n    <tr style=\"text-align: right;\">\n      <th></th>\n      <th>foo</th>\n      <th>bar</th>\n    </tr>\n  </thead>\n  <tbody>\n    <tr>\n      <th>a</th>\n      <td>0.733086</td>\n      <td>0.708453</td>\n    </tr>\n    <tr>\n      <th>b</th>\n      <td>0.722008</td>\n      <td>0.048097</td>\n    </tr>\n    <tr>\n      <th>c</th>\n      <td>0.275534</td>\n      <td>0.822378</td>\n    </tr>\n  </tbody>\n</table>\n</div>",
            "text/plain": "        foo       bar\na  0.733086  0.708453\nb  0.722008  0.048097\nc  0.275534  0.822378"
          },
          "execution_count": 30,
          "metadata": {},
          "output_type": "execute_result"
        }
      ],
      "source": [
        "pd.DataFrame(np.random.rand(3, 2),\n",
        "             columns=['foo', 'bar'],\n",
        "             index=['a', 'b', 'c'])"
      ]
    },
    {
      "cell_type": "markdown",
      "metadata": {
        "id": "JB6Ly4v39-QL"
      },
      "source": [
        "## Manipulating data in pandas\n",
        "\n",
        "A huge part of data science is manipulating data in order to analyze it. (One rule of thumb is that 80% of any data science project will be concerned with cleaning and organizing the data for the project.) So it makes sense to lear the tools that pandas provides for handling data in `Series` and especially `DataFrame`s. Because both of those data structures are ordered, let's first start by taking a closer look at what gives them their structure: the `Index`."
      ]
    },
    {
      "cell_type": "markdown",
      "metadata": {
        "id": "b55vJP8a9-QM"
      },
      "source": [
        "### Index objects in pandas\n",
        "\n",
        "Both ``Series`` and ``DataFrame``s in pandas have explicit indices that enable you to reference and modify data in them. These indices are actually objects themselves. The ``Index`` object can be thought of as both an immutable array or as fixed-size set. \n",
        "\n",
        "It's worth the time to get to know the properties of the `Index` object. Let's return to an example from earlier in the section to examine these properties."
      ]
    },
    {
      "cell_type": "code",
      "execution_count": null,
      "metadata": {
        "id": "pKfU8CSV9-QN",
        "outputId": "c7aab272-237f-4ea0-f409-89f00018b2e1"
      },
      "outputs": [
        {
          "data": {
            "text/plain": "Index(['a', 'b', 'c', 'd'], dtype='object')"
          },
          "execution_count": 31,
          "metadata": {},
          "output_type": "execute_result"
        }
      ],
      "source": [
        "series_example = pd.Series([-0.5, 0.75, 1.0, -2], index=['a', 'b', 'c', 'd'])\n",
        "ind = series_example.index\n",
        "ind"
      ]
    },
    {
      "cell_type": "markdown",
      "metadata": {
        "id": "aPiSCFmd9-QO"
      },
      "source": [
        "The ``Index`` works a lot like an array. we have already seen how to use standard Python indexing notation to retrieve values or slices:"
      ]
    },
    {
      "cell_type": "code",
      "execution_count": null,
      "metadata": {
        "id": "GYXKfJZO9-QO",
        "outputId": "c1853b57-c80a-456d-df18-915133a3cfbb"
      },
      "outputs": [
        {
          "data": {
            "text/plain": "'b'"
          },
          "execution_count": 32,
          "metadata": {},
          "output_type": "execute_result"
        }
      ],
      "source": [
        "ind[1]"
      ]
    },
    {
      "cell_type": "code",
      "execution_count": null,
      "metadata": {
        "id": "zoE2XLoH9-QP",
        "outputId": "48fb5add-df15-4abf-cced-0b4fd5c422e6"
      },
      "outputs": [
        {
          "data": {
            "text/plain": "Index(['a', 'c'], dtype='object')"
          },
          "execution_count": 33,
          "metadata": {},
          "output_type": "execute_result"
        }
      ],
      "source": [
        "ind[::2]"
      ]
    },
    {
      "cell_type": "markdown",
      "metadata": {
        "id": "qdkViQML9-QP"
      },
      "source": [
        "But ``Index`` objects are immutable; you cannot be modified via the normal means:"
      ]
    },
    {
      "cell_type": "code",
      "execution_count": null,
      "metadata": {
        "id": "Je4okX4D9-QQ",
        "outputId": "c261eb3a-b0c1-4029-ab02-be6b820f64fc"
      },
      "outputs": [
        {
          "ename": "TypeError",
          "evalue": "Index does not support mutable operations",
          "output_type": "error",
          "traceback": [
            "\u001b[0;31m---------------------------------------------------------------------------\u001b[0m",
            "\u001b[0;31mTypeError\u001b[0m                                 Traceback (most recent call last)",
            "\u001b[0;32m<ipython-input-34-906a9fa1424c>\u001b[0m in \u001b[0;36m<module>\u001b[0;34m\u001b[0m\n\u001b[0;32m----> 1\u001b[0;31m \u001b[0mind\u001b[0m\u001b[0;34m[\u001b[0m\u001b[0;36m1\u001b[0m\u001b[0;34m]\u001b[0m \u001b[0;34m=\u001b[0m \u001b[0;36m0\u001b[0m\u001b[0;34m\u001b[0m\u001b[0;34m\u001b[0m\u001b[0m\n\u001b[0m",
            "\u001b[0;32m/opt/anaconda3/lib/python3.7/site-packages/pandas/core/indexes/base.py\u001b[0m in \u001b[0;36m__setitem__\u001b[0;34m(self, key, value)\u001b[0m\n\u001b[1;32m   2063\u001b[0m \u001b[0;34m\u001b[0m\u001b[0m\n\u001b[1;32m   2064\u001b[0m     \u001b[0;32mdef\u001b[0m \u001b[0m__setitem__\u001b[0m\u001b[0;34m(\u001b[0m\u001b[0mself\u001b[0m\u001b[0;34m,\u001b[0m \u001b[0mkey\u001b[0m\u001b[0;34m,\u001b[0m \u001b[0mvalue\u001b[0m\u001b[0;34m)\u001b[0m\u001b[0;34m:\u001b[0m\u001b[0;34m\u001b[0m\u001b[0;34m\u001b[0m\u001b[0m\n\u001b[0;32m-> 2065\u001b[0;31m         \u001b[0;32mraise\u001b[0m \u001b[0mTypeError\u001b[0m\u001b[0;34m(\u001b[0m\u001b[0;34m\"Index does not support mutable operations\"\u001b[0m\u001b[0;34m)\u001b[0m\u001b[0;34m\u001b[0m\u001b[0;34m\u001b[0m\u001b[0m\n\u001b[0m\u001b[1;32m   2066\u001b[0m \u001b[0;34m\u001b[0m\u001b[0m\n\u001b[1;32m   2067\u001b[0m     \u001b[0;32mdef\u001b[0m \u001b[0m__getitem__\u001b[0m\u001b[0;34m(\u001b[0m\u001b[0mself\u001b[0m\u001b[0;34m,\u001b[0m \u001b[0mkey\u001b[0m\u001b[0;34m)\u001b[0m\u001b[0;34m:\u001b[0m\u001b[0;34m\u001b[0m\u001b[0;34m\u001b[0m\u001b[0m\n",
            "\u001b[0;31mTypeError\u001b[0m: Index does not support mutable operations"
          ]
        }
      ],
      "source": [
        "ind[1] = 0"
      ]
    },
    {
      "cell_type": "markdown",
      "metadata": {
        "id": "Jws7hA2K9-QR"
      },
      "source": [
        "This immutability is a good thing: it makes it safer to share indices between multiple ``Series`` or ``DataFrame``s without the potential for problems arising from inadvertent index modification."
      ]
    },
    {
      "cell_type": "markdown",
      "metadata": {
        "id": "l5r6rqJJ9-QR"
      },
      "source": [
        "In addition to being array-like, a Index also behaves like a fixed-size set, including following many of the conventions used by Python's built-in ``set`` data structure, so that unions, intersections, differences, and other combinations can be computed in a familiar way. Let's play around with this to see it in action."
      ]
    },
    {
      "cell_type": "code",
      "execution_count": null,
      "metadata": {
        "id": "r6o6Olj19-QS"
      },
      "outputs": [],
      "source": [
        "ind_odd = pd.Index([1, 3, 5, 7, 9])\n",
        "ind_prime = pd.Index([2, 3, 5, 7, 11])"
      ]
    },
    {
      "cell_type": "markdown",
      "metadata": {
        "id": "WirWr8sX9-QS"
      },
      "source": [
        "In the code cell below, try out the intersection (`ind_odd & ind_prime`), union (`ind_odd | ind_prime`), and the symmetric difference (`ind_odd ^ ind_prime`) of `ind_odd` and `ind_prime`."
      ]
    },
    {
      "cell_type": "code",
      "execution_count": null,
      "metadata": {
        "trusted": true,
        "id": "F_CJznvk9-QT"
      },
      "outputs": [],
      "source": [
        ""
      ]
    },
    {
      "cell_type": "markdown",
      "metadata": {
        "id": "AA8VNVEp9-QW"
      },
      "source": [
        "These operations may also be accessed via object methods, for example ``ind_odd.intersection(ind_prime)``. Below is a table listing some useful `Index` methods and properties."
      ]
    },
    {
      "cell_type": "markdown",
      "metadata": {
        "id": "2N_UsPpB9-QX"
      },
      "source": [
        "| **Method**     | **Description**                                                                           |\n",
        "|:---------------|:------------------------------------------------------------------------------------------|\n",
        "| [`append`](https://pandas.pydata.org/pandas-docs/stable/reference/api/pandas.DataFrame.append.html)       | Concatenate with additional `Index` objects, producing a new `Index`                      |\n",
        "| [`diff`](https://pandas.pydata.org/pandas-docs/stable/reference/api/pandas.DataFrame.diff.html)         | Compute set difference as an Index                                                        |\n",
        "| [`drop`](https://pandas.pydata.org/pandas-docs/stable/reference/api/pandas.DataFrame.drop.html)         | Compute new `Index` by deleting passed values                                             |\n",
        "| [`insert`](https://pandas.pydata.org/pandas-docs/stable/reference/api/pandas.DataFrame.insert.html)       | Compute new `Index` by inserting element at index `i`                                     |\n",
        "| [`is_monotonic`](https://pandas.pydata.org/pandas-docs/stable/reference/api/pandas.Series.is_monotonic.html) | Returns `True` if each element is greater than or equal to the previous element           |\n",
        "| [`is_unique`](https://pandas.pydata.org/pandas-docs/stable/reference/api/pandas.Series.is_unique.html)    | Returns `True` if the Index has no duplicate values                                       |\n",
        "| [`isin`](https://pandas.pydata.org/pandas-docs/stable/reference/api/pandas.DataFrame.isin.html)         | Compute boolean array indicating whether each value is contained in the passed collection |\n",
        "| [`unique`](https://pandas.pydata.org/pandas-docs/stable/reference/api/pandas.Series.unique.html)       | Compute the array of unique values in order of appearance                                         |"
      ]
    },
    {
      "cell_type": "markdown",
      "metadata": {
        "id": "rZ_ChYfw9-QY"
      },
      "source": [
        "### Data Selection in Series\n",
        "\n",
        "As a refresher, a ``Series`` object acts in many ways like both a one-dimensional `ndarray` and a standard Python dictionary.\n",
        "\n",
        "Like a dictionary, the ``Series`` object provides a mapping from a collection of arbitrary keys to a collection of arbitrary values. Back to an old example:"
      ]
    },
    {
      "cell_type": "code",
      "execution_count": null,
      "metadata": {
        "id": "DPa8ycde9-QY",
        "outputId": "2e97a590-65f5-4d30-ad9c-9c2a96112749"
      },
      "outputs": [
        {
          "data": {
            "text/plain": "a   -0.50\nb    0.75\nc    1.00\nd   -2.00\ndtype: float64"
          },
          "execution_count": 79,
          "metadata": {},
          "output_type": "execute_result"
        }
      ],
      "source": [
        "series_example2 = pd.Series([-0.5, 0.75, 1.0, -2], index=['a', 'b', 'c', 'd'])\n",
        "series_example2"
      ]
    },
    {
      "cell_type": "code",
      "execution_count": null,
      "metadata": {
        "id": "nkCH1EGd9-QZ",
        "outputId": "3c0491f7-1620-4538-e1de-24056510d215"
      },
      "outputs": [
        {
          "data": {
            "text/plain": "0.75"
          },
          "execution_count": 80,
          "metadata": {},
          "output_type": "execute_result"
        }
      ],
      "source": [
        "series_example2['b']"
      ]
    },
    {
      "cell_type": "markdown",
      "metadata": {
        "id": "BenEaGT09-Qa"
      },
      "source": [
        "You can also examine the keys/indices and values using dictionary-like Python tools:"
      ]
    },
    {
      "cell_type": "code",
      "execution_count": null,
      "metadata": {
        "id": "KlUC3jWI9-Qb",
        "outputId": "4c90761a-ed03-42b3-8e13-07093bff74dc"
      },
      "outputs": [
        {
          "data": {
            "text/plain": "True"
          },
          "execution_count": 81,
          "metadata": {},
          "output_type": "execute_result"
        }
      ],
      "source": [
        "'a' in series_example2"
      ]
    },
    {
      "cell_type": "code",
      "execution_count": null,
      "metadata": {
        "id": "YJimhJSw9-Qb",
        "outputId": "3eeceabf-1ce8-47ee-9422-7779a1680471"
      },
      "outputs": [
        {
          "data": {
            "text/plain": "Index(['a', 'b', 'c', 'd'], dtype='object')"
          },
          "execution_count": 82,
          "metadata": {},
          "output_type": "execute_result"
        }
      ],
      "source": [
        "series_example2.keys()"
      ]
    },
    {
      "cell_type": "code",
      "execution_count": null,
      "metadata": {
        "id": "SDJdK8iw9-Qc",
        "outputId": "4f57f284-4ccb-405c-c01a-23e878bddb68"
      },
      "outputs": [
        {
          "data": {
            "text/plain": "[('a', -0.5), ('b', 0.75), ('c', 1.0), ('d', -2.0)]"
          },
          "execution_count": 83,
          "metadata": {},
          "output_type": "execute_result"
        }
      ],
      "source": [
        "list(series_example2.items())"
      ]
    },
    {
      "cell_type": "markdown",
      "metadata": {
        "id": "0m20ehPs9-Qd"
      },
      "source": [
        "As with dictionaries, you can extend a dictionary by assigning to a new key, you can extend a ``Series`` by assigning to a new index value:"
      ]
    },
    {
      "cell_type": "code",
      "execution_count": null,
      "metadata": {
        "id": "bjADYhLr9-Qd",
        "outputId": "654d9891-bb38-4249-c69c-966a41a97ea2"
      },
      "outputs": [
        {
          "data": {
            "text/plain": "a   -0.50\nb    0.75\nc    1.00\nd   -2.00\ne    1.25\ndtype: float64"
          },
          "execution_count": 84,
          "metadata": {},
          "output_type": "execute_result"
        }
      ],
      "source": [
        "series_example2['e'] = 1.25\n",
        "series_example2"
      ]
    },
    {
      "cell_type": "markdown",
      "metadata": {
        "id": "C3zMSpLM9-Qe"
      },
      "source": [
        "#### Series as one-dimensional array\n",
        "\n",
        "Because ``Series`` also provide array-style functionality, you can use the NumPy techniques we looked at in Section 3 like slices, masking, and fancy indexing:"
      ]
    },
    {
      "cell_type": "code",
      "execution_count": null,
      "metadata": {
        "id": "YTPQ8YeT9-Qf",
        "outputId": "1b874ee6-9c20-4e65-a5fe-e1f2d466baaa"
      },
      "outputs": [
        {
          "data": {
            "text/plain": "a   -0.50\nb    0.75\nc    1.00\ndtype: float64"
          },
          "execution_count": 85,
          "metadata": {},
          "output_type": "execute_result"
        }
      ],
      "source": [
        "# Slicing using the explicit index\n",
        "series_example2['a':'c']"
      ]
    },
    {
      "cell_type": "code",
      "execution_count": null,
      "metadata": {
        "id": "Zh-IrZ5h9-Qf",
        "outputId": "30eacdec-a8af-4824-c292-5ffbc08d1380"
      },
      "outputs": [
        {
          "data": {
            "text/plain": "a   -0.50\nb    0.75\ndtype: float64"
          },
          "execution_count": 86,
          "metadata": {},
          "output_type": "execute_result"
        }
      ],
      "source": [
        "# Slicing using the implicit integer index\n",
        "series_example2[0:2]"
      ]
    },
    {
      "cell_type": "code",
      "execution_count": null,
      "metadata": {
        "id": "itVPWjDl9-Qg",
        "outputId": "664eb39c-58a8-40e2-dcfd-7e8121c31079"
      },
      "outputs": [
        {
          "data": {
            "text/plain": "a   -0.50\nb    0.75\ndtype: float64"
          },
          "execution_count": 87,
          "metadata": {},
          "output_type": "execute_result"
        }
      ],
      "source": [
        "# Masking\n",
        "series_example2[(series_example2 > -1) & (series_example2 < 0.8)]"
      ]
    },
    {
      "cell_type": "code",
      "execution_count": null,
      "metadata": {
        "id": "JPxtC9To9-Qh",
        "outputId": "a57d8ba8-064a-4d9b-e1e3-d615e4721372"
      },
      "outputs": [
        {
          "data": {
            "text/plain": "a   -0.50\ne    1.25\ndtype: float64"
          },
          "execution_count": 88,
          "metadata": {},
          "output_type": "execute_result"
        }
      ],
      "source": [
        "# Fancy indexing\n",
        "series_example2[['a', 'e']]"
      ]
    },
    {
      "cell_type": "markdown",
      "metadata": {
        "id": "lD1pFjAk9-Qh"
      },
      "source": [
        "One note to avoid confusion. When slicing with an explicit index (i.e., ``series_example2['a':'c']``), the final index is **included** in the slice; when slicing with an implicit index (i.e., ``series_example2[0:2]``), the final index is **excluded** from the slice."
      ]
    },
    {
      "cell_type": "markdown",
      "metadata": {
        "id": "PLJHwols9-Qi"
      },
      "source": [
        "#### Indexers: `loc` and `iloc`\n",
        "\n",
        "A great thing about pandas is that you can use a lot different things for your explicit indices. A potentially confusing thing about pandas is that you can use a lot different things for your explicit indices, including integers. To avoid confusion between integer indices that you might supply and those implicit integer indices that pandas generates, pandas provides special *indexer* attributes that explicitly expose certain indexing schemes.\n",
        "\n",
        "(A technical note: These are not functional methods; they are attributes that expose a particular slicing interface to the data in the ``Series``.)\n",
        "\n",
        "The ``loc`` attribute allows indexing and slicing that always references the explicit index:"
      ]
    },
    {
      "cell_type": "code",
      "execution_count": null,
      "metadata": {
        "id": "-FiNHbdR9-Qj",
        "outputId": "6fe25cd9-b637-4b80-e899-2dcb61858e8d"
      },
      "outputs": [
        {
          "data": {
            "text/plain": "-0.5"
          },
          "execution_count": 89,
          "metadata": {},
          "output_type": "execute_result"
        }
      ],
      "source": [
        "series_example2.loc['a']"
      ]
    },
    {
      "cell_type": "code",
      "execution_count": null,
      "metadata": {
        "id": "ZzCWrzGa9-Qk",
        "outputId": "94b9ed83-779b-4627-adbe-3309579ef6ac"
      },
      "outputs": [
        {
          "data": {
            "text/plain": "a   -0.50\nb    0.75\nc    1.00\ndtype: float64"
          },
          "execution_count": 90,
          "metadata": {},
          "output_type": "execute_result"
        }
      ],
      "source": [
        "series_example2.loc['a':'c']"
      ]
    },
    {
      "cell_type": "markdown",
      "metadata": {
        "id": "QcQDP5dl9-Qm"
      },
      "source": [
        "The ``iloc`` attribute enables indexing and slicing using the implicit, Python-style index:"
      ]
    },
    {
      "cell_type": "code",
      "execution_count": null,
      "metadata": {
        "id": "3e6E9n6q9-Qn",
        "outputId": "0c1ab7f0-43e3-494e-cba1-a93507e1bf66"
      },
      "outputs": [
        {
          "data": {
            "text/plain": "-0.5"
          },
          "execution_count": 91,
          "metadata": {},
          "output_type": "execute_result"
        }
      ],
      "source": [
        "series_example2.iloc[0]"
      ]
    },
    {
      "cell_type": "code",
      "execution_count": null,
      "metadata": {
        "id": "FS-mff6g9-Qn",
        "outputId": "429301b5-bfc7-4228-c1bc-215b7cdee61c"
      },
      "outputs": [
        {
          "data": {
            "text/plain": "a   -0.50\nb    0.75\ndtype: float64"
          },
          "execution_count": 92,
          "metadata": {},
          "output_type": "execute_result"
        }
      ],
      "source": [
        "series_example2.iloc[0:2]"
      ]
    },
    {
      "cell_type": "markdown",
      "metadata": {
        "id": "eVYiLBcM9-Qo"
      },
      "source": [
        "A guiding principle of the Python language is the idea that \"explicit is better than implicit.\" Professional code will generally use explicit indexing with ``loc`` and ``iloc`` and you should as well in order to make your code clean and readable."
      ]
    },
    {
      "cell_type": "markdown",
      "metadata": {
        "id": "ZfKsjyVE9-Qp"
      },
      "source": [
        "### Data selection in DataFrames\n",
        "\n",
        "``DataFrame``s also exhibit dual behavior, acting both like a two-dimensional `ndarray` and like a dictionary of ``Series``  sharing the same index."
      ]
    },
    {
      "cell_type": "markdown",
      "metadata": {
        "id": "TChDgFxO9-Qp"
      },
      "source": [
        "#### DataFrame as dictionary of Series\n",
        "\n",
        "Let's return to our earlier example of countries' areas and populations in order to examine `DataFrame`s as a dictionary of `Series`."
      ]
    },
    {
      "cell_type": "code",
      "execution_count": null,
      "metadata": {
        "id": "sRK3DV759-Qq",
        "outputId": "89e391ee-c3ab-467c-ad9b-d82106461335"
      },
      "outputs": [
        {
          "data": {
            "text/html": "<div>\n<style scoped>\n    .dataframe tbody tr th:only-of-type {\n        vertical-align: middle;\n    }\n\n    .dataframe tbody tr th {\n        vertical-align: top;\n    }\n\n    .dataframe thead th {\n        text-align: right;\n    }\n</style>\n<table border=\"1\" class=\"dataframe\">\n  <thead>\n    <tr style=\"text-align: right;\">\n      <th></th>\n      <th>Area</th>\n      <th>Population</th>\n    </tr>\n  </thead>\n  <tbody>\n    <tr>\n      <th>Albania</th>\n      <td>28748</td>\n      <td>2937590</td>\n    </tr>\n    <tr>\n      <th>France</th>\n      <td>643801</td>\n      <td>65429495</td>\n    </tr>\n    <tr>\n      <th>Germany</th>\n      <td>357386</td>\n      <td>82408706</td>\n    </tr>\n    <tr>\n      <th>Japan</th>\n      <td>377972</td>\n      <td>126922333</td>\n    </tr>\n    <tr>\n      <th>Russia</th>\n      <td>17125200</td>\n      <td>143910127</td>\n    </tr>\n  </tbody>\n</table>\n</div>",
            "text/plain": "             Area  Population\nAlbania     28748     2937590\nFrance     643801    65429495\nGermany    357386    82408706\nJapan      377972   126922333\nRussia   17125200   143910127"
          },
          "execution_count": 93,
          "metadata": {},
          "output_type": "execute_result"
        }
      ],
      "source": [
        "area = pd.Series({'Albania': 28748,\n",
        "                  'France': 643801,\n",
        "                  'Germany': 357386,\n",
        "                  'Japan': 377972,\n",
        "                  'Russia': 17125200})\n",
        "population = pd.Series ({'Albania': 2937590,\n",
        "                         'France': 65429495,\n",
        "                         'Germany': 82408706,\n",
        "                         'Russia': 143910127,\n",
        "                         'Japan': 126922333})\n",
        "countries = pd.DataFrame({'Area': area, 'Population': population})\n",
        "countries"
      ]
    },
    {
      "cell_type": "markdown",
      "metadata": {
        "id": "DyksB5c59-Qr"
      },
      "source": [
        "You can access the individual ``Series`` that make up the columns of a ``DataFrame`` via dictionary-style indexing of the column name:"
      ]
    },
    {
      "cell_type": "code",
      "execution_count": null,
      "metadata": {
        "id": "0JnIuZ_c9-Qr",
        "outputId": "c2ddbecb-9253-4ee1-8cef-7803d5f743ca"
      },
      "outputs": [
        {
          "data": {
            "text/plain": "Albania       28748\nFrance       643801\nGermany      357386\nJapan        377972\nRussia     17125200\nName: Area, dtype: int64"
          },
          "execution_count": 94,
          "metadata": {},
          "output_type": "execute_result"
        }
      ],
      "source": [
        "countries['Area']"
      ]
    },
    {
      "cell_type": "markdown",
      "metadata": {
        "id": "a0JIWHuU9-Qs"
      },
      "source": [
        "An you can use dictionary-style syntax can also be used to modify `DataFrame`s, such as by adding a new column:"
      ]
    },
    {
      "cell_type": "code",
      "execution_count": null,
      "metadata": {
        "id": "cGNXRzep9-Qt",
        "outputId": "74b1eacd-9f3e-4032-97d5-c913c0a74bce"
      },
      "outputs": [
        {
          "data": {
            "text/html": "<div>\n<style scoped>\n    .dataframe tbody tr th:only-of-type {\n        vertical-align: middle;\n    }\n\n    .dataframe tbody tr th {\n        vertical-align: top;\n    }\n\n    .dataframe thead th {\n        text-align: right;\n    }\n</style>\n<table border=\"1\" class=\"dataframe\">\n  <thead>\n    <tr style=\"text-align: right;\">\n      <th></th>\n      <th>Area</th>\n      <th>Population</th>\n      <th>Population Density</th>\n    </tr>\n  </thead>\n  <tbody>\n    <tr>\n      <th>Albania</th>\n      <td>28748</td>\n      <td>2937590</td>\n      <td>102.184152</td>\n    </tr>\n    <tr>\n      <th>France</th>\n      <td>643801</td>\n      <td>65429495</td>\n      <td>101.629999</td>\n    </tr>\n    <tr>\n      <th>Germany</th>\n      <td>357386</td>\n      <td>82408706</td>\n      <td>230.587393</td>\n    </tr>\n    <tr>\n      <th>Japan</th>\n      <td>377972</td>\n      <td>126922333</td>\n      <td>335.798242</td>\n    </tr>\n    <tr>\n      <th>Russia</th>\n      <td>17125200</td>\n      <td>143910127</td>\n      <td>8.403413</td>\n    </tr>\n  </tbody>\n</table>\n</div>",
            "text/plain": "             Area  Population  Population Density\nAlbania     28748     2937590          102.184152\nFrance     643801    65429495          101.629999\nGermany    357386    82408706          230.587393\nJapan      377972   126922333          335.798242\nRussia   17125200   143910127            8.403413"
          },
          "execution_count": 95,
          "metadata": {},
          "output_type": "execute_result"
        }
      ],
      "source": [
        "countries['Population Density'] = countries['Population'] / countries['Area']\n",
        "countries"
      ]
    },
    {
      "cell_type": "markdown",
      "metadata": {
        "id": "vQniTtot9-Qt"
      },
      "source": [
        "#### DataFrame as two-dimensional array\n",
        "\n",
        "You can also think of ``DataFrame``s as two-dimensional arrays. You can examine the raw data in the `DataFrame`/data array using the ``values`` attribute:"
      ]
    },
    {
      "cell_type": "code",
      "execution_count": null,
      "metadata": {
        "id": "FU_aHjO69-Qu",
        "outputId": "6f694d81-7cd1-4af3-d00d-45f560af2243"
      },
      "outputs": [
        {
          "data": {
            "text/plain": "array([[2.87480000e+04, 2.93759000e+06, 1.02184152e+02],\n       [6.43801000e+05, 6.54294950e+07, 1.01629999e+02],\n       [3.57386000e+05, 8.24087060e+07, 2.30587393e+02],\n       [3.77972000e+05, 1.26922333e+08, 3.35798242e+02],\n       [1.71252000e+07, 1.43910127e+08, 8.40341292e+00]])"
          },
          "execution_count": 96,
          "metadata": {},
          "output_type": "execute_result"
        }
      ],
      "source": [
        "countries.values"
      ]
    },
    {
      "cell_type": "markdown",
      "metadata": {
        "id": "AmDB_H9A9-Qv"
      },
      "source": [
        "Viewed thsi way it makes sense that we can transpose the rows and columns of a `DataFrame` the same way we would an array:"
      ]
    },
    {
      "cell_type": "code",
      "execution_count": null,
      "metadata": {
        "id": "tKFd3_zr9-Qw",
        "outputId": "ec2d34cd-7cec-4284-aaf9-fa1436901cee"
      },
      "outputs": [
        {
          "data": {
            "text/html": "<div>\n<style scoped>\n    .dataframe tbody tr th:only-of-type {\n        vertical-align: middle;\n    }\n\n    .dataframe tbody tr th {\n        vertical-align: top;\n    }\n\n    .dataframe thead th {\n        text-align: right;\n    }\n</style>\n<table border=\"1\" class=\"dataframe\">\n  <thead>\n    <tr style=\"text-align: right;\">\n      <th></th>\n      <th>Albania</th>\n      <th>France</th>\n      <th>Germany</th>\n      <th>Japan</th>\n      <th>Russia</th>\n    </tr>\n  </thead>\n  <tbody>\n    <tr>\n      <th>Area</th>\n      <td>2.874800e+04</td>\n      <td>6.438010e+05</td>\n      <td>3.573860e+05</td>\n      <td>3.779720e+05</td>\n      <td>1.712520e+07</td>\n    </tr>\n    <tr>\n      <th>Population</th>\n      <td>2.937590e+06</td>\n      <td>6.542950e+07</td>\n      <td>8.240871e+07</td>\n      <td>1.269223e+08</td>\n      <td>1.439101e+08</td>\n    </tr>\n    <tr>\n      <th>Population Density</th>\n      <td>1.021842e+02</td>\n      <td>1.016300e+02</td>\n      <td>2.305874e+02</td>\n      <td>3.357982e+02</td>\n      <td>8.403413e+00</td>\n    </tr>\n  </tbody>\n</table>\n</div>",
            "text/plain": "                         Albania        France       Germany         Japan  \\\nArea                2.874800e+04  6.438010e+05  3.573860e+05  3.779720e+05   \nPopulation          2.937590e+06  6.542950e+07  8.240871e+07  1.269223e+08   \nPopulation Density  1.021842e+02  1.016300e+02  2.305874e+02  3.357982e+02   \n\n                          Russia  \nArea                1.712520e+07  \nPopulation          1.439101e+08  \nPopulation Density  8.403413e+00  "
          },
          "execution_count": 97,
          "metadata": {},
          "output_type": "execute_result"
        }
      ],
      "source": [
        "countries.T"
      ]
    },
    {
      "cell_type": "markdown",
      "metadata": {
        "collapsed": true,
        "id": "feW-huep9-Qw"
      },
      "source": [
        "`DataFrame`s also uses the ``loc`` and ``iloc`` indexers. With ``iloc``, you can index the underlying array as if it were an `ndarray` but with the ``DataFrame`` index and column labels maintained in the result:"
      ]
    },
    {
      "cell_type": "code",
      "execution_count": null,
      "metadata": {
        "id": "VZaDLjeZ9-Qx",
        "outputId": "7c685889-05e3-4adc-8fa2-e08182750335"
      },
      "outputs": [
        {
          "data": {
            "text/html": "<div>\n<style scoped>\n    .dataframe tbody tr th:only-of-type {\n        vertical-align: middle;\n    }\n\n    .dataframe tbody tr th {\n        vertical-align: top;\n    }\n\n    .dataframe thead th {\n        text-align: right;\n    }\n</style>\n<table border=\"1\" class=\"dataframe\">\n  <thead>\n    <tr style=\"text-align: right;\">\n      <th></th>\n      <th>Area</th>\n      <th>Population</th>\n    </tr>\n  </thead>\n  <tbody>\n    <tr>\n      <th>Albania</th>\n      <td>28748</td>\n      <td>2937590</td>\n    </tr>\n    <tr>\n      <th>France</th>\n      <td>643801</td>\n      <td>65429495</td>\n    </tr>\n    <tr>\n      <th>Germany</th>\n      <td>357386</td>\n      <td>82408706</td>\n    </tr>\n  </tbody>\n</table>\n</div>",
            "text/plain": "           Area  Population\nAlbania   28748     2937590\nFrance   643801    65429495\nGermany  357386    82408706"
          },
          "execution_count": 98,
          "metadata": {},
          "output_type": "execute_result"
        }
      ],
      "source": [
        "countries.iloc[:3, :2]"
      ]
    },
    {
      "cell_type": "markdown",
      "metadata": {
        "id": "ZHP3bgKV9-Qx"
      },
      "source": [
        "``loc`` also permits array-like slicing but using the explicit index and column names:"
      ]
    },
    {
      "cell_type": "code",
      "execution_count": null,
      "metadata": {
        "id": "QfNBJn099-Qy",
        "outputId": "4c410ea0-078c-4d3c-8008-96a4771e2657"
      },
      "outputs": [
        {
          "data": {
            "text/html": "<div>\n<style scoped>\n    .dataframe tbody tr th:only-of-type {\n        vertical-align: middle;\n    }\n\n    .dataframe tbody tr th {\n        vertical-align: top;\n    }\n\n    .dataframe thead th {\n        text-align: right;\n    }\n</style>\n<table border=\"1\" class=\"dataframe\">\n  <thead>\n    <tr style=\"text-align: right;\">\n      <th></th>\n      <th>Area</th>\n      <th>Population</th>\n    </tr>\n  </thead>\n  <tbody>\n    <tr>\n      <th>Albania</th>\n      <td>28748</td>\n      <td>2937590</td>\n    </tr>\n    <tr>\n      <th>France</th>\n      <td>643801</td>\n      <td>65429495</td>\n    </tr>\n    <tr>\n      <th>Germany</th>\n      <td>357386</td>\n      <td>82408706</td>\n    </tr>\n  </tbody>\n</table>\n</div>",
            "text/plain": "           Area  Population\nAlbania   28748     2937590\nFrance   643801    65429495\nGermany  357386    82408706"
          },
          "execution_count": 99,
          "metadata": {},
          "output_type": "execute_result"
        }
      ],
      "source": [
        "countries.loc[:'Germany', :'Population']"
      ]
    },
    {
      "cell_type": "markdown",
      "metadata": {
        "collapsed": true,
        "id": "G6mW-lFB9-Qy"
      },
      "source": [
        "You can also use array-like techniques such as masking and fancing indexing with `loc`."
      ]
    },
    {
      "cell_type": "code",
      "execution_count": null,
      "metadata": {
        "id": "ywW_MdOo9-Qz"
      },
      "outputs": [],
      "source": [
        "# Can you think of how to combine masking and fancy indexing in one line?\n",
        "# Your masking could be somthing like countries['Population Density'] > 200\n",
        "# Your fancy indexing could be something like ['Population', 'Population Density']\n",
        "# Be sure to put the the masking and fancy indexing inside the square brackets: countries.loc[]\n"
      ]
    },
    {
      "cell_type": "markdown",
      "metadata": {
        "id": "jLy95gI19-Qz"
      },
      "source": [
        "#### Indexing conventions\n",
        "\n",
        "In practice in the world of data science (and pandas more generally), *indexing* refers to columns while *slicing* refers to rows:"
      ]
    },
    {
      "cell_type": "code",
      "execution_count": null,
      "metadata": {
        "id": "44ycpHcx9-Qz",
        "outputId": "441261cd-d99c-47df-f322-3c60f4a140e0"
      },
      "outputs": [
        {
          "data": {
            "text/html": "<div>\n<style scoped>\n    .dataframe tbody tr th:only-of-type {\n        vertical-align: middle;\n    }\n\n    .dataframe tbody tr th {\n        vertical-align: top;\n    }\n\n    .dataframe thead th {\n        text-align: right;\n    }\n</style>\n<table border=\"1\" class=\"dataframe\">\n  <thead>\n    <tr style=\"text-align: right;\">\n      <th></th>\n      <th>Area</th>\n      <th>Population</th>\n      <th>Population Density</th>\n    </tr>\n  </thead>\n  <tbody>\n    <tr>\n      <th>France</th>\n      <td>643801</td>\n      <td>65429495</td>\n      <td>101.629999</td>\n    </tr>\n    <tr>\n      <th>Germany</th>\n      <td>357386</td>\n      <td>82408706</td>\n      <td>230.587393</td>\n    </tr>\n    <tr>\n      <th>Japan</th>\n      <td>377972</td>\n      <td>126922333</td>\n      <td>335.798242</td>\n    </tr>\n  </tbody>\n</table>\n</div>",
            "text/plain": "           Area  Population  Population Density\nFrance   643801    65429495          101.629999\nGermany  357386    82408706          230.587393\nJapan    377972   126922333          335.798242"
          },
          "execution_count": 101,
          "metadata": {},
          "output_type": "execute_result"
        }
      ],
      "source": [
        "countries['France':'Japan']"
      ]
    },
    {
      "cell_type": "markdown",
      "metadata": {
        "id": "fPmWr42Y9-Q0"
      },
      "source": [
        "Such slices can also refer to rows by number rather than by index:"
      ]
    },
    {
      "cell_type": "code",
      "execution_count": null,
      "metadata": {
        "id": "4spEiJYp9-Q1",
        "outputId": "285f1482-ef5e-48fe-ad5c-225a14e9400d"
      },
      "outputs": [
        {
          "data": {
            "text/html": "<div>\n<style scoped>\n    .dataframe tbody tr th:only-of-type {\n        vertical-align: middle;\n    }\n\n    .dataframe tbody tr th {\n        vertical-align: top;\n    }\n\n    .dataframe thead th {\n        text-align: right;\n    }\n</style>\n<table border=\"1\" class=\"dataframe\">\n  <thead>\n    <tr style=\"text-align: right;\">\n      <th></th>\n      <th>Area</th>\n      <th>Population</th>\n      <th>Population Density</th>\n    </tr>\n  </thead>\n  <tbody>\n    <tr>\n      <th>France</th>\n      <td>643801</td>\n      <td>65429495</td>\n      <td>101.629999</td>\n    </tr>\n    <tr>\n      <th>Germany</th>\n      <td>357386</td>\n      <td>82408706</td>\n      <td>230.587393</td>\n    </tr>\n  </tbody>\n</table>\n</div>",
            "text/plain": "           Area  Population  Population Density\nFrance   643801    65429495          101.629999\nGermany  357386    82408706          230.587393"
          },
          "execution_count": 102,
          "metadata": {},
          "output_type": "execute_result"
        }
      ],
      "source": [
        "countries[1:3]"
      ]
    },
    {
      "cell_type": "markdown",
      "metadata": {
        "id": "x_Xaoe8z9-Q3"
      },
      "source": [
        "Similarly, direct masking operations are also interpreted row-wise rather than column-wise:"
      ]
    },
    {
      "cell_type": "code",
      "execution_count": null,
      "metadata": {
        "id": "n-USPtdl9-Q4",
        "outputId": "a0360888-7212-49e4-fdc4-0c352f514810"
      },
      "outputs": [
        {
          "data": {
            "text/html": "<div>\n<style scoped>\n    .dataframe tbody tr th:only-of-type {\n        vertical-align: middle;\n    }\n\n    .dataframe tbody tr th {\n        vertical-align: top;\n    }\n\n    .dataframe thead th {\n        text-align: right;\n    }\n</style>\n<table border=\"1\" class=\"dataframe\">\n  <thead>\n    <tr style=\"text-align: right;\">\n      <th></th>\n      <th>Area</th>\n      <th>Population</th>\n      <th>Population Density</th>\n    </tr>\n  </thead>\n  <tbody>\n    <tr>\n      <th>Germany</th>\n      <td>357386</td>\n      <td>82408706</td>\n      <td>230.587393</td>\n    </tr>\n    <tr>\n      <th>Japan</th>\n      <td>377972</td>\n      <td>126922333</td>\n      <td>335.798242</td>\n    </tr>\n  </tbody>\n</table>\n</div>",
            "text/plain": "           Area  Population  Population Density\nGermany  357386    82408706          230.587393\nJapan    377972   126922333          335.798242"
          },
          "execution_count": 103,
          "metadata": {},
          "output_type": "execute_result"
        }
      ],
      "source": [
        "countries[countries['Population Density'] > 200]"
      ]
    },
    {
      "cell_type": "markdown",
      "metadata": {
        "id": "hlyL1wVW9-Q5"
      },
      "source": [
        "These two conventions are syntactically similar to those on a NumPy array, and while these may not precisely fit the mold of the Pandas conventions, they are nevertheless quite useful in practice."
      ]
    },
    {
      "cell_type": "markdown",
      "metadata": {
        "id": "lE4EWtTF9-Q6"
      },
      "source": [
        "# Operating on Data in Pandas\n",
        "\n",
        "As you begin to work in data science, operating on data is imperative. It is the very heart of data science. Another aspect of pandas that makes it a compelling tool for many data scientists is pandas' capability to perform efficient element-wise operations on data. pandas builds on ufuncs from NumPy to supply theses capabilities and then extends them to provide additional power for data manipulation:\n",
        " - For unary operations (such as negation and trigonometric functions), ufuncs in pandas **preserve index and column labels** in the output.\n",
        " - For binary operations (such as addition and multiplication), pandas automatically **aligns indices** when passing objects to  ufuncs.\n",
        "\n",
        "These critical features of ufuncs in pandas mean that data retains its context when operated on and, more importantly still, drastically helps reduce errors when you combine data from multiple sources."
      ]
    },
    {
      "cell_type": "markdown",
      "metadata": {
        "id": "iKPEreT79-Q6"
      },
      "source": [
        "## Index Preservation\n",
        "\n",
        "pandas is explicitly designed to work with NumPy. As a results, all NumPy ufuncs will work on Pandas ``Series`` and ``DataFrame`` objects.\n",
        "\n",
        "We can see this more clearly if we create a simple ``Series`` and ``DataFrame`` of random numbers on which to operate. "
      ]
    },
    {
      "cell_type": "code",
      "execution_count": null,
      "metadata": {
        "id": "YgLAy3kJ9-Q7",
        "outputId": "04ddafef-51c9-4c55-ff68-1379a284cffe"
      },
      "outputs": [
        {
          "data": {
            "text/plain": "0    6\n1    3\n2    7\n3    4\ndtype: int64"
          },
          "execution_count": 104,
          "metadata": {},
          "output_type": "execute_result"
        }
      ],
      "source": [
        "rng = np.random.RandomState(42)\n",
        "ser_example = pd.Series(rng.randint(0, 10, 4))\n",
        "ser_example"
      ]
    },
    {
      "cell_type": "markdown",
      "metadata": {
        "id": "nAKmuuAV9-Q7"
      },
      "source": [
        "Did you notice the NumPy function we used with the variable `rng`? By specifying a seed for the random-number generator, you get the same result each time. This can be useful trick when you need to produce psuedo-random output that also needs to be replicatable by others. (Go ahead and re-run the code cell above a couple of times to convince yourself that it produces the same output each time.)"
      ]
    },
    {
      "cell_type": "code",
      "execution_count": null,
      "metadata": {
        "id": "ALWu9veT9-Q8",
        "outputId": "94df05bd-1167-4681-e10f-a89e72634be6"
      },
      "outputs": [
        {
          "data": {
            "text/html": "<div>\n<style scoped>\n    .dataframe tbody tr th:only-of-type {\n        vertical-align: middle;\n    }\n\n    .dataframe tbody tr th {\n        vertical-align: top;\n    }\n\n    .dataframe thead th {\n        text-align: right;\n    }\n</style>\n<table border=\"1\" class=\"dataframe\">\n  <thead>\n    <tr style=\"text-align: right;\">\n      <th></th>\n      <th>A</th>\n      <th>B</th>\n      <th>C</th>\n      <th>D</th>\n    </tr>\n  </thead>\n  <tbody>\n    <tr>\n      <th>0</th>\n      <td>6</td>\n      <td>9</td>\n      <td>2</td>\n      <td>6</td>\n    </tr>\n    <tr>\n      <th>1</th>\n      <td>7</td>\n      <td>4</td>\n      <td>3</td>\n      <td>7</td>\n    </tr>\n    <tr>\n      <th>2</th>\n      <td>7</td>\n      <td>2</td>\n      <td>5</td>\n      <td>4</td>\n    </tr>\n  </tbody>\n</table>\n</div>",
            "text/plain": "   A  B  C  D\n0  6  9  2  6\n1  7  4  3  7\n2  7  2  5  4"
          },
          "execution_count": 105,
          "metadata": {},
          "output_type": "execute_result"
        }
      ],
      "source": [
        "df_example = pd.DataFrame(rng.randint(0, 10, (3, 4)),\n",
        "                  columns=['A', 'B', 'C', 'D'])\n",
        "df_example"
      ]
    },
    {
      "cell_type": "markdown",
      "metadata": {
        "id": "nUtGYeiS9-Q9"
      },
      "source": [
        "Let's apply a ufunc to our example `Series`:"
      ]
    },
    {
      "cell_type": "code",
      "execution_count": null,
      "metadata": {
        "id": "uA1Krbnq9-Q9",
        "outputId": "1aed3f23-1281-4967-c89e-6672f478be5f"
      },
      "outputs": [
        {
          "data": {
            "text/plain": "0     403.428793\n1      20.085537\n2    1096.633158\n3      54.598150\ndtype: float64"
          },
          "execution_count": 106,
          "metadata": {},
          "output_type": "execute_result"
        }
      ],
      "source": [
        "np.exp(ser_example)"
      ]
    },
    {
      "cell_type": "markdown",
      "metadata": {
        "id": "zqrpF0Om9-Q-"
      },
      "source": [
        "The same thing happens with a slightly more complex operation on our example `DataFrame`:"
      ]
    },
    {
      "cell_type": "code",
      "execution_count": null,
      "metadata": {
        "id": "mHTJvxmL9-Q-",
        "outputId": "c79d22b6-ed3e-4991-b00b-fdec2e715864"
      },
      "outputs": [
        {
          "data": {
            "text/html": "<div>\n<style scoped>\n    .dataframe tbody tr th:only-of-type {\n        vertical-align: middle;\n    }\n\n    .dataframe tbody tr th {\n        vertical-align: top;\n    }\n\n    .dataframe thead th {\n        text-align: right;\n    }\n</style>\n<table border=\"1\" class=\"dataframe\">\n  <thead>\n    <tr style=\"text-align: right;\">\n      <th></th>\n      <th>A</th>\n      <th>B</th>\n      <th>C</th>\n      <th>D</th>\n    </tr>\n  </thead>\n  <tbody>\n    <tr>\n      <th>0</th>\n      <td>-1.836970e-16</td>\n      <td>7.071068e-01</td>\n      <td>6.123234e-17</td>\n      <td>-1.836970e-16</td>\n    </tr>\n    <tr>\n      <th>1</th>\n      <td>7.071068e-01</td>\n      <td>-1.000000e+00</td>\n      <td>-7.071068e-01</td>\n      <td>7.071068e-01</td>\n    </tr>\n    <tr>\n      <th>2</th>\n      <td>7.071068e-01</td>\n      <td>6.123234e-17</td>\n      <td>-7.071068e-01</td>\n      <td>-1.000000e+00</td>\n    </tr>\n  </tbody>\n</table>\n</div>",
            "text/plain": "              A             B             C             D\n0 -1.836970e-16  7.071068e-01  6.123234e-17 -1.836970e-16\n1  7.071068e-01 -1.000000e+00 -7.071068e-01  7.071068e-01\n2  7.071068e-01  6.123234e-17 -7.071068e-01 -1.000000e+00"
          },
          "execution_count": 107,
          "metadata": {},
          "output_type": "execute_result"
        }
      ],
      "source": [
        "np.cos(df_example * np.pi / 4)"
      ]
    },
    {
      "cell_type": "markdown",
      "metadata": {
        "id": "Vr-pdwHC9-Q_"
      },
      "source": [
        "Note that you can use all of the ufuncs we discussed in Section 3 the same way."
      ]
    },
    {
      "cell_type": "markdown",
      "metadata": {
        "id": "l2F7XPPB9-Q_"
      },
      "source": [
        "## Index alignment\n",
        "\n",
        "As mentioned above, when you perform a binary operation on two ``Series`` or ``DataFrame`` objects, pandas will align indices in the process of performing the operation. This is essential when working with incomplete data (and data is usually incomplete), but it is helpful to see this in action to better understand it."
      ]
    },
    {
      "cell_type": "markdown",
      "metadata": {
        "id": "uNztyiJs9-RA"
      },
      "source": [
        "### Index alignment with Series\n",
        "\n",
        "For our first example, suppose we are combining two different data sources and find only the top five countries by *area* and the top five countries by *population*:"
      ]
    },
    {
      "cell_type": "code",
      "execution_count": null,
      "metadata": {
        "id": "JGQhUeZR9-RA"
      },
      "outputs": [],
      "source": [
        "area = pd.Series({'Russia': 17075400, 'Canada':  9984670,\n",
        "                  'USA': 9826675, 'China': 9598094, \n",
        "                  'Brazil': 8514877}, name='area')\n",
        "population = pd.Series({'China': 1409517397, 'India': 1339180127,\n",
        "                        'USA': 324459463, 'Indonesia': 322179605, \n",
        "                        'Brazil': 207652865}, name='population')"
      ]
    },
    {
      "cell_type": "code",
      "execution_count": null,
      "metadata": {
        "id": "lyDRh1D39-RA"
      },
      "outputs": [],
      "source": [
        "# Now divide these to compute the population density\n"
      ]
    },
    {
      "cell_type": "markdown",
      "metadata": {
        "id": "80BaSo-F9-RB"
      },
      "source": [
        "Your resulting array contains the **union** of indices of the two input arrays: seven countries in total. All of the countries in the array without an entry (because they lacked either area data or population data) are marked with the now familiar ``NaN``, or \"Not a Number,\" designation.\n",
        "\n",
        "Index matching works the same way built-in Python arithmetic expressions and missing values are filled in with `NaN`s. You can see this clearly by adding two `Series` that are slightly misaligned in their indices:"
      ]
    },
    {
      "cell_type": "code",
      "execution_count": null,
      "metadata": {
        "id": "cAh6NwEo9-RB",
        "outputId": "60e7a790-a1da-4c72-edb6-7d2a9a337977"
      },
      "outputs": [
        {
          "data": {
            "text/plain": "0     NaN\n1     7.0\n2    11.0\n3     NaN\ndtype: float64"
          },
          "execution_count": 110,
          "metadata": {},
          "output_type": "execute_result"
        }
      ],
      "source": [
        "series1 = pd.Series([2, 4, 6], index=[0, 1, 2])\n",
        "series2 = pd.Series([3, 5, 7], index=[1, 2, 3])\n",
        "series1 + series2"
      ]
    },
    {
      "cell_type": "markdown",
      "metadata": {
        "id": "2GWZvGF99-RC"
      },
      "source": [
        "`NaN` values are not always convenient to work with; `NaN` combined with any other values results in `NaN`, which can be a pain, particulalry if you are combining multiple data sources with missing values. To help with this, pandas allows you to specify a default value to use for missing values in the operation. For example, calling `series1.add(series2)` is equivalent to calling `series1 + series2`, but you can supply the fill value:"
      ]
    },
    {
      "cell_type": "code",
      "execution_count": null,
      "metadata": {
        "id": "B6C0vyzc9-RD",
        "outputId": "70bb0ee4-19c0-4b28-c9bb-d733cb31109a"
      },
      "outputs": [
        {
          "data": {
            "text/plain": "0     2.0\n1     7.0\n2    11.0\n3     7.0\ndtype: float64"
          },
          "execution_count": 111,
          "metadata": {},
          "output_type": "execute_result"
        }
      ],
      "source": [
        "series1.add(series2, fill_value=0)"
      ]
    },
    {
      "cell_type": "markdown",
      "metadata": {
        "id": "gmA-TJsX9-RD"
      },
      "source": [
        "Much better!"
      ]
    },
    {
      "cell_type": "markdown",
      "metadata": {
        "id": "032-dZus9-RD"
      },
      "source": [
        "### Index alignment with DataFrames\n",
        "\n",
        "The same kind of alignment takes place in both dimension (columns and indices) when you perform operations on ``DataFrame``s."
      ]
    },
    {
      "cell_type": "code",
      "execution_count": null,
      "metadata": {
        "id": "xWyFrxf09-RE",
        "outputId": "2f990f6f-74c3-4d17-beeb-162b639eb58d"
      },
      "outputs": [
        {
          "data": {
            "text/html": "<div>\n<style scoped>\n    .dataframe tbody tr th:only-of-type {\n        vertical-align: middle;\n    }\n\n    .dataframe tbody tr th {\n        vertical-align: top;\n    }\n\n    .dataframe thead th {\n        text-align: right;\n    }\n</style>\n<table border=\"1\" class=\"dataframe\">\n  <thead>\n    <tr style=\"text-align: right;\">\n      <th></th>\n      <th>A</th>\n      <th>B</th>\n    </tr>\n  </thead>\n  <tbody>\n    <tr>\n      <th>0</th>\n      <td>1</td>\n      <td>11</td>\n    </tr>\n    <tr>\n      <th>1</th>\n      <td>5</td>\n      <td>1</td>\n    </tr>\n  </tbody>\n</table>\n</div>",
            "text/plain": "   A   B\n0  1  11\n1  5   1"
          },
          "execution_count": 112,
          "metadata": {},
          "output_type": "execute_result"
        }
      ],
      "source": [
        "df1 = pd.DataFrame(rng.randint(0, 20, (2, 2)),\n",
        "                   columns=list('AB'))\n",
        "df1"
      ]
    },
    {
      "cell_type": "code",
      "execution_count": null,
      "metadata": {
        "id": "Rr6W_K369-RE",
        "outputId": "fcb618e2-d39e-4a84-e9a4-b73ae19ba464"
      },
      "outputs": [
        {
          "data": {
            "text/html": "<div>\n<style scoped>\n    .dataframe tbody tr th:only-of-type {\n        vertical-align: middle;\n    }\n\n    .dataframe tbody tr th {\n        vertical-align: top;\n    }\n\n    .dataframe thead th {\n        text-align: right;\n    }\n</style>\n<table border=\"1\" class=\"dataframe\">\n  <thead>\n    <tr style=\"text-align: right;\">\n      <th></th>\n      <th>B</th>\n      <th>A</th>\n      <th>C</th>\n    </tr>\n  </thead>\n  <tbody>\n    <tr>\n      <th>0</th>\n      <td>4</td>\n      <td>0</td>\n      <td>9</td>\n    </tr>\n    <tr>\n      <th>1</th>\n      <td>5</td>\n      <td>8</td>\n      <td>0</td>\n    </tr>\n    <tr>\n      <th>2</th>\n      <td>9</td>\n      <td>2</td>\n      <td>6</td>\n    </tr>\n  </tbody>\n</table>\n</div>",
            "text/plain": "   B  A  C\n0  4  0  9\n1  5  8  0\n2  9  2  6"
          },
          "execution_count": 113,
          "metadata": {},
          "output_type": "execute_result"
        }
      ],
      "source": [
        "df2 = pd.DataFrame(rng.randint(0, 10, (3, 3)),\n",
        "                   columns=list('BAC'))\n",
        "df2"
      ]
    },
    {
      "cell_type": "code",
      "execution_count": null,
      "metadata": {
        "id": "tbCq30bD9-RE"
      },
      "outputs": [],
      "source": [
        "# Add df1 and df2. Is the output what you expected?"
      ]
    },
    {
      "cell_type": "markdown",
      "metadata": {
        "id": "2zX8d72w9-RF"
      },
      "source": [
        "Even though we passed the columns in a different order in `df2` than in `df1`, the indices were aligned correctly sorted in the resulting union of columns.\n",
        "\n",
        "You can also use fill values for missing values with `Data Frame`s. In this example, let's fill the missing values with the mean of all values in `df1` (computed by first stacking the rows of `df1`):"
      ]
    },
    {
      "cell_type": "code",
      "execution_count": null,
      "metadata": {
        "id": "5sE-tCtj9-RF",
        "outputId": "903c1620-4eb3-4e6b-eb0f-2d828772285c"
      },
      "outputs": [
        {
          "data": {
            "text/html": "<div>\n<style scoped>\n    .dataframe tbody tr th:only-of-type {\n        vertical-align: middle;\n    }\n\n    .dataframe tbody tr th {\n        vertical-align: top;\n    }\n\n    .dataframe thead th {\n        text-align: right;\n    }\n</style>\n<table border=\"1\" class=\"dataframe\">\n  <thead>\n    <tr style=\"text-align: right;\">\n      <th></th>\n      <th>A</th>\n      <th>B</th>\n      <th>C</th>\n    </tr>\n  </thead>\n  <tbody>\n    <tr>\n      <th>0</th>\n      <td>1.0</td>\n      <td>15.0</td>\n      <td>13.5</td>\n    </tr>\n    <tr>\n      <th>1</th>\n      <td>13.0</td>\n      <td>6.0</td>\n      <td>4.5</td>\n    </tr>\n    <tr>\n      <th>2</th>\n      <td>6.5</td>\n      <td>13.5</td>\n      <td>10.5</td>\n    </tr>\n  </tbody>\n</table>\n</div>",
            "text/plain": "      A     B     C\n0   1.0  15.0  13.5\n1  13.0   6.0   4.5\n2   6.5  13.5  10.5"
          },
          "execution_count": 115,
          "metadata": {},
          "output_type": "execute_result"
        }
      ],
      "source": [
        "fill = df1.stack().mean()\n",
        "df1.add(df2, fill_value=fill)"
      ]
    },
    {
      "cell_type": "markdown",
      "metadata": {
        "id": "VNagSnVJ9-RF"
      },
      "source": [
        "This table lists Python operators and their equivalent pandas object methods:\n",
        "\n",
        "| Python Operator | Pandas Method(s)                      |\n",
        "|-----------------|---------------------------------------|\n",
        "| ``+``           | ``add()``                             |\n",
        "| ``-``           | ``sub()``, ``subtract()``             |\n",
        "| ``*``           | ``mul()``, ``multiply()``             |\n",
        "| ``/``           | ``truediv()``, ``div()``, ``divide()``|\n",
        "| ``//``          | ``floordiv()``                        |\n",
        "| ``%``           | ``mod()``                             |\n",
        "| ``**``          | ``pow()``                             |\n"
      ]
    },
    {
      "cell_type": "markdown",
      "metadata": {
        "id": "uIjkqNN59-RG"
      },
      "source": [
        "## Operations between DataFrames and Series\n",
        "\n",
        "Index and column alignment gets maintained in operations between a `DataFrame` and a `Series` as well. To see this, consider a common operation in data science, wherein we find the difference of a `DataFrame` and one of its rows. Because pandas inherits ufuncs from NumPy, pandas will compute the difference row-wise by default:"
      ]
    },
    {
      "cell_type": "code",
      "execution_count": null,
      "metadata": {
        "id": "qT9Jwxbx9-RG",
        "outputId": "eae2f96c-f28c-4159-eb3c-786c241e0f22"
      },
      "outputs": [
        {
          "data": {
            "text/html": "<div>\n<style scoped>\n    .dataframe tbody tr th:only-of-type {\n        vertical-align: middle;\n    }\n\n    .dataframe tbody tr th {\n        vertical-align: top;\n    }\n\n    .dataframe thead th {\n        text-align: right;\n    }\n</style>\n<table border=\"1\" class=\"dataframe\">\n  <thead>\n    <tr style=\"text-align: right;\">\n      <th></th>\n      <th>W</th>\n      <th>X</th>\n      <th>Y</th>\n      <th>Z</th>\n    </tr>\n  </thead>\n  <tbody>\n    <tr>\n      <th>0</th>\n      <td>3</td>\n      <td>8</td>\n      <td>2</td>\n      <td>4</td>\n    </tr>\n    <tr>\n      <th>1</th>\n      <td>2</td>\n      <td>6</td>\n      <td>4</td>\n      <td>8</td>\n    </tr>\n    <tr>\n      <th>2</th>\n      <td>6</td>\n      <td>1</td>\n      <td>3</td>\n      <td>8</td>\n    </tr>\n  </tbody>\n</table>\n</div>",
            "text/plain": "   W  X  Y  Z\n0  3  8  2  4\n1  2  6  4  8\n2  6  1  3  8"
          },
          "execution_count": 116,
          "metadata": {},
          "output_type": "execute_result"
        }
      ],
      "source": [
        "df3 = pd.DataFrame(rng.randint(10, size=(3, 4)), columns=list('WXYZ'))\n",
        "df3"
      ]
    },
    {
      "cell_type": "code",
      "execution_count": null,
      "metadata": {
        "id": "iWvGHldO9-RH",
        "outputId": "9c30b030-2ae5-4019-a7b1-7c1c1c7b03ee"
      },
      "outputs": [
        {
          "data": {
            "text/html": "<div>\n<style scoped>\n    .dataframe tbody tr th:only-of-type {\n        vertical-align: middle;\n    }\n\n    .dataframe tbody tr th {\n        vertical-align: top;\n    }\n\n    .dataframe thead th {\n        text-align: right;\n    }\n</style>\n<table border=\"1\" class=\"dataframe\">\n  <thead>\n    <tr style=\"text-align: right;\">\n      <th></th>\n      <th>W</th>\n      <th>X</th>\n      <th>Y</th>\n      <th>Z</th>\n    </tr>\n  </thead>\n  <tbody>\n    <tr>\n      <th>0</th>\n      <td>0</td>\n      <td>0</td>\n      <td>0</td>\n      <td>0</td>\n    </tr>\n    <tr>\n      <th>1</th>\n      <td>-1</td>\n      <td>-2</td>\n      <td>2</td>\n      <td>4</td>\n    </tr>\n    <tr>\n      <th>2</th>\n      <td>3</td>\n      <td>-7</td>\n      <td>1</td>\n      <td>4</td>\n    </tr>\n  </tbody>\n</table>\n</div>",
            "text/plain": "   W  X  Y  Z\n0  0  0  0  0\n1 -1 -2  2  4\n2  3 -7  1  4"
          },
          "execution_count": 117,
          "metadata": {},
          "output_type": "execute_result"
        }
      ],
      "source": [
        "df3 - df3.iloc[0]"
      ]
    },
    {
      "cell_type": "markdown",
      "metadata": {
        "id": "CuiJSmmK9-RH"
      },
      "source": [
        "But what if you need to operate column-wise? You can do this by using object methodsand specifying the ``axis`` keyword."
      ]
    },
    {
      "cell_type": "code",
      "execution_count": null,
      "metadata": {
        "id": "j18ZZ1079-RH",
        "outputId": "02167c04-4fc6-475e-a640-8675f8beacd4"
      },
      "outputs": [
        {
          "data": {
            "text/html": "<div>\n<style scoped>\n    .dataframe tbody tr th:only-of-type {\n        vertical-align: middle;\n    }\n\n    .dataframe tbody tr th {\n        vertical-align: top;\n    }\n\n    .dataframe thead th {\n        text-align: right;\n    }\n</style>\n<table border=\"1\" class=\"dataframe\">\n  <thead>\n    <tr style=\"text-align: right;\">\n      <th></th>\n      <th>W</th>\n      <th>X</th>\n      <th>Y</th>\n      <th>Z</th>\n    </tr>\n  </thead>\n  <tbody>\n    <tr>\n      <th>0</th>\n      <td>-5</td>\n      <td>0</td>\n      <td>-6</td>\n      <td>-4</td>\n    </tr>\n    <tr>\n      <th>1</th>\n      <td>-4</td>\n      <td>0</td>\n      <td>-2</td>\n      <td>2</td>\n    </tr>\n    <tr>\n      <th>2</th>\n      <td>5</td>\n      <td>0</td>\n      <td>2</td>\n      <td>7</td>\n    </tr>\n  </tbody>\n</table>\n</div>",
            "text/plain": "   W  X  Y  Z\n0 -5  0 -6 -4\n1 -4  0 -2  2\n2  5  0  2  7"
          },
          "execution_count": 118,
          "metadata": {},
          "output_type": "execute_result"
        }
      ],
      "source": [
        "df3.subtract(df3['X'], axis=0)"
      ]
    },
    {
      "cell_type": "markdown",
      "metadata": {
        "id": "WdWAXJ9G9-RI"
      },
      "source": [
        "And when you do operations between `DataFrame`s and `Series` operations, you still get automatic index alignment:"
      ]
    },
    {
      "cell_type": "code",
      "execution_count": null,
      "metadata": {
        "id": "_645YJJy9-RI",
        "outputId": "97fcc633-3992-4152-b7fa-282098c8f10e"
      },
      "outputs": [
        {
          "data": {
            "text/plain": "W    3\nY    2\nName: 0, dtype: int64"
          },
          "execution_count": 119,
          "metadata": {},
          "output_type": "execute_result"
        }
      ],
      "source": [
        "halfrow = df3.iloc[0, ::2]\n",
        "halfrow"
      ]
    },
    {
      "cell_type": "markdown",
      "metadata": {
        "id": "qp0F5N_Y9-RJ"
      },
      "source": [
        "Note that the output from that operation was transposed. That was so that we can subtract it from the `DataFrame`:"
      ]
    },
    {
      "cell_type": "code",
      "execution_count": null,
      "metadata": {
        "id": "Jb3X4w339-RJ",
        "outputId": "822386e9-22bf-4fd5-fa4f-7e4e7b530700"
      },
      "outputs": [
        {
          "data": {
            "text/html": "<div>\n<style scoped>\n    .dataframe tbody tr th:only-of-type {\n        vertical-align: middle;\n    }\n\n    .dataframe tbody tr th {\n        vertical-align: top;\n    }\n\n    .dataframe thead th {\n        text-align: right;\n    }\n</style>\n<table border=\"1\" class=\"dataframe\">\n  <thead>\n    <tr style=\"text-align: right;\">\n      <th></th>\n      <th>W</th>\n      <th>X</th>\n      <th>Y</th>\n      <th>Z</th>\n    </tr>\n  </thead>\n  <tbody>\n    <tr>\n      <th>0</th>\n      <td>0.0</td>\n      <td>NaN</td>\n      <td>0.0</td>\n      <td>NaN</td>\n    </tr>\n    <tr>\n      <th>1</th>\n      <td>-1.0</td>\n      <td>NaN</td>\n      <td>2.0</td>\n      <td>NaN</td>\n    </tr>\n    <tr>\n      <th>2</th>\n      <td>3.0</td>\n      <td>NaN</td>\n      <td>1.0</td>\n      <td>NaN</td>\n    </tr>\n  </tbody>\n</table>\n</div>",
            "text/plain": "     W   X    Y   Z\n0  0.0 NaN  0.0 NaN\n1 -1.0 NaN  2.0 NaN\n2  3.0 NaN  1.0 NaN"
          },
          "execution_count": 120,
          "metadata": {},
          "output_type": "execute_result"
        }
      ],
      "source": [
        "df3 - halfrow"
      ]
    },
    {
      "cell_type": "markdown",
      "metadata": {
        "id": "KdF79iTt9-RJ"
      },
      "source": [
        "Remember, pandas preserves and aligns indices and columns so preserve data context. This will be of huge help to you in our next section when we look at data cleaning and preparation."
      ]
    }
  ],
  "metadata": {
    "anaconda-cloud": {},
    "kernelspec": {
      "name": "python37464bit76cb43db494542f3a00c0e5c8a4ce942",
      "display_name": "Python 3.7.4 64-bit",
      "language": "python"
    },
    "language_info": {
      "mimetype": "text/x-python",
      "nbconvert_exporter": "python",
      "name": "python",
      "pygments_lexer": "ipython3",
      "version": "3.7.4-final",
      "file_extension": ".py",
      "codemirror_mode": {
        "version": 3,
        "name": "ipython"
      }
    },
    "colab": {
      "name": "3-Pandas.ipynb",
      "provenance": [],
      "include_colab_link": true
    }
  },
  "nbformat": 4,
  "nbformat_minor": 0
}