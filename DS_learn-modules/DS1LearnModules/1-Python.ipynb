{
  "cells": [
    {
      "cell_type": "markdown",
      "metadata": {
        "id": "view-in-github",
        "colab_type": "text"
      },
      "source": [
        "<a href=\"https://colab.research.google.com/github/inelectronics-students-club/Phython-for-DATA-SC/blob/main/DS_learn-modules/DS1LearnModules/1-Python.ipynb\" target=\"_parent\"><img src=\"https://colab.research.google.com/assets/colab-badge.svg\" alt=\"Open In Colab\"/></a>"
      ]
    },
    {
      "cell_type": "markdown",
      "metadata": {
        "id": "Un8CEVsU36yg"
      },
      "source": [
        "# Unit 1 - Introduction to Python\n",
        "\n",
        "Since its first release in 1991, Python has risen to become not just a popular general-purpose programming language, but a preeminent computer language for data science. This learning path will use Python and the Python extension for Visual Studio Code as the primary means of illustrating data-science tools and resources.\n",
        "\n",
        "Several examples in this learning path draw from the [python.org introductory tutorial](https://docs.python.org/3.5/tutorial/introduction.html) and examples given in the [Python 3 documentation](https://docs.python.org/3/) (with edits and amendments). This introduction to Python is written for Python 3.6.7 but is generally applicable to other Python 3.x versions. \n",
        "\n",
        "Original material from python.org is Copyright (c) 2001-2019 Python Software Foundation.\n",
        "\n",
        "This learning path makes extensive use of Jupyter Notebooks that run in Visual Studio Code. Visual Studio Code runs on macOS, Linux, and Windows. To get started, follow the instructions in [0-IntroductionAndSetup](0-IntroductionAndSetup.md).\n",
        "\n",
        "Jupyter Notebooks are divided into cells. Each cell contains either text written in the Markdown markup language or a space in which to write and execute computer code. Because all the code resides inside code cells, you can run each code cell inline rather than using a separate Python interactive window.\n",
        "\n",
        "> **Note**: This learning path is designed to have you copy and run code cells one by one, and several code cells contain deliberate errors for demonstration purposes. "
      ]
    },
    {
      "cell_type": "markdown",
      "metadata": {
        "id": "C0TNH3Iy36yn"
      },
      "source": [
        "## Comments\n",
        "\n",
        "Many of the examples in this notebook include comments. Comments in Python start with the hash character (`#`) and extend to the end of the physical line. A comment may appear at the start of a line or following white space or code, but not within a string literal. A hash character within a string literal is just a hash character. Because comments are there to clarify code and are not interpreted by Python, they may be omitted when typing in examples. For example:"
      ]
    },
    {
      "cell_type": "markdown",
      "metadata": {
        "id": "Fzl_o51F36yq"
      },
      "source": [
        "```python\n",
        "# this is the first comment\n",
        "spam = 1  # and this is the second comment\n",
        "          # ... and now a third!\n",
        "text = \"# This is not a comment because it's inside quotes.\"\n",
        "print(text)\n",
        "```"
      ]
    },
    {
      "cell_type": "markdown",
      "metadata": {
        "id": "g9WWmyVy36ys"
      },
      "source": [
        "## Try it Yourself\n",
        "Open the *TBD* in VS Code. \n",
        "Copy and paste the code snippet from above into a Python code cell\n",
        "Run it and you should get the following output:\n",
        "\n",
        "`# This is not a comment because it's inside quotes.`"
      ]
    },
    {
      "cell_type": "markdown",
      "metadata": {
        "id": "xIiBOQco36ys"
      },
      "source": [
        "Python is an interpreted language, which means that you can interactively use the interpreter to get immediate results. You can see this by using the Python interpreter as a simple calculator: type an expression, and you can see the output immediately.\n",
        "\n",
        "How can you see the results? The Python interpreter runs inside this notebook. To run the code inside a cell, either click the **Run Cell** button at the top of the window or press **Ctrl**+**Enter**. Try running the contents of the cell below. (Don't worry, we'll cover what the syntax of the Python code means later on in this module.)\n",
        "\n",
        "Open VS Code and type this into a Python cell:\n",
        "```python\n",
        "print(\"Hello, world.\")\n",
        "```\n",
        "\n",
        "Run the cell and your output should be:  \n",
        "`Hello, world.`"
      ]
    },
    {
      "cell_type": "markdown",
      "metadata": {
        "id": "DhuhFvTY36yt"
      },
      "source": [
        "# UNIT 2 - Arithmetic and numeric types in Python"
      ]
    },
    {
      "cell_type": "markdown",
      "metadata": {
        "id": "rdp_Czo136yu"
      },
      "source": [
        "Expression syntax is straightforward: the operators `+`, `-`, `*`, and `/` work just like in most other programming languages (such as Java or C). For example, type the following in a Python code cell in VS Code:  \n",
        "`2 + 3`\n",
        "\n",
        "And you should get:  \n",
        "`5`"
      ]
    },
    {
      "cell_type": "markdown",
      "metadata": {
        "id": "wmztG62j36yv"
      },
      "source": [
        "The order of operations also works as in other programming languages (and in math class):"
      ]
    },
    {
      "cell_type": "code",
      "execution_count": null,
      "metadata": {
        "id": "82Ow_HP536yw",
        "outputId": "399997f9-20f7-4703-cf21-09400ca55a50"
      },
      "outputs": [
        {
          "output_type": "execute_result",
          "data": {
            "text/plain": "10"
          },
          "metadata": {},
          "execution_count": 19
        }
      ],
      "source": [
        "30 - 4 * 5"
      ]
    },
    {
      "cell_type": "markdown",
      "metadata": {
        "id": "eGJeEjrf36yy"
      },
      "source": [
        "Note what happens when you use division:"
      ]
    },
    {
      "cell_type": "code",
      "execution_count": null,
      "metadata": {
        "id": "GSYMBSrj36yz",
        "outputId": "40bb1c68-7d1e-434c-af90-bc734834bd52"
      },
      "outputs": [
        {
          "output_type": "execute_result",
          "data": {
            "text/plain": "1.4"
          },
          "metadata": {},
          "execution_count": 20
        }
      ],
      "source": [
        "7 / 5"
      ]
    },
    {
      "cell_type": "markdown",
      "metadata": {
        "id": "ApqAxajn36y0"
      },
      "source": [
        "Division (`/`) always returns a floating-point number, which brings up a good point. Python (like other programming languages) has different numeric types. Integer numbers (such as `1`, `3`, and `20`) have type [`int`](https://docs.python.org/3.6/library/functions.html#int). Numbers with a fractional component (such as `3.0` or `1.6`) have type [`float`](https://docs.python.org/3.5/library/functions.html#float).\n",
        "\n",
        "You can mix numeric types in calculations:"
      ]
    },
    {
      "cell_type": "code",
      "execution_count": null,
      "metadata": {
        "id": "-5OmOcFH36y2",
        "outputId": "a5fbd6b5-b546-4bba-cb9b-b3c151aac863"
      },
      "outputs": [
        {
          "output_type": "execute_result",
          "data": {
            "text/plain": "10.5"
          },
          "metadata": {},
          "execution_count": 21
        }
      ],
      "source": [
        "3 * 3.5"
      ]
    },
    {
      "cell_type": "code",
      "execution_count": null,
      "metadata": {
        "id": "kMR96cm136y3",
        "outputId": "e56575d9-f17f-48a3-a1ef-66e6eb44fdfa"
      },
      "outputs": [
        {
          "output_type": "execute_result",
          "data": {
            "text/plain": "1.4"
          },
          "metadata": {},
          "execution_count": 22
        }
      ],
      "source": [
        "7.0 / 5"
      ]
    },
    {
      "cell_type": "markdown",
      "metadata": {
        "id": "Qy1r26Lz36y3"
      },
      "source": [
        "You can perform a type of division that returns an integer: [floor division](https://docs.python.org/3.6/glossary.html#term-floor-division). Floor division uses the `//` operator, discards any remainders, and just returns an `int`."
      ]
    },
    {
      "cell_type": "code",
      "execution_count": null,
      "metadata": {
        "trusted": true,
        "id": "JpHmZVR736y4",
        "outputId": "859da33b-92c5-4b67-cd84-518b3ab521f2"
      },
      "outputs": [
        {
          "output_type": "execute_result",
          "data": {
            "text/plain": "1"
          },
          "metadata": {},
          "execution_count": 23
        }
      ],
      "source": [
        "7 // 5"
      ]
    },
    {
      "cell_type": "markdown",
      "metadata": {
        "id": "4SUb1sDx36y4"
      },
      "source": [
        "To calculate the remainder, you can use the modulo operator, `%`:"
      ]
    },
    {
      "cell_type": "code",
      "execution_count": null,
      "metadata": {
        "trusted": true,
        "id": "niWYFG-Z36y5",
        "outputId": "3ca03586-1b08-4746-d69d-4c2c46a9116d"
      },
      "outputs": [
        {
          "output_type": "execute_result",
          "data": {
            "text/plain": "2"
          },
          "metadata": {},
          "execution_count": 24
        }
      ],
      "source": [
        "7 % 5"
      ]
    },
    {
      "cell_type": "markdown",
      "metadata": {
        "id": "S7eGNqgb36y5"
      },
      "source": [
        "For exponents, use the `**` operator. For example, you can write $5^2$ as:"
      ]
    },
    {
      "cell_type": "code",
      "execution_count": null,
      "metadata": {
        "trusted": true,
        "id": "QIDC7jGr36y6",
        "outputId": "e67423ac-30d8-469d-ebbf-db74b7cc9843"
      },
      "outputs": [
        {
          "output_type": "execute_result",
          "data": {
            "text/plain": "25"
          },
          "metadata": {},
          "execution_count": 25
        }
      ],
      "source": [
        "5 ** 2"
      ]
    },
    {
      "cell_type": "markdown",
      "metadata": {
        "id": "WZnM2Mnq36y7"
      },
      "source": [
        "Conversely, $2^5$ would be:"
      ]
    },
    {
      "cell_type": "code",
      "execution_count": null,
      "metadata": {
        "trusted": true,
        "id": "2aIUB3a736y7",
        "outputId": "10ec51bc-9fac-4181-a81a-13b96cfefdce"
      },
      "outputs": [
        {
          "output_type": "execute_result",
          "data": {
            "text/plain": "32"
          },
          "metadata": {},
          "execution_count": 26
        }
      ],
      "source": [
        "2 ** 5"
      ]
    },
    {
      "cell_type": "markdown",
      "metadata": {
        "id": "5VIJWoRf36y8"
      },
      "source": [
        "Note that `**` has higher precedence in the order of operations than the negative sign, `-`. This means that $-5^2$ is actually the same thing as $-\\left(5^2\\right)$:"
      ]
    },
    {
      "cell_type": "code",
      "execution_count": null,
      "metadata": {
        "trusted": true,
        "id": "-tprBprs36y8",
        "outputId": "9744f484-2067-4a67-e044-582050b06873"
      },
      "outputs": [
        {
          "output_type": "execute_result",
          "data": {
            "text/plain": "-25"
          },
          "metadata": {},
          "execution_count": 27
        }
      ],
      "source": [
        "-5 ** 2"
      ]
    },
    {
      "cell_type": "markdown",
      "metadata": {
        "id": "AaUJpfn136y9"
      },
      "source": [
        "In order to assert the order of precedence that you want, use parentheses, `()`:"
      ]
    },
    {
      "cell_type": "code",
      "execution_count": null,
      "metadata": {
        "trusted": true,
        "id": "bv6YSscS36y9",
        "outputId": "afe18bbc-2242-4e98-91fb-41b6d97235d9"
      },
      "outputs": [
        {
          "output_type": "execute_result",
          "data": {
            "text/plain": "25"
          },
          "metadata": {},
          "execution_count": 28
        }
      ],
      "source": [
        "(-5) ** 2"
      ]
    },
    {
      "cell_type": "markdown",
      "metadata": {
        "id": "yFdvTB3q36y-"
      },
      "source": [
        "Parentheses can supersede the order of operations in any calculation you need to run:"
      ]
    },
    {
      "cell_type": "code",
      "execution_count": null,
      "metadata": {
        "trusted": true,
        "id": "G10o4Y1T36y-",
        "outputId": "d476107c-3e28-4818-e364-37999e8585ca"
      },
      "outputs": [
        {
          "output_type": "execute_result",
          "data": {
            "text/plain": "130"
          },
          "metadata": {},
          "execution_count": 29
        }
      ],
      "source": [
        "(30 - 4) * 5"
      ]
    },
    {
      "cell_type": "markdown",
      "metadata": {
        "id": "uzyPmRz836y_"
      },
      "source": [
        "# Unit 3 - Variables\n",
        "\n",
        "As in other programming languages, it is often essential to save values for later using variables in Python. Python assigns values to variables using the equals sign (`=`):"
      ]
    },
    {
      "cell_type": "code",
      "execution_count": null,
      "metadata": {
        "trusted": true,
        "id": "ew_OM3wI36y_",
        "outputId": "f0b9c41e-92df-4436-f351-9e8b61ecbe92"
      },
      "outputs": [
        {
          "output_type": "execute_result",
          "data": {
            "text/plain": "225"
          },
          "metadata": {},
          "execution_count": 30
        }
      ],
      "source": [
        "length = 15\n",
        "width = 3 * 5\n",
        "length * width"
      ]
    },
    {
      "cell_type": "markdown",
      "metadata": {
        "id": "m89clde736zA"
      },
      "source": [
        "If you come from a programming background in another programming language (such as Java), you might have noticed that we never specified the variable type when we declared our variables `length` and `width`. Python does not require this, and you can change variable types as you wish:"
      ]
    },
    {
      "cell_type": "code",
      "execution_count": null,
      "metadata": {
        "trusted": true,
        "id": "s7xHNsoN36zA",
        "outputId": "2b9a2b0d-e663-44a0-ebaf-f35ad3c88a48"
      },
      "outputs": [
        {
          "output_type": "execute_result",
          "data": {
            "text/plain": "15"
          },
          "metadata": {},
          "execution_count": 31
        }
      ],
      "source": [
        "length = 15\n",
        "length"
      ]
    },
    {
      "cell_type": "code",
      "execution_count": null,
      "metadata": {
        "trusted": true,
        "id": "gKBSaHT836zA",
        "outputId": "fa613ea5-185b-4d83-c532-9d1128f6bd55"
      },
      "outputs": [
        {
          "output_type": "execute_result",
          "data": {
            "text/plain": "15.0"
          },
          "metadata": {},
          "execution_count": 32
        }
      ],
      "source": [
        "length = 15.0\n",
        "length"
      ]
    },
    {
      "cell_type": "code",
      "execution_count": null,
      "metadata": {
        "trusted": true,
        "id": "nYdbZHpB36zB",
        "outputId": "5881cfe7-026d-4b89-8f7f-eb553b7a11cf"
      },
      "outputs": [
        {
          "output_type": "execute_result",
          "data": {
            "text/plain": "'fifteen'"
          },
          "metadata": {},
          "execution_count": 33
        }
      ],
      "source": [
        "length = 'fifteen'\n",
        "length"
      ]
    },
    {
      "cell_type": "markdown",
      "metadata": {
        "id": "c_mA3fK_36zB"
      },
      "source": [
        "Note that, for all the flexibility of variables in Python, you do have to define them. If you try to use an undefined variable, it will produce an error:"
      ]
    },
    {
      "cell_type": "code",
      "execution_count": null,
      "metadata": {
        "trusted": true,
        "id": "QL7O1E4W36zB",
        "outputId": "f7b51ef4-36bf-482a-92fd-3d943ab52395"
      },
      "outputs": [
        {
          "output_type": "error",
          "ename": "NameError",
          "evalue": "name 'n' is not defined",
          "traceback": [
            "\u001b[1;31m---------------------------------------------------------------------------\u001b[0m",
            "\u001b[1;31mNameError\u001b[0m                                 Traceback (most recent call last)",
            "\u001b[1;32m<ipython-input-34-ab0680a89434>\u001b[0m in \u001b[0;36m<module>\u001b[1;34m\u001b[0m\n\u001b[1;32m----> 1\u001b[1;33m \u001b[0mn\u001b[0m\u001b[1;33m\u001b[0m\u001b[1;33m\u001b[0m\u001b[0m\n\u001b[0m",
            "\u001b[1;31mNameError\u001b[0m: name 'n' is not defined"
          ]
        }
      ],
      "source": [
        "n"
      ]
    },
    {
      "cell_type": "markdown",
      "metadata": {
        "id": "UCSFl2wH36zC"
      },
      "source": [
        "In Python's interactive mode and in Jupyter Notebooks, you can use the built-in variable `_`, which automatically takes the value of the last printed expression. For example:"
      ]
    },
    {
      "cell_type": "code",
      "execution_count": null,
      "metadata": {
        "trusted": true,
        "id": "TUipj-ai36zC",
        "outputId": "cf6d2a2f-3703-437f-8577-49d00ef34331"
      },
      "outputs": [
        {
          "output_type": "execute_result",
          "data": {
            "text/plain": "2.25435"
          },
          "metadata": {},
          "execution_count": 35
        }
      ],
      "source": [
        "tax = 11.3 / 100\n",
        "price = 19.95\n",
        "price * tax"
      ]
    },
    {
      "cell_type": "code",
      "execution_count": null,
      "metadata": {
        "trusted": true,
        "id": "4Fumd14N36zC",
        "outputId": "5fa81e6c-b305-4f0e-bcbc-881b53fe60cb"
      },
      "outputs": [
        {
          "output_type": "execute_result",
          "data": {
            "text/plain": "22.204349999999998"
          },
          "metadata": {},
          "execution_count": 36
        }
      ],
      "source": [
        "price + _"
      ]
    },
    {
      "cell_type": "markdown",
      "metadata": {
        "id": "hEg-tyww36zD"
      },
      "source": [
        "Note that you should always treat the `_` variable as read-only. Explicitly assigning a value to it will create an independent local variable with the same name and will mask the built-in variable (and its behavior).\n",
        "\n",
        "Our previous output was kind of a mess, however; we generally use only two or fewer decimal points when working with prices. In order to clean this up, we can use a built-in function, `round()`."
      ]
    },
    {
      "cell_type": "code",
      "execution_count": null,
      "metadata": {
        "trusted": true,
        "id": "aeay-9_a36zD",
        "outputId": "d0a84242-8046-4d9c-a393-1b452edaaf88"
      },
      "outputs": [
        {
          "output_type": "execute_result",
          "data": {
            "text/plain": "22.2"
          },
          "metadata": {},
          "execution_count": 37
        }
      ],
      "source": [
        "round(_, 2)"
      ]
    },
    {
      "cell_type": "markdown",
      "metadata": {
        "id": "ZZ9NK6Jn36zD"
      },
      "source": [
        "We will cover some of the other functions built into Python later in this section and cover user-defined functions in Section 2.\n",
        "\n",
        "You do not have to define variables one at a time. You can define multiple variables on a single line, like so:"
      ]
    },
    {
      "cell_type": "code",
      "execution_count": null,
      "metadata": {
        "trusted": true,
        "id": "jZ9-pny636zE",
        "outputId": "0afef4a5-d2b0-435d-c77f-94ce4891469c"
      },
      "outputs": [
        {
          "output_type": "execute_result",
          "data": {
            "text/plain": "(3.2, 1, 6)"
          },
          "metadata": {},
          "execution_count": 38
        }
      ],
      "source": [
        "a, b, c, = 3.2, 1, 6\n",
        "a, b, c"
      ]
    },
    {
      "cell_type": "markdown",
      "metadata": {
        "id": "y7WsWlA736zE"
      },
      "source": [
        "You can also augment variable assignments. This will be particularly useful when we tackle loops in the next section."
      ]
    },
    {
      "cell_type": "code",
      "execution_count": null,
      "metadata": {
        "trusted": true,
        "id": "0lVtf-Ll36zE",
        "outputId": "d1934fac-cf18-47e1-ea1a-8cd290533a07"
      },
      "outputs": [
        {
          "output_type": "execute_result",
          "data": {
            "text/plain": "7"
          },
          "metadata": {},
          "execution_count": 39
        }
      ],
      "source": [
        "x = 5\n",
        "x = x + 1  # Un-pythonic variable augmentation\n",
        "x += 1  # Pythonic variable augmentation\n",
        "x"
      ]
    },
    {
      "cell_type": "markdown",
      "metadata": {
        "id": "9r6p5QFo36zE"
      },
      "source": [
        "Note that augmented assignment doesn’t have to be by 1 or even just addition. Beyond +=, augmented assignment statements in Python include -=, \\*=, /=, %=, and \\**=. Try playing around with different augmentation assignments until this concept makes sense.\n",
        "\n",
        "Python supports other types of numbers beyond `int` and `float`, such as [`Decimal`](https://docs.python.org/3.6/library/decimal.html#decimal.Decimal) and [`Fraction`](https://docs.python.org/3.6/library/fractions.html#fractions.Fraction). Python also has built-in support for [complex numbers](https://docs.python.org/3.6/library/stdtypes.html#typesnumeric), which are all beyond the scope of this course."
      ]
    },
    {
      "cell_type": "markdown",
      "metadata": {
        "id": "9JgVNwTs36zF"
      },
      "source": [
        "# Unit 4 - Expressions\n",
        "\n",
        "As with other programming languages, expressions are critical for decision making controlling the logical flow of Python programs. The most fundamental way of doing this in Python is with a comparison operator, such as \"`<`\":"
      ]
    },
    {
      "cell_type": "code",
      "execution_count": null,
      "metadata": {
        "trusted": true,
        "id": "FKifbtPt36zF",
        "outputId": "6c332015-d5ce-46c1-e8b2-94d0bb5022b1"
      },
      "outputs": [
        {
          "output_type": "execute_result",
          "data": {
            "text/plain": "True"
          },
          "metadata": {},
          "execution_count": 40
        }
      ],
      "source": [
        "2 < 5"
      ]
    },
    {
      "cell_type": "markdown",
      "metadata": {
        "id": "s9IBIOEl36zG"
      },
      "source": [
        "Python supplies serveral comparison operators:"
      ]
    },
    {
      "cell_type": "markdown",
      "metadata": {
        "id": "teLb8I3A36zH"
      },
      "source": [
        "<center>**Python Comparison Operators**</center>"
      ]
    },
    {
      "cell_type": "markdown",
      "metadata": {
        "id": "_WGlyRlI36zH"
      },
      "source": [
        "| Operator |      Description      | Sample Input | Sample Output |\n",
        "|:--------:|:---------------------:|:------------:|:-------------:|\n",
        "| `<`      | Less than             | `2 < 5`      | `True`        |\n",
        "| `>`      | Greater than          | `2 > 5`      | `False`       |\n",
        "| `<=`     | Less than or equal    | `2 <= 5`     | `True`        |\n",
        "|          |                       | `2 <= 2`     | `True`        |\n",
        "| `>=`     | Greater than or equal | `2 >= 5`     | `False`       |\n",
        "| `==`     | Equality              | `2 == 2`     | `True`        |\n",
        "|          |                       | `2 == 5`     | `False`       |\n",
        "| `!=`     | Inequality            | `2 != 5`     | `True`        |\n",
        "|          |                       | `2 != 2`     | `False`       |"
      ]
    },
    {
      "cell_type": "markdown",
      "metadata": {
        "id": "dSvuJZR936zI"
      },
      "source": [
        "Python does not restrict you to comparing just two operands at a time. For example:"
      ]
    },
    {
      "cell_type": "code",
      "execution_count": null,
      "metadata": {
        "trusted": true,
        "id": "mTH_ZjU536zI",
        "outputId": "9d551069-36fe-4a5d-aec7-62afdc91bbd9"
      },
      "outputs": [
        {
          "output_type": "execute_result",
          "data": {
            "text/plain": "True"
          },
          "metadata": {},
          "execution_count": 41
        }
      ],
      "source": [
        "a, b, c = 1, 2, 3\n",
        "a < b < c"
      ]
    },
    {
      "cell_type": "markdown",
      "metadata": {
        "id": "IEBv3-H_36zJ"
      },
      "source": [
        "This entire expression is `True` because `1 < 2` is `True` and `2 < 3` is `True`.\n",
        "\n",
        "You can also use built-in functions in Python for comparing data. For example:"
      ]
    },
    {
      "cell_type": "code",
      "execution_count": null,
      "metadata": {
        "trusted": true,
        "id": "vcQxOI5P36zJ",
        "outputId": "07e3d063-21d2-47ef-abfd-bc8c68a5c9b5"
      },
      "outputs": [
        {
          "output_type": "execute_result",
          "data": {
            "text/plain": "2.4"
          },
          "metadata": {},
          "execution_count": 42
        }
      ],
      "source": [
        "min(3, 2.4, 5)"
      ]
    },
    {
      "cell_type": "code",
      "execution_count": null,
      "metadata": {
        "trusted": true,
        "id": "UMuShftS36zJ",
        "outputId": "7b6cef90-d53d-4fa1-d1c9-6c4f0ac45012"
      },
      "outputs": [
        {
          "output_type": "execute_result",
          "data": {
            "text/plain": "5"
          },
          "metadata": {},
          "execution_count": 43
        }
      ],
      "source": [
        "max(3, 2.4, 5)"
      ]
    },
    {
      "cell_type": "markdown",
      "metadata": {
        "id": "PjhsrdeC36zK"
      },
      "source": [
        "You can also combine comparison operators into compound expressions. For example:"
      ]
    },
    {
      "cell_type": "code",
      "execution_count": null,
      "metadata": {
        "trusted": true,
        "id": "XMSU6HRp36zK",
        "outputId": "044cbc1b-826a-4b02-db61-52c02676fd98"
      },
      "outputs": [
        {
          "output_type": "execute_result",
          "data": {
            "text/plain": "True"
          },
          "metadata": {},
          "execution_count": 44
        }
      ],
      "source": [
        "1 < 2 and 2 < 3"
      ]
    },
    {
      "cell_type": "markdown",
      "metadata": {
        "id": "Bcc6grCT36zL"
      },
      "source": [
        "This compound expression returned `True` because **both** `1 < 2` is true and `2 < 3` is true. (Note that this is equivalent to `1 < 2 < 3`.)\n",
        "\n",
        "## Knowledge Check"
      ]
    },
    {
      "cell_type": "markdown",
      "metadata": {
        "trusted": true,
        "id": "VDshP1VD36zM"
      },
      "source": [
        "What will the following expressions result in?\n",
        "\n",
        "`1 > 2 and 3 < 2`\n",
        "True or False\n",
        "\n",
        "`1 < 2 and 3 > 2`\n",
        "True or False\n",
        "\n",
        "`1 > 2 and 3 > 2`\n",
        "True or False"
      ]
    },
    {
      "cell_type": "markdown",
      "metadata": {
        "id": "BG_Zh4Dq36zN"
      },
      "source": [
        "Python also provides the `or` Boolean operator, which requires that only one simple expression in a compound expression be true in order to return `True`. For example:"
      ]
    },
    {
      "cell_type": "code",
      "execution_count": null,
      "metadata": {
        "trusted": true,
        "id": "4oxVbTp036zN",
        "outputId": "c7b9e6da-1431-42a4-a17a-311cc705af13"
      },
      "outputs": [
        {
          "output_type": "execute_result",
          "data": {
            "text/plain": "True"
          },
          "metadata": {},
          "execution_count": 45
        }
      ],
      "source": [
        "1 < 2 or 1 > 2"
      ]
    },
    {
      "cell_type": "markdown",
      "metadata": {
        "id": "nchsEICS36zO"
      },
      "source": [
        "Finally, `not` inverts the truth evaluation of an expression, such as in:"
      ]
    },
    {
      "cell_type": "code",
      "execution_count": null,
      "metadata": {
        "trusted": true,
        "id": "bgVeMFaM36zP",
        "outputId": "91acb7d7-a3af-49f0-98a8-90b8aa1ac7b5"
      },
      "outputs": [
        {
          "output_type": "execute_result",
          "data": {
            "text/plain": "False"
          },
          "metadata": {},
          "execution_count": 46
        }
      ],
      "source": [
        "not (2 < 3)"
      ]
    },
    {
      "cell_type": "markdown",
      "metadata": {
        "id": "AzA5jIUF36zP"
      },
      "source": [
        "# Knowledge Check:"
      ]
    },
    {
      "cell_type": "markdown",
      "metadata": {
        "trusted": true,
        "id": "1hq8rgy836zQ"
      },
      "source": [
        "What will the following results in?\n",
        "```python\n",
        "i = 7\n",
        "(i == 2) or not (i % 2 != 0 and 1 < i < 5)\n",
        "```\n",
        "True or False"
      ]
    },
    {
      "cell_type": "markdown",
      "metadata": {
        "id": "kgH3lQBA36zQ"
      },
      "source": [
        "# Try it Yourself\n",
        "Copy the following code snippet and change different parts of the expression. Predict what the result will be first and then run the code cell to see if you got it right!\n",
        "```python\n",
        "i = 7\n",
        "(i == 2) or not (i % 2 != 0 and 1 < i < 5)\n",
        "```"
      ]
    },
    {
      "cell_type": "markdown",
      "metadata": {
        "id": "saRauJ5036zQ"
      },
      "source": [
        "# Unit 5 - String Basics\n",
        "\n",
        "> **Learning goal:** By the end of this unit, you should be comfortable working with strings at a basic level in Python.\n",
        "\n",
        "Besides numbers, Python can also manipulate strings. Strings can be enclosed in single quotes (`'...'`) or double quotes (`\"...\"`) with the same result. Use `\\` to escape quotes; that is, use `\\` in order to use quotation marks within the string itself:"
      ]
    },
    {
      "cell_type": "code",
      "execution_count": null,
      "metadata": {
        "trusted": true,
        "id": "cKcykwWU36zQ",
        "outputId": "dd41dfe6-d60c-4350-90f4-70da0d69d28f"
      },
      "outputs": [
        {
          "output_type": "execute_result",
          "data": {
            "text/plain": "'spam eggs'"
          },
          "metadata": {},
          "execution_count": 47
        }
      ],
      "source": [
        "'spam eggs'  # Single quotes."
      ]
    },
    {
      "cell_type": "code",
      "execution_count": null,
      "metadata": {
        "trusted": true,
        "id": "15WX7M4E36zR",
        "outputId": "a94ea675-4694-4a6e-a7e8-0505a0b1cd9d"
      },
      "outputs": [
        {
          "output_type": "execute_result",
          "data": {
            "text/plain": "\"doesn't\""
          },
          "metadata": {},
          "execution_count": 48
        }
      ],
      "source": [
        "'doesn\\'t'  # Use \\' to escape the single quote..."
      ]
    },
    {
      "cell_type": "code",
      "execution_count": null,
      "metadata": {
        "trusted": true,
        "id": "TmnwHn0036zR",
        "outputId": "2f84efe5-4491-4fcb-b0c2-c7c2f4b0716f"
      },
      "outputs": [
        {
          "output_type": "execute_result",
          "data": {
            "text/plain": "\"doesn't\""
          },
          "metadata": {},
          "execution_count": 49
        }
      ],
      "source": [
        "\"doesn't\"  # ...or use double quotes instead."
      ]
    },
    {
      "cell_type": "markdown",
      "metadata": {
        "id": "ri3d30Bv36zR"
      },
      "source": [
        "In the interactive interpreter and Jupyter Notebooks, the output string is enclosed in quotes and special characters are escaped with backslashes. Although this output sometimes looks different from the input (the enclosing quotes could change), the two strings are equivalent. The string is enclosed in double quotes if the string contains a single quote and no double quotes; otherwise, it’s enclosed in single quotes. The [`print()`](https://docs.python.org/3.6/library/functions.html#print) function produces a more readable output by omitting the enclosing quotes and by printing escaped and special characters:"
      ]
    },
    {
      "cell_type": "code",
      "execution_count": null,
      "metadata": {
        "trusted": true,
        "id": "SkP4bVCu36zS",
        "outputId": "18a00ff9-675b-4970-8f7e-7fad7d2bbfb4"
      },
      "outputs": [
        {
          "output_type": "execute_result",
          "data": {
            "text/plain": "'\"Isn\\'t,\" she said.'"
          },
          "metadata": {},
          "execution_count": 50
        }
      ],
      "source": [
        "'\"Isn\\'t,\" she said.'"
      ]
    },
    {
      "cell_type": "code",
      "execution_count": null,
      "metadata": {
        "trusted": true,
        "id": "PeKJiiXb36zS",
        "outputId": "c6751622-05cd-4d23-d5b6-368452c5c512"
      },
      "outputs": [
        {
          "output_type": "stream",
          "name": "stdout",
          "text": "\"Isn't,\" she said.\n"
        }
      ],
      "source": [
        "print('\"Isn\\'t,\" she said.')"
      ]
    },
    {
      "cell_type": "markdown",
      "metadata": {
        "id": "A0MZBnx-36zT"
      },
      "source": [
        "If you don't want escaped characters (prefaced by `\\`) to be interpreted as special characters, use *raw strings* by adding an `r` before the first quote:"
      ]
    },
    {
      "cell_type": "code",
      "execution_count": null,
      "metadata": {
        "trusted": true,
        "id": "iN_XmtwN36zT",
        "outputId": "759cac27-bb6d-4ee0-e1cc-09edcd6fd64c"
      },
      "outputs": [
        {
          "output_type": "stream",
          "name": "stdout",
          "text": "C:\\some\name\n"
        }
      ],
      "source": [
        "print('C:\\some\\name')  # Here \\n means newline!\n",
        "# Im adding some more comments - woo!"
      ]
    },
    {
      "cell_type": "code",
      "execution_count": null,
      "metadata": {
        "trusted": true,
        "id": "GQ8XjLMy36zT",
        "outputId": "d285789c-9e86-4ae2-9517-92b69d7fc8e2"
      },
      "outputs": [
        {
          "output_type": "stream",
          "name": "stdout",
          "text": "C:\\some\\name\n"
        }
      ],
      "source": [
        "print(r'C:\\some\\name')  # Note the r before the quote."
      ]
    },
    {
      "cell_type": "markdown",
      "metadata": {
        "id": "_Drbne3I36zT"
      },
      "source": [
        "### String literals\n",
        "\n",
        "String literals can span multiple lines and are delineated by triple-quotes: `\"\"\"...\"\"\"` or `'''...'''`.\n",
        "\n",
        "Because Python doesn't provide a means for creating multi-line comments, developers often just use triple quotes for this purpose. In a Jupyter notebook, however, such quotes define a string literal that appears as the output of a code cell:"
      ]
    },
    {
      "cell_type": "code",
      "execution_count": null,
      "metadata": {
        "trusted": true,
        "id": "EoNrNeYD36zU",
        "outputId": "fd2fe386-2341-4d01-ce58-eef23c81e7c9"
      },
      "outputs": [
        {
          "output_type": "execute_result",
          "data": {
            "text/plain": "\"\\nEverything between the first three quotes, including new lines,\\nis part of the multi-line comment. Technically, the Python interpreter\\nsimply sees the comment as a string, and because it's not otherwise\\nused in code, the string is ignored. Convenient, eh?\\n\""
          },
          "metadata": {},
          "execution_count": 54
        }
      ],
      "source": [
        "\"\"\"\n",
        "Everything between the first three quotes, including new lines,\n",
        "is part of the multi-line comment. Technically, the Python interpreter\n",
        "simply sees the comment as a string, and because it's not otherwise\n",
        "used in code, the string is ignored. Convenient, eh?\n",
        "\"\"\""
      ]
    },
    {
      "cell_type": "markdown",
      "metadata": {
        "id": "iHDmMytp36zU"
      },
      "source": [
        "For this reason, it's best in notebooks to use the # comment character at the beginning of each line, or better still, just use a Markdown cell outside of a code cell in a Jupyter notebook!\n",
        "\n",
        "Strings can be *concatenated* (glued together) with the + operator, and repeated with *:"
      ]
    },
    {
      "cell_type": "code",
      "execution_count": null,
      "metadata": {
        "trusted": true,
        "id": "_UVJApAz36zU",
        "outputId": "1947211b-cf7c-47f8-9bdd-3ad049274d6a"
      },
      "outputs": [
        {
          "output_type": "execute_result",
          "data": {
            "text/plain": "'unununium'"
          },
          "metadata": {},
          "execution_count": 55
        }
      ],
      "source": [
        "# 3 times 'un', followed by 'ium'\n",
        "3 * 'un' + 'ium'"
      ]
    },
    {
      "cell_type": "markdown",
      "metadata": {
        "id": "NGNHUafX36zU"
      },
      "source": [
        "The order of operations applies to operators when they are used with strings as well as numeric types. Try experimenting with different combinations and orders of operators and strings to see what happens."
      ]
    },
    {
      "cell_type": "markdown",
      "metadata": {
        "id": "rkg3EiIz36zV"
      },
      "source": [
        "### Concatenating strings\n",
        "\n",
        "Two or more *string literals* placed next to each other are automatically concatenated:"
      ]
    },
    {
      "cell_type": "code",
      "execution_count": null,
      "metadata": {
        "trusted": true,
        "id": "NOatzLNr36zV",
        "outputId": "3e45601d-a721-48d7-c1db-6c0c42f08e77"
      },
      "outputs": [
        {
          "output_type": "execute_result",
          "data": {
            "text/plain": "'Python'"
          },
          "metadata": {},
          "execution_count": 56
        }
      ],
      "source": [
        "'Py' 'thon'"
      ]
    },
    {
      "cell_type": "markdown",
      "metadata": {
        "id": "95O61G6T36zV"
      },
      "source": [
        "However, to concatenate variables or a variable and a literal, use `+`:"
      ]
    },
    {
      "cell_type": "code",
      "execution_count": null,
      "metadata": {
        "trusted": true,
        "id": "OIlyL7Cs36zV",
        "outputId": "f7c8ded9-357f-41a2-d504-fb40ee72ecb8"
      },
      "outputs": [
        {
          "output_type": "execute_result",
          "data": {
            "text/plain": "'Python'"
          },
          "metadata": {},
          "execution_count": 57
        }
      ],
      "source": [
        "prefix = 'Py'\n",
        "prefix + 'thon'"
      ]
    },
    {
      "cell_type": "markdown",
      "metadata": {
        "id": "a-_M507x36zV"
      },
      "source": [
        "# Unit 6 - String indexing\n",
        "\n",
        "Strings can be *indexed* (subscripted), with the first character having index 0. There is no separate character type; a character is simply a string of size one:"
      ]
    },
    {
      "cell_type": "code",
      "execution_count": null,
      "metadata": {
        "trusted": true,
        "id": "5n7ABNXb36zW",
        "outputId": "5008352c-c498-4bd7-b244-dcac9c924d95"
      },
      "outputs": [
        {
          "output_type": "execute_result",
          "data": {
            "text/plain": "'P'"
          },
          "metadata": {},
          "execution_count": 58
        }
      ],
      "source": [
        "word = 'Python'\n",
        "word[0]  # Character in position 0."
      ]
    },
    {
      "cell_type": "code",
      "execution_count": null,
      "metadata": {
        "trusted": true,
        "id": "6Yi63xST36zX",
        "outputId": "839e9973-178c-4cc9-8e8a-50593592f397"
      },
      "outputs": [
        {
          "output_type": "execute_result",
          "data": {
            "text/plain": "'n'"
          },
          "metadata": {},
          "execution_count": 59
        }
      ],
      "source": [
        "word[5]  # Character in position 5."
      ]
    },
    {
      "cell_type": "markdown",
      "metadata": {
        "id": "inBcGKG836zZ"
      },
      "source": [
        "Indices may also be negative numbers, which means to start counting from the end of the string. Note that because -0 is the same as 0, negative indices start from -1:"
      ]
    },
    {
      "cell_type": "code",
      "execution_count": null,
      "metadata": {
        "trusted": true,
        "id": "YWY1G1lg36zZ",
        "outputId": "f6a79cb7-f111-4266-a0e0-ee69a59ca1b2"
      },
      "outputs": [
        {
          "output_type": "execute_result",
          "data": {
            "text/plain": "'n'"
          },
          "metadata": {},
          "execution_count": 60
        }
      ],
      "source": [
        "word[-1]  # Last character."
      ]
    },
    {
      "cell_type": "code",
      "execution_count": null,
      "metadata": {
        "trusted": true,
        "id": "qZrvGniX36zb",
        "outputId": "3e80d57f-c174-440e-ec1c-7d42232fbe5d"
      },
      "outputs": [
        {
          "output_type": "execute_result",
          "data": {
            "text/plain": "'o'"
          },
          "metadata": {},
          "execution_count": 61
        }
      ],
      "source": [
        "word[-2]  # Second-last character."
      ]
    },
    {
      "cell_type": "code",
      "execution_count": null,
      "metadata": {
        "trusted": true,
        "id": "uupfoNc036zb",
        "outputId": "f0aedf79-70e5-4455-85c8-1cf827c64e1c"
      },
      "outputs": [
        {
          "output_type": "execute_result",
          "data": {
            "text/plain": "'P'"
          },
          "metadata": {},
          "execution_count": 62
        }
      ],
      "source": [
        "word[-6]"
      ]
    },
    {
      "cell_type": "markdown",
      "metadata": {
        "id": "5dHy2dUk36zb"
      },
      "source": [
        "## Slicing strings\n",
        "\n",
        "In addition to indexing, which extracts individual characters, Python also supports *slicing*, which extracts a substring. To slice, you indicate a *range* in the format `start:end`, where the start position is included but the end position is excluded:"
      ]
    },
    {
      "cell_type": "code",
      "execution_count": null,
      "metadata": {
        "trusted": true,
        "id": "HBsZSSXb36zc",
        "outputId": "7903a3a4-b5f8-4816-ef42-dd6ef73e29fe"
      },
      "outputs": [
        {
          "output_type": "execute_result",
          "data": {
            "text/plain": "'Py'"
          },
          "metadata": {},
          "execution_count": 63
        }
      ],
      "source": [
        "word[0:2]  # Characters from position 0 (included) to 2 (excluded)."
      ]
    },
    {
      "cell_type": "code",
      "execution_count": null,
      "metadata": {
        "trusted": true,
        "id": "1w4-e5zf36zd",
        "outputId": "c3cf2324-a785-4c5b-b167-7c38853444e6"
      },
      "outputs": [
        {
          "output_type": "execute_result",
          "data": {
            "text/plain": "'tho'"
          },
          "metadata": {},
          "execution_count": 64
        }
      ],
      "source": [
        "word[2:5]  # Characters from position 2 (included) to 5 (excluded)."
      ]
    },
    {
      "cell_type": "markdown",
      "metadata": {
        "id": "kFJG_t5V36zd"
      },
      "source": [
        "If you omit either position, the default start position is 0 and the default end is the length of the string:"
      ]
    },
    {
      "cell_type": "code",
      "execution_count": null,
      "metadata": {
        "trusted": true,
        "id": "6Kz695Ot36zd",
        "outputId": "15881050-ed0b-4f83-f41e-0d1828bf6295"
      },
      "outputs": [
        {
          "output_type": "execute_result",
          "data": {
            "text/plain": "'Py'"
          },
          "metadata": {},
          "execution_count": 65
        }
      ],
      "source": [
        "word[:2]   # Character from the beginning to position 2 (excluded)."
      ]
    },
    {
      "cell_type": "code",
      "execution_count": null,
      "metadata": {
        "trusted": true,
        "id": "XHqOlzzB36ze",
        "outputId": "d74d47c8-dc40-40d9-c582-2e4da015aa8a"
      },
      "outputs": [
        {
          "output_type": "execute_result",
          "data": {
            "text/plain": "'on'"
          },
          "metadata": {},
          "execution_count": 66
        }
      ],
      "source": [
        "word[4:]  # Characters from position 4 (included) to the end."
      ]
    },
    {
      "cell_type": "code",
      "execution_count": null,
      "metadata": {
        "trusted": true,
        "id": "H1WqvLIA36zf",
        "outputId": "cce0fbaa-c2af-4db4-b651-d20df04ab828"
      },
      "outputs": [
        {
          "output_type": "execute_result",
          "data": {
            "text/plain": "'on'"
          },
          "metadata": {},
          "execution_count": 67
        }
      ],
      "source": [
        "word[-2:] # Characters from the second-last (included) to the end."
      ]
    },
    {
      "cell_type": "markdown",
      "metadata": {
        "id": "AG8UkV1d36zf"
      },
      "source": [
        "This characteristic means that `s[:i] + s[i:]` is always equal to `s`:"
      ]
    },
    {
      "cell_type": "code",
      "execution_count": null,
      "metadata": {
        "trusted": true,
        "id": "P-47Dwgn36zf",
        "outputId": "98d78b12-44a0-4b2c-8bca-479409078d21"
      },
      "outputs": [
        {
          "output_type": "execute_result",
          "data": {
            "text/plain": "'Python'"
          },
          "metadata": {},
          "execution_count": 68
        }
      ],
      "source": [
        "word[:2] + word[2:]"
      ]
    },
    {
      "cell_type": "code",
      "execution_count": null,
      "metadata": {
        "trusted": true,
        "id": "gwdhIR9k36zg",
        "outputId": "59779385-cb94-4e8d-ce51-155f6865b781"
      },
      "outputs": [
        {
          "output_type": "execute_result",
          "data": {
            "text/plain": "'Python'"
          },
          "metadata": {},
          "execution_count": 69
        }
      ],
      "source": [
        "word[:4] + word[4:]"
      ]
    },
    {
      "cell_type": "markdown",
      "metadata": {
        "id": "JMbHIaQy36zg"
      },
      "source": [
        "One way to remember how slices work is to think of the indices as pointing between characters, with the left edge of the first character numbered 0. Then the right edge of the last character of a string of *n* characters has index *n*. For example:"
      ]
    },
    {
      "cell_type": "raw",
      "metadata": {
        "id": "t3rsyIIH36zg"
      },
      "source": [
        " +---+---+---+---+---+---+\n",
        " | P | y | t | h | o | n |\n",
        " +---+---+---+---+---+---+\n",
        " 0   1   2   3   4   5   6\n",
        "-6  -5  -4  -3  -2  -1"
      ]
    },
    {
      "cell_type": "markdown",
      "metadata": {
        "id": "-mTf-1Cj36zg"
      },
      "source": [
        "The first row of numbers gives the position of the indices 0–6 in the string; the second row gives the corresponding negative indices. The slice from *i* to *j* consists of all characters between the edges labeled *i* and *j*, respectively.\n",
        "\n",
        "For non-negative indices, the length of a slice is the difference of the indices, if both are within bounds. For example, the length of `word[1:3]` is 2.\n",
        "\n",
        "Attempting to use an index that is too large results in an error:"
      ]
    },
    {
      "cell_type": "code",
      "execution_count": null,
      "metadata": {
        "trusted": true,
        "id": "AVI6xBex36zh",
        "outputId": "c381e2b0-36fc-4e1c-8714-1ac015968e7b"
      },
      "outputs": [
        {
          "output_type": "error",
          "ename": "IndexError",
          "evalue": "string index out of range",
          "traceback": [
            "\u001b[1;31m---------------------------------------------------------------------------\u001b[0m",
            "\u001b[1;31mIndexError\u001b[0m                                Traceback (most recent call last)",
            "\u001b[1;32m<ipython-input-70-e894f93573ea>\u001b[0m in \u001b[0;36m<module>\u001b[1;34m\u001b[0m\n\u001b[1;32m----> 1\u001b[1;33m \u001b[0mword\u001b[0m\u001b[1;33m[\u001b[0m\u001b[1;36m42\u001b[0m\u001b[1;33m]\u001b[0m  \u001b[1;31m# The word only has 6 characters.\u001b[0m\u001b[1;33m\u001b[0m\u001b[1;33m\u001b[0m\u001b[0m\n\u001b[0m",
            "\u001b[1;31mIndexError\u001b[0m: string index out of range"
          ]
        }
      ],
      "source": [
        "word[42]  # The word only has 6 characters."
      ]
    },
    {
      "cell_type": "markdown",
      "metadata": {
        "id": "YWqo_FpG36zh"
      },
      "source": [
        "However, when used in a range, an index that's too large defaults to the size of the string and does not give an error. This characteristic is useful when you always want to slice at a particular index regardless of the length of a string:"
      ]
    },
    {
      "cell_type": "code",
      "execution_count": null,
      "metadata": {
        "trusted": true,
        "id": "6m18sttz36zh",
        "outputId": "bd9d8f08-5851-4417-e764-9afd612e6e2f"
      },
      "outputs": [
        {
          "output_type": "execute_result",
          "data": {
            "text/plain": "'on'"
          },
          "metadata": {},
          "execution_count": 71
        }
      ],
      "source": [
        "word[4:42]"
      ]
    },
    {
      "cell_type": "code",
      "execution_count": null,
      "metadata": {
        "trusted": true,
        "id": "Hgu5Bl9g36zi",
        "outputId": "1fdf66e3-3fa3-4c8b-8861-d13c835ed155"
      },
      "outputs": [
        {
          "output_type": "execute_result",
          "data": {
            "text/plain": "''"
          },
          "metadata": {},
          "execution_count": 72
        }
      ],
      "source": [
        "word[42:]"
      ]
    },
    {
      "cell_type": "markdown",
      "metadata": {
        "id": "egkPSl4W36zi"
      },
      "source": [
        "Python strings are [immutable](https://docs.python.org/3.6/glossary.html#term-immutable), which means they cannot be changed. Therefore, assigning a value to an indexed position in a string results in an error:"
      ]
    },
    {
      "cell_type": "code",
      "execution_count": null,
      "metadata": {
        "trusted": true,
        "id": "QN_UNr3r36zj",
        "outputId": "6949cf9a-c903-4b3e-d7af-8e95bfb07f64"
      },
      "outputs": [
        {
          "output_type": "error",
          "ename": "TypeError",
          "evalue": "'str' object does not support item assignment",
          "traceback": [
            "\u001b[1;31m---------------------------------------------------------------------------\u001b[0m",
            "\u001b[1;31mTypeError\u001b[0m                                 Traceback (most recent call last)",
            "\u001b[1;32m<ipython-input-73-91a956888ca7>\u001b[0m in \u001b[0;36m<module>\u001b[1;34m\u001b[0m\n\u001b[1;32m----> 1\u001b[1;33m \u001b[0mword\u001b[0m\u001b[1;33m[\u001b[0m\u001b[1;36m0\u001b[0m\u001b[1;33m]\u001b[0m \u001b[1;33m=\u001b[0m \u001b[1;34m'J'\u001b[0m\u001b[1;33m\u001b[0m\u001b[1;33m\u001b[0m\u001b[0m\n\u001b[0m",
            "\u001b[1;31mTypeError\u001b[0m: 'str' object does not support item assignment"
          ]
        }
      ],
      "source": [
        "word[0] = 'J'"
      ]
    },
    {
      "cell_type": "markdown",
      "metadata": {
        "id": "AC3v2HlP36zj"
      },
      "source": [
        "The following cell also produces an error:"
      ]
    },
    {
      "cell_type": "code",
      "execution_count": null,
      "metadata": {
        "trusted": true,
        "id": "fOgeQ8cx36zj",
        "outputId": "6d2cf992-9691-4edf-e038-63653d4af84b"
      },
      "outputs": [
        {
          "output_type": "error",
          "ename": "TypeError",
          "evalue": "'str' object does not support item assignment",
          "traceback": [
            "\u001b[1;31m---------------------------------------------------------------------------\u001b[0m",
            "\u001b[1;31mTypeError\u001b[0m                                 Traceback (most recent call last)",
            "\u001b[1;32m<ipython-input-74-6488bbf78f5a>\u001b[0m in \u001b[0;36m<module>\u001b[1;34m\u001b[0m\n\u001b[1;32m----> 1\u001b[1;33m \u001b[0mword\u001b[0m\u001b[1;33m[\u001b[0m\u001b[1;36m2\u001b[0m\u001b[1;33m:\u001b[0m\u001b[1;33m]\u001b[0m \u001b[1;33m=\u001b[0m \u001b[1;34m'py'\u001b[0m\u001b[1;33m\u001b[0m\u001b[1;33m\u001b[0m\u001b[0m\n\u001b[0m",
            "\u001b[1;31mTypeError\u001b[0m: 'str' object does not support item assignment"
          ]
        }
      ],
      "source": [
        "word[2:] = 'py'"
      ]
    },
    {
      "cell_type": "markdown",
      "metadata": {
        "id": "pFn484DV36zj"
      },
      "source": [
        "A slice is itself a value that you can concatenate with other values using `+`:"
      ]
    },
    {
      "cell_type": "code",
      "execution_count": null,
      "metadata": {
        "trusted": true,
        "id": "5EajCopy36zk",
        "outputId": "6380fd3e-e6ad-4717-b2c5-553facad68b8"
      },
      "outputs": [
        {
          "output_type": "execute_result",
          "data": {
            "text/plain": "'Jython'"
          },
          "metadata": {},
          "execution_count": 75
        }
      ],
      "source": [
        "'J' + word[1:]"
      ]
    },
    {
      "cell_type": "code",
      "execution_count": null,
      "metadata": {
        "trusted": true,
        "id": "JLT8SILj36zk",
        "outputId": "33e6a730-c908-4a15-8135-12fb4514fa7d"
      },
      "outputs": [
        {
          "output_type": "execute_result",
          "data": {
            "text/plain": "'PyPy'"
          },
          "metadata": {},
          "execution_count": 76
        }
      ],
      "source": [
        "word[:2] + 'Py'"
      ]
    },
    {
      "cell_type": "markdown",
      "metadata": {
        "id": "KyJUxWp_36zl"
      },
      "source": [
        "A slice, however, is not a string literal, and it cannot be used with automatic concatenation. The following code produces an error:"
      ]
    },
    {
      "cell_type": "code",
      "execution_count": null,
      "metadata": {
        "trusted": true,
        "id": "qHXWbCmC36zl",
        "outputId": "85420ab0-76d4-45be-e583-41c72ad300e9"
      },
      "outputs": [
        {
          "output_type": "error",
          "ename": "SyntaxError",
          "evalue": "invalid syntax (<ipython-input-77-60be1c701626>, line 1)",
          "traceback": [
            "\u001b[1;36m  File \u001b[1;32m\"<ipython-input-77-60be1c701626>\"\u001b[1;36m, line \u001b[1;32m1\u001b[0m\n\u001b[1;33m    word[:2] 'Py'    # Slice is not a literal; produces an error\u001b[0m\n\u001b[1;37m                ^\u001b[0m\n\u001b[1;31mSyntaxError\u001b[0m\u001b[1;31m:\u001b[0m invalid syntax\n"
          ]
        }
      ],
      "source": [
        "word[:2] 'Py'    # Slice is not a literal; produces an error"
      ]
    },
    {
      "cell_type": "markdown",
      "metadata": {
        "id": "U38iGlVe36zm"
      },
      "source": [
        "Oftentimes, while working with strings, it can be useful to evaluate the length of a string. The built-in function [`len()`](https://docs.python.org/3.5/library/functions.html#len) returns the length of a string:"
      ]
    },
    {
      "cell_type": "code",
      "execution_count": null,
      "metadata": {
        "trusted": true,
        "id": "UOZ0twnS36zm",
        "outputId": "4812894f-b8a3-433f-8d4d-bd990818cf0a"
      },
      "outputs": [
        {
          "output_type": "execute_result",
          "data": {
            "text/plain": "34"
          },
          "metadata": {},
          "execution_count": 78
        }
      ],
      "source": [
        "s = 'supercalifragilisticexpialidocious'\n",
        "len(s)"
      ]
    },
    {
      "cell_type": "markdown",
      "metadata": {
        "id": "lM6zT-N536zo"
      },
      "source": [
        "Another useful built-in function for working with strings is [`str()`](https://docs.python.org/3.6/library/stdtypes.html#str). This function takes any object and returns a printable string version of that object. For example:"
      ]
    },
    {
      "cell_type": "code",
      "execution_count": null,
      "metadata": {
        "trusted": true,
        "id": "J_5po9VX36zp",
        "outputId": "85cd0d13-4e6e-435f-8a4f-b6c2cc00cc2d"
      },
      "outputs": [
        {
          "output_type": "execute_result",
          "data": {
            "text/plain": "'2'"
          },
          "metadata": {},
          "execution_count": 79
        }
      ],
      "source": [
        "str(2)"
      ]
    },
    {
      "cell_type": "code",
      "execution_count": null,
      "metadata": {
        "trusted": true,
        "id": "A_-vADv636zq",
        "outputId": "dbebd08d-515b-4fb3-fc69-c746fe82e6d2"
      },
      "outputs": [
        {
          "output_type": "execute_result",
          "data": {
            "text/plain": "'2.5'"
          },
          "metadata": {},
          "execution_count": 80
        }
      ],
      "source": [
        "str(2.5)"
      ]
    },
    {
      "cell_type": "markdown",
      "metadata": {
        "id": "CwMTA2Cx36zq"
      },
      "source": [
        "> **Takeaway:** Operations on string data form the other fundamental task you will do in data science in Python. Becoming comfortable with strings now will pay large dividends to you later as you work with increasingly complex data."
      ]
    },
    {
      "cell_type": "markdown",
      "metadata": {
        "id": "a9yqfH_F36zu"
      },
      "source": [
        "# Unit 7 - Lists\n",
        "\n",
        "Python knows a number of compound data types, which are used to group together other values. The most versatile is the [*list*](https://docs.python.org/3.5/library/stdtypes.html#typesseq-list), which can be written as a sequence of comma-separated values (items) between square brackets. Lists might contain items of different types, but usually the items all have the same type."
      ]
    },
    {
      "cell_type": "code",
      "execution_count": null,
      "metadata": {
        "trusted": true,
        "id": "UuuH_ZRR36zv",
        "outputId": "0b89a826-0c93-498f-e8d4-b89b7c8273e7"
      },
      "outputs": [
        {
          "output_type": "execute_result",
          "data": {
            "text/plain": "[1, 4, 9, 16, 25]"
          },
          "metadata": {},
          "execution_count": 81
        }
      ],
      "source": [
        "squares = [1, 4, 9, 16, 25]\n",
        "squares"
      ]
    },
    {
      "cell_type": "markdown",
      "metadata": {
        "id": "E1Ru-ZqF36zw"
      },
      "source": [
        "Like strings (and all other built-in [sequence](https://docs.python.org/3.5/glossary.html#term-sequence) types), lists can be indexed and sliced:"
      ]
    },
    {
      "cell_type": "code",
      "execution_count": null,
      "metadata": {
        "trusted": true,
        "id": "7les2JUm36zw",
        "outputId": "9776027d-81aa-4078-ee20-d77bc721486f"
      },
      "outputs": [
        {
          "output_type": "execute_result",
          "data": {
            "text/plain": "1"
          },
          "metadata": {},
          "execution_count": 82
        }
      ],
      "source": [
        "squares[0]  # Indexing returns the item."
      ]
    },
    {
      "cell_type": "code",
      "execution_count": null,
      "metadata": {
        "trusted": true,
        "id": "xkltUeyN36zx",
        "outputId": "b0c0bab4-323d-4c4b-dbbb-e3cf6d6a5414"
      },
      "outputs": [
        {
          "output_type": "execute_result",
          "data": {
            "text/plain": "25"
          },
          "metadata": {},
          "execution_count": 83
        }
      ],
      "source": [
        "squares[-1]"
      ]
    },
    {
      "cell_type": "code",
      "execution_count": null,
      "metadata": {
        "trusted": true,
        "id": "D2jREF0836zx",
        "outputId": "86e8a942-cc00-4f46-fdb0-44b57ce736c8"
      },
      "outputs": [
        {
          "output_type": "execute_result",
          "data": {
            "text/plain": "[9, 16, 25]"
          },
          "metadata": {},
          "execution_count": 84
        }
      ],
      "source": [
        "squares[-3:]  # Slicing returns a new list."
      ]
    },
    {
      "cell_type": "markdown",
      "metadata": {
        "id": "tILsVPXG36zx"
      },
      "source": [
        "All slice operations return a new list containing the requested elements. This means that the following slice returns a new (shallow) copy of the list:"
      ]
    },
    {
      "cell_type": "code",
      "execution_count": null,
      "metadata": {
        "trusted": true,
        "id": "td-Y9Tnn36zx",
        "outputId": "c09c2623-ec94-42c1-e9e4-2def65677f26"
      },
      "outputs": [
        {
          "output_type": "execute_result",
          "data": {
            "text/plain": "[1, 4, 9, 16, 25]"
          },
          "metadata": {},
          "execution_count": 85
        }
      ],
      "source": [
        "squares[:]"
      ]
    },
    {
      "cell_type": "markdown",
      "metadata": {
        "id": "vIlx3TcF36zy"
      },
      "source": [
        "Lists also support concatenation with the `+` operator:"
      ]
    },
    {
      "cell_type": "code",
      "execution_count": null,
      "metadata": {
        "trusted": true,
        "id": "AN5Qc1RD36zy",
        "outputId": "25093f1e-b55a-4787-c18c-11f9b4c642dd"
      },
      "outputs": [
        {
          "output_type": "execute_result",
          "data": {
            "text/plain": "[1, 4, 9, 16, 25, 36, 49, 64, 81, 100]"
          },
          "metadata": {},
          "execution_count": 86
        }
      ],
      "source": [
        "squares + [36, 49, 64, 81, 100]"
      ]
    },
    {
      "cell_type": "markdown",
      "metadata": {
        "id": "YkTXEIQM36zy"
      },
      "source": [
        "Unlike strings, which are [immutable](https://docs.python.org/3.5/glossary.html#term-immutable), lists are a [mutable](https://docs.python.org/3.5/glossary.html#term-mutable) type, which means you can change any value in the list:"
      ]
    },
    {
      "cell_type": "code",
      "execution_count": null,
      "metadata": {
        "trusted": true,
        "id": "qYREhCE136zy",
        "outputId": "bb3274a4-b4aa-4bec-b0aa-6081add30e88"
      },
      "outputs": [
        {
          "output_type": "execute_result",
          "data": {
            "text/plain": "64"
          },
          "metadata": {},
          "execution_count": 87
        }
      ],
      "source": [
        "cubes = [1, 8, 27, 65, 125]  # Something's wrong here ...\n",
        "4 ** 3  # the cube of 4 is 64, not 65!"
      ]
    },
    {
      "cell_type": "code",
      "execution_count": null,
      "metadata": {
        "trusted": true,
        "id": "TzMbKEnK36zz",
        "outputId": "c9d03b4d-a4a0-4bb7-d86f-79bbf758fc32"
      },
      "outputs": [
        {
          "output_type": "execute_result",
          "data": {
            "text/plain": "[1, 8, 27, 64, 125]"
          },
          "metadata": {},
          "execution_count": 88
        }
      ],
      "source": [
        "cubes[3] = 64  # Replace the wrong value.\n",
        "cubes"
      ]
    },
    {
      "cell_type": "markdown",
      "metadata": {
        "id": "797-rMkD36zz"
      },
      "source": [
        "You can assign to slices, which can change the size of the list or clear it entirely:"
      ]
    },
    {
      "cell_type": "code",
      "execution_count": null,
      "metadata": {
        "trusted": true,
        "id": "2RKqO3zm36zz",
        "outputId": "ab781762-48f8-4faa-b431-9ada7eaac378"
      },
      "outputs": [
        {
          "output_type": "execute_result",
          "data": {
            "text/plain": "['a', 'b', 'c', 'd', 'e', 'f', 'g']"
          },
          "metadata": {},
          "execution_count": 89
        }
      ],
      "source": [
        "letters = ['a', 'b', 'c', 'd', 'e', 'f', 'g']\n",
        "letters"
      ]
    },
    {
      "cell_type": "code",
      "execution_count": null,
      "metadata": {
        "trusted": true,
        "id": "CfkxVe_v36z0",
        "outputId": "72cd4dc2-d3ab-415a-ee17-0c16fd52414a"
      },
      "outputs": [
        {
          "output_type": "execute_result",
          "data": {
            "text/plain": "['a', 'b', 'C', 'D', 'E', 'f', 'g']"
          },
          "metadata": {},
          "execution_count": 90
        }
      ],
      "source": [
        "# Replace some values.\n",
        "letters[2:5] = ['C', 'D', 'E']\n",
        "letters"
      ]
    },
    {
      "cell_type": "code",
      "execution_count": null,
      "metadata": {
        "trusted": true,
        "id": "Rg7-tca_36z0",
        "outputId": "a5c2634a-f6db-426a-b3fb-8a03ec2a394a"
      },
      "outputs": [
        {
          "output_type": "execute_result",
          "data": {
            "text/plain": "['a', 'b', 'f', 'g']"
          },
          "metadata": {},
          "execution_count": 91
        }
      ],
      "source": [
        "# Now remove them.\n",
        "letters[2:5] = []\n",
        "letters"
      ]
    },
    {
      "cell_type": "code",
      "execution_count": null,
      "metadata": {
        "trusted": true,
        "id": "ZJWSZJPb36z0",
        "outputId": "7e2d7c70-1fe7-4069-9f13-36a2ca89d5ad"
      },
      "outputs": [
        {
          "output_type": "execute_result",
          "data": {
            "text/plain": "[]"
          },
          "metadata": {},
          "execution_count": 92
        }
      ],
      "source": [
        "# Clear the list by replacing all the elements with an empty list.\n",
        "letters[:] = []\n",
        "letters"
      ]
    },
    {
      "cell_type": "markdown",
      "metadata": {
        "id": "jDWVBnzy36z0"
      },
      "source": [
        "The built-in [`len()`](https://docs.python.org/3.6/library/functions.html#len) function also applies to lists for getting their lengths:"
      ]
    },
    {
      "cell_type": "code",
      "execution_count": null,
      "metadata": {
        "trusted": true,
        "id": "_ONiB2B536z1",
        "outputId": "72fcd8fc-d2bc-47df-85e3-9ee0ac943d3b"
      },
      "outputs": [
        {
          "output_type": "execute_result",
          "data": {
            "text/plain": "4"
          },
          "metadata": {},
          "execution_count": 93
        }
      ],
      "source": [
        "letters = ['a', 'b', 'c', 'd']\n",
        "len(letters)"
      ]
    },
    {
      "cell_type": "markdown",
      "metadata": {
        "id": "QZasS62u36z1"
      },
      "source": [
        "You can nest lists, which means to create lists that contain other lists. For example:"
      ]
    },
    {
      "cell_type": "code",
      "execution_count": null,
      "metadata": {
        "trusted": true,
        "id": "qItaux3S36z1",
        "outputId": "1fd22f9e-d2da-4364-aee9-fec77b40925b"
      },
      "outputs": [
        {
          "output_type": "execute_result",
          "data": {
            "text/plain": "[['a', 'b', 'c'], [1, 2, 3]]"
          },
          "metadata": {},
          "execution_count": 94
        }
      ],
      "source": [
        "a = ['a', 'b', 'c']\n",
        "n = [1, 2, 3]\n",
        "x = [a, n]\n",
        "x"
      ]
    },
    {
      "cell_type": "markdown",
      "metadata": {
        "id": "qCmrYlYA36z1"
      },
      "source": [
        "`x` is a list of lists, and you can access its constituent lists through the same indexing you use with simpler lists:"
      ]
    },
    {
      "cell_type": "code",
      "execution_count": null,
      "metadata": {
        "trusted": true,
        "id": "hf4OP8Gl36z2",
        "outputId": "c02e9372-7469-486f-cba3-96d5a835f294"
      },
      "outputs": [
        {
          "output_type": "execute_result",
          "data": {
            "text/plain": "['a', 'b', 'c']"
          },
          "metadata": {},
          "execution_count": 95
        }
      ],
      "source": [
        "x[0]"
      ]
    },
    {
      "cell_type": "markdown",
      "metadata": {
        "id": "qUF4dnBb36z2"
      },
      "source": [
        "And by using additional index numbers, you can directly access elements within those sub-lists:"
      ]
    },
    {
      "cell_type": "code",
      "execution_count": null,
      "metadata": {
        "trusted": true,
        "id": "0TwdH1sR36z2",
        "outputId": "7ff91c3a-b7dd-4811-8b9a-4cef3e734d4d"
      },
      "outputs": [
        {
          "output_type": "execute_result",
          "data": {
            "text/plain": "'a'"
          },
          "metadata": {},
          "execution_count": 96
        }
      ],
      "source": [
        "x[0][0]"
      ]
    },
    {
      "cell_type": "markdown",
      "metadata": {
        "id": "g8HsvJsE36z2"
      },
      "source": [
        "# Knowledge Check"
      ]
    },
    {
      "cell_type": "code",
      "execution_count": null,
      "metadata": {
        "trusted": true,
        "id": "I2C0r6xQ36z2"
      },
      "outputs": [],
      "source": [
        "# Nested lists come up a lot in programming, so it pays to practice.\n",
        "# Which indices would you include after x to get ‘c’?\n",
        "# How about to get 3?\n"
      ]
    },
    {
      "cell_type": "markdown",
      "metadata": {
        "id": "WOXHnDYB36z3"
      },
      "source": [
        "# Unit 8 - List object methods\n",
        "\n",
        "Python includes a number of handy functions that are available to all lists.\n",
        "\n",
        "For example, [`append()`](https://docs.python.org/3.6/tutorial/datastructures.html) and [`extend()`](https://docs.python.org/3.6/tutorial/datastructures.html) enable you to add to the end of a list, much like the `+=` operator:"
      ]
    },
    {
      "cell_type": "code",
      "execution_count": null,
      "metadata": {
        "trusted": true,
        "id": "7Rg-_jVO36z3",
        "outputId": "5b820b01-6a5c-48c7-86a8-c6b2cb5a23c2"
      },
      "outputs": [
        {
          "output_type": "execute_result",
          "data": {
            "text/plain": "['John', 'Paul', 'George']"
          },
          "metadata": {},
          "execution_count": 98
        }
      ],
      "source": [
        "beatles = ['John', 'Paul']\n",
        "beatles.append('George')\n",
        "beatles"
      ]
    },
    {
      "cell_type": "markdown",
      "metadata": {
        "id": "7WtcKUVh36z3"
      },
      "source": [
        "Notice that you did not actually pass a list to `append()`; passing a list to `append()` results in this behavior:"
      ]
    },
    {
      "cell_type": "code",
      "execution_count": null,
      "metadata": {
        "trusted": true,
        "id": "K41Sb8_b36z4",
        "outputId": "d983bb5a-1771-4273-f3bf-8f4f9bc4601d"
      },
      "outputs": [
        {
          "output_type": "execute_result",
          "data": {
            "text/plain": "['John', 'Paul', 'George', ['Stuart', 'Pete']]"
          },
          "metadata": {},
          "execution_count": 99
        }
      ],
      "source": [
        "beatles2 = ['John', 'Paul', 'George']\n",
        "beatles2.append(['Stuart', 'Pete'])\n",
        "beatles2"
      ]
    },
    {
      "cell_type": "markdown",
      "metadata": {
        "id": "Tkt_hw5-36z6"
      },
      "source": [
        "To tack a list on the end of an existing list, use `extend()` instead:"
      ]
    },
    {
      "cell_type": "code",
      "execution_count": null,
      "metadata": {
        "trusted": true,
        "id": "oc7iREUs36z7",
        "outputId": "bb0494f9-ec63-4cea-91b2-3131d30cf42e"
      },
      "outputs": [
        {
          "output_type": "execute_result",
          "data": {
            "text/plain": "['John', 'Paul', 'George', 'Stuart', 'Pete']"
          },
          "metadata": {},
          "execution_count": 100
        }
      ],
      "source": [
        "beatles.extend(['Stuart', 'Pete'])\n",
        "beatles"
      ]
    },
    {
      "cell_type": "markdown",
      "metadata": {
        "id": "TFnFCBss36z7"
      },
      "source": [
        "[`index()`](https://docs.python.org/3.6/tutorial/datastructures.html) returns the index of the first matching item in a list (if present):"
      ]
    },
    {
      "cell_type": "code",
      "execution_count": null,
      "metadata": {
        "trusted": true,
        "id": "NwZq-Puo36z8",
        "outputId": "f30746c3-a7c1-477a-96ac-4fa5cd25217c"
      },
      "outputs": [
        {
          "output_type": "execute_result",
          "data": {
            "text/plain": "2"
          },
          "metadata": {},
          "execution_count": 101
        }
      ],
      "source": [
        "beatles.index('George')"
      ]
    },
    {
      "cell_type": "markdown",
      "metadata": {
        "id": "GPYUeTBH36z9"
      },
      "source": [
        "The [`count()`](https://docs.python.org/3.6/tutorial/datastructures.html) method returns the number of items in a list that match objects you pass in:"
      ]
    },
    {
      "cell_type": "code",
      "execution_count": null,
      "metadata": {
        "trusted": true,
        "id": "jAzSGKoQ36z_",
        "outputId": "be25190e-ca15-4e79-dbc7-b5cf3c6709ae"
      },
      "outputs": [
        {
          "output_type": "execute_result",
          "data": {
            "text/plain": "1"
          },
          "metadata": {},
          "execution_count": 102
        }
      ],
      "source": [
        "beatles.count('John')"
      ]
    },
    {
      "cell_type": "markdown",
      "metadata": {
        "id": "bOveZtW-36z_"
      },
      "source": [
        "There are two methods for removing items from a list. The first is [`remove()`](https://docs.python.org/3.6/tutorial/datastructures.html), which locates the first occurrence of an item in the list and removes it (if present):"
      ]
    },
    {
      "cell_type": "code",
      "execution_count": null,
      "metadata": {
        "trusted": true,
        "id": "GNTOWnBg360A",
        "outputId": "1090b5ec-b6b0-4faf-89da-dab397159884"
      },
      "outputs": [
        {
          "output_type": "execute_result",
          "data": {
            "text/plain": "['John', 'Paul', 'George', 'Pete']"
          },
          "metadata": {},
          "execution_count": 103
        }
      ],
      "source": [
        "beatles.remove('Stuart')\n",
        "beatles"
      ]
    },
    {
      "cell_type": "markdown",
      "metadata": {
        "id": "nT0AuHH2360A"
      },
      "source": [
        "The other method for removing items from lists is the [`pop()`](https://docs.python.org/3.6/tutorial/datastructures.html) method. If you supply `pop()` with an index number, it will remove the item from that location in the list and return it; otherwise, `pop()` removes the last item in a list and returns that:"
      ]
    },
    {
      "cell_type": "code",
      "execution_count": null,
      "metadata": {
        "trusted": true,
        "id": "OBaRoywv360B",
        "outputId": "576cde68-badd-442f-f41e-e6935e6a21c1"
      },
      "outputs": [
        {
          "output_type": "execute_result",
          "data": {
            "text/plain": "'Pete'"
          },
          "metadata": {},
          "execution_count": 104
        }
      ],
      "source": [
        "beatles.pop()"
      ]
    },
    {
      "cell_type": "markdown",
      "metadata": {
        "id": "N7eUce5c360B"
      },
      "source": [
        "The [`insert()`](https://docs.python.org/3.6/tutorial/datastructures.html) method enables you to add an item to a specific location in a list:"
      ]
    },
    {
      "cell_type": "code",
      "execution_count": null,
      "metadata": {
        "trusted": true,
        "id": "f7ccaCpQ360B",
        "outputId": "a910c915-46b3-4b34-bb23-54e007ac32b8"
      },
      "outputs": [
        {
          "output_type": "execute_result",
          "data": {
            "text/plain": "['John', 'Ringo', 'Paul', 'George']"
          },
          "metadata": {},
          "execution_count": 105
        }
      ],
      "source": [
        "beatles.insert(1, 'Ringo')\n",
        "beatles"
      ]
    },
    {
      "cell_type": "markdown",
      "metadata": {
        "id": "TmNzEs9q360B"
      },
      "source": [
        "Unsurprisingly, the [`reverse()`](https://docs.python.org/3.6/tutorial/datastructures.html) method reverses the order of items in a list:"
      ]
    },
    {
      "cell_type": "code",
      "execution_count": null,
      "metadata": {
        "trusted": true,
        "id": "2Iqm3Ns6360C",
        "outputId": "8905c52e-d744-482d-e6a4-9aafcc8e8e0b"
      },
      "outputs": [
        {
          "output_type": "execute_result",
          "data": {
            "text/plain": "['George', 'Paul', 'Ringo', 'John']"
          },
          "metadata": {},
          "execution_count": 106
        }
      ],
      "source": [
        "beatles.reverse()\n",
        "beatles"
      ]
    },
    {
      "cell_type": "markdown",
      "metadata": {
        "id": "pf1w5l4U360C"
      },
      "source": [
        "Finally, the [`sort()`](https://docs.python.org/3.6/tutorial/datastructures.html) method orders the items in a list:"
      ]
    },
    {
      "cell_type": "code",
      "execution_count": null,
      "metadata": {
        "trusted": true,
        "id": "47QHFA0Q360C",
        "outputId": "f53581d2-1187-48ca-916c-8cc5fe301489"
      },
      "outputs": [
        {
          "output_type": "execute_result",
          "data": {
            "text/plain": "['George', 'John', 'Paul', 'Ringo']"
          },
          "metadata": {},
          "execution_count": 107
        }
      ],
      "source": [
        "beatles.sort()\n",
        "beatles"
      ]
    },
    {
      "cell_type": "markdown",
      "metadata": {
        "id": "6tGFqPtX360C"
      },
      "source": [
        "# Knowledge Check:"
      ]
    },
    {
      "cell_type": "code",
      "execution_count": null,
      "metadata": {
        "trusted": true,
        "id": "-goiyaak360C"
      },
      "outputs": [],
      "source": [
        "# What happens if you run beatles.extend(beatles)?\n",
        "# How about beatles.append(beatles)?\n"
      ]
    },
    {
      "cell_type": "markdown",
      "metadata": {
        "id": "R1nHwMYQ360D"
      },
      "source": [
        "Note that you can supply your own *lambda function* to `sort()` for use in comparing items in a list. We will cover lambda functions in Section 2."
      ]
    },
    {
      "cell_type": "markdown",
      "metadata": {
        "id": "jj-WHcFG360D"
      },
      "source": [
        "# Unit 9 - Tuples\n",
        "\n",
        "Another immutable data type in Python are *tuples*. It can be useful at times to create a data structure that won't be altered later in a program, such as to protect constant data from being overwritten on accident or to improve performance for iterating over data. This is where tuples come in. You create tuples much as you do lists, only using parentheses instead of brackets."
      ]
    },
    {
      "cell_type": "code",
      "execution_count": null,
      "metadata": {
        "trusted": true,
        "id": "OH0I2D-J360D",
        "outputId": "bfe65c56-6598-4309-f754-58cf390bd22c"
      },
      "outputs": [
        {
          "output_type": "execute_result",
          "data": {
            "text/plain": "(1, 2, 3)"
          },
          "metadata": {},
          "execution_count": 109
        }
      ],
      "source": [
        "t = (1, 2, 3)\n",
        "t"
      ]
    },
    {
      "cell_type": "markdown",
      "metadata": {
        "id": "Zr7F_WUS360E"
      },
      "source": [
        "Because tuples are immutable, you cannot change elements within them:"
      ]
    },
    {
      "cell_type": "code",
      "execution_count": null,
      "metadata": {
        "trusted": true,
        "id": "O1RuWJWz360E",
        "outputId": "07d8729a-91ee-49a8-b85c-a38733c09db5"
      },
      "outputs": [
        {
          "output_type": "error",
          "ename": "TypeError",
          "evalue": "'tuple' object does not support item assignment",
          "traceback": [
            "\u001b[1;31m---------------------------------------------------------------------------\u001b[0m",
            "\u001b[1;31mTypeError\u001b[0m                                 Traceback (most recent call last)",
            "\u001b[1;32m<ipython-input-110-823b86083d61>\u001b[0m in \u001b[0;36m<module>\u001b[1;34m\u001b[0m\n\u001b[1;32m----> 1\u001b[1;33m \u001b[0mt\u001b[0m\u001b[1;33m[\u001b[0m\u001b[1;36m1\u001b[0m\u001b[1;33m]\u001b[0m \u001b[1;33m=\u001b[0m \u001b[1;36m2.0\u001b[0m\u001b[1;33m\u001b[0m\u001b[1;33m\u001b[0m\u001b[0m\n\u001b[0m",
            "\u001b[1;31mTypeError\u001b[0m: 'tuple' object does not support item assignment"
          ]
        }
      ],
      "source": [
        "t[1] = 2.0"
      ]
    },
    {
      "cell_type": "markdown",
      "metadata": {
        "id": "tNlayKDy360E"
      },
      "source": [
        "However, you can refer to elements within them:"
      ]
    },
    {
      "cell_type": "code",
      "execution_count": null,
      "metadata": {
        "trusted": true,
        "id": "CJAriUK7360E",
        "outputId": "5f78cd11-f347-4006-9676-29f20d9f01ff"
      },
      "outputs": [
        {
          "output_type": "execute_result",
          "data": {
            "text/plain": "2"
          },
          "metadata": {},
          "execution_count": 111
        }
      ],
      "source": [
        "t[1]"
      ]
    },
    {
      "cell_type": "markdown",
      "metadata": {
        "id": "iJCzx6jX360F"
      },
      "source": [
        "You can also slice tuples:"
      ]
    },
    {
      "cell_type": "code",
      "execution_count": null,
      "metadata": {
        "trusted": true,
        "id": "bYBXpY9q360F",
        "outputId": "a7f5c0e9-bac1-4c96-f60b-4e2ca6f28dc5"
      },
      "outputs": [
        {
          "output_type": "execute_result",
          "data": {
            "text/plain": "(1, 2)"
          },
          "metadata": {},
          "execution_count": 112
        }
      ],
      "source": [
        "t[:2]"
      ]
    },
    {
      "cell_type": "markdown",
      "metadata": {
        "id": "j_DSv7sD360F"
      },
      "source": [
        "You can also create tuples from lists:"
      ]
    },
    {
      "cell_type": "code",
      "execution_count": null,
      "metadata": {
        "trusted": true,
        "id": "72wqE2GN360F",
        "outputId": "2add071e-e02c-42c8-fab8-0bf8434e634a"
      },
      "outputs": [
        {
          "output_type": "execute_result",
          "data": {
            "text/plain": "('baked', 'beans', 'spam')"
          },
          "metadata": {},
          "execution_count": 113
        }
      ],
      "source": [
        "l = ['baked', 'beans', 'spam']\n",
        "l = tuple(l)\n",
        "l"
      ]
    },
    {
      "cell_type": "markdown",
      "metadata": {
        "id": "C3TZ7ltT360F"
      },
      "source": [
        "Or you can create lists from tuples:"
      ]
    },
    {
      "cell_type": "code",
      "execution_count": null,
      "metadata": {
        "trusted": true,
        "id": "Mogwus1I360G",
        "outputId": "4d15ed01-6808-4a38-d4e4-ee7a55c319f0"
      },
      "outputs": [
        {
          "output_type": "execute_result",
          "data": {
            "text/plain": "['baked', 'beans', 'spam']"
          },
          "metadata": {},
          "execution_count": 114
        }
      ],
      "source": [
        "l = list(l)\n",
        "l"
      ]
    },
    {
      "cell_type": "markdown",
      "metadata": {
        "id": "O5jlcrOB360G"
      },
      "source": [
        "### Membership testing\n",
        "\n",
        "As your Python programming grows more complex, you will want to test lists and tuples for the membership of specific data. The `in` operator enables you to do that."
      ]
    },
    {
      "cell_type": "code",
      "execution_count": null,
      "metadata": {
        "trusted": true,
        "id": "IkTK0A9j360G",
        "outputId": "50b23c23-aa8f-463e-d38e-0b4b6c92290b"
      },
      "outputs": [
        {
          "output_type": "execute_result",
          "data": {
            "text/plain": "True"
          },
          "metadata": {},
          "execution_count": 115
        }
      ],
      "source": [
        "tup = ('a', 'b', 'c')\n",
        "'b' in tup"
      ]
    },
    {
      "cell_type": "markdown",
      "metadata": {
        "id": "yu7hFxEe360G"
      },
      "source": [
        "You can also test to see if something is not in a list or tuple using `not in`:"
      ]
    },
    {
      "cell_type": "code",
      "execution_count": null,
      "metadata": {
        "trusted": true,
        "id": "Zqhr5ApR360H",
        "outputId": "09ad6cfa-4b45-4711-83f1-ca13b232a768"
      },
      "outputs": [
        {
          "output_type": "execute_result",
          "data": {
            "text/plain": "False"
          },
          "metadata": {},
          "execution_count": 116
        }
      ],
      "source": [
        "lis = ['a', 'b', 'c']\n",
        "'a' not in lis"
      ]
    },
    {
      "cell_type": "markdown",
      "metadata": {
        "id": "5xhkzJU5360H"
      },
      "source": [
        "# Knowledge Check:"
      ]
    },
    {
      "cell_type": "code",
      "execution_count": null,
      "metadata": {
        "trusted": true,
        "id": "XcE1uUoc360H"
      },
      "outputs": [],
      "source": [
        "# What happens if you run lis in lis?\n",
        "# Is that the behavior you expected?\n",
        "# If not, think back to the nested lists we’ve already encountered.\n"
      ]
    },
    {
      "cell_type": "markdown",
      "metadata": {
        "id": "_YPh08Cb360H"
      },
      "source": [
        "# Unit 10 - Dictionaries\n",
        "\n",
        "Dictionaries in Python provide a means of mapping information between unique keys and values. You create dictionaries by listing zero or more key-value pairs inside of braces, like this:"
      ]
    },
    {
      "cell_type": "code",
      "execution_count": null,
      "metadata": {
        "trusted": true,
        "id": "nHSxnTfd360I"
      },
      "outputs": [],
      "source": [
        "capitals = {'France': ('Paris', 2140526)}"
      ]
    },
    {
      "cell_type": "markdown",
      "metadata": {
        "id": "mD470ahW360K"
      },
      "source": [
        "Keys for dictionaries can be three things: strings, numbers, or tuples (that contain only strings, numbers, or other tuples). The important thing is that dictionary keys be immutable, so lists cannot be used for keys in dictionaries, for example.\n",
        "\n",
        "You add to dictionaries like this:"
      ]
    },
    {
      "cell_type": "code",
      "execution_count": null,
      "metadata": {
        "trusted": true,
        "id": "MDdUs_0d360L",
        "outputId": "13cd65ac-2e53-48ae-b024-418ab2d2b29b"
      },
      "outputs": [
        {
          "output_type": "execute_result",
          "data": {
            "text/plain": "{'France': ('Paris', 2140526), 'Nigeria': ('Lagos', 6048430)}"
          },
          "metadata": {},
          "execution_count": 119
        }
      ],
      "source": [
        "capitals['Nigeria'] = ('Lagos', 6048430)\n",
        "capitals"
      ]
    },
    {
      "cell_type": "markdown",
      "metadata": {
        "id": "rUIU20ou360M"
      },
      "source": [
        "### Exercise:"
      ]
    },
    {
      "cell_type": "code",
      "execution_count": null,
      "metadata": {
        "trusted": true,
        "id": "HV02vcaA360M"
      },
      "outputs": [],
      "source": [
        "# Now try adding another country (or something else) to the capitals dictionary"
      ]
    },
    {
      "cell_type": "markdown",
      "metadata": {
        "id": "t9c1ZOyp360M"
      },
      "source": [
        "You reference entries much like you do as through an index number for a string, list, or tuple, but instead of an index, use a key:"
      ]
    },
    {
      "cell_type": "code",
      "execution_count": null,
      "metadata": {
        "trusted": true,
        "id": "SrnK9zje360N",
        "outputId": "03b98e61-d4ad-4522-c1a8-b159ca70f8f4"
      },
      "outputs": [
        {
          "output_type": "execute_result",
          "data": {
            "text/plain": "('Paris', 2140526)"
          },
          "metadata": {},
          "execution_count": 121
        }
      ],
      "source": [
        "capitals['France']"
      ]
    },
    {
      "cell_type": "markdown",
      "metadata": {
        "collapsed": true,
        "id": "nT82Znf1360N"
      },
      "source": [
        "You can also update entries in the dictionary:"
      ]
    },
    {
      "cell_type": "code",
      "execution_count": null,
      "metadata": {
        "trusted": true,
        "id": "BfkBwEUn360N",
        "outputId": "d7d7f46c-21ed-4210-fda8-73084e67d9ea"
      },
      "outputs": [
        {
          "output_type": "execute_result",
          "data": {
            "text/plain": "{'France': ('Paris', 2140526), 'Nigeria': ('Abuja', 1235880)}"
          },
          "metadata": {},
          "execution_count": 122
        }
      ],
      "source": [
        "capitals['Nigeria'] = ('Abuja', 1235880)\n",
        "capitals"
      ]
    },
    {
      "cell_type": "markdown",
      "metadata": {
        "collapsed": true,
        "id": "WmEGOsRN360N"
      },
      "source": [
        "When used on a dictionary, the `len()` method returns the number of keys in a dictionary:"
      ]
    },
    {
      "cell_type": "code",
      "execution_count": null,
      "metadata": {
        "trusted": true,
        "id": "7IremBKc360O",
        "outputId": "52a4c708-04b6-4120-8d61-b9be6b0c73af"
      },
      "outputs": [
        {
          "output_type": "execute_result",
          "data": {
            "text/plain": "2"
          },
          "metadata": {},
          "execution_count": 123
        }
      ],
      "source": [
        "len(capitals)"
      ]
    },
    {
      "cell_type": "markdown",
      "metadata": {
        "collapsed": true,
        "id": "maDpil3c360O"
      },
      "source": [
        "Similar to the `pop()` method for lists, the `popitem()` method randomly removes a key from the dictionary, along with its associated value:"
      ]
    },
    {
      "cell_type": "code",
      "execution_count": null,
      "metadata": {
        "trusted": true,
        "id": "17FCZ3Sh360O",
        "outputId": "72db95ff-f52d-457f-fdc2-0c3c192a431e"
      },
      "outputs": [
        {
          "output_type": "execute_result",
          "data": {
            "text/plain": "('Nigeria', ('Abuja', 1235880))"
          },
          "metadata": {},
          "execution_count": 124
        }
      ],
      "source": [
        "capitals.popitem()"
      ]
    },
    {
      "cell_type": "code",
      "execution_count": null,
      "metadata": {
        "trusted": true,
        "id": "8s-RVfYv360O",
        "outputId": "a682ae6e-2302-48f6-c4d6-47d3fa1aac94"
      },
      "outputs": [
        {
          "output_type": "execute_result",
          "data": {
            "text/plain": "{'France': ('Paris', 2140526)}"
          },
          "metadata": {},
          "execution_count": 125
        }
      ],
      "source": [
        "capitals"
      ]
    },
    {
      "cell_type": "markdown",
      "metadata": {
        "id": "lBQMSP72360O"
      },
      "source": [
        "> **Takeaway:** Regardless of how complex and voluminous the data you will work with, these basic data structures will repeatedly be your means for handling and manipulating it. Comfort with these basic data structures is essential to being able to understand and use Python code written by others."
      ]
    },
    {
      "cell_type": "markdown",
      "metadata": {
        "id": "cTvPujWv360P"
      },
      "source": [
        "# Unit 11 - Control flow in Python\n",
        "\n",
        "> **Learning goal:** By the end of this subsection, you should be comfortable using basic control flows in Python.\n",
        "\n",
        "Now that you have a working understanding of the fundamental data types and structures in Python, we can move on to actual programming using Python.\n",
        "\n",
        "#### If-statements\n",
        "\n",
        "`If` statements in Python are similar to those in other programming languages like Java, and they form the backbone of the logical flow of most programs."
      ]
    },
    {
      "cell_type": "code",
      "execution_count": null,
      "metadata": {
        "trusted": true,
        "id": "WiLl5mHT360P",
        "outputId": "2050c0a5-4f61-4475-af66-8ba3924240a6"
      },
      "outputs": [
        {
          "output_type": "stream",
          "name": "stdout",
          "text": "Even\n"
        }
      ],
      "source": [
        "y = 6\n",
        "if y % 2 == 0:\n",
        "    print('Even')"
      ]
    },
    {
      "cell_type": "markdown",
      "metadata": {
        "id": "XBfVQV8j360P"
      },
      "source": [
        "### Exercise:"
      ]
    },
    {
      "cell_type": "code",
      "execution_count": null,
      "metadata": {
        "trusted": true,
        "id": "vjndxQAr360P"
      },
      "outputs": [],
      "source": [
        "# What behavior do you experience if you change y to be odd?"
      ]
    },
    {
      "cell_type": "markdown",
      "metadata": {
        "id": "8OUrC4SV360P"
      },
      "source": [
        "Did you notice the indentation for print under the if statement? That indentation is important because that is how Python demarks the scope of a control flow--what is contingently run or looped over--as opposed to the braces ({}) used in other languages.\n",
        "\n",
        "To cover more contingencies without having to construct a follow-on `if` statement, you can add an `else` statement:"
      ]
    },
    {
      "cell_type": "code",
      "execution_count": null,
      "metadata": {
        "trusted": true,
        "id": "lyrrVkRH360P",
        "outputId": "ee14d256-dece-4421-b3fa-f92677a7caa1"
      },
      "outputs": [
        {
          "output_type": "stream",
          "name": "stdout",
          "text": "Odd\n"
        }
      ],
      "source": [
        "y = 7\n",
        "if y % 2 == 0:\n",
        "    print('Even')\n",
        "else:\n",
        "    print('Odd')"
      ]
    },
    {
      "cell_type": "markdown",
      "metadata": {
        "id": "bzBZ59BI360Q"
      },
      "source": [
        "`elif` enables you to insert an additional logical test to an `if` statement:"
      ]
    },
    {
      "cell_type": "code",
      "execution_count": null,
      "metadata": {
        "trusted": true,
        "id": "yxlYAca1360Q",
        "outputId": "3e4e969a-5715-44cc-f166-0f4acb08687d"
      },
      "outputs": [
        {
          "output_type": "stream",
          "name": "stdout",
          "text": "One\n"
        }
      ],
      "source": [
        "y = 1\n",
        "if y % 2 == 0:\n",
        "    print('Even')\n",
        "elif y == 1:\n",
        "    print('One')\n",
        "else:\n",
        "    print('Odd')"
      ]
    },
    {
      "cell_type": "markdown",
      "metadata": {
        "id": "4u4J5HNx360Q"
      },
      "source": [
        "Notice that, in the previous example, the `if` statement exited after finding the *first* logical test that was `true`. If `y = 1`, and while 1 is indeed odd, the `if` statement executed and exited after finding that `y == 1`, rather than continuing to the end of the statement."
      ]
    },
    {
      "cell_type": "markdown",
      "metadata": {
        "id": "fEXn8L3t360Q"
      },
      "source": [
        "### Exercise:"
      ]
    },
    {
      "cell_type": "code",
      "execution_count": null,
      "metadata": {
        "trusted": true,
        "id": "jYZ_xwug360Q"
      },
      "outputs": [],
      "source": [
        "# Try changing the value of y in the snippet above.\n",
        "# Do you get the output that you expect?\n"
      ]
    },
    {
      "cell_type": "markdown",
      "metadata": {
        "id": "qJEKvSiB360R"
      },
      "source": [
        "#### For-loops\n",
        "\n",
        "It is often necessary in programs to iterate over some set of items. This is where `for` loops prove useful. For example, they can provide a useful way to iterate over the items of a list:"
      ]
    },
    {
      "cell_type": "code",
      "execution_count": null,
      "metadata": {
        "trusted": true,
        "id": "N02RDaKF360R",
        "outputId": "2ac19dea-b933-4af6-dd24-441ad22822a3"
      },
      "outputs": [
        {
          "output_type": "stream",
          "name": "stdout",
          "text": "red\nyellow\nblue\n"
        }
      ],
      "source": [
        "colors = ['red', 'yellow', 'blue']\n",
        "for color in colors:\n",
        "    print(color)"
      ]
    },
    {
      "cell_type": "markdown",
      "metadata": {
        "id": "4zq2UQA9360R"
      },
      "source": [
        "Sometimes, you will want to iterate over a list using the list index rather than items from that list (say, when you want to access items from another list at the same time). In this case, you can combine list-object methods and for loops:"
      ]
    },
    {
      "cell_type": "code",
      "execution_count": null,
      "metadata": {
        "trusted": true,
        "id": "wq5TSIH-360R",
        "outputId": "672db5e4-60af-4571-f502-93390cf24de7"
      },
      "outputs": [
        {
          "output_type": "stream",
          "name": "stdout",
          "text": "red green\nyellow purple\nblue orange\n"
        }
      ],
      "source": [
        "comp_colors = ['green', 'purple', 'orange']\n",
        "for i in range(len(comp_colors)):\n",
        "    print(colors[i], comp_colors[i])"
      ]
    },
    {
      "cell_type": "markdown",
      "metadata": {
        "id": "R-zj3pRo360R"
      },
      "source": [
        "We've met `len()` before, but [`range()`](https://docs.python.org/3/library/functions.html#func-range) is new to us. That function produces a sequence of integers from 0 to 1 less than the number passed into it. Hence:"
      ]
    },
    {
      "cell_type": "code",
      "execution_count": null,
      "metadata": {
        "trusted": true,
        "id": "kYJw4cDQ360S",
        "outputId": "ad302667-f43e-4cef-da8c-50e921e42580"
      },
      "outputs": [
        {
          "output_type": "stream",
          "name": "stdout",
          "text": "0\n1\n2\n3\n4\n"
        }
      ],
      "source": [
        "for j in range(5):\n",
        "    print(j)"
      ]
    },
    {
      "cell_type": "markdown",
      "metadata": {
        "id": "WG8w5lTl360S"
      },
      "source": [
        "In addition to `range(`*`stop`*`)`, the range function can take up to three parameters: `range(`*`start`*, *`stop`*`[, `*step*`])`. This odd-looking notation just means that if you pass a single argument to `range()`, it will take that to be the stop value; two arguments will be the start and stop values; and three values are `start`, `stop`, and `step`.\n",
        "\n",
        "### Exercise:"
      ]
    },
    {
      "cell_type": "code",
      "execution_count": null,
      "metadata": {
        "trusted": true,
        "id": "Jr6ZKHLY360S"
      },
      "outputs": [],
      "source": [
        "# How would you use range and a for loop to print the sequence of numbers\n",
        "# from 10 to 20? How about counting by threes from 17 to 41?\n"
      ]
    },
    {
      "cell_type": "markdown",
      "metadata": {
        "id": "C3h3r4e3360S"
      },
      "source": [
        "It can also be important to break out of a loop. Python uses the `break` statement borrowed from C to do this. To see this in action, consider two nested for loops:"
      ]
    },
    {
      "cell_type": "code",
      "execution_count": null,
      "metadata": {
        "trusted": true,
        "id": "U45UHYek360S",
        "outputId": "be47383f-f3a2-4687-9d16-6b6d6f6df716"
      },
      "outputs": [
        {
          "output_type": "stream",
          "name": "stdout",
          "text": "2 is a prime number\n3 is a prime number\n4 equals 2 * 2\n5 is a prime number\n6 equals 2 * 3\n7 is a prime number\n8 equals 2 * 4\n9 equals 3 * 3\n"
        }
      ],
      "source": [
        "for n in range(2, 10):\n",
        "    for x in range(2, n):\n",
        "        if n % x == 0:\n",
        "            print(n, 'equals', x, '*', n//x)\n",
        "            break\n",
        "    else:\n",
        "        print(n, 'is a prime number')"
      ]
    },
    {
      "cell_type": "markdown",
      "metadata": {
        "id": "O6znKPOQ360S"
      },
      "source": [
        "Note that, in the example above, the `else` statement belongs to the `for` loop, not to the `if` statement.\n",
        "\n",
        "### Exercise:"
      ]
    },
    {
      "cell_type": "code",
      "execution_count": null,
      "metadata": {
        "trusted": true,
        "id": "RARfy5qc360T"
      },
      "outputs": [],
      "source": [
        "# Try changing the code snippet above after you remove the break statement.\n",
        "# What output does it now produce?\n"
      ]
    },
    {
      "cell_type": "markdown",
      "metadata": {
        "id": "uEY1s2Yf360T"
      },
      "source": [
        "As part of the control flow of your program, you might want to continue to the next iteration of your loop. The `continue` statement (also borrowed from C) can help with that:"
      ]
    },
    {
      "cell_type": "code",
      "execution_count": null,
      "metadata": {
        "trusted": true,
        "id": "V9Ae_T-S360T",
        "outputId": "5f146cc8-7848-411d-ab1d-9583b2d44025"
      },
      "outputs": [
        {
          "output_type": "stream",
          "name": "stdout",
          "text": "Found an even number: 2\nFound an odd number: 3\nFound an even number: 4\nFound an odd number: 5\nFound an even number: 6\nFound an odd number: 7\nFound an even number: 8\nFound an odd number: 9\n"
        }
      ],
      "source": [
        "for num in range(2, 10):\n",
        "    if num % 2 == 0:\n",
        "        print(\"Found an even number:\", num)\n",
        "        continue\n",
        "    print(\"Found an odd number:\", num)"
      ]
    },
    {
      "cell_type": "markdown",
      "metadata": {
        "id": "_EYu8U9x360T"
      },
      "source": [
        "### Exercise:"
      ]
    },
    {
      "cell_type": "code",
      "execution_count": null,
      "metadata": {
        "trusted": true,
        "id": "nOgM4G94360T"
      },
      "outputs": [],
      "source": [
        "# What happens when you replace the continue statement above with a break?\n"
      ]
    },
    {
      "cell_type": "markdown",
      "metadata": {
        "id": "y9I2IDu8360U"
      },
      "source": [
        "#### While-loops\n",
        "\n",
        "If we cross the functionality of the `if` statement with that of the `for` loop, we would get the `while` loop, a loop that iterates while some logical condition remains true. Consider this snippet of code to compute the initial sub-sequence of the Fibonacci sequence:"
      ]
    },
    {
      "cell_type": "code",
      "execution_count": null,
      "metadata": {
        "trusted": true,
        "id": "0-fbAE_n360U",
        "outputId": "36d743bc-8088-4aee-af65-c2a17006f4e3"
      },
      "outputs": [
        {
          "output_type": "stream",
          "name": "stdout",
          "text": "1, 1, 2, 3, 5, 8, 13, 21, 34, 55, 89,"
        }
      ],
      "source": [
        "# In the Fibonacci series, the sum of two elements defines the next.\n",
        "a, b = 0, 1\n",
        "\n",
        "while b < 100:    \n",
        "    print(b, end=', ')\n",
        "    a, b = b, a+b"
      ]
    },
    {
      "cell_type": "markdown",
      "metadata": {
        "id": "lOpQIqGV360U"
      },
      "source": [
        "Go ahead and play with the number of iterations for the while loop. Notice that this snippet also uses multiple assignment for variables.\n",
        "\n",
        "> **Takeaway:** Control flows are what make programs programs, as opposed to a single sequence of operations. Mastering the logical flow of information in Python will enable you to automate tasks that would be impossibly complex or time-consuming to do manually."
      ]
    },
    {
      "cell_type": "markdown",
      "metadata": {
        "id": "LWnvibBV360U"
      },
      "source": [
        "# Unit 12 - Functions\n",
        "\n",
        "> **Learning goal:** By the end of this subsection, you should understand how to pass and receive data from functions.\n",
        "\n",
        "As in other programming languages, it is often essential in Python to break down your program into reusable chunks. A primary means of doing that is through functions.\n",
        "\n",
        "For example, we could rewrite the `while` loop code snippet above as a formal function:"
      ]
    },
    {
      "cell_type": "code",
      "execution_count": null,
      "metadata": {
        "trusted": true,
        "id": "SBxMjg-O360U"
      },
      "outputs": [],
      "source": [
        "def fib(n):\n",
        "    \"\"\"Print a Fibonacci series up to n.\"\"\"\n",
        "    a, b = 0, 1\n",
        "    while a < n:\n",
        "        print(a, end=', ')\n",
        "        a, b = b, a+b"
      ]
    },
    {
      "cell_type": "markdown",
      "metadata": {
        "id": "SPyCqBQj360V"
      },
      "source": [
        "Now we can call this function and compute the Fibonacci series up to some arbitrary point:"
      ]
    },
    {
      "cell_type": "code",
      "execution_count": null,
      "metadata": {
        "trusted": true,
        "id": "OMe75Cy1360V",
        "outputId": "a57ff5aa-3c31-4b1a-e9fd-f74c4354fca2"
      },
      "outputs": [
        {
          "output_type": "stream",
          "name": "stdout",
          "text": "0, 1, 1, 2, 3, 5, 8, 13, 21, 34, 55, 89, 144, 233, 377, 610, 987, 1597,"
        }
      ],
      "source": [
        "fib(2000)"
      ]
    },
    {
      "cell_type": "markdown",
      "metadata": {
        "id": "WiIZ3ycF360V"
      },
      "source": [
        "Python can also define new functions on the fly. These anonymous functions are called *lambda functions* because you define them with the `lambda` keyword. Lambda functions can contain any number of arguments but only one expression."
      ]
    },
    {
      "cell_type": "code",
      "execution_count": null,
      "metadata": {
        "trusted": true,
        "id": "1K5hS-tg360V",
        "outputId": "f9c44b61-21a9-413c-857b-8f73dd93ba6e"
      },
      "outputs": [
        {
          "output_type": "execute_result",
          "data": {
            "text/plain": "[1, 3, 5, 7, 9]"
          },
          "metadata": {},
          "execution_count": 142
        }
      ],
      "source": [
        "nums = [1, 2, 3, 4, 5, 6, 7, 8, 9, 10]\n",
        "list(filter(lambda x: x % 2 != 0, nums))"
      ]
    },
    {
      "cell_type": "markdown",
      "metadata": {
        "id": "GOqmbkSj360V"
      },
      "source": [
        "> **Takeaway:** You will constantly be using functions of all kind to perform data science in Python, so understanding how functions accept, work on, and return data is critical to further progress."
      ]
    },
    {
      "cell_type": "markdown",
      "metadata": {
        "id": "86yvDUax360W"
      },
      "source": [
        "# Unit 13 - List comprehensions\n",
        "\n",
        "> **Learning goal:** By the end of this subsection, you should understand how to economically and computationally create lists.\n",
        "\n",
        "Sometimes, it makes more sense to generate a list algorithmically. Consider the last example. We really wanted just a list of numbers from 1 to 10. Rather than type those out, we can use a *list comprehension* to generate it:"
      ]
    },
    {
      "cell_type": "code",
      "execution_count": null,
      "metadata": {
        "trusted": true,
        "id": "wChNCv4c360W",
        "outputId": "78979a78-377f-4482-b041-c0c439f5ce2f"
      },
      "outputs": [
        {
          "output_type": "execute_result",
          "data": {
            "text/plain": "[1, 2, 3, 4, 5, 6, 7, 8, 9, 10]"
          },
          "metadata": {},
          "execution_count": 143
        }
      ],
      "source": [
        "numbers = [x for x in range(1,11)] # Remember to create a range 1 more than the number you actually want.\n",
        "numbers"
      ]
    },
    {
      "cell_type": "markdown",
      "metadata": {
        "id": "otL-DCMA360W"
      },
      "source": [
        "We can also perform computation on the items generated for the list:"
      ]
    },
    {
      "cell_type": "code",
      "execution_count": null,
      "metadata": {
        "trusted": true,
        "id": "Gj1qAPg8360W",
        "outputId": "6dea3da5-a42c-4274-f420-c78aa33f6862"
      },
      "outputs": [
        {
          "output_type": "execute_result",
          "data": {
            "text/plain": "[1, 4, 9, 16, 25, 36, 49, 64, 81, 100]"
          },
          "metadata": {},
          "execution_count": 144
        }
      ],
      "source": [
        "squares = [x*x for x in range(1,11)]\n",
        "squares"
      ]
    },
    {
      "cell_type": "markdown",
      "metadata": {
        "id": "CB03pkwP360W"
      },
      "source": [
        "We can even perform logical tests on list items in the comprehension:"
      ]
    },
    {
      "cell_type": "code",
      "execution_count": null,
      "metadata": {
        "trusted": true,
        "id": "R5w6Npgf360X",
        "outputId": "3f964e5d-e62b-4194-fcc3-5afa972f1efe"
      },
      "outputs": [
        {
          "output_type": "execute_result",
          "data": {
            "text/plain": "[1, 9, 25, 49, 81]"
          },
          "metadata": {},
          "execution_count": 145
        }
      ],
      "source": [
        "odd_squares = [x*x for x in range(1,11) if x % 2 != 0]\n",
        "odd_squares"
      ]
    },
    {
      "cell_type": "markdown",
      "metadata": {
        "id": "paWg9_qo360X"
      },
      "source": [
        "### Exercise:"
      ]
    },
    {
      "cell_type": "code",
      "execution_count": null,
      "metadata": {
        "trusted": true,
        "id": "K3pH45Sx360X"
      },
      "outputs": [],
      "source": [
        "# Now use a list comprehension to generate a list of odd cubes\n",
        "# from 1 to 2,197\n"
      ]
    },
    {
      "cell_type": "markdown",
      "metadata": {
        "id": "0fVB2jNs360X"
      },
      "source": [
        "> **Takeaway:** List comprehensions are a popular tool in Python because they enable the rapid, programmatic generation of lists. The economy and ease of use therefore make them an essential tool for you (in addition to a necessary topic to understand as you try to understand Python code written by others)."
      ]
    },
    {
      "cell_type": "markdown",
      "metadata": {
        "id": "vRPxPkWz360X"
      },
      "source": [
        "# Unit 13 - Importing modules\n",
        "\n",
        "> **Learning goal:** By the end of this subsection, you should be comfortable importing modules in Python.\n",
        "\n",
        "If you quit from the Python interpreter and enter it again, the definitions you have made (your functions and variables) will be lost. Similarly, you might also want to use a handy function that you’ve written in several programs without copying its definition into each program.\n",
        "\n",
        "To support this, Python has a way to put definitions in a file and use them in a script or in an interactive instance of the interpreter. Such a file is called a [*module*](https://docs.python.org/3/tutorial/modules.html). Definitions from a module can be imported into other programs or modules.\n",
        "\n",
        "For example, the `factorial()` function is not one of the standard functions built into Python. It is part of the Python [`math`](https://docs.python.org/3/library/math.html) module. So, when we run `factorial()` before importing `math`, we get an error:"
      ]
    },
    {
      "cell_type": "code",
      "execution_count": null,
      "metadata": {
        "trusted": true,
        "id": "qD-5QE-L360Y",
        "outputId": "bb812e6d-5ea6-4c18-fe14-5a9d9b2ee47d"
      },
      "outputs": [
        {
          "output_type": "error",
          "ename": "NameError",
          "evalue": "name 'factorial' is not defined",
          "traceback": [
            "\u001b[1;31m---------------------------------------------------------------------------\u001b[0m",
            "\u001b[1;31mNameError\u001b[0m                                 Traceback (most recent call last)",
            "\u001b[1;32m<ipython-input-147-637175d621a4>\u001b[0m in \u001b[0;36m<module>\u001b[1;34m\u001b[0m\n\u001b[1;32m----> 1\u001b[1;33m \u001b[0mfactorial\u001b[0m\u001b[1;33m(\u001b[0m\u001b[1;36m5\u001b[0m\u001b[1;33m)\u001b[0m\u001b[1;33m\u001b[0m\u001b[1;33m\u001b[0m\u001b[0m\n\u001b[0m",
            "\u001b[1;31mNameError\u001b[0m: name 'factorial' is not defined"
          ]
        }
      ],
      "source": [
        "factorial(5)"
      ]
    },
    {
      "cell_type": "markdown",
      "metadata": {
        "id": "aolx9IYa360Y"
      },
      "source": [
        "However, the situation changes after we import the `math` module:"
      ]
    },
    {
      "cell_type": "code",
      "execution_count": null,
      "metadata": {
        "trusted": true,
        "id": "8oHB5JId360Y",
        "outputId": "d09f839c-5a69-4f5a-ba5f-7ced4f61a7b5"
      },
      "outputs": [
        {
          "output_type": "execute_result",
          "data": {
            "text/plain": "120"
          },
          "metadata": {},
          "execution_count": 148
        }
      ],
      "source": [
        "import math\n",
        "math.factorial(5)"
      ]
    },
    {
      "cell_type": "markdown",
      "metadata": {
        "id": "Plrsy9g3360Y"
      },
      "source": [
        "Notice that we still have to prepend `math` to the front of the `factorial()` function. We can use a different method to import that specific function from the `math` module and use it as if it were defined in our program:"
      ]
    },
    {
      "cell_type": "code",
      "execution_count": null,
      "metadata": {
        "trusted": true,
        "id": "z7xvPPk2360Y",
        "outputId": "4b7b650e-23de-4613-e936-329163ea6cd7"
      },
      "outputs": [
        {
          "output_type": "execute_result",
          "data": {
            "text/plain": "120"
          },
          "metadata": {},
          "execution_count": 149
        }
      ],
      "source": [
        "from math import factorial\n",
        "factorial(5)"
      ]
    },
    {
      "cell_type": "markdown",
      "metadata": {
        "id": "ybiCF5Cs360b"
      },
      "source": [
        "You can add more cells to your notebook by clicking the **insert cell below (+)** button at the top of the window. The Python [`math`](https://docs.python.org/3/library/math.html) module has many functions in it. Try importing some of the other math functions and playing around with them.\n",
        "\n",
        "> **Takeaway:** There are several Python modules that you will regularly use in conducting data science in Python, so understanding how to import them will be essential (especially in this training)."
      ]
    }
  ],
  "metadata": {
    "kernelspec": {
      "name": "python3",
      "display_name": "Python 3",
      "language": "python"
    },
    "language_info": {
      "mimetype": "text/x-python",
      "nbconvert_exporter": "python",
      "name": "python",
      "pygments_lexer": "ipython3",
      "version": "3.7.3-final",
      "file_extension": ".py",
      "codemirror_mode": {
        "version": 3,
        "name": "ipython"
      }
    },
    "colab": {
      "name": "1-Python.ipynb",
      "provenance": [],
      "include_colab_link": true
    }
  },
  "nbformat": 4,
  "nbformat_minor": 0
}