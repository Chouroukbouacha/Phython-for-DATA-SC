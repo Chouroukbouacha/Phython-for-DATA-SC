{
  "cells": [
    {
      "cell_type": "markdown",
      "metadata": {},
      "source": [
        "# Cleaning Data and Visualization\n",
        "\n",
        "This module marks a subtle change. Until now, you have been introduced to ideas and techniques that prepare you for real world situations. You are now going to start using these tools while learning how and when to use them in your work with data.\n",
        "\n",
        "Before we get to the colorful world of graphing our data, we have to contend with the fact that real world data is messy. You will likely need to combine several data sources to get the data you want. The data from those sources will be incomplete. It will not likely be formatted in exactly the way you want to perform your analysis. It's for these reasons that most data scientists believe that about 80 percent of any project is spent getting the data into a form ready for analysis. Our graphs will only make sense after combing through our data and cleaning up the sore spots.\n",
        "\n",
        "## Exploring `DataFrame` information\n",
        "\n",
        "Once you have loaded your data into pandas, it will likely be in a `DataFrame`. However, if the dataset has 60,000 rows and 400 columns, how do you get a sense of what you're working with? Fortunately, pandas provides some convenient tools to provide a quick look at the overall information in a `DataFrame`.\n",
        "\n",
        "To explore this functionality, you will import the Python `scikit-learn` library which contains example datasets for practice. We will use the \"Iris plants\" dataset which contains measurements performed on flowers belonging to the Iris species.\n",
        "\n",
        "![](media/iris_organs.png)"
      ]
    },
    {
      "cell_type": "code",
      "execution_count": 1,
      "metadata": {},
      "outputs": [],
      "source": [
        "import numpy as np\n",
        "import pandas as pd\n",
        "from sklearn.datasets import load_iris\n",
        "\n",
        "iris = load_iris()\n",
        "iris_df = pd.DataFrame(data=iris['data'], columns=iris['feature_names'])"
      ]
    },
    {
      "cell_type": "markdown",
      "metadata": {},
      "source": [
        "### `DataFrame.info`\n",
        "Let's take a look at this dataset:"
      ]
    },
    {
      "cell_type": "code",
      "execution_count": 2,
      "metadata": {},
      "outputs": [
        {
          "name": "stdout",
          "output_type": "stream",
          "text": [
            "<class 'pandas.core.frame.DataFrame'>\n",
            "RangeIndex: 150 entries, 0 to 149\n",
            "Data columns (total 4 columns):\n",
            " #   Column             Non-Null Count  Dtype  \n",
            "---  ------             --------------  -----  \n",
            " 0   sepal length (cm)  150 non-null    float64\n",
            " 1   sepal width (cm)   150 non-null    float64\n",
            " 2   petal length (cm)  150 non-null    float64\n",
            " 3   petal width (cm)   150 non-null    float64\n",
            "dtypes: float64(4)\n",
            "memory usage: 4.8 KB\n"
          ]
        }
      ],
      "source": [
        "iris_df.info()"
      ]
    },
    {
      "cell_type": "markdown",
      "metadata": {},
      "source": [
        "From this, you know that the *Iris* dataset has 150 entries across four columns. The data is stored as 64-bit floating-point numbers."
      ]
    },
    {
      "cell_type": "markdown",
      "metadata": {},
      "source": [
        "### `DataFrame.head` and `DataFrame.tail`\n",
        "To get a quick snapshot of what the dataset looks like, you can check its first/last few rows using head()/tail() respectively:"
      ]
    },
    {
      "cell_type": "code",
      "execution_count": 3,
      "metadata": {},
      "outputs": [
        {
          "data": {
            "text/html": [
              "<div>\n",
              "<style scoped>\n",
              "    .dataframe tbody tr th:only-of-type {\n",
              "        vertical-align: middle;\n",
              "    }\n",
              "\n",
              "    .dataframe tbody tr th {\n",
              "        vertical-align: top;\n",
              "    }\n",
              "\n",
              "    .dataframe thead th {\n",
              "        text-align: right;\n",
              "    }\n",
              "</style>\n",
              "<table border=\"1\" class=\"dataframe\">\n",
              "  <thead>\n",
              "    <tr style=\"text-align: right;\">\n",
              "      <th></th>\n",
              "      <th>sepal length (cm)</th>\n",
              "      <th>sepal width (cm)</th>\n",
              "      <th>petal length (cm)</th>\n",
              "      <th>petal width (cm)</th>\n",
              "    </tr>\n",
              "  </thead>\n",
              "  <tbody>\n",
              "    <tr>\n",
              "      <th>0</th>\n",
              "      <td>5.1</td>\n",
              "      <td>3.5</td>\n",
              "      <td>1.4</td>\n",
              "      <td>0.2</td>\n",
              "    </tr>\n",
              "    <tr>\n",
              "      <th>1</th>\n",
              "      <td>4.9</td>\n",
              "      <td>3.0</td>\n",
              "      <td>1.4</td>\n",
              "      <td>0.2</td>\n",
              "    </tr>\n",
              "    <tr>\n",
              "      <th>2</th>\n",
              "      <td>4.7</td>\n",
              "      <td>3.2</td>\n",
              "      <td>1.3</td>\n",
              "      <td>0.2</td>\n",
              "    </tr>\n",
              "    <tr>\n",
              "      <th>3</th>\n",
              "      <td>4.6</td>\n",
              "      <td>3.1</td>\n",
              "      <td>1.5</td>\n",
              "      <td>0.2</td>\n",
              "    </tr>\n",
              "    <tr>\n",
              "      <th>4</th>\n",
              "      <td>5.0</td>\n",
              "      <td>3.6</td>\n",
              "      <td>1.4</td>\n",
              "      <td>0.2</td>\n",
              "    </tr>\n",
              "  </tbody>\n",
              "</table>\n",
              "</div>"
            ],
            "text/plain": [
              "   sepal length (cm)  sepal width (cm)  petal length (cm)  petal width (cm)\n",
              "0                5.1               3.5                1.4               0.2\n",
              "1                4.9               3.0                1.4               0.2\n",
              "2                4.7               3.2                1.3               0.2\n",
              "3                4.6               3.1                1.5               0.2\n",
              "4                5.0               3.6                1.4               0.2"
            ]
          },
          "execution_count": 3,
          "metadata": {},
          "output_type": "execute_result"
        }
      ],
      "source": [
        "iris_df.head()"
      ]
    },
    {
      "cell_type": "code",
      "execution_count": 4,
      "metadata": {},
      "outputs": [
        {
          "data": {
            "text/html": [
              "<div>\n",
              "<style scoped>\n",
              "    .dataframe tbody tr th:only-of-type {\n",
              "        vertical-align: middle;\n",
              "    }\n",
              "\n",
              "    .dataframe tbody tr th {\n",
              "        vertical-align: top;\n",
              "    }\n",
              "\n",
              "    .dataframe thead th {\n",
              "        text-align: right;\n",
              "    }\n",
              "</style>\n",
              "<table border=\"1\" class=\"dataframe\">\n",
              "  <thead>\n",
              "    <tr style=\"text-align: right;\">\n",
              "      <th></th>\n",
              "      <th>sepal length (cm)</th>\n",
              "      <th>sepal width (cm)</th>\n",
              "      <th>petal length (cm)</th>\n",
              "      <th>petal width (cm)</th>\n",
              "    </tr>\n",
              "  </thead>\n",
              "  <tbody>\n",
              "    <tr>\n",
              "      <th>145</th>\n",
              "      <td>6.7</td>\n",
              "      <td>3.0</td>\n",
              "      <td>5.2</td>\n",
              "      <td>2.3</td>\n",
              "    </tr>\n",
              "    <tr>\n",
              "      <th>146</th>\n",
              "      <td>6.3</td>\n",
              "      <td>2.5</td>\n",
              "      <td>5.0</td>\n",
              "      <td>1.9</td>\n",
              "    </tr>\n",
              "    <tr>\n",
              "      <th>147</th>\n",
              "      <td>6.5</td>\n",
              "      <td>3.0</td>\n",
              "      <td>5.2</td>\n",
              "      <td>2.0</td>\n",
              "    </tr>\n",
              "    <tr>\n",
              "      <th>148</th>\n",
              "      <td>6.2</td>\n",
              "      <td>3.4</td>\n",
              "      <td>5.4</td>\n",
              "      <td>2.3</td>\n",
              "    </tr>\n",
              "    <tr>\n",
              "      <th>149</th>\n",
              "      <td>5.9</td>\n",
              "      <td>3.0</td>\n",
              "      <td>5.1</td>\n",
              "      <td>1.8</td>\n",
              "    </tr>\n",
              "  </tbody>\n",
              "</table>\n",
              "</div>"
            ],
            "text/plain": [
              "     sepal length (cm)  sepal width (cm)  petal length (cm)  petal width (cm)\n",
              "145                6.7               3.0                5.2               2.3\n",
              "146                6.3               2.5                5.0               1.9\n",
              "147                6.5               3.0                5.2               2.0\n",
              "148                6.2               3.4                5.4               2.3\n",
              "149                5.9               3.0                5.1               1.8"
            ]
          },
          "execution_count": 4,
          "metadata": {},
          "output_type": "execute_result"
        }
      ],
      "source": [
        "iris_df.tail()"
      ]
    },
    {
      "cell_type": "markdown",
      "metadata": {},
      "source": [
        "### Exercise:\n",
        "\n",
        "By default, `DataFrame.head` returns the first five rows of a `DataFrame`. In the code cell below, can you figure out how to get it to show more?"
      ]
    },
    {
      "cell_type": "code",
      "execution_count": 5,
      "metadata": {},
      "outputs": [],
      "source": [
        "# Hint: Consult the documentation by using \"iris_df.head?\""
      ]
    },
    {
      "cell_type": "markdown",
      "metadata": {},
      "source": [
        "> **Takeaway:** The metadata in a DataFrame, or the first and last few values can get you an initial idea about the size, shape, and content of the data at hand."
      ]
    },
    {
      "cell_type": "markdown",
      "metadata": {},
      "source": [
        "## Dealing with missing data\n",
        "\n",
        "> **Learning goal:** By the end of this subsection, you should know how to replace or remove null values from DataFrames.\n",
        "\n",
        "Most of the time the datasets you want to use have missing values in them. How missing data is handled carries with it subtle tradeoffs that can affect your final analysis and real world outcomes.\n",
        "\n",
        "Pandas handles missing values in two ways. The first is `NaN`, or **Not a Number**, which is used to indicate missing floating-point values. The second way of handling missing values is using the Python `None` keyword, which signals the lack of an object in general."
      ]
    },
    {
      "cell_type": "markdown",
      "metadata": {},
      "source": [
        "Here's a quick summary detailing the differences between `None` and `NaN`:\n",
        "\n",
        "|   |`NaN` (NumPy.nan)|`None`|\n",
        "|---|-----|------|\n",
        "|dtype|'float'|General 'object'|\n",
        "|Supports math?|Yes (any operation results in `NaN`)|No, not a numeric type|\n",
        "|Supports aggregation?| Yes (results in `NaN`)|No, results in a crash|\n",
        "|Upcasting?|casts any **numerical** array to a 'float' array|casts any array to an 'object' array|"
      ]
    },
    {
      "cell_type": "markdown",
      "metadata": {},
      "source": [
        "**Note**: In other object-oriented programming languages (Java, C#/C++ etc), the `null` keyword is used instead to refer to the absence of an object. In the context of pandas/NumPy however, `null` encapsulates both cases of having either a `None` or a `NaN` as you will see in the following sections."
      ]
    },
    {
      "cell_type": "markdown",
      "metadata": {},
      "source": [
        "### Exercise:"
      ]
    },
    {
      "cell_type": "code",
      "execution_count": 6,
      "metadata": {},
      "outputs": [
        {
          "data": {
            "text/plain": [
              "dtype('int32')"
            ]
          },
          "execution_count": 6,
          "metadata": {},
          "output_type": "execute_result"
        }
      ],
      "source": [
        "# What happens if you add np.nan to an array of integers?\n",
        "example3 = np.array([1, 2, 3])\n",
        "example3.dtype"
      ]
    },
    {
      "cell_type": "markdown",
      "metadata": {},
      "source": [
        "> **Remember**: `NaN` is for missing floating-point values; there is no `NaN` equivalent for integers, strings, or Booleans."
      ]
    },
    {
      "cell_type": "markdown",
      "metadata": {},
      "source": [
        "### `NaN` and `None`: null values in pandas\n",
        "\n",
        "Even though `NaN` and `None` can behave somewhat differently, pandas is built to handle them interchangeably. To see this, consider a `Series` of integers:"
      ]
    },
    {
      "cell_type": "code",
      "execution_count": 7,
      "metadata": {},
      "outputs": [
        {
          "data": {
            "text/plain": [
              "0    1\n",
              "1    2\n",
              "2    3\n",
              "dtype: int32"
            ]
          },
          "execution_count": 7,
          "metadata": {},
          "output_type": "execute_result"
        }
      ],
      "source": [
        "int_series = pd.Series([1, 2, 3], dtype=int)\n",
        "int_series"
      ]
    },
    {
      "cell_type": "markdown",
      "metadata": {},
      "source": [
        "### Exercise:"
      ]
    },
    {
      "cell_type": "code",
      "execution_count": 8,
      "metadata": {},
      "outputs": [],
      "source": [
        "# Now set an element of int_series equal to None.\n",
        "# How does that element show up in the series?\n",
        "# What is the dtype of the series?\n"
      ]
    },
    {
      "cell_type": "markdown",
      "metadata": {},
      "source": [
        "In the process of upcasting data types to establish data homogeneity in `Series` and `DataFrame`s, pandas will willingly switch missing values between `None` and `NaN`. Because of this design feature, it can be helpful to think of `None` and `NaN` as two flavors of \"null\" in pandas. Indeed, some of the core methods you will use to deal with missing values in pandas reflect this idea in their names:\n",
        "\n",
        "- `isnull()`: Generates a Boolean mask indicating missing values\n",
        "- `notnull()`: Complement of `isnull()`\n",
        "- `dropna()`: Returns a filtered version of the data\n",
        "- `fillna()`: Returns a copy of the data with missing values filled or imputed\n",
        "\n",
        "These are important methods to master and get comfortable with, so let's go over them each in some depth."
      ]
    },
    {
      "cell_type": "markdown",
      "metadata": {},
      "source": [
        "### Detecting null values\n",
        "Both `isnull()` and `notnull()` are your primary methods for detecting null data. Both return Boolean masks over your data."
      ]
    },
    {
      "cell_type": "code",
      "execution_count": 9,
      "metadata": {},
      "outputs": [
        {
          "data": {
            "text/plain": [
              "0       0\n",
              "1     NaN\n",
              "2        \n",
              "3    None\n",
              "4     NaN\n",
              "dtype: object"
            ]
          },
          "execution_count": 9,
          "metadata": {},
          "output_type": "execute_result"
        }
      ],
      "source": [
        "example3 = pd.Series([0, np.nan, '', None, 'NaN'])\n",
        "example3"
      ]
    },
    {
      "cell_type": "code",
      "execution_count": 10,
      "metadata": {},
      "outputs": [
        {
          "data": {
            "text/plain": [
              "0    False\n",
              "1     True\n",
              "2    False\n",
              "3     True\n",
              "4    False\n",
              "dtype: bool"
            ]
          },
          "execution_count": 10,
          "metadata": {},
          "output_type": "execute_result"
        }
      ],
      "source": [
        "example3.isnull()"
      ]
    },
    {
      "cell_type": "markdown",
      "metadata": {},
      "source": [
        "Look closely at the output. Does any of it surprise you? While `0` is an arithmetic null, it's nevertheless a perfectly good integer and pandas treats it as such. `''` is a little more subtle. It is a string object and not a representation of null as far as pandas is concerned. `'NaN'` is also a string object that has no relation to the floating-point `NaN` value.\n",
        "\n",
        "Now, let's turn this around and use these methods in a manner more like you will use them in practice. You can use Boolean masks directly as a ``Series`` or ``DataFrame`` index, which can be useful when working with isolated missing (or present) values."
      ]
    },
    {
      "cell_type": "code",
      "execution_count": 11,
      "metadata": {},
      "outputs": [],
      "source": [
        "# Try running example3[example3.notnull()].\n",
        "# Before you do so, what do you expect to see?\n"
      ]
    },
    {
      "cell_type": "markdown",
      "metadata": {},
      "source": [
        "**Key takeaway**: Both the `isnull()` and `notnull()` methods produce similar results when you use them in `DataFrame`s: they show the results and the index of those results, which will help you enormously as you wrestle with your data."
      ]
    },
    {
      "cell_type": "markdown",
      "metadata": {},
      "source": [
        "### Dropping null values\n",
        "\n",
        "Beyond identifying missing values, pandas provides a convenient means to remove null values from `Series` and `DataFrame`s. Particularly on large datasets, it is often more advisable to remove missing [NA] values from your analysis than deal with them in other ways. To see this in action, return to `example3`:"
      ]
    },
    {
      "cell_type": "code",
      "execution_count": 12,
      "metadata": {},
      "outputs": [
        {
          "data": {
            "text/plain": [
              "0      0\n",
              "2       \n",
              "4    NaN\n",
              "dtype: object"
            ]
          },
          "execution_count": 12,
          "metadata": {},
          "output_type": "execute_result"
        }
      ],
      "source": [
        "example3 = example3.dropna()\n",
        "example3"
      ]
    },
    {
      "cell_type": "markdown",
      "metadata": {},
      "source": [
        "Note that this should look like your output from `example3[example3.notnull()]`. The difference is that, rather than indexing on the masked values, `dropna` has removed those missing values from the `Series` `example3`.\n",
        "\n",
        "Because `DataFrame`s have two dimensions, they afford more options for dropping data."
      ]
    },
    {
      "cell_type": "code",
      "execution_count": 13,
      "metadata": {},
      "outputs": [
        {
          "data": {
            "text/plain": [
              "0    float64\n",
              "1    float64\n",
              "2      int64\n",
              "dtype: object"
            ]
          },
          "execution_count": 13,
          "metadata": {},
          "output_type": "execute_result"
        }
      ],
      "source": [
        "example4 = pd.DataFrame([[1,      np.nan, 7], \n",
        "                         [2,      5,      8], \n",
        "                         [np.nan, 6,      9]])\n",
        "example4.dtypes"
      ]
    },
    {
      "cell_type": "markdown",
      "metadata": {},
      "source": [
        "(Did you notice that pandas upcast two of the columns to floats to accommodate the `NaN`s?)\n",
        "\n",
        "You cannot drop a single value from a `DataFrame`, so you have to drop full rows or columns. In data science columns generally represent variables and rows represent observations, you are more likely to drop rows of data; the default setting for `dropna()` is to drop all rows that contain null values:"
      ]
    },
    {
      "cell_type": "code",
      "execution_count": 14,
      "metadata": {},
      "outputs": [
        {
          "data": {
            "text/html": [
              "<div>\n",
              "<style scoped>\n",
              "    .dataframe tbody tr th:only-of-type {\n",
              "        vertical-align: middle;\n",
              "    }\n",
              "\n",
              "    .dataframe tbody tr th {\n",
              "        vertical-align: top;\n",
              "    }\n",
              "\n",
              "    .dataframe thead th {\n",
              "        text-align: right;\n",
              "    }\n",
              "</style>\n",
              "<table border=\"1\" class=\"dataframe\">\n",
              "  <thead>\n",
              "    <tr style=\"text-align: right;\">\n",
              "      <th></th>\n",
              "      <th>0</th>\n",
              "      <th>1</th>\n",
              "      <th>2</th>\n",
              "    </tr>\n",
              "  </thead>\n",
              "  <tbody>\n",
              "    <tr>\n",
              "      <th>1</th>\n",
              "      <td>2.0</td>\n",
              "      <td>5.0</td>\n",
              "      <td>8</td>\n",
              "    </tr>\n",
              "  </tbody>\n",
              "</table>\n",
              "</div>"
            ],
            "text/plain": [
              "     0    1  2\n",
              "1  2.0  5.0  8"
            ]
          },
          "execution_count": 14,
          "metadata": {},
          "output_type": "execute_result"
        }
      ],
      "source": [
        "# By the way, dropna() does not directly modify example4 but rather returns a shallow copy\n",
        "example4.dropna()"
      ]
    },
    {
      "cell_type": "markdown",
      "metadata": {},
      "source": [
        "If necessary, you can columns with NA values by assigning `'columns'` to the keyword argument `axis`:"
      ]
    },
    {
      "cell_type": "code",
      "execution_count": 15,
      "metadata": {},
      "outputs": [
        {
          "data": {
            "text/html": [
              "<div>\n",
              "<style scoped>\n",
              "    .dataframe tbody tr th:only-of-type {\n",
              "        vertical-align: middle;\n",
              "    }\n",
              "\n",
              "    .dataframe tbody tr th {\n",
              "        vertical-align: top;\n",
              "    }\n",
              "\n",
              "    .dataframe thead th {\n",
              "        text-align: right;\n",
              "    }\n",
              "</style>\n",
              "<table border=\"1\" class=\"dataframe\">\n",
              "  <thead>\n",
              "    <tr style=\"text-align: right;\">\n",
              "      <th></th>\n",
              "      <th>2</th>\n",
              "    </tr>\n",
              "  </thead>\n",
              "  <tbody>\n",
              "    <tr>\n",
              "      <th>0</th>\n",
              "      <td>7</td>\n",
              "    </tr>\n",
              "    <tr>\n",
              "      <th>1</th>\n",
              "      <td>8</td>\n",
              "    </tr>\n",
              "    <tr>\n",
              "      <th>2</th>\n",
              "      <td>9</td>\n",
              "    </tr>\n",
              "  </tbody>\n",
              "</table>\n",
              "</div>"
            ],
            "text/plain": [
              "   2\n",
              "0  7\n",
              "1  8\n",
              "2  9"
            ]
          },
          "execution_count": 15,
          "metadata": {},
          "output_type": "execute_result"
        }
      ],
      "source": [
        "example4.dropna(axis='columns')"
      ]
    },
    {
      "cell_type": "markdown",
      "metadata": {},
      "source": [
        "Notice that this can drop a lot of data that you might want to keep, particularly in smaller datasets. What if you only want to drop rows or columns that contain several or even all null values? You specify those settings in `dropna` with the `how` and `thresh` parameters. Check out what these parameters do by reading the documentation:"
      ]
    },
    {
      "cell_type": "code",
      "execution_count": 16,
      "metadata": {},
      "outputs": [
        {
          "name": "stdout",
          "output_type": "stream",
          "text": [
            "\u001b[1;31mSignature:\u001b[0m\n",
            "\u001b[0mexample4\u001b[0m\u001b[1;33m.\u001b[0m\u001b[0mdropna\u001b[0m\u001b[1;33m(\u001b[0m\u001b[1;33m\n",
            "\u001b[0m    \u001b[0maxis\u001b[0m\u001b[1;33m:\u001b[0m \u001b[1;34m'Axis'\u001b[0m \u001b[1;33m=\u001b[0m \u001b[1;36m0\u001b[0m\u001b[1;33m,\u001b[0m\u001b[1;33m\n",
            "\u001b[0m    \u001b[0mhow\u001b[0m\u001b[1;33m:\u001b[0m \u001b[1;34m'str'\u001b[0m \u001b[1;33m=\u001b[0m \u001b[1;34m'any'\u001b[0m\u001b[1;33m,\u001b[0m\u001b[1;33m\n",
            "\u001b[0m    \u001b[0mthresh\u001b[0m\u001b[1;33m=\u001b[0m\u001b[1;32mNone\u001b[0m\u001b[1;33m,\u001b[0m\u001b[1;33m\n",
            "\u001b[0m    \u001b[0msubset\u001b[0m\u001b[1;33m=\u001b[0m\u001b[1;32mNone\u001b[0m\u001b[1;33m,\u001b[0m\u001b[1;33m\n",
            "\u001b[0m    \u001b[0minplace\u001b[0m\u001b[1;33m:\u001b[0m \u001b[1;34m'bool'\u001b[0m \u001b[1;33m=\u001b[0m \u001b[1;32mFalse\u001b[0m\u001b[1;33m,\u001b[0m\u001b[1;33m\n",
            "\u001b[0m\u001b[1;33m)\u001b[0m\u001b[1;33m\u001b[0m\u001b[1;33m\u001b[0m\u001b[0m\n",
            "\u001b[1;31mDocstring:\u001b[0m\n",
            "Remove missing values.\n",
            "\n",
            "See the :ref:`User Guide <missing_data>` for more on which values are\n",
            "considered missing, and how to work with missing data.\n",
            "\n",
            "Parameters\n",
            "----------\n",
            "axis : {0 or 'index', 1 or 'columns'}, default 0\n",
            "    Determine if rows or columns which contain missing values are\n",
            "    removed.\n",
            "\n",
            "    * 0, or 'index' : Drop rows which contain missing values.\n",
            "    * 1, or 'columns' : Drop columns which contain missing value.\n",
            "\n",
            "    .. versionchanged:: 1.0.0\n",
            "\n",
            "       Pass tuple or list to drop on multiple axes.\n",
            "       Only a single axis is allowed.\n",
            "\n",
            "how : {'any', 'all'}, default 'any'\n",
            "    Determine if row or column is removed from DataFrame, when we have\n",
            "    at least one NA or all NA.\n",
            "\n",
            "    * 'any' : If any NA values are present, drop that row or column.\n",
            "    * 'all' : If all values are NA, drop that row or column.\n",
            "\n",
            "thresh : int, optional\n",
            "    Require that many non-NA values.\n",
            "subset : array-like, optional\n",
            "    Labels along other axis to consider, e.g. if you are dropping rows\n",
            "    these would be a list of columns to include.\n",
            "inplace : bool, default False\n",
            "    If True, do operation inplace and return None.\n",
            "\n",
            "Returns\n",
            "-------\n",
            "DataFrame or None\n",
            "    DataFrame with NA entries dropped from it or None if ``inplace=True``.\n",
            "\n",
            "See Also\n",
            "--------\n",
            "DataFrame.isna: Indicate missing values.\n",
            "DataFrame.notna : Indicate existing (non-missing) values.\n",
            "DataFrame.fillna : Replace missing values.\n",
            "Series.dropna : Drop missing values.\n",
            "Index.dropna : Drop missing indices.\n",
            "\n",
            "Examples\n",
            "--------\n",
            ">>> df = pd.DataFrame({\"name\": ['Alfred', 'Batman', 'Catwoman'],\n",
            "...                    \"toy\": [np.nan, 'Batmobile', 'Bullwhip'],\n",
            "...                    \"born\": [pd.NaT, pd.Timestamp(\"1940-04-25\"),\n",
            "...                             pd.NaT]})\n",
            ">>> df\n",
            "       name        toy       born\n",
            "0    Alfred        NaN        NaT\n",
            "1    Batman  Batmobile 1940-04-25\n",
            "2  Catwoman   Bullwhip        NaT\n",
            "\n",
            "Drop the rows where at least one element is missing.\n",
            "\n",
            ">>> df.dropna()\n",
            "     name        toy       born\n",
            "1  Batman  Batmobile 1940-04-25\n",
            "\n",
            "Drop the columns where at least one element is missing.\n",
            "\n",
            ">>> df.dropna(axis='columns')\n",
            "       name\n",
            "0    Alfred\n",
            "1    Batman\n",
            "2  Catwoman\n",
            "\n",
            "Drop the rows where all elements are missing.\n",
            "\n",
            ">>> df.dropna(how='all')\n",
            "       name        toy       born\n",
            "0    Alfred        NaN        NaT\n",
            "1    Batman  Batmobile 1940-04-25\n",
            "2  Catwoman   Bullwhip        NaT\n",
            "\n",
            "Keep only the rows with at least 2 non-NA values.\n",
            "\n",
            ">>> df.dropna(thresh=2)\n",
            "       name        toy       born\n",
            "1    Batman  Batmobile 1940-04-25\n",
            "2  Catwoman   Bullwhip        NaT\n",
            "\n",
            "Define in which columns to look for missing values.\n",
            "\n",
            ">>> df.dropna(subset=['name', 'toy'])\n",
            "       name        toy       born\n",
            "1    Batman  Batmobile 1940-04-25\n",
            "2  Catwoman   Bullwhip        NaT\n",
            "\n",
            "Keep the DataFrame with valid entries in the same variable.\n",
            "\n",
            ">>> df.dropna(inplace=True)\n",
            ">>> df\n",
            "     name        toy       born\n",
            "1  Batman  Batmobile 1940-04-25\n",
            "\u001b[1;31mFile:\u001b[0m      d:\\devtools\\python3\\lib\\site-packages\\pandas\\core\\frame.py\n",
            "\u001b[1;31mType:\u001b[0m      method\n"
          ]
        }
      ],
      "source": [
        "# Omit the parenthesis and add a question mark '?' to view info about a function\n",
        "# If you get a warning about output size limit, just follow the link it gives you to get the full text\n",
        "# Note that this only works on Jupyter Notebook code cells\n",
        "example4.dropna?"
      ]
    },
    {
      "cell_type": "code",
      "execution_count": 17,
      "metadata": {},
      "outputs": [
        {
          "name": "stdout",
          "output_type": "stream",
          "text": [
            "Before: \n"
          ]
        },
        {
          "data": {
            "text/html": [
              "<div>\n",
              "<style scoped>\n",
              "    .dataframe tbody tr th:only-of-type {\n",
              "        vertical-align: middle;\n",
              "    }\n",
              "\n",
              "    .dataframe tbody tr th {\n",
              "        vertical-align: top;\n",
              "    }\n",
              "\n",
              "    .dataframe thead th {\n",
              "        text-align: right;\n",
              "    }\n",
              "</style>\n",
              "<table border=\"1\" class=\"dataframe\">\n",
              "  <thead>\n",
              "    <tr style=\"text-align: right;\">\n",
              "      <th></th>\n",
              "      <th>0</th>\n",
              "      <th>1</th>\n",
              "      <th>2</th>\n",
              "      <th>3</th>\n",
              "    </tr>\n",
              "  </thead>\n",
              "  <tbody>\n",
              "    <tr>\n",
              "      <th>0</th>\n",
              "      <td>1.0</td>\n",
              "      <td>NaN</td>\n",
              "      <td>7</td>\n",
              "      <td>NaN</td>\n",
              "    </tr>\n",
              "    <tr>\n",
              "      <th>1</th>\n",
              "      <td>2.0</td>\n",
              "      <td>5.0</td>\n",
              "      <td>8</td>\n",
              "      <td>NaN</td>\n",
              "    </tr>\n",
              "    <tr>\n",
              "      <th>2</th>\n",
              "      <td>NaN</td>\n",
              "      <td>6.0</td>\n",
              "      <td>9</td>\n",
              "      <td>NaN</td>\n",
              "    </tr>\n",
              "  </tbody>\n",
              "</table>\n",
              "</div>"
            ],
            "text/plain": [
              "     0    1  2   3\n",
              "0  1.0  NaN  7 NaN\n",
              "1  2.0  5.0  8 NaN\n",
              "2  NaN  6.0  9 NaN"
            ]
          },
          "metadata": {},
          "output_type": "display_data"
        },
        {
          "name": "stdout",
          "output_type": "stream",
          "text": [
            "After: \n"
          ]
        },
        {
          "data": {
            "text/html": [
              "<div>\n",
              "<style scoped>\n",
              "    .dataframe tbody tr th:only-of-type {\n",
              "        vertical-align: middle;\n",
              "    }\n",
              "\n",
              "    .dataframe tbody tr th {\n",
              "        vertical-align: top;\n",
              "    }\n",
              "\n",
              "    .dataframe thead th {\n",
              "        text-align: right;\n",
              "    }\n",
              "</style>\n",
              "<table border=\"1\" class=\"dataframe\">\n",
              "  <thead>\n",
              "    <tr style=\"text-align: right;\">\n",
              "      <th></th>\n",
              "      <th>0</th>\n",
              "      <th>1</th>\n",
              "      <th>2</th>\n",
              "    </tr>\n",
              "  </thead>\n",
              "  <tbody>\n",
              "    <tr>\n",
              "      <th>0</th>\n",
              "      <td>1.0</td>\n",
              "      <td>NaN</td>\n",
              "      <td>7</td>\n",
              "    </tr>\n",
              "    <tr>\n",
              "      <th>1</th>\n",
              "      <td>2.0</td>\n",
              "      <td>5.0</td>\n",
              "      <td>8</td>\n",
              "    </tr>\n",
              "    <tr>\n",
              "      <th>2</th>\n",
              "      <td>NaN</td>\n",
              "      <td>6.0</td>\n",
              "      <td>9</td>\n",
              "    </tr>\n",
              "  </tbody>\n",
              "</table>\n",
              "</div>"
            ],
            "text/plain": [
              "     0    1  2\n",
              "0  1.0  NaN  7\n",
              "1  2.0  5.0  8\n",
              "2  NaN  6.0  9"
            ]
          },
          "execution_count": 17,
          "metadata": {},
          "output_type": "execute_result"
        }
      ],
      "source": [
        "# Only drop columns that are composed entirely of nulls\n",
        "\n",
        "example4[3] = np.nan\n",
        "print(\"Before: \")\n",
        "display(example4) #display() is just a nicer version of print() intended for Notebooks\n",
        "print(\"After: \")\n",
        "# Sometimes you will see 0 or 1 passed into the axis argument, 0 means rows and 1 means columns\n",
        "example4.dropna(axis=1, how='all')"
      ]
    },
    {
      "cell_type": "markdown",
      "metadata": {},
      "source": [
        "The `thresh` parameter gives you finer-grained control: you set the number of *non-null* values that a row or column needs to have to be kept."
      ]
    },
    {
      "cell_type": "markdown",
      "metadata": {},
      "source": [
        "### Exercise:"
      ]
    },
    {
      "cell_type": "code",
      "execution_count": 18,
      "metadata": {},
      "outputs": [
        {
          "data": {
            "text/html": [
              "<div>\n",
              "<style scoped>\n",
              "    .dataframe tbody tr th:only-of-type {\n",
              "        vertical-align: middle;\n",
              "    }\n",
              "\n",
              "    .dataframe tbody tr th {\n",
              "        vertical-align: top;\n",
              "    }\n",
              "\n",
              "    .dataframe thead th {\n",
              "        text-align: right;\n",
              "    }\n",
              "</style>\n",
              "<table border=\"1\" class=\"dataframe\">\n",
              "  <thead>\n",
              "    <tr style=\"text-align: right;\">\n",
              "      <th></th>\n",
              "      <th>0</th>\n",
              "      <th>1</th>\n",
              "      <th>2</th>\n",
              "    </tr>\n",
              "  </thead>\n",
              "  <tbody>\n",
              "    <tr>\n",
              "      <th>0</th>\n",
              "      <td>Title #0</td>\n",
              "      <td>NaN</td>\n",
              "      <td>7</td>\n",
              "    </tr>\n",
              "    <tr>\n",
              "      <th>1</th>\n",
              "      <td>Title #1</td>\n",
              "      <td>NaN</td>\n",
              "      <td>8</td>\n",
              "    </tr>\n",
              "    <tr>\n",
              "      <th>2</th>\n",
              "      <td>None</td>\n",
              "      <td>6.0</td>\n",
              "      <td>9</td>\n",
              "    </tr>\n",
              "  </tbody>\n",
              "</table>\n",
              "</div>"
            ],
            "text/plain": [
              "          0    1  2\n",
              "0  Title #0  NaN  7\n",
              "1  Title #1  NaN  8\n",
              "2      None  6.0  9"
            ]
          },
          "metadata": {},
          "output_type": "display_data"
        }
      ],
      "source": [
        "# Consult the documentation for dropna(),\n",
        "# Keep columns that have a minimum of 2 valid values, drop the rest\n",
        "# Hint: You need to use the axis and thresh parameters\n",
        "\n",
        "dirtyFrame = pd.DataFrame([['Title #0',      np.nan, 7], \n",
        "                         ['Title #1',      np.nan,      8], \n",
        "                         [None, 6,      9]])\n",
        "display(dirtyFrame)\n",
        "# Add your code after this comment!"
      ]
    },
    {
      "cell_type": "markdown",
      "metadata": {},
      "source": [
        "### Filling null values\n",
        "\n",
        "Depending on your dataset, it can sometimes make more sense to fill null values with valid ones rather than drop them. Because this is such a common task in data science, pandas provides `fillna`, which returns a copy of the `Series` or `DataFrame` with the missing values replaced with one of your choosing. Let's create another example `Series` to see how this works in practice."
      ]
    },
    {
      "cell_type": "code",
      "execution_count": 19,
      "metadata": {},
      "outputs": [
        {
          "data": {
            "text/plain": [
              "a    1.0\n",
              "b    NaN\n",
              "c    2.0\n",
              "d    NaN\n",
              "e    3.0\n",
              "dtype: float64"
            ]
          },
          "execution_count": 19,
          "metadata": {},
          "output_type": "execute_result"
        }
      ],
      "source": [
        "example5 = pd.Series([1, np.nan, 2, None, 3], index=list('abcde'))\n",
        "example5"
      ]
    },
    {
      "cell_type": "markdown",
      "metadata": {},
      "source": [
        "You can fill the null entries with a single value, such as `0`:"
      ]
    },
    {
      "cell_type": "code",
      "execution_count": 20,
      "metadata": {},
      "outputs": [
        {
          "data": {
            "text/plain": [
              "a    1.0\n",
              "b    0.0\n",
              "c    2.0\n",
              "d    0.0\n",
              "e    3.0\n",
              "dtype: float64"
            ]
          },
          "execution_count": 20,
          "metadata": {},
          "output_type": "execute_result"
        }
      ],
      "source": [
        "example5.fillna(0)"
      ]
    },
    {
      "cell_type": "markdown",
      "metadata": {},
      "source": [
        "You can **forward-fill** null values, which is to use the last valid value to fill a null:"
      ]
    },
    {
      "cell_type": "code",
      "execution_count": 21,
      "metadata": {},
      "outputs": [
        {
          "data": {
            "text/plain": [
              "a    1.0\n",
              "b    1.0\n",
              "c    2.0\n",
              "d    2.0\n",
              "e    3.0\n",
              "dtype: float64"
            ]
          },
          "execution_count": 21,
          "metadata": {},
          "output_type": "execute_result"
        }
      ],
      "source": [
        "example5.fillna(method='ffill')"
      ]
    },
    {
      "cell_type": "markdown",
      "metadata": {},
      "source": [
        "You can also **back-fill** to propagate the next valid value backward to fill a null:"
      ]
    },
    {
      "cell_type": "code",
      "execution_count": 22,
      "metadata": {},
      "outputs": [
        {
          "data": {
            "text/plain": [
              "a    1.0\n",
              "b    2.0\n",
              "c    2.0\n",
              "d    3.0\n",
              "e    3.0\n",
              "dtype: float64"
            ]
          },
          "execution_count": 22,
          "metadata": {},
          "output_type": "execute_result"
        }
      ],
      "source": [
        "example5.fillna(method='bfill')"
      ]
    },
    {
      "cell_type": "markdown",
      "metadata": {
        "collapsed": true
      },
      "source": [
        "As you might guess, this works the same with `DataFrame`s, but you can also specify an `axis` along which to fill null values:"
      ]
    },
    {
      "cell_type": "code",
      "execution_count": 23,
      "metadata": {},
      "outputs": [
        {
          "data": {
            "text/html": [
              "<div>\n",
              "<style scoped>\n",
              "    .dataframe tbody tr th:only-of-type {\n",
              "        vertical-align: middle;\n",
              "    }\n",
              "\n",
              "    .dataframe tbody tr th {\n",
              "        vertical-align: top;\n",
              "    }\n",
              "\n",
              "    .dataframe thead th {\n",
              "        text-align: right;\n",
              "    }\n",
              "</style>\n",
              "<table border=\"1\" class=\"dataframe\">\n",
              "  <thead>\n",
              "    <tr style=\"text-align: right;\">\n",
              "      <th></th>\n",
              "      <th>0</th>\n",
              "      <th>1</th>\n",
              "      <th>2</th>\n",
              "      <th>3</th>\n",
              "    </tr>\n",
              "  </thead>\n",
              "  <tbody>\n",
              "    <tr>\n",
              "      <th>0</th>\n",
              "      <td>1.0</td>\n",
              "      <td>NaN</td>\n",
              "      <td>7</td>\n",
              "      <td>NaN</td>\n",
              "    </tr>\n",
              "    <tr>\n",
              "      <th>1</th>\n",
              "      <td>2.0</td>\n",
              "      <td>5.0</td>\n",
              "      <td>8</td>\n",
              "      <td>NaN</td>\n",
              "    </tr>\n",
              "    <tr>\n",
              "      <th>2</th>\n",
              "      <td>NaN</td>\n",
              "      <td>6.0</td>\n",
              "      <td>9</td>\n",
              "      <td>NaN</td>\n",
              "    </tr>\n",
              "  </tbody>\n",
              "</table>\n",
              "</div>"
            ],
            "text/plain": [
              "     0    1  2   3\n",
              "0  1.0  NaN  7 NaN\n",
              "1  2.0  5.0  8 NaN\n",
              "2  NaN  6.0  9 NaN"
            ]
          },
          "execution_count": 23,
          "metadata": {},
          "output_type": "execute_result"
        }
      ],
      "source": [
        "example4"
      ]
    },
    {
      "cell_type": "code",
      "execution_count": 24,
      "metadata": {},
      "outputs": [
        {
          "data": {
            "text/html": [
              "<div>\n",
              "<style scoped>\n",
              "    .dataframe tbody tr th:only-of-type {\n",
              "        vertical-align: middle;\n",
              "    }\n",
              "\n",
              "    .dataframe tbody tr th {\n",
              "        vertical-align: top;\n",
              "    }\n",
              "\n",
              "    .dataframe thead th {\n",
              "        text-align: right;\n",
              "    }\n",
              "</style>\n",
              "<table border=\"1\" class=\"dataframe\">\n",
              "  <thead>\n",
              "    <tr style=\"text-align: right;\">\n",
              "      <th></th>\n",
              "      <th>0</th>\n",
              "      <th>1</th>\n",
              "      <th>2</th>\n",
              "      <th>3</th>\n",
              "    </tr>\n",
              "  </thead>\n",
              "  <tbody>\n",
              "    <tr>\n",
              "      <th>0</th>\n",
              "      <td>1.0</td>\n",
              "      <td>1.0</td>\n",
              "      <td>7.0</td>\n",
              "      <td>7.0</td>\n",
              "    </tr>\n",
              "    <tr>\n",
              "      <th>1</th>\n",
              "      <td>2.0</td>\n",
              "      <td>5.0</td>\n",
              "      <td>8.0</td>\n",
              "      <td>8.0</td>\n",
              "    </tr>\n",
              "    <tr>\n",
              "      <th>2</th>\n",
              "      <td>NaN</td>\n",
              "      <td>6.0</td>\n",
              "      <td>9.0</td>\n",
              "      <td>9.0</td>\n",
              "    </tr>\n",
              "  </tbody>\n",
              "</table>\n",
              "</div>"
            ],
            "text/plain": [
              "     0    1    2    3\n",
              "0  1.0  1.0  7.0  7.0\n",
              "1  2.0  5.0  8.0  8.0\n",
              "2  NaN  6.0  9.0  9.0"
            ]
          },
          "execution_count": 24,
          "metadata": {},
          "output_type": "execute_result"
        }
      ],
      "source": [
        "example4.fillna(method='ffill', axis='columns')"
      ]
    },
    {
      "cell_type": "markdown",
      "metadata": {},
      "source": [
        "Notice that when a previous value is not available for forward-filling, the null value remains.\n",
        "\n",
        "When the `axis` parameter is specified as `'columns'`, `fillna()` checks the cells along a column for nulls. If it encounters a null it retrieves the previous value from the column that came before it."
      ]
    },
    {
      "cell_type": "markdown",
      "metadata": {},
      "source": [
        "You can be creative about how you use `fillna`. For example, let's look at `example4` again, but this time fill the missing values with the average of all the values in the `DataFrame`:"
      ]
    },
    {
      "cell_type": "code",
      "execution_count": 25,
      "metadata": {},
      "outputs": [
        {
          "data": {
            "text/html": [
              "<div>\n",
              "<style scoped>\n",
              "    .dataframe tbody tr th:only-of-type {\n",
              "        vertical-align: middle;\n",
              "    }\n",
              "\n",
              "    .dataframe tbody tr th {\n",
              "        vertical-align: top;\n",
              "    }\n",
              "\n",
              "    .dataframe thead th {\n",
              "        text-align: right;\n",
              "    }\n",
              "</style>\n",
              "<table border=\"1\" class=\"dataframe\">\n",
              "  <thead>\n",
              "    <tr style=\"text-align: right;\">\n",
              "      <th></th>\n",
              "      <th>0</th>\n",
              "      <th>1</th>\n",
              "      <th>2</th>\n",
              "      <th>3</th>\n",
              "    </tr>\n",
              "  </thead>\n",
              "  <tbody>\n",
              "    <tr>\n",
              "      <th>0</th>\n",
              "      <td>1.0</td>\n",
              "      <td>5.5</td>\n",
              "      <td>7</td>\n",
              "      <td>NaN</td>\n",
              "    </tr>\n",
              "    <tr>\n",
              "      <th>1</th>\n",
              "      <td>2.0</td>\n",
              "      <td>5.0</td>\n",
              "      <td>8</td>\n",
              "      <td>NaN</td>\n",
              "    </tr>\n",
              "    <tr>\n",
              "      <th>2</th>\n",
              "      <td>1.5</td>\n",
              "      <td>6.0</td>\n",
              "      <td>9</td>\n",
              "      <td>NaN</td>\n",
              "    </tr>\n",
              "  </tbody>\n",
              "</table>\n",
              "</div>"
            ],
            "text/plain": [
              "     0    1  2   3\n",
              "0  1.0  5.5  7 NaN\n",
              "1  2.0  5.0  8 NaN\n",
              "2  1.5  6.0  9 NaN"
            ]
          },
          "execution_count": 25,
          "metadata": {},
          "output_type": "execute_result"
        }
      ],
      "source": [
        "example4.fillna(example4.mean())"
      ]
    },
    {
      "cell_type": "markdown",
      "metadata": {},
      "source": [
        "Notice that column 3 is still valueless: the default direction is to fill values row-wise.\n",
        "\n",
        "> **Takeaway:** There are multiple ways to deal with missing values in your datasets. The specific strategy you use (removing them, replacing them, or even how you replace them) should be dictated by the particulars of that data. You will develop a better sense of how to deal with missing values the more you handle and interact with datasets."
      ]
    },
    {
      "cell_type": "markdown",
      "metadata": {},
      "source": [
        "## Removing duplicate data\n",
        "\n",
        "In addition to missing data, you will often encounter duplicated data in real world datasets. Fortunately, pandas provides an easy means of detecting and removing duplicate entries."
      ]
    },
    {
      "cell_type": "markdown",
      "metadata": {},
      "source": [
        "### Identifying duplicates: `duplicated`\n",
        "\n",
        "You can easily spot duplicate values using the `duplicated` method in pandas, which returns a Boolean mask indicating whether an entry in a `DataFrame` is a duplicate of an earlier one. Let's create another example `DataFrame` to see this in action."
      ]
    },
    {
      "cell_type": "code",
      "execution_count": 26,
      "metadata": {},
      "outputs": [
        {
          "data": {
            "text/html": [
              "<div>\n",
              "<style scoped>\n",
              "    .dataframe tbody tr th:only-of-type {\n",
              "        vertical-align: middle;\n",
              "    }\n",
              "\n",
              "    .dataframe tbody tr th {\n",
              "        vertical-align: top;\n",
              "    }\n",
              "\n",
              "    .dataframe thead th {\n",
              "        text-align: right;\n",
              "    }\n",
              "</style>\n",
              "<table border=\"1\" class=\"dataframe\">\n",
              "  <thead>\n",
              "    <tr style=\"text-align: right;\">\n",
              "      <th></th>\n",
              "      <th>letters</th>\n",
              "      <th>numbers</th>\n",
              "    </tr>\n",
              "  </thead>\n",
              "  <tbody>\n",
              "    <tr>\n",
              "      <th>0</th>\n",
              "      <td>A</td>\n",
              "      <td>1</td>\n",
              "    </tr>\n",
              "    <tr>\n",
              "      <th>1</th>\n",
              "      <td>B</td>\n",
              "      <td>2</td>\n",
              "    </tr>\n",
              "    <tr>\n",
              "      <th>2</th>\n",
              "      <td>A</td>\n",
              "      <td>1</td>\n",
              "    </tr>\n",
              "    <tr>\n",
              "      <th>3</th>\n",
              "      <td>B</td>\n",
              "      <td>3</td>\n",
              "    </tr>\n",
              "    <tr>\n",
              "      <th>4</th>\n",
              "      <td>B</td>\n",
              "      <td>3</td>\n",
              "    </tr>\n",
              "  </tbody>\n",
              "</table>\n",
              "</div>"
            ],
            "text/plain": [
              "  letters  numbers\n",
              "0       A        1\n",
              "1       B        2\n",
              "2       A        1\n",
              "3       B        3\n",
              "4       B        3"
            ]
          },
          "execution_count": 26,
          "metadata": {},
          "output_type": "execute_result"
        }
      ],
      "source": [
        "example6 = pd.DataFrame({'letters': ['A','B'] * 2 + ['B'],\n",
        "                         'numbers': [1, 2, 1, 3, 3]})\n",
        "example6"
      ]
    },
    {
      "cell_type": "code",
      "execution_count": 27,
      "metadata": {},
      "outputs": [
        {
          "data": {
            "text/plain": [
              "0    False\n",
              "1    False\n",
              "2     True\n",
              "3    False\n",
              "4     True\n",
              "dtype: bool"
            ]
          },
          "execution_count": 27,
          "metadata": {},
          "output_type": "execute_result"
        }
      ],
      "source": [
        "example6.duplicated()"
      ]
    },
    {
      "cell_type": "markdown",
      "metadata": {},
      "source": [
        "### Dropping duplicates: `drop_duplicates`\n",
        "`drop_duplicates` simply returns a copy of the data for which all the `duplicated` values are `False`:"
      ]
    },
    {
      "cell_type": "code",
      "execution_count": 28,
      "metadata": {},
      "outputs": [
        {
          "data": {
            "text/html": [
              "<div>\n",
              "<style scoped>\n",
              "    .dataframe tbody tr th:only-of-type {\n",
              "        vertical-align: middle;\n",
              "    }\n",
              "\n",
              "    .dataframe tbody tr th {\n",
              "        vertical-align: top;\n",
              "    }\n",
              "\n",
              "    .dataframe thead th {\n",
              "        text-align: right;\n",
              "    }\n",
              "</style>\n",
              "<table border=\"1\" class=\"dataframe\">\n",
              "  <thead>\n",
              "    <tr style=\"text-align: right;\">\n",
              "      <th></th>\n",
              "      <th>letters</th>\n",
              "      <th>numbers</th>\n",
              "    </tr>\n",
              "  </thead>\n",
              "  <tbody>\n",
              "    <tr>\n",
              "      <th>0</th>\n",
              "      <td>A</td>\n",
              "      <td>1</td>\n",
              "    </tr>\n",
              "    <tr>\n",
              "      <th>1</th>\n",
              "      <td>B</td>\n",
              "      <td>2</td>\n",
              "    </tr>\n",
              "    <tr>\n",
              "      <th>3</th>\n",
              "      <td>B</td>\n",
              "      <td>3</td>\n",
              "    </tr>\n",
              "  </tbody>\n",
              "</table>\n",
              "</div>"
            ],
            "text/plain": [
              "  letters  numbers\n",
              "0       A        1\n",
              "1       B        2\n",
              "3       B        3"
            ]
          },
          "execution_count": 28,
          "metadata": {},
          "output_type": "execute_result"
        }
      ],
      "source": [
        "example6.drop_duplicates()"
      ]
    },
    {
      "cell_type": "markdown",
      "metadata": {},
      "source": [
        "Both `duplicated` and `drop_duplicates` default to consider all columns but you can specify that they examine only a subset of columns in your `DataFrame`:"
      ]
    },
    {
      "cell_type": "code",
      "execution_count": 29,
      "metadata": {},
      "outputs": [
        {
          "data": {
            "text/html": [
              "<div>\n",
              "<style scoped>\n",
              "    .dataframe tbody tr th:only-of-type {\n",
              "        vertical-align: middle;\n",
              "    }\n",
              "\n",
              "    .dataframe tbody tr th {\n",
              "        vertical-align: top;\n",
              "    }\n",
              "\n",
              "    .dataframe thead th {\n",
              "        text-align: right;\n",
              "    }\n",
              "</style>\n",
              "<table border=\"1\" class=\"dataframe\">\n",
              "  <thead>\n",
              "    <tr style=\"text-align: right;\">\n",
              "      <th></th>\n",
              "      <th>letters</th>\n",
              "      <th>numbers</th>\n",
              "    </tr>\n",
              "  </thead>\n",
              "  <tbody>\n",
              "    <tr>\n",
              "      <th>0</th>\n",
              "      <td>A</td>\n",
              "      <td>1</td>\n",
              "    </tr>\n",
              "    <tr>\n",
              "      <th>1</th>\n",
              "      <td>B</td>\n",
              "      <td>2</td>\n",
              "    </tr>\n",
              "  </tbody>\n",
              "</table>\n",
              "</div>"
            ],
            "text/plain": [
              "  letters  numbers\n",
              "0       A        1\n",
              "1       B        2"
            ]
          },
          "execution_count": 29,
          "metadata": {},
          "output_type": "execute_result"
        }
      ],
      "source": [
        "example6.drop_duplicates(['letters'])"
      ]
    },
    {
      "cell_type": "markdown",
      "metadata": {},
      "source": [
        "## Combining datasets: merge and join\n",
        "\n",
        "> **Learning goal:** By the end of this subsection, you should have a general knowledge of the various ways to combine `DataFrame`s.\n",
        "\n",
        "Your most interesting analyses often comes from data melded together from more than one source. Pandas provides several methods of merging and joining datasets to make this necessary job easier:\n",
        " - **`pandas.merge`** connects rows in `DataFrame`s based on one or more keys.\n",
        " - **`pandas.concat`** concatenates or “stacks” together objects along an axis.\n",
        " - The **`combine_first`** instance method enables you to splice together overlapping data to fill in missing values in one object with values from another.\n",
        "\n",
        "Let's examine merging data first, because it will be the most familiar to anyone already familiar with SQL or other relational databases."
      ]
    },
    {
      "cell_type": "markdown",
      "metadata": {},
      "source": [
        "### Categories of joins\n",
        "\n",
        "`merge` carries out several types of joins: *one-to-one*, *many-to-one*, and *many-to-many*. You use the same basic function call to implement all of them and you will examine all three (because you will need all three at some point in your data-delving, depending on the data). You will start with one-to-one joins because they are generally the simplest."
      ]
    },
    {
      "cell_type": "markdown",
      "metadata": {},
      "source": [
        "#### One-to-one joins\n",
        "\n",
        "Consider combining two `DataFrame`s that contain different information about the same employees in a company:"
      ]
    },
    {
      "cell_type": "code",
      "execution_count": 30,
      "metadata": {},
      "outputs": [
        {
          "data": {
            "text/html": [
              "<div>\n",
              "<style scoped>\n",
              "    .dataframe tbody tr th:only-of-type {\n",
              "        vertical-align: middle;\n",
              "    }\n",
              "\n",
              "    .dataframe tbody tr th {\n",
              "        vertical-align: top;\n",
              "    }\n",
              "\n",
              "    .dataframe thead th {\n",
              "        text-align: right;\n",
              "    }\n",
              "</style>\n",
              "<table border=\"1\" class=\"dataframe\">\n",
              "  <thead>\n",
              "    <tr style=\"text-align: right;\">\n",
              "      <th></th>\n",
              "      <th>employee</th>\n",
              "      <th>group</th>\n",
              "    </tr>\n",
              "  </thead>\n",
              "  <tbody>\n",
              "    <tr>\n",
              "      <th>0</th>\n",
              "      <td>Amin</td>\n",
              "      <td>R&amp;D</td>\n",
              "    </tr>\n",
              "    <tr>\n",
              "      <th>1</th>\n",
              "      <td>Amel</td>\n",
              "      <td>Marketing</td>\n",
              "    </tr>\n",
              "    <tr>\n",
              "      <th>2</th>\n",
              "      <td>Maissa</td>\n",
              "      <td>Marketing</td>\n",
              "    </tr>\n",
              "    <tr>\n",
              "      <th>3</th>\n",
              "      <td>Yassine</td>\n",
              "      <td>HR</td>\n",
              "    </tr>\n",
              "  </tbody>\n",
              "</table>\n",
              "</div>"
            ],
            "text/plain": [
              "  employee      group\n",
              "0     Amin        R&D\n",
              "1     Amel  Marketing\n",
              "2   Maissa  Marketing\n",
              "3  Yassine         HR"
            ]
          },
          "execution_count": 30,
          "metadata": {},
          "output_type": "execute_result"
        }
      ],
      "source": [
        "df1 = pd.DataFrame({'employee': ['Amin', 'Amel', 'Maissa', 'Yassine'],\n",
        "                    'group': ['R&D', 'Marketing', 'Marketing', 'HR']})\n",
        "df1"
      ]
    },
    {
      "cell_type": "code",
      "execution_count": 31,
      "metadata": {},
      "outputs": [
        {
          "data": {
            "text/html": [
              "<div>\n",
              "<style scoped>\n",
              "    .dataframe tbody tr th:only-of-type {\n",
              "        vertical-align: middle;\n",
              "    }\n",
              "\n",
              "    .dataframe tbody tr th {\n",
              "        vertical-align: top;\n",
              "    }\n",
              "\n",
              "    .dataframe thead th {\n",
              "        text-align: right;\n",
              "    }\n",
              "</style>\n",
              "<table border=\"1\" class=\"dataframe\">\n",
              "  <thead>\n",
              "    <tr style=\"text-align: right;\">\n",
              "      <th></th>\n",
              "      <th>employee</th>\n",
              "      <th>hire_date</th>\n",
              "    </tr>\n",
              "  </thead>\n",
              "  <tbody>\n",
              "    <tr>\n",
              "      <th>0</th>\n",
              "      <td>Amin</td>\n",
              "      <td>2008</td>\n",
              "    </tr>\n",
              "    <tr>\n",
              "      <th>1</th>\n",
              "      <td>Amel</td>\n",
              "      <td>2012</td>\n",
              "    </tr>\n",
              "    <tr>\n",
              "      <th>2</th>\n",
              "      <td>Maissa</td>\n",
              "      <td>2017</td>\n",
              "    </tr>\n",
              "    <tr>\n",
              "      <th>3</th>\n",
              "      <td>Yassine</td>\n",
              "      <td>2018</td>\n",
              "    </tr>\n",
              "  </tbody>\n",
              "</table>\n",
              "</div>"
            ],
            "text/plain": [
              "  employee  hire_date\n",
              "0     Amin       2008\n",
              "1     Amel       2012\n",
              "2   Maissa       2017\n",
              "3  Yassine       2018"
            ]
          },
          "execution_count": 31,
          "metadata": {},
          "output_type": "execute_result"
        }
      ],
      "source": [
        "df2 = pd.DataFrame({'employee': ['Amin', 'Amel', 'Maissa', 'Yassine'],\n",
        "                    'hire_date': [2008, 2012, 2017, 2018]})\n",
        "df2"
      ]
    },
    {
      "cell_type": "markdown",
      "metadata": {},
      "source": [
        "Combine this information into a single `DataFrame` using the `merge` function:"
      ]
    },
    {
      "cell_type": "code",
      "execution_count": 32,
      "metadata": {},
      "outputs": [
        {
          "data": {
            "text/html": [
              "<div>\n",
              "<style scoped>\n",
              "    .dataframe tbody tr th:only-of-type {\n",
              "        vertical-align: middle;\n",
              "    }\n",
              "\n",
              "    .dataframe tbody tr th {\n",
              "        vertical-align: top;\n",
              "    }\n",
              "\n",
              "    .dataframe thead th {\n",
              "        text-align: right;\n",
              "    }\n",
              "</style>\n",
              "<table border=\"1\" class=\"dataframe\">\n",
              "  <thead>\n",
              "    <tr style=\"text-align: right;\">\n",
              "      <th></th>\n",
              "      <th>employee</th>\n",
              "      <th>group</th>\n",
              "      <th>hire_date</th>\n",
              "    </tr>\n",
              "  </thead>\n",
              "  <tbody>\n",
              "    <tr>\n",
              "      <th>0</th>\n",
              "      <td>Amin</td>\n",
              "      <td>R&amp;D</td>\n",
              "      <td>2008</td>\n",
              "    </tr>\n",
              "    <tr>\n",
              "      <th>1</th>\n",
              "      <td>Amel</td>\n",
              "      <td>Marketing</td>\n",
              "      <td>2012</td>\n",
              "    </tr>\n",
              "    <tr>\n",
              "      <th>2</th>\n",
              "      <td>Maissa</td>\n",
              "      <td>Marketing</td>\n",
              "      <td>2017</td>\n",
              "    </tr>\n",
              "    <tr>\n",
              "      <th>3</th>\n",
              "      <td>Yassine</td>\n",
              "      <td>HR</td>\n",
              "      <td>2018</td>\n",
              "    </tr>\n",
              "  </tbody>\n",
              "</table>\n",
              "</div>"
            ],
            "text/plain": [
              "  employee      group  hire_date\n",
              "0     Amin        R&D       2008\n",
              "1     Amel  Marketing       2012\n",
              "2   Maissa  Marketing       2017\n",
              "3  Yassine         HR       2018"
            ]
          },
          "execution_count": 32,
          "metadata": {},
          "output_type": "execute_result"
        }
      ],
      "source": [
        "df3 = pd.merge(df1, df2)\n",
        "df3"
      ]
    },
    {
      "cell_type": "markdown",
      "metadata": {},
      "source": [
        "Pandas joined on the `employee` column because it was the only column common to both `df1` and `df2` (note that the original indices of `df1` and `df2` were discarded by `merge`; this is generally the case with merges unless you conduct them by index, which you will learn later)."
      ]
    },
    {
      "cell_type": "markdown",
      "metadata": {},
      "source": [
        "#### Many-to-one joins\n",
        "\n",
        "A many-to-one join is like a one-to-one join except that one of the two key columns contains duplicate entries. The `DataFrame` resulting from such a join will preserve those duplicate entries as appropriate:"
      ]
    },
    {
      "cell_type": "code",
      "execution_count": 33,
      "metadata": {},
      "outputs": [
        {
          "data": {
            "text/html": [
              "<div>\n",
              "<style scoped>\n",
              "    .dataframe tbody tr th:only-of-type {\n",
              "        vertical-align: middle;\n",
              "    }\n",
              "\n",
              "    .dataframe tbody tr th {\n",
              "        vertical-align: top;\n",
              "    }\n",
              "\n",
              "    .dataframe thead th {\n",
              "        text-align: right;\n",
              "    }\n",
              "</style>\n",
              "<table border=\"1\" class=\"dataframe\">\n",
              "  <thead>\n",
              "    <tr style=\"text-align: right;\">\n",
              "      <th></th>\n",
              "      <th>group</th>\n",
              "      <th>supervisor</th>\n",
              "    </tr>\n",
              "  </thead>\n",
              "  <tbody>\n",
              "    <tr>\n",
              "      <th>0</th>\n",
              "      <td>R&amp;D</td>\n",
              "      <td>Dhia</td>\n",
              "    </tr>\n",
              "    <tr>\n",
              "      <th>1</th>\n",
              "      <td>Marketing</td>\n",
              "      <td>Chiraz</td>\n",
              "    </tr>\n",
              "    <tr>\n",
              "      <th>2</th>\n",
              "      <td>HR</td>\n",
              "      <td>Baha</td>\n",
              "    </tr>\n",
              "  </tbody>\n",
              "</table>\n",
              "</div>"
            ],
            "text/plain": [
              "       group supervisor\n",
              "0        R&D       Dhia\n",
              "1  Marketing     Chiraz\n",
              "2         HR       Baha"
            ]
          },
          "execution_count": 33,
          "metadata": {},
          "output_type": "execute_result"
        }
      ],
      "source": [
        "df4 = pd.DataFrame({'group': ['R&D', 'Marketing', 'HR'],\n",
        "                    'supervisor': ['Dhia', 'Chiraz', 'Baha']})\n",
        "df4"
      ]
    },
    {
      "cell_type": "code",
      "execution_count": 34,
      "metadata": {},
      "outputs": [
        {
          "data": {
            "text/html": [
              "<div>\n",
              "<style scoped>\n",
              "    .dataframe tbody tr th:only-of-type {\n",
              "        vertical-align: middle;\n",
              "    }\n",
              "\n",
              "    .dataframe tbody tr th {\n",
              "        vertical-align: top;\n",
              "    }\n",
              "\n",
              "    .dataframe thead th {\n",
              "        text-align: right;\n",
              "    }\n",
              "</style>\n",
              "<table border=\"1\" class=\"dataframe\">\n",
              "  <thead>\n",
              "    <tr style=\"text-align: right;\">\n",
              "      <th></th>\n",
              "      <th>employee</th>\n",
              "      <th>group</th>\n",
              "      <th>hire_date</th>\n",
              "      <th>supervisor</th>\n",
              "    </tr>\n",
              "  </thead>\n",
              "  <tbody>\n",
              "    <tr>\n",
              "      <th>0</th>\n",
              "      <td>Amin</td>\n",
              "      <td>R&amp;D</td>\n",
              "      <td>2008</td>\n",
              "      <td>Dhia</td>\n",
              "    </tr>\n",
              "    <tr>\n",
              "      <th>1</th>\n",
              "      <td>Amel</td>\n",
              "      <td>Marketing</td>\n",
              "      <td>2012</td>\n",
              "      <td>Chiraz</td>\n",
              "    </tr>\n",
              "    <tr>\n",
              "      <th>2</th>\n",
              "      <td>Maissa</td>\n",
              "      <td>Marketing</td>\n",
              "      <td>2017</td>\n",
              "      <td>Chiraz</td>\n",
              "    </tr>\n",
              "    <tr>\n",
              "      <th>3</th>\n",
              "      <td>Yassine</td>\n",
              "      <td>HR</td>\n",
              "      <td>2018</td>\n",
              "      <td>Baha</td>\n",
              "    </tr>\n",
              "  </tbody>\n",
              "</table>\n",
              "</div>"
            ],
            "text/plain": [
              "  employee      group  hire_date supervisor\n",
              "0     Amin        R&D       2008       Dhia\n",
              "1     Amel  Marketing       2012     Chiraz\n",
              "2   Maissa  Marketing       2017     Chiraz\n",
              "3  Yassine         HR       2018       Baha"
            ]
          },
          "execution_count": 34,
          "metadata": {},
          "output_type": "execute_result"
        }
      ],
      "source": [
        "pd.merge(df3, df4)"
      ]
    },
    {
      "cell_type": "markdown",
      "metadata": {},
      "source": [
        "The resulting `DataFrame` has an additional column for `supervisor`; that column has an extra occurrence of 'Chiraz' that did not occur in `df4` because more than one employee in the merged `DataFrame` works in the 'Marketing' group.\n",
        "\n",
        "Note that you didn’t specify which column to join. When you don't specify that information, `merge` uses the overlapping column names as the keys. However, that can be ambiguous; several columns might meet that condition. For that reason, it is a good practice to explicitly specify on which key to join. You can do this with the `on` parameter:"
      ]
    },
    {
      "cell_type": "code",
      "execution_count": 35,
      "metadata": {},
      "outputs": [
        {
          "data": {
            "text/html": [
              "<div>\n",
              "<style scoped>\n",
              "    .dataframe tbody tr th:only-of-type {\n",
              "        vertical-align: middle;\n",
              "    }\n",
              "\n",
              "    .dataframe tbody tr th {\n",
              "        vertical-align: top;\n",
              "    }\n",
              "\n",
              "    .dataframe thead th {\n",
              "        text-align: right;\n",
              "    }\n",
              "</style>\n",
              "<table border=\"1\" class=\"dataframe\">\n",
              "  <thead>\n",
              "    <tr style=\"text-align: right;\">\n",
              "      <th></th>\n",
              "      <th>employee</th>\n",
              "      <th>group</th>\n",
              "      <th>hire_date</th>\n",
              "      <th>supervisor</th>\n",
              "    </tr>\n",
              "  </thead>\n",
              "  <tbody>\n",
              "    <tr>\n",
              "      <th>0</th>\n",
              "      <td>Amin</td>\n",
              "      <td>R&amp;D</td>\n",
              "      <td>2008</td>\n",
              "      <td>Dhia</td>\n",
              "    </tr>\n",
              "    <tr>\n",
              "      <th>1</th>\n",
              "      <td>Amel</td>\n",
              "      <td>Marketing</td>\n",
              "      <td>2012</td>\n",
              "      <td>Chiraz</td>\n",
              "    </tr>\n",
              "    <tr>\n",
              "      <th>2</th>\n",
              "      <td>Maissa</td>\n",
              "      <td>Marketing</td>\n",
              "      <td>2017</td>\n",
              "      <td>Chiraz</td>\n",
              "    </tr>\n",
              "    <tr>\n",
              "      <th>3</th>\n",
              "      <td>Yassine</td>\n",
              "      <td>HR</td>\n",
              "      <td>2018</td>\n",
              "      <td>Baha</td>\n",
              "    </tr>\n",
              "  </tbody>\n",
              "</table>\n",
              "</div>"
            ],
            "text/plain": [
              "  employee      group  hire_date supervisor\n",
              "0     Amin        R&D       2008       Dhia\n",
              "1     Amel  Marketing       2012     Chiraz\n",
              "2   Maissa  Marketing       2017     Chiraz\n",
              "3  Yassine         HR       2018       Baha"
            ]
          },
          "execution_count": 35,
          "metadata": {},
          "output_type": "execute_result"
        }
      ],
      "source": [
        "pd.merge(df3, df4, on='group')"
      ]
    },
    {
      "cell_type": "markdown",
      "metadata": {},
      "source": [
        "#### Many-to-many joins\n",
        "What happens if the key columns in both of the `DataFrame`s you are joining contain duplicates? That gives you a many-to-many join:"
      ]
    },
    {
      "cell_type": "code",
      "execution_count": 36,
      "metadata": {},
      "outputs": [
        {
          "data": {
            "text/html": [
              "<div>\n",
              "<style scoped>\n",
              "    .dataframe tbody tr th:only-of-type {\n",
              "        vertical-align: middle;\n",
              "    }\n",
              "\n",
              "    .dataframe tbody tr th {\n",
              "        vertical-align: top;\n",
              "    }\n",
              "\n",
              "    .dataframe thead th {\n",
              "        text-align: right;\n",
              "    }\n",
              "</style>\n",
              "<table border=\"1\" class=\"dataframe\">\n",
              "  <thead>\n",
              "    <tr style=\"text-align: right;\">\n",
              "      <th></th>\n",
              "      <th>group</th>\n",
              "      <th>core_skills</th>\n",
              "    </tr>\n",
              "  </thead>\n",
              "  <tbody>\n",
              "    <tr>\n",
              "      <th>0</th>\n",
              "      <td>R&amp;D</td>\n",
              "      <td>coding</td>\n",
              "    </tr>\n",
              "    <tr>\n",
              "      <th>1</th>\n",
              "      <td>R&amp;D</td>\n",
              "      <td>soldering</td>\n",
              "    </tr>\n",
              "    <tr>\n",
              "      <th>2</th>\n",
              "      <td>Marketing</td>\n",
              "      <td>writing</td>\n",
              "    </tr>\n",
              "    <tr>\n",
              "      <th>3</th>\n",
              "      <td>Marketing</td>\n",
              "      <td>communication</td>\n",
              "    </tr>\n",
              "    <tr>\n",
              "      <th>4</th>\n",
              "      <td>HR</td>\n",
              "      <td>spreadsheets</td>\n",
              "    </tr>\n",
              "    <tr>\n",
              "      <th>5</th>\n",
              "      <td>HR</td>\n",
              "      <td>organization</td>\n",
              "    </tr>\n",
              "  </tbody>\n",
              "</table>\n",
              "</div>"
            ],
            "text/plain": [
              "       group    core_skills\n",
              "0        R&D         coding\n",
              "1        R&D      soldering\n",
              "2  Marketing        writing\n",
              "3  Marketing  communication\n",
              "4         HR   spreadsheets\n",
              "5         HR   organization"
            ]
          },
          "execution_count": 36,
          "metadata": {},
          "output_type": "execute_result"
        }
      ],
      "source": [
        "df5 = pd.DataFrame({'group': ['R&D', 'R&D',\n",
        "                              'Marketing', 'Marketing', 'HR', 'HR'],\n",
        "                    'core_skills': ['coding', 'soldering', 'writing', 'communication',\n",
        "                               'spreadsheets', 'organization']})\n",
        "df5"
      ]
    },
    {
      "cell_type": "code",
      "execution_count": 37,
      "metadata": {},
      "outputs": [
        {
          "data": {
            "text/html": [
              "<div>\n",
              "<style scoped>\n",
              "    .dataframe tbody tr th:only-of-type {\n",
              "        vertical-align: middle;\n",
              "    }\n",
              "\n",
              "    .dataframe tbody tr th {\n",
              "        vertical-align: top;\n",
              "    }\n",
              "\n",
              "    .dataframe thead th {\n",
              "        text-align: right;\n",
              "    }\n",
              "</style>\n",
              "<table border=\"1\" class=\"dataframe\">\n",
              "  <thead>\n",
              "    <tr style=\"text-align: right;\">\n",
              "      <th></th>\n",
              "      <th>employee</th>\n",
              "      <th>group</th>\n",
              "      <th>core_skills</th>\n",
              "    </tr>\n",
              "  </thead>\n",
              "  <tbody>\n",
              "    <tr>\n",
              "      <th>0</th>\n",
              "      <td>Amin</td>\n",
              "      <td>R&amp;D</td>\n",
              "      <td>coding</td>\n",
              "    </tr>\n",
              "    <tr>\n",
              "      <th>1</th>\n",
              "      <td>Amin</td>\n",
              "      <td>R&amp;D</td>\n",
              "      <td>soldering</td>\n",
              "    </tr>\n",
              "    <tr>\n",
              "      <th>2</th>\n",
              "      <td>Amel</td>\n",
              "      <td>Marketing</td>\n",
              "      <td>writing</td>\n",
              "    </tr>\n",
              "    <tr>\n",
              "      <th>3</th>\n",
              "      <td>Amel</td>\n",
              "      <td>Marketing</td>\n",
              "      <td>communication</td>\n",
              "    </tr>\n",
              "    <tr>\n",
              "      <th>4</th>\n",
              "      <td>Maissa</td>\n",
              "      <td>Marketing</td>\n",
              "      <td>writing</td>\n",
              "    </tr>\n",
              "    <tr>\n",
              "      <th>5</th>\n",
              "      <td>Maissa</td>\n",
              "      <td>Marketing</td>\n",
              "      <td>communication</td>\n",
              "    </tr>\n",
              "    <tr>\n",
              "      <th>6</th>\n",
              "      <td>Yassine</td>\n",
              "      <td>HR</td>\n",
              "      <td>spreadsheets</td>\n",
              "    </tr>\n",
              "    <tr>\n",
              "      <th>7</th>\n",
              "      <td>Yassine</td>\n",
              "      <td>HR</td>\n",
              "      <td>organization</td>\n",
              "    </tr>\n",
              "  </tbody>\n",
              "</table>\n",
              "</div>"
            ],
            "text/plain": [
              "  employee      group    core_skills\n",
              "0     Amin        R&D         coding\n",
              "1     Amin        R&D      soldering\n",
              "2     Amel  Marketing        writing\n",
              "3     Amel  Marketing  communication\n",
              "4   Maissa  Marketing        writing\n",
              "5   Maissa  Marketing  communication\n",
              "6  Yassine         HR   spreadsheets\n",
              "7  Yassine         HR   organization"
            ]
          },
          "execution_count": 37,
          "metadata": {},
          "output_type": "execute_result"
        }
      ],
      "source": [
        "pd.merge(df1, df5, on='group')"
      ]
    },
    {
      "cell_type": "markdown",
      "metadata": {},
      "source": [
        "Again, to avoid ambiguity as to which column to join on, it is a good idea to explicitly tell `merge` which one to use with the `on` parameter."
      ]
    },
    {
      "cell_type": "markdown",
      "metadata": {},
      "source": [
        "#### `left_on` and `right_on` keywords\n",
        "What if you need to merge two datasets with no shared column names? For example, what if you are using a dataset in which the employee name is labeled as 'name' rather than 'employee'? In such cases, you will use the `left_on` and `right_on` keywords to specify the column names on which to join:"
      ]
    },
    {
      "cell_type": "code",
      "execution_count": 38,
      "metadata": {},
      "outputs": [
        {
          "data": {
            "text/html": [
              "<div>\n",
              "<style scoped>\n",
              "    .dataframe tbody tr th:only-of-type {\n",
              "        vertical-align: middle;\n",
              "    }\n",
              "\n",
              "    .dataframe tbody tr th {\n",
              "        vertical-align: top;\n",
              "    }\n",
              "\n",
              "    .dataframe thead th {\n",
              "        text-align: right;\n",
              "    }\n",
              "</style>\n",
              "<table border=\"1\" class=\"dataframe\">\n",
              "  <thead>\n",
              "    <tr style=\"text-align: right;\">\n",
              "      <th></th>\n",
              "      <th>name</th>\n",
              "      <th>salary</th>\n",
              "    </tr>\n",
              "  </thead>\n",
              "  <tbody>\n",
              "    <tr>\n",
              "      <th>0</th>\n",
              "      <td>Amin</td>\n",
              "      <td>70000</td>\n",
              "    </tr>\n",
              "    <tr>\n",
              "      <th>1</th>\n",
              "      <td>Amel</td>\n",
              "      <td>80000</td>\n",
              "    </tr>\n",
              "    <tr>\n",
              "      <th>2</th>\n",
              "      <td>Maissa</td>\n",
              "      <td>120000</td>\n",
              "    </tr>\n",
              "    <tr>\n",
              "      <th>3</th>\n",
              "      <td>Yassine</td>\n",
              "      <td>90000</td>\n",
              "    </tr>\n",
              "  </tbody>\n",
              "</table>\n",
              "</div>"
            ],
            "text/plain": [
              "      name  salary\n",
              "0     Amin   70000\n",
              "1     Amel   80000\n",
              "2   Maissa  120000\n",
              "3  Yassine   90000"
            ]
          },
          "execution_count": 38,
          "metadata": {},
          "output_type": "execute_result"
        }
      ],
      "source": [
        "df6 = pd.DataFrame({'name': ['Amin', 'Amel', 'Maissa', 'Yassine'],\n",
        "                    'salary': [70000, 80000, 120000, 90000]})\n",
        "df6"
      ]
    },
    {
      "cell_type": "code",
      "execution_count": 39,
      "metadata": {},
      "outputs": [
        {
          "data": {
            "text/html": [
              "<div>\n",
              "<style scoped>\n",
              "    .dataframe tbody tr th:only-of-type {\n",
              "        vertical-align: middle;\n",
              "    }\n",
              "\n",
              "    .dataframe tbody tr th {\n",
              "        vertical-align: top;\n",
              "    }\n",
              "\n",
              "    .dataframe thead th {\n",
              "        text-align: right;\n",
              "    }\n",
              "</style>\n",
              "<table border=\"1\" class=\"dataframe\">\n",
              "  <thead>\n",
              "    <tr style=\"text-align: right;\">\n",
              "      <th></th>\n",
              "      <th>employee</th>\n",
              "      <th>group</th>\n",
              "      <th>name</th>\n",
              "      <th>salary</th>\n",
              "    </tr>\n",
              "  </thead>\n",
              "  <tbody>\n",
              "    <tr>\n",
              "      <th>0</th>\n",
              "      <td>Amin</td>\n",
              "      <td>R&amp;D</td>\n",
              "      <td>Amin</td>\n",
              "      <td>70000</td>\n",
              "    </tr>\n",
              "    <tr>\n",
              "      <th>1</th>\n",
              "      <td>Amel</td>\n",
              "      <td>Marketing</td>\n",
              "      <td>Amel</td>\n",
              "      <td>80000</td>\n",
              "    </tr>\n",
              "    <tr>\n",
              "      <th>2</th>\n",
              "      <td>Maissa</td>\n",
              "      <td>Marketing</td>\n",
              "      <td>Maissa</td>\n",
              "      <td>120000</td>\n",
              "    </tr>\n",
              "    <tr>\n",
              "      <th>3</th>\n",
              "      <td>Yassine</td>\n",
              "      <td>HR</td>\n",
              "      <td>Yassine</td>\n",
              "      <td>90000</td>\n",
              "    </tr>\n",
              "  </tbody>\n",
              "</table>\n",
              "</div>"
            ],
            "text/plain": [
              "  employee      group     name  salary\n",
              "0     Amin        R&D     Amin   70000\n",
              "1     Amel  Marketing     Amel   80000\n",
              "2   Maissa  Marketing   Maissa  120000\n",
              "3  Yassine         HR  Yassine   90000"
            ]
          },
          "execution_count": 39,
          "metadata": {},
          "output_type": "execute_result"
        }
      ],
      "source": [
        "group_salary = pd.merge(df1, df6, left_on=\"employee\", right_on=\"name\")\n",
        "group_salary"
      ]
    },
    {
      "cell_type": "markdown",
      "metadata": {},
      "source": [
        "### Exercise:"
      ]
    },
    {
      "cell_type": "code",
      "execution_count": 40,
      "metadata": {},
      "outputs": [
        {
          "name": "stdout",
          "output_type": "stream",
          "text": [
            "\u001b[1;31mSignature:\u001b[0m\n",
            "\u001b[0mgroup_salary\u001b[0m\u001b[1;33m.\u001b[0m\u001b[0mdrop\u001b[0m\u001b[1;33m(\u001b[0m\u001b[1;33m\n",
            "\u001b[0m    \u001b[0mlabels\u001b[0m\u001b[1;33m=\u001b[0m\u001b[1;32mNone\u001b[0m\u001b[1;33m,\u001b[0m\u001b[1;33m\n",
            "\u001b[0m    \u001b[0maxis\u001b[0m\u001b[1;33m:\u001b[0m \u001b[1;34m'Axis'\u001b[0m \u001b[1;33m=\u001b[0m \u001b[1;36m0\u001b[0m\u001b[1;33m,\u001b[0m\u001b[1;33m\n",
            "\u001b[0m    \u001b[0mindex\u001b[0m\u001b[1;33m=\u001b[0m\u001b[1;32mNone\u001b[0m\u001b[1;33m,\u001b[0m\u001b[1;33m\n",
            "\u001b[0m    \u001b[0mcolumns\u001b[0m\u001b[1;33m=\u001b[0m\u001b[1;32mNone\u001b[0m\u001b[1;33m,\u001b[0m\u001b[1;33m\n",
            "\u001b[0m    \u001b[0mlevel\u001b[0m\u001b[1;33m:\u001b[0m \u001b[1;34m'Level | None'\u001b[0m \u001b[1;33m=\u001b[0m \u001b[1;32mNone\u001b[0m\u001b[1;33m,\u001b[0m\u001b[1;33m\n",
            "\u001b[0m    \u001b[0minplace\u001b[0m\u001b[1;33m:\u001b[0m \u001b[1;34m'bool'\u001b[0m \u001b[1;33m=\u001b[0m \u001b[1;32mFalse\u001b[0m\u001b[1;33m,\u001b[0m\u001b[1;33m\n",
            "\u001b[0m    \u001b[0merrors\u001b[0m\u001b[1;33m:\u001b[0m \u001b[1;34m'str'\u001b[0m \u001b[1;33m=\u001b[0m \u001b[1;34m'raise'\u001b[0m\u001b[1;33m,\u001b[0m\u001b[1;33m\n",
            "\u001b[0m\u001b[1;33m)\u001b[0m\u001b[1;33m\u001b[0m\u001b[1;33m\u001b[0m\u001b[0m\n",
            "\u001b[1;31mDocstring:\u001b[0m\n",
            "Drop specified labels from rows or columns.\n",
            "\n",
            "Remove rows or columns by specifying label names and corresponding\n",
            "axis, or by specifying directly index or column names. When using a\n",
            "multi-index, labels on different levels can be removed by specifying\n",
            "the level. See the `user guide <advanced.shown_levels>`\n",
            "for more information about the now unused levels.\n",
            "\n",
            "Parameters\n",
            "----------\n",
            "labels : single label or list-like\n",
            "    Index or column labels to drop.\n",
            "axis : {0 or 'index', 1 or 'columns'}, default 0\n",
            "    Whether to drop labels from the index (0 or 'index') or\n",
            "    columns (1 or 'columns').\n",
            "index : single label or list-like\n",
            "    Alternative to specifying axis (``labels, axis=0``\n",
            "    is equivalent to ``index=labels``).\n",
            "columns : single label or list-like\n",
            "    Alternative to specifying axis (``labels, axis=1``\n",
            "    is equivalent to ``columns=labels``).\n",
            "level : int or level name, optional\n",
            "    For MultiIndex, level from which the labels will be removed.\n",
            "inplace : bool, default False\n",
            "    If False, return a copy. Otherwise, do operation\n",
            "    inplace and return None.\n",
            "errors : {'ignore', 'raise'}, default 'raise'\n",
            "    If 'ignore', suppress error and only existing labels are\n",
            "    dropped.\n",
            "\n",
            "Returns\n",
            "-------\n",
            "DataFrame or None\n",
            "    DataFrame without the removed index or column labels or\n",
            "    None if ``inplace=True``.\n",
            "\n",
            "Raises\n",
            "------\n",
            "KeyError\n",
            "    If any of the labels is not found in the selected axis.\n",
            "\n",
            "See Also\n",
            "--------\n",
            "DataFrame.loc : Label-location based indexer for selection by label.\n",
            "DataFrame.dropna : Return DataFrame with labels on given axis omitted\n",
            "    where (all or any) data are missing.\n",
            "DataFrame.drop_duplicates : Return DataFrame with duplicate rows\n",
            "    removed, optionally only considering certain columns.\n",
            "Series.drop : Return Series with specified index labels removed.\n",
            "\n",
            "Examples\n",
            "--------\n",
            ">>> df = pd.DataFrame(np.arange(12).reshape(3, 4),\n",
            "...                   columns=['A', 'B', 'C', 'D'])\n",
            ">>> df\n",
            "   A  B   C   D\n",
            "0  0  1   2   3\n",
            "1  4  5   6   7\n",
            "2  8  9  10  11\n",
            "\n",
            "Drop columns\n",
            "\n",
            ">>> df.drop(['B', 'C'], axis=1)\n",
            "   A   D\n",
            "0  0   3\n",
            "1  4   7\n",
            "2  8  11\n",
            "\n",
            ">>> df.drop(columns=['B', 'C'])\n",
            "   A   D\n",
            "0  0   3\n",
            "1  4   7\n",
            "2  8  11\n",
            "\n",
            "Drop a row by index\n",
            "\n",
            ">>> df.drop([0, 1])\n",
            "   A  B   C   D\n",
            "2  8  9  10  11\n",
            "\n",
            "Drop columns and/or rows of MultiIndex DataFrame\n",
            "\n",
            ">>> midx = pd.MultiIndex(levels=[['lama', 'cow', 'falcon'],\n",
            "...                              ['speed', 'weight', 'length']],\n",
            "...                      codes=[[0, 0, 0, 1, 1, 1, 2, 2, 2],\n",
            "...                             [0, 1, 2, 0, 1, 2, 0, 1, 2]])\n",
            ">>> df = pd.DataFrame(index=midx, columns=['big', 'small'],\n",
            "...                   data=[[45, 30], [200, 100], [1.5, 1], [30, 20],\n",
            "...                         [250, 150], [1.5, 0.8], [320, 250],\n",
            "...                         [1, 0.8], [0.3, 0.2]])\n",
            ">>> df\n",
            "                big     small\n",
            "lama    speed   45.0    30.0\n",
            "        weight  200.0   100.0\n",
            "        length  1.5     1.0\n",
            "cow     speed   30.0    20.0\n",
            "        weight  250.0   150.0\n",
            "        length  1.5     0.8\n",
            "falcon  speed   320.0   250.0\n",
            "        weight  1.0     0.8\n",
            "        length  0.3     0.2\n",
            "\n",
            ">>> df.drop(index='cow', columns='small')\n",
            "                big\n",
            "lama    speed   45.0\n",
            "        weight  200.0\n",
            "        length  1.5\n",
            "falcon  speed   320.0\n",
            "        weight  1.0\n",
            "        length  0.3\n",
            "\n",
            ">>> df.drop(index='length', level=1)\n",
            "                big     small\n",
            "lama    speed   45.0    30.0\n",
            "        weight  200.0   100.0\n",
            "cow     speed   30.0    20.0\n",
            "        weight  250.0   150.0\n",
            "falcon  speed   320.0   250.0\n",
            "        weight  1.0     0.8\n",
            "\u001b[1;31mFile:\u001b[0m      d:\\devtools\\python3\\lib\\site-packages\\pandas\\core\\frame.py\n",
            "\u001b[1;31mType:\u001b[0m      method\n"
          ]
        }
      ],
      "source": [
        "# Using the documentation, can you figure out how to use .drop() to get rid of the 'name' column?\n",
        "# Hint: You will need to supply two parameters to .drop().\n",
        "group_salary.drop?"
      ]
    },
    {
      "cell_type": "markdown",
      "metadata": {},
      "source": [
        "You can also use the `join` method for `DataFrame`s, which merges on indices by default. To use a different column as an index for a `DataFrame`, you can use `set_index()`:"
      ]
    },
    {
      "cell_type": "code",
      "execution_count": 41,
      "metadata": {},
      "outputs": [
        {
          "data": {
            "text/html": [
              "<div>\n",
              "<style scoped>\n",
              "    .dataframe tbody tr th:only-of-type {\n",
              "        vertical-align: middle;\n",
              "    }\n",
              "\n",
              "    .dataframe tbody tr th {\n",
              "        vertical-align: top;\n",
              "    }\n",
              "\n",
              "    .dataframe thead th {\n",
              "        text-align: right;\n",
              "    }\n",
              "</style>\n",
              "<table border=\"1\" class=\"dataframe\">\n",
              "  <thead>\n",
              "    <tr style=\"text-align: right;\">\n",
              "      <th></th>\n",
              "      <th>group</th>\n",
              "    </tr>\n",
              "    <tr>\n",
              "      <th>employee</th>\n",
              "      <th></th>\n",
              "    </tr>\n",
              "  </thead>\n",
              "  <tbody>\n",
              "    <tr>\n",
              "      <th>Amin</th>\n",
              "      <td>R&amp;D</td>\n",
              "    </tr>\n",
              "    <tr>\n",
              "      <th>Amel</th>\n",
              "      <td>Marketing</td>\n",
              "    </tr>\n",
              "    <tr>\n",
              "      <th>Maissa</th>\n",
              "      <td>Marketing</td>\n",
              "    </tr>\n",
              "    <tr>\n",
              "      <th>Yassine</th>\n",
              "      <td>HR</td>\n",
              "    </tr>\n",
              "  </tbody>\n",
              "</table>\n",
              "</div>"
            ],
            "text/plain": [
              "              group\n",
              "employee           \n",
              "Amin            R&D\n",
              "Amel      Marketing\n",
              "Maissa    Marketing\n",
              "Yassine          HR"
            ]
          },
          "metadata": {},
          "output_type": "display_data"
        },
        {
          "data": {
            "text/html": [
              "<div>\n",
              "<style scoped>\n",
              "    .dataframe tbody tr th:only-of-type {\n",
              "        vertical-align: middle;\n",
              "    }\n",
              "\n",
              "    .dataframe tbody tr th {\n",
              "        vertical-align: top;\n",
              "    }\n",
              "\n",
              "    .dataframe thead th {\n",
              "        text-align: right;\n",
              "    }\n",
              "</style>\n",
              "<table border=\"1\" class=\"dataframe\">\n",
              "  <thead>\n",
              "    <tr style=\"text-align: right;\">\n",
              "      <th></th>\n",
              "      <th>hire_date</th>\n",
              "    </tr>\n",
              "    <tr>\n",
              "      <th>employee</th>\n",
              "      <th></th>\n",
              "    </tr>\n",
              "  </thead>\n",
              "  <tbody>\n",
              "    <tr>\n",
              "      <th>Amin</th>\n",
              "      <td>2008</td>\n",
              "    </tr>\n",
              "    <tr>\n",
              "      <th>Amel</th>\n",
              "      <td>2012</td>\n",
              "    </tr>\n",
              "    <tr>\n",
              "      <th>Maissa</th>\n",
              "      <td>2017</td>\n",
              "    </tr>\n",
              "    <tr>\n",
              "      <th>Yassine</th>\n",
              "      <td>2018</td>\n",
              "    </tr>\n",
              "  </tbody>\n",
              "</table>\n",
              "</div>"
            ],
            "text/plain": [
              "          hire_date\n",
              "employee           \n",
              "Amin           2008\n",
              "Amel           2012\n",
              "Maissa         2017\n",
              "Yassine        2018"
            ]
          },
          "metadata": {},
          "output_type": "display_data"
        },
        {
          "data": {
            "text/html": [
              "<div>\n",
              "<style scoped>\n",
              "    .dataframe tbody tr th:only-of-type {\n",
              "        vertical-align: middle;\n",
              "    }\n",
              "\n",
              "    .dataframe tbody tr th {\n",
              "        vertical-align: top;\n",
              "    }\n",
              "\n",
              "    .dataframe thead th {\n",
              "        text-align: right;\n",
              "    }\n",
              "</style>\n",
              "<table border=\"1\" class=\"dataframe\">\n",
              "  <thead>\n",
              "    <tr style=\"text-align: right;\">\n",
              "      <th></th>\n",
              "      <th>group</th>\n",
              "      <th>hire_date</th>\n",
              "    </tr>\n",
              "    <tr>\n",
              "      <th>employee</th>\n",
              "      <th></th>\n",
              "      <th></th>\n",
              "    </tr>\n",
              "  </thead>\n",
              "  <tbody>\n",
              "    <tr>\n",
              "      <th>Amin</th>\n",
              "      <td>R&amp;D</td>\n",
              "      <td>2008</td>\n",
              "    </tr>\n",
              "    <tr>\n",
              "      <th>Amel</th>\n",
              "      <td>Marketing</td>\n",
              "      <td>2012</td>\n",
              "    </tr>\n",
              "    <tr>\n",
              "      <th>Maissa</th>\n",
              "      <td>Marketing</td>\n",
              "      <td>2017</td>\n",
              "    </tr>\n",
              "    <tr>\n",
              "      <th>Yassine</th>\n",
              "      <td>HR</td>\n",
              "      <td>2018</td>\n",
              "    </tr>\n",
              "  </tbody>\n",
              "</table>\n",
              "</div>"
            ],
            "text/plain": [
              "              group  hire_date\n",
              "employee                      \n",
              "Amin            R&D       2008\n",
              "Amel      Marketing       2012\n",
              "Maissa    Marketing       2017\n",
              "Yassine          HR       2018"
            ]
          },
          "execution_count": 41,
          "metadata": {},
          "output_type": "execute_result"
        }
      ],
      "source": [
        "df1a = df1.set_index('employee')\n",
        "display(df1a)\n",
        "df2a = df2.set_index('employee')\n",
        "display(df2a)\n",
        "\n",
        "df1a.join(df2a)"
      ]
    },
    {
      "cell_type": "markdown",
      "metadata": {},
      "source": [
        "You can also mix and match `left_index`/`right_index` with `right_on`/`left_on`:"
      ]
    },
    {
      "cell_type": "markdown",
      "metadata": {},
      "source": [
        "#### Set arithmetic for joins\n",
        "\n",
        "Let's return to many-to-many joins for a moment. A consideration that is unique to them is the *arithmetic* of the join--specifically, the set arithmetic you use for the join. To illustrate what this, let's restructure an old example `DataFrame`:"
      ]
    },
    {
      "cell_type": "code",
      "execution_count": 42,
      "metadata": {},
      "outputs": [
        {
          "data": {
            "text/html": [
              "<div>\n",
              "<style scoped>\n",
              "    .dataframe tbody tr th:only-of-type {\n",
              "        vertical-align: middle;\n",
              "    }\n",
              "\n",
              "    .dataframe tbody tr th {\n",
              "        vertical-align: top;\n",
              "    }\n",
              "\n",
              "    .dataframe thead th {\n",
              "        text-align: right;\n",
              "    }\n",
              "</style>\n",
              "<table border=\"1\" class=\"dataframe\">\n",
              "  <thead>\n",
              "    <tr style=\"text-align: right;\">\n",
              "      <th></th>\n",
              "      <th>group</th>\n",
              "      <th>core_skills</th>\n",
              "    </tr>\n",
              "  </thead>\n",
              "  <tbody>\n",
              "    <tr>\n",
              "      <th>0</th>\n",
              "      <td>Engineering</td>\n",
              "      <td>math</td>\n",
              "    </tr>\n",
              "    <tr>\n",
              "      <th>1</th>\n",
              "      <td>Marketing</td>\n",
              "      <td>writing</td>\n",
              "    </tr>\n",
              "    <tr>\n",
              "      <th>2</th>\n",
              "      <td>Sales</td>\n",
              "      <td>communication</td>\n",
              "    </tr>\n",
              "  </tbody>\n",
              "</table>\n",
              "</div>"
            ],
            "text/plain": [
              "         group    core_skills\n",
              "0  Engineering           math\n",
              "1    Marketing        writing\n",
              "2        Sales  communication"
            ]
          },
          "execution_count": 42,
          "metadata": {},
          "output_type": "execute_result"
        }
      ],
      "source": [
        "df5 = pd.DataFrame({'group': ['Engineering', 'Marketing', 'Sales'],\n",
        "                    'core_skills': ['math', 'writing', 'communication']})\n",
        "df5"
      ]
    },
    {
      "cell_type": "code",
      "execution_count": 43,
      "metadata": {},
      "outputs": [
        {
          "data": {
            "text/html": [
              "<div>\n",
              "<style scoped>\n",
              "    .dataframe tbody tr th:only-of-type {\n",
              "        vertical-align: middle;\n",
              "    }\n",
              "\n",
              "    .dataframe tbody tr th {\n",
              "        vertical-align: top;\n",
              "    }\n",
              "\n",
              "    .dataframe thead th {\n",
              "        text-align: right;\n",
              "    }\n",
              "</style>\n",
              "<table border=\"1\" class=\"dataframe\">\n",
              "  <thead>\n",
              "    <tr style=\"text-align: right;\">\n",
              "      <th></th>\n",
              "      <th>employee</th>\n",
              "      <th>group</th>\n",
              "      <th>core_skills</th>\n",
              "    </tr>\n",
              "  </thead>\n",
              "  <tbody>\n",
              "    <tr>\n",
              "      <th>0</th>\n",
              "      <td>Amel</td>\n",
              "      <td>Marketing</td>\n",
              "      <td>writing</td>\n",
              "    </tr>\n",
              "    <tr>\n",
              "      <th>1</th>\n",
              "      <td>Maissa</td>\n",
              "      <td>Marketing</td>\n",
              "      <td>writing</td>\n",
              "    </tr>\n",
              "  </tbody>\n",
              "</table>\n",
              "</div>"
            ],
            "text/plain": [
              "  employee      group core_skills\n",
              "0     Amel  Marketing     writing\n",
              "1   Maissa  Marketing     writing"
            ]
          },
          "execution_count": 43,
          "metadata": {},
          "output_type": "execute_result"
        }
      ],
      "source": [
        "pd.merge(df1, df5, on='group')"
      ]
    },
    {
      "cell_type": "markdown",
      "metadata": {},
      "source": [
        "Notice that after you have restructured `df5` and then re-run the merge with `df1`, you have only two entries in the result. This is because you merged on `group` and 'Marketing' was the only entry that appeared in the `group` column of both `DataFrame`s.\n",
        "\n",
        "In effect, what you have gotten is the *intersection* of both `DataFrame`s. This is known as the inner join in the database world and it is the default setting for `merge`, although you can certainly specify it:"
      ]
    },
    {
      "cell_type": "code",
      "execution_count": 44,
      "metadata": {},
      "outputs": [
        {
          "data": {
            "text/html": [
              "<div>\n",
              "<style scoped>\n",
              "    .dataframe tbody tr th:only-of-type {\n",
              "        vertical-align: middle;\n",
              "    }\n",
              "\n",
              "    .dataframe tbody tr th {\n",
              "        vertical-align: top;\n",
              "    }\n",
              "\n",
              "    .dataframe thead th {\n",
              "        text-align: right;\n",
              "    }\n",
              "</style>\n",
              "<table border=\"1\" class=\"dataframe\">\n",
              "  <thead>\n",
              "    <tr style=\"text-align: right;\">\n",
              "      <th></th>\n",
              "      <th>employee</th>\n",
              "      <th>group</th>\n",
              "      <th>core_skills</th>\n",
              "    </tr>\n",
              "  </thead>\n",
              "  <tbody>\n",
              "    <tr>\n",
              "      <th>0</th>\n",
              "      <td>Amel</td>\n",
              "      <td>Marketing</td>\n",
              "      <td>writing</td>\n",
              "    </tr>\n",
              "    <tr>\n",
              "      <th>1</th>\n",
              "      <td>Maissa</td>\n",
              "      <td>Marketing</td>\n",
              "      <td>writing</td>\n",
              "    </tr>\n",
              "  </tbody>\n",
              "</table>\n",
              "</div>"
            ],
            "text/plain": [
              "  employee      group core_skills\n",
              "0     Amel  Marketing     writing\n",
              "1   Maissa  Marketing     writing"
            ]
          },
          "execution_count": 44,
          "metadata": {},
          "output_type": "execute_result"
        }
      ],
      "source": [
        "pd.merge(df1, df5, on='group', how='inner')"
      ]
    },
    {
      "cell_type": "markdown",
      "metadata": {},
      "source": [
        "The complement of the inner join is the outer join, which returns the *union* of the two `DataFrame`s."
      ]
    },
    {
      "cell_type": "markdown",
      "metadata": {},
      "source": [
        "### Exercise:"
      ]
    },
    {
      "cell_type": "code",
      "execution_count": 45,
      "metadata": {},
      "outputs": [],
      "source": [
        "# The keyword for performing an outer join is how='outer'. How would you code it?\n",
        "# What do you expect the output of an outer join of df1 and df5 to be?\n"
      ]
    },
    {
      "cell_type": "markdown",
      "metadata": {},
      "source": [
        "Notice in your resulting `DataFrame` that not every row in `df1` and `df5` had a value that corresponds to the union of the key values (the 'group' column). Pandas fills in these missing values with `NaN`s."
      ]
    },
    {
      "cell_type": "markdown",
      "metadata": {},
      "source": [
        "Inner and outer joins are not your only options. A *left join* returns all the rows in the first (left-side) `DataFrame` supplied to `merge` along with rows from the other `DataFrame` that match the left-side key values (and `NaNs` rows with respective values):"
      ]
    },
    {
      "cell_type": "code",
      "execution_count": 46,
      "metadata": {},
      "outputs": [
        {
          "data": {
            "text/html": [
              "<div>\n",
              "<style scoped>\n",
              "    .dataframe tbody tr th:only-of-type {\n",
              "        vertical-align: middle;\n",
              "    }\n",
              "\n",
              "    .dataframe tbody tr th {\n",
              "        vertical-align: top;\n",
              "    }\n",
              "\n",
              "    .dataframe thead th {\n",
              "        text-align: right;\n",
              "    }\n",
              "</style>\n",
              "<table border=\"1\" class=\"dataframe\">\n",
              "  <thead>\n",
              "    <tr style=\"text-align: right;\">\n",
              "      <th></th>\n",
              "      <th>employee</th>\n",
              "      <th>group</th>\n",
              "      <th>core_skills</th>\n",
              "    </tr>\n",
              "  </thead>\n",
              "  <tbody>\n",
              "    <tr>\n",
              "      <th>0</th>\n",
              "      <td>Amin</td>\n",
              "      <td>R&amp;D</td>\n",
              "      <td>NaN</td>\n",
              "    </tr>\n",
              "    <tr>\n",
              "      <th>1</th>\n",
              "      <td>Amel</td>\n",
              "      <td>Marketing</td>\n",
              "      <td>writing</td>\n",
              "    </tr>\n",
              "    <tr>\n",
              "      <th>2</th>\n",
              "      <td>Maissa</td>\n",
              "      <td>Marketing</td>\n",
              "      <td>writing</td>\n",
              "    </tr>\n",
              "    <tr>\n",
              "      <th>3</th>\n",
              "      <td>Yassine</td>\n",
              "      <td>HR</td>\n",
              "      <td>NaN</td>\n",
              "    </tr>\n",
              "  </tbody>\n",
              "</table>\n",
              "</div>"
            ],
            "text/plain": [
              "  employee      group core_skills\n",
              "0     Amin        R&D         NaN\n",
              "1     Amel  Marketing     writing\n",
              "2   Maissa  Marketing     writing\n",
              "3  Yassine         HR         NaN"
            ]
          },
          "execution_count": 46,
          "metadata": {},
          "output_type": "execute_result"
        }
      ],
      "source": [
        "pd.merge(df1, df5, how='left')"
      ]
    },
    {
      "cell_type": "markdown",
      "metadata": {},
      "source": [
        "### Exercise:"
      ]
    },
    {
      "cell_type": "code",
      "execution_count": 47,
      "metadata": {},
      "outputs": [],
      "source": [
        "# Now run the right merge between df1 and df5.\n",
        "# What do you expect to see?\n"
      ]
    },
    {
      "cell_type": "markdown",
      "metadata": {},
      "source": [
        "#### `suffixes` keyword: dealing with conflicting column names\n",
        "Because you can join datasets, you will eventually join two with conflicting column names. Let's look at another example to see what this means:"
      ]
    },
    {
      "cell_type": "code",
      "execution_count": 48,
      "metadata": {},
      "outputs": [
        {
          "data": {
            "text/html": [
              "<div>\n",
              "<style scoped>\n",
              "    .dataframe tbody tr th:only-of-type {\n",
              "        vertical-align: middle;\n",
              "    }\n",
              "\n",
              "    .dataframe tbody tr th {\n",
              "        vertical-align: top;\n",
              "    }\n",
              "\n",
              "    .dataframe thead th {\n",
              "        text-align: right;\n",
              "    }\n",
              "</style>\n",
              "<table border=\"1\" class=\"dataframe\">\n",
              "  <thead>\n",
              "    <tr style=\"text-align: right;\">\n",
              "      <th></th>\n",
              "      <th>name</th>\n",
              "      <th>rank</th>\n",
              "    </tr>\n",
              "  </thead>\n",
              "  <tbody>\n",
              "    <tr>\n",
              "      <th>0</th>\n",
              "      <td>Gary</td>\n",
              "      <td>1</td>\n",
              "    </tr>\n",
              "    <tr>\n",
              "      <th>1</th>\n",
              "      <td>Stu</td>\n",
              "      <td>2</td>\n",
              "    </tr>\n",
              "    <tr>\n",
              "      <th>2</th>\n",
              "      <td>Mary</td>\n",
              "      <td>3</td>\n",
              "    </tr>\n",
              "    <tr>\n",
              "      <th>3</th>\n",
              "      <td>Sue</td>\n",
              "      <td>4</td>\n",
              "    </tr>\n",
              "  </tbody>\n",
              "</table>\n",
              "</div>"
            ],
            "text/plain": [
              "   name  rank\n",
              "0  Gary     1\n",
              "1   Stu     2\n",
              "2  Mary     3\n",
              "3   Sue     4"
            ]
          },
          "execution_count": 48,
          "metadata": {},
          "output_type": "execute_result"
        }
      ],
      "source": [
        "df7 = pd.DataFrame({'name': ['Gary', 'Stu', 'Mary', 'Sue'],\n",
        "                    'rank': [1, 2, 3, 4]})\n",
        "df7"
      ]
    },
    {
      "cell_type": "code",
      "execution_count": 49,
      "metadata": {},
      "outputs": [
        {
          "data": {
            "text/html": [
              "<div>\n",
              "<style scoped>\n",
              "    .dataframe tbody tr th:only-of-type {\n",
              "        vertical-align: middle;\n",
              "    }\n",
              "\n",
              "    .dataframe tbody tr th {\n",
              "        vertical-align: top;\n",
              "    }\n",
              "\n",
              "    .dataframe thead th {\n",
              "        text-align: right;\n",
              "    }\n",
              "</style>\n",
              "<table border=\"1\" class=\"dataframe\">\n",
              "  <thead>\n",
              "    <tr style=\"text-align: right;\">\n",
              "      <th></th>\n",
              "      <th>name</th>\n",
              "      <th>rank</th>\n",
              "    </tr>\n",
              "  </thead>\n",
              "  <tbody>\n",
              "    <tr>\n",
              "      <th>0</th>\n",
              "      <td>Gary</td>\n",
              "      <td>3</td>\n",
              "    </tr>\n",
              "    <tr>\n",
              "      <th>1</th>\n",
              "      <td>Stu</td>\n",
              "      <td>1</td>\n",
              "    </tr>\n",
              "    <tr>\n",
              "      <th>2</th>\n",
              "      <td>Mary</td>\n",
              "      <td>4</td>\n",
              "    </tr>\n",
              "    <tr>\n",
              "      <th>3</th>\n",
              "      <td>Sue</td>\n",
              "      <td>2</td>\n",
              "    </tr>\n",
              "  </tbody>\n",
              "</table>\n",
              "</div>"
            ],
            "text/plain": [
              "   name  rank\n",
              "0  Gary     3\n",
              "1   Stu     1\n",
              "2  Mary     4\n",
              "3   Sue     2"
            ]
          },
          "execution_count": 49,
          "metadata": {},
          "output_type": "execute_result"
        }
      ],
      "source": [
        "df8 = pd.DataFrame({'name': ['Gary', 'Stu', 'Mary', 'Sue'],\n",
        "                    'rank': [3, 1, 4, 2]})\n",
        "df8"
      ]
    },
    {
      "cell_type": "code",
      "execution_count": 50,
      "metadata": {},
      "outputs": [
        {
          "data": {
            "text/html": [
              "<div>\n",
              "<style scoped>\n",
              "    .dataframe tbody tr th:only-of-type {\n",
              "        vertical-align: middle;\n",
              "    }\n",
              "\n",
              "    .dataframe tbody tr th {\n",
              "        vertical-align: top;\n",
              "    }\n",
              "\n",
              "    .dataframe thead th {\n",
              "        text-align: right;\n",
              "    }\n",
              "</style>\n",
              "<table border=\"1\" class=\"dataframe\">\n",
              "  <thead>\n",
              "    <tr style=\"text-align: right;\">\n",
              "      <th></th>\n",
              "      <th>name</th>\n",
              "      <th>rank_x</th>\n",
              "      <th>rank_y</th>\n",
              "    </tr>\n",
              "  </thead>\n",
              "  <tbody>\n",
              "    <tr>\n",
              "      <th>0</th>\n",
              "      <td>Gary</td>\n",
              "      <td>1</td>\n",
              "      <td>3</td>\n",
              "    </tr>\n",
              "    <tr>\n",
              "      <th>1</th>\n",
              "      <td>Stu</td>\n",
              "      <td>2</td>\n",
              "      <td>1</td>\n",
              "    </tr>\n",
              "    <tr>\n",
              "      <th>2</th>\n",
              "      <td>Mary</td>\n",
              "      <td>3</td>\n",
              "      <td>4</td>\n",
              "    </tr>\n",
              "    <tr>\n",
              "      <th>3</th>\n",
              "      <td>Sue</td>\n",
              "      <td>4</td>\n",
              "      <td>2</td>\n",
              "    </tr>\n",
              "  </tbody>\n",
              "</table>\n",
              "</div>"
            ],
            "text/plain": [
              "   name  rank_x  rank_y\n",
              "0  Gary       1       3\n",
              "1   Stu       2       1\n",
              "2  Mary       3       4\n",
              "3   Sue       4       2"
            ]
          },
          "execution_count": 50,
          "metadata": {},
          "output_type": "execute_result"
        }
      ],
      "source": [
        "pd.merge(df7, df8, on='name')"
      ]
    },
    {
      "cell_type": "markdown",
      "metadata": {},
      "source": [
        "Each column name in a `DataFrame` must be unique, so in cases where two joined `DataFrame`s share column names (aside from the column serving as the key), the `merge` function automatically appends the suffix `_x` or `_y` to the conflicting column names to make them unique. In cases where it is best to control your column names, you can specify a custom suffix for `merge` to append through the `suffixes` keyword:"
      ]
    },
    {
      "cell_type": "code",
      "execution_count": 51,
      "metadata": {},
      "outputs": [
        {
          "data": {
            "text/html": [
              "<div>\n",
              "<style scoped>\n",
              "    .dataframe tbody tr th:only-of-type {\n",
              "        vertical-align: middle;\n",
              "    }\n",
              "\n",
              "    .dataframe tbody tr th {\n",
              "        vertical-align: top;\n",
              "    }\n",
              "\n",
              "    .dataframe thead th {\n",
              "        text-align: right;\n",
              "    }\n",
              "</style>\n",
              "<table border=\"1\" class=\"dataframe\">\n",
              "  <thead>\n",
              "    <tr style=\"text-align: right;\">\n",
              "      <th></th>\n",
              "      <th>name</th>\n",
              "      <th>rank_left</th>\n",
              "      <th>rank_right</th>\n",
              "    </tr>\n",
              "  </thead>\n",
              "  <tbody>\n",
              "    <tr>\n",
              "      <th>0</th>\n",
              "      <td>Gary</td>\n",
              "      <td>1</td>\n",
              "      <td>3</td>\n",
              "    </tr>\n",
              "    <tr>\n",
              "      <th>1</th>\n",
              "      <td>Stu</td>\n",
              "      <td>2</td>\n",
              "      <td>1</td>\n",
              "    </tr>\n",
              "    <tr>\n",
              "      <th>2</th>\n",
              "      <td>Mary</td>\n",
              "      <td>3</td>\n",
              "      <td>4</td>\n",
              "    </tr>\n",
              "    <tr>\n",
              "      <th>3</th>\n",
              "      <td>Sue</td>\n",
              "      <td>4</td>\n",
              "      <td>2</td>\n",
              "    </tr>\n",
              "  </tbody>\n",
              "</table>\n",
              "</div>"
            ],
            "text/plain": [
              "   name  rank_left  rank_right\n",
              "0  Gary          1           3\n",
              "1   Stu          2           1\n",
              "2  Mary          3           4\n",
              "3   Sue          4           2"
            ]
          },
          "execution_count": 51,
          "metadata": {},
          "output_type": "execute_result"
        }
      ],
      "source": [
        "pd.merge(df7, df8, on='name', suffixes=['_left', '_right'])"
      ]
    },
    {
      "cell_type": "markdown",
      "metadata": {},
      "source": [
        "Note that these suffixes work if there are multiple conflicting columns."
      ]
    },
    {
      "cell_type": "markdown",
      "metadata": {},
      "source": [
        "### Concatenation in NumPy\n",
        "Concatenation in pandas is built off of the concatenation functionality for NumPy arrays. Here is what NumPy concatenation looks like:\n",
        " - For one-dimensional arrays:"
      ]
    },
    {
      "cell_type": "code",
      "execution_count": 52,
      "metadata": {},
      "outputs": [
        {
          "data": {
            "text/plain": [
              "array([1, 2, 3, 4, 5, 6, 7, 8, 9])"
            ]
          },
          "execution_count": 52,
          "metadata": {},
          "output_type": "execute_result"
        }
      ],
      "source": [
        "x = [1, 2, 3]\n",
        "y = [4, 5, 6]\n",
        "z = [7, 8, 9]\n",
        "np.concatenate([x, y, z])"
      ]
    },
    {
      "cell_type": "markdown",
      "metadata": {},
      "source": [
        " - For two-dimensional arrays:"
      ]
    },
    {
      "cell_type": "code",
      "execution_count": 53,
      "metadata": {},
      "outputs": [
        {
          "data": {
            "text/plain": [
              "array([[1, 2, 1, 2],\n",
              "       [3, 4, 3, 4]])"
            ]
          },
          "execution_count": 53,
          "metadata": {},
          "output_type": "execute_result"
        }
      ],
      "source": [
        "x = [[1, 2],\n",
        "     [3, 4]]\n",
        "np.concatenate([x, x], axis=1)"
      ]
    },
    {
      "cell_type": "markdown",
      "metadata": {},
      "source": [
        "Notice that the `axis=1` parameter makes the concatenation occur along columns rather than rows. Concatenation in pandas looks similar to this."
      ]
    },
    {
      "cell_type": "markdown",
      "metadata": {},
      "source": [
        "### Concatenation in pandas\n",
        "\n",
        "Pandas has a function, `pd.concat()`, that can be used for a simple concatenation of `Series` or `DataFrame` objects in a similar manner to `np.concatenate()` with ndarrays."
      ]
    },
    {
      "cell_type": "code",
      "execution_count": 54,
      "metadata": {},
      "outputs": [
        {
          "data": {
            "text/plain": [
              "1    a\n",
              "2    b\n",
              "3    c\n",
              "4    d\n",
              "5    e\n",
              "6    f\n",
              "dtype: object"
            ]
          },
          "execution_count": 54,
          "metadata": {},
          "output_type": "execute_result"
        }
      ],
      "source": [
        "ser1 = pd.Series(['a', 'b', 'c'], index=[1, 2, 3])\n",
        "ser2 = pd.Series(['d', 'e', 'f'], index=[4, 5, 6])\n",
        "pd.concat([ser1, ser2])"
      ]
    },
    {
      "cell_type": "markdown",
      "metadata": {},
      "source": [
        "It also concatenates higher-dimensional objects, such as ``DataFrame``s:"
      ]
    },
    {
      "cell_type": "code",
      "execution_count": 55,
      "metadata": {},
      "outputs": [
        {
          "data": {
            "text/html": [
              "<div>\n",
              "<style scoped>\n",
              "    .dataframe tbody tr th:only-of-type {\n",
              "        vertical-align: middle;\n",
              "    }\n",
              "\n",
              "    .dataframe tbody tr th {\n",
              "        vertical-align: top;\n",
              "    }\n",
              "\n",
              "    .dataframe thead th {\n",
              "        text-align: right;\n",
              "    }\n",
              "</style>\n",
              "<table border=\"1\" class=\"dataframe\">\n",
              "  <thead>\n",
              "    <tr style=\"text-align: right;\">\n",
              "      <th></th>\n",
              "      <th>A</th>\n",
              "      <th>B</th>\n",
              "    </tr>\n",
              "  </thead>\n",
              "  <tbody>\n",
              "    <tr>\n",
              "      <th>0</th>\n",
              "      <td>a</td>\n",
              "      <td>b</td>\n",
              "    </tr>\n",
              "    <tr>\n",
              "      <th>1</th>\n",
              "      <td>c</td>\n",
              "      <td>d</td>\n",
              "    </tr>\n",
              "  </tbody>\n",
              "</table>\n",
              "</div>"
            ],
            "text/plain": [
              "   A  B\n",
              "0  a  b\n",
              "1  c  d"
            ]
          },
          "execution_count": 55,
          "metadata": {},
          "output_type": "execute_result"
        }
      ],
      "source": [
        "df9 = pd.DataFrame({'A': ['a', 'c'],\n",
        "                    'B': ['b', 'd']})\n",
        "df9"
      ]
    },
    {
      "cell_type": "code",
      "execution_count": 56,
      "metadata": {},
      "outputs": [
        {
          "data": {
            "text/html": [
              "<div>\n",
              "<style scoped>\n",
              "    .dataframe tbody tr th:only-of-type {\n",
              "        vertical-align: middle;\n",
              "    }\n",
              "\n",
              "    .dataframe tbody tr th {\n",
              "        vertical-align: top;\n",
              "    }\n",
              "\n",
              "    .dataframe thead th {\n",
              "        text-align: right;\n",
              "    }\n",
              "</style>\n",
              "<table border=\"1\" class=\"dataframe\">\n",
              "  <thead>\n",
              "    <tr style=\"text-align: right;\">\n",
              "      <th></th>\n",
              "      <th>A</th>\n",
              "      <th>B</th>\n",
              "    </tr>\n",
              "  </thead>\n",
              "  <tbody>\n",
              "    <tr>\n",
              "      <th>0</th>\n",
              "      <td>a</td>\n",
              "      <td>b</td>\n",
              "    </tr>\n",
              "    <tr>\n",
              "      <th>1</th>\n",
              "      <td>c</td>\n",
              "      <td>d</td>\n",
              "    </tr>\n",
              "    <tr>\n",
              "      <th>0</th>\n",
              "      <td>a</td>\n",
              "      <td>b</td>\n",
              "    </tr>\n",
              "    <tr>\n",
              "      <th>1</th>\n",
              "      <td>c</td>\n",
              "      <td>d</td>\n",
              "    </tr>\n",
              "  </tbody>\n",
              "</table>\n",
              "</div>"
            ],
            "text/plain": [
              "   A  B\n",
              "0  a  b\n",
              "1  c  d\n",
              "0  a  b\n",
              "1  c  d"
            ]
          },
          "execution_count": 56,
          "metadata": {},
          "output_type": "execute_result"
        }
      ],
      "source": [
        "pd.concat([df9, df9])"
      ]
    },
    {
      "cell_type": "markdown",
      "metadata": {},
      "source": [
        "Notice that `pd.concat` has preserved the indexing even though that means that it has been duplicated. You can have the results re-indexed--and avoid potential confusion later--like so:"
      ]
    },
    {
      "cell_type": "code",
      "execution_count": 57,
      "metadata": {},
      "outputs": [
        {
          "data": {
            "text/html": [
              "<div>\n",
              "<style scoped>\n",
              "    .dataframe tbody tr th:only-of-type {\n",
              "        vertical-align: middle;\n",
              "    }\n",
              "\n",
              "    .dataframe tbody tr th {\n",
              "        vertical-align: top;\n",
              "    }\n",
              "\n",
              "    .dataframe thead th {\n",
              "        text-align: right;\n",
              "    }\n",
              "</style>\n",
              "<table border=\"1\" class=\"dataframe\">\n",
              "  <thead>\n",
              "    <tr style=\"text-align: right;\">\n",
              "      <th></th>\n",
              "      <th>A</th>\n",
              "      <th>B</th>\n",
              "    </tr>\n",
              "  </thead>\n",
              "  <tbody>\n",
              "    <tr>\n",
              "      <th>0</th>\n",
              "      <td>a</td>\n",
              "      <td>b</td>\n",
              "    </tr>\n",
              "    <tr>\n",
              "      <th>1</th>\n",
              "      <td>c</td>\n",
              "      <td>d</td>\n",
              "    </tr>\n",
              "    <tr>\n",
              "      <th>2</th>\n",
              "      <td>a</td>\n",
              "      <td>b</td>\n",
              "    </tr>\n",
              "    <tr>\n",
              "      <th>3</th>\n",
              "      <td>c</td>\n",
              "      <td>d</td>\n",
              "    </tr>\n",
              "  </tbody>\n",
              "</table>\n",
              "</div>"
            ],
            "text/plain": [
              "   A  B\n",
              "0  a  b\n",
              "1  c  d\n",
              "2  a  b\n",
              "3  c  d"
            ]
          },
          "execution_count": 57,
          "metadata": {},
          "output_type": "execute_result"
        }
      ],
      "source": [
        "pd.concat([df9, df9], ignore_index=True)"
      ]
    },
    {
      "cell_type": "markdown",
      "metadata": {},
      "source": [
        "By default, `pd.concat` concatenates row-wise within the `DataFrame` (that is, `axis=0` by default). You can specify the axis along which to concatenate:"
      ]
    },
    {
      "cell_type": "code",
      "execution_count": 58,
      "metadata": {},
      "outputs": [
        {
          "data": {
            "text/html": [
              "<div>\n",
              "<style scoped>\n",
              "    .dataframe tbody tr th:only-of-type {\n",
              "        vertical-align: middle;\n",
              "    }\n",
              "\n",
              "    .dataframe tbody tr th {\n",
              "        vertical-align: top;\n",
              "    }\n",
              "\n",
              "    .dataframe thead th {\n",
              "        text-align: right;\n",
              "    }\n",
              "</style>\n",
              "<table border=\"1\" class=\"dataframe\">\n",
              "  <thead>\n",
              "    <tr style=\"text-align: right;\">\n",
              "      <th></th>\n",
              "      <th>A</th>\n",
              "      <th>B</th>\n",
              "      <th>A</th>\n",
              "      <th>B</th>\n",
              "    </tr>\n",
              "  </thead>\n",
              "  <tbody>\n",
              "    <tr>\n",
              "      <th>0</th>\n",
              "      <td>a</td>\n",
              "      <td>b</td>\n",
              "      <td>a</td>\n",
              "      <td>b</td>\n",
              "    </tr>\n",
              "    <tr>\n",
              "      <th>1</th>\n",
              "      <td>c</td>\n",
              "      <td>d</td>\n",
              "      <td>c</td>\n",
              "      <td>d</td>\n",
              "    </tr>\n",
              "  </tbody>\n",
              "</table>\n",
              "</div>"
            ],
            "text/plain": [
              "   A  B  A  B\n",
              "0  a  b  a  b\n",
              "1  c  d  c  d"
            ]
          },
          "execution_count": 58,
          "metadata": {},
          "output_type": "execute_result"
        }
      ],
      "source": [
        "pd.concat([df9, df9], axis=1)"
      ]
    },
    {
      "cell_type": "markdown",
      "metadata": {},
      "source": [
        "Note that while pandas will display this without error, you will get an error message if you try to assign this result as a new `DataFrame`. Column names in `DataFrame`s must be unique."
      ]
    },
    {
      "cell_type": "markdown",
      "metadata": {},
      "source": [
        "### Concatenation with joins\n",
        "Just as you did with merge above, you can use inner and outer joins when concatenating `DataFrame`s with different sets of column names."
      ]
    },
    {
      "cell_type": "code",
      "execution_count": 59,
      "metadata": {},
      "outputs": [
        {
          "data": {
            "text/html": [
              "<div>\n",
              "<style scoped>\n",
              "    .dataframe tbody tr th:only-of-type {\n",
              "        vertical-align: middle;\n",
              "    }\n",
              "\n",
              "    .dataframe tbody tr th {\n",
              "        vertical-align: top;\n",
              "    }\n",
              "\n",
              "    .dataframe thead th {\n",
              "        text-align: right;\n",
              "    }\n",
              "</style>\n",
              "<table border=\"1\" class=\"dataframe\">\n",
              "  <thead>\n",
              "    <tr style=\"text-align: right;\">\n",
              "      <th></th>\n",
              "      <th>A</th>\n",
              "      <th>B</th>\n",
              "      <th>C</th>\n",
              "    </tr>\n",
              "  </thead>\n",
              "  <tbody>\n",
              "    <tr>\n",
              "      <th>0</th>\n",
              "      <td>a</td>\n",
              "      <td>b</td>\n",
              "      <td>c</td>\n",
              "    </tr>\n",
              "    <tr>\n",
              "      <th>1</th>\n",
              "      <td>d</td>\n",
              "      <td>e</td>\n",
              "      <td>f</td>\n",
              "    </tr>\n",
              "  </tbody>\n",
              "</table>\n",
              "</div>"
            ],
            "text/plain": [
              "   A  B  C\n",
              "0  a  b  c\n",
              "1  d  e  f"
            ]
          },
          "execution_count": 59,
          "metadata": {},
          "output_type": "execute_result"
        }
      ],
      "source": [
        "df10 = pd.DataFrame({'A': ['a', 'd'],\n",
        "                     'B': ['b', 'e'],\n",
        "                     'C': ['c', 'f']})\n",
        "df10"
      ]
    },
    {
      "cell_type": "code",
      "execution_count": 60,
      "metadata": {},
      "outputs": [
        {
          "data": {
            "text/html": [
              "<div>\n",
              "<style scoped>\n",
              "    .dataframe tbody tr th:only-of-type {\n",
              "        vertical-align: middle;\n",
              "    }\n",
              "\n",
              "    .dataframe tbody tr th {\n",
              "        vertical-align: top;\n",
              "    }\n",
              "\n",
              "    .dataframe thead th {\n",
              "        text-align: right;\n",
              "    }\n",
              "</style>\n",
              "<table border=\"1\" class=\"dataframe\">\n",
              "  <thead>\n",
              "    <tr style=\"text-align: right;\">\n",
              "      <th></th>\n",
              "      <th>B</th>\n",
              "      <th>C</th>\n",
              "      <th>D</th>\n",
              "    </tr>\n",
              "  </thead>\n",
              "  <tbody>\n",
              "    <tr>\n",
              "      <th>0</th>\n",
              "      <td>u</td>\n",
              "      <td>v</td>\n",
              "      <td>w</td>\n",
              "    </tr>\n",
              "    <tr>\n",
              "      <th>1</th>\n",
              "      <td>x</td>\n",
              "      <td>y</td>\n",
              "      <td>z</td>\n",
              "    </tr>\n",
              "  </tbody>\n",
              "</table>\n",
              "</div>"
            ],
            "text/plain": [
              "   B  C  D\n",
              "0  u  v  w\n",
              "1  x  y  z"
            ]
          },
          "execution_count": 60,
          "metadata": {},
          "output_type": "execute_result"
        }
      ],
      "source": [
        "df11 = pd.DataFrame({'B': ['u', 'x'],\n",
        "                     'C': ['v', 'y'],\n",
        "                     'D': ['w', 'z']})\n",
        "df11"
      ]
    },
    {
      "cell_type": "code",
      "execution_count": 61,
      "metadata": {},
      "outputs": [
        {
          "data": {
            "text/html": [
              "<div>\n",
              "<style scoped>\n",
              "    .dataframe tbody tr th:only-of-type {\n",
              "        vertical-align: middle;\n",
              "    }\n",
              "\n",
              "    .dataframe tbody tr th {\n",
              "        vertical-align: top;\n",
              "    }\n",
              "\n",
              "    .dataframe thead th {\n",
              "        text-align: right;\n",
              "    }\n",
              "</style>\n",
              "<table border=\"1\" class=\"dataframe\">\n",
              "  <thead>\n",
              "    <tr style=\"text-align: right;\">\n",
              "      <th></th>\n",
              "      <th>A</th>\n",
              "      <th>B</th>\n",
              "      <th>C</th>\n",
              "      <th>D</th>\n",
              "    </tr>\n",
              "  </thead>\n",
              "  <tbody>\n",
              "    <tr>\n",
              "      <th>0</th>\n",
              "      <td>a</td>\n",
              "      <td>b</td>\n",
              "      <td>c</td>\n",
              "      <td>NaN</td>\n",
              "    </tr>\n",
              "    <tr>\n",
              "      <th>1</th>\n",
              "      <td>d</td>\n",
              "      <td>e</td>\n",
              "      <td>f</td>\n",
              "      <td>NaN</td>\n",
              "    </tr>\n",
              "    <tr>\n",
              "      <th>0</th>\n",
              "      <td>NaN</td>\n",
              "      <td>u</td>\n",
              "      <td>v</td>\n",
              "      <td>w</td>\n",
              "    </tr>\n",
              "    <tr>\n",
              "      <th>1</th>\n",
              "      <td>NaN</td>\n",
              "      <td>x</td>\n",
              "      <td>y</td>\n",
              "      <td>z</td>\n",
              "    </tr>\n",
              "  </tbody>\n",
              "</table>\n",
              "</div>"
            ],
            "text/plain": [
              "     A  B  C    D\n",
              "0    a  b  c  NaN\n",
              "1    d  e  f  NaN\n",
              "0  NaN  u  v    w\n",
              "1  NaN  x  y    z"
            ]
          },
          "execution_count": 61,
          "metadata": {},
          "output_type": "execute_result"
        }
      ],
      "source": [
        "pd.concat([df10, df11])"
      ]
    },
    {
      "cell_type": "markdown",
      "metadata": {},
      "source": [
        "As you saw earlier, the default join for this is an outer join, and entries for which no data is available are filled with `NaN` values. You can also do an inner join:"
      ]
    },
    {
      "cell_type": "code",
      "execution_count": 62,
      "metadata": {},
      "outputs": [
        {
          "data": {
            "text/html": [
              "<div>\n",
              "<style scoped>\n",
              "    .dataframe tbody tr th:only-of-type {\n",
              "        vertical-align: middle;\n",
              "    }\n",
              "\n",
              "    .dataframe tbody tr th {\n",
              "        vertical-align: top;\n",
              "    }\n",
              "\n",
              "    .dataframe thead th {\n",
              "        text-align: right;\n",
              "    }\n",
              "</style>\n",
              "<table border=\"1\" class=\"dataframe\">\n",
              "  <thead>\n",
              "    <tr style=\"text-align: right;\">\n",
              "      <th></th>\n",
              "      <th>B</th>\n",
              "      <th>C</th>\n",
              "    </tr>\n",
              "  </thead>\n",
              "  <tbody>\n",
              "    <tr>\n",
              "      <th>0</th>\n",
              "      <td>b</td>\n",
              "      <td>c</td>\n",
              "    </tr>\n",
              "    <tr>\n",
              "      <th>1</th>\n",
              "      <td>e</td>\n",
              "      <td>f</td>\n",
              "    </tr>\n",
              "    <tr>\n",
              "      <th>0</th>\n",
              "      <td>u</td>\n",
              "      <td>v</td>\n",
              "    </tr>\n",
              "    <tr>\n",
              "      <th>1</th>\n",
              "      <td>x</td>\n",
              "      <td>y</td>\n",
              "    </tr>\n",
              "  </tbody>\n",
              "</table>\n",
              "</div>"
            ],
            "text/plain": [
              "   B  C\n",
              "0  b  c\n",
              "1  e  f\n",
              "0  u  v\n",
              "1  x  y"
            ]
          },
          "execution_count": 62,
          "metadata": {},
          "output_type": "execute_result"
        }
      ],
      "source": [
        "pd.concat([df10, df11], join='inner')"
      ]
    },
    {
      "cell_type": "markdown",
      "metadata": {},
      "source": [
        "#### `append()`\n",
        "\n",
        "Because direct array concatenation is so common, ``Series`` and ``DataFrame`` objects have an ``append`` method that can accomplish the same thing in fewer keystrokes. For example, rather than calling ``pd.concat([df9, df9])``, you can simply call ``df9.append(df9)``:"
      ]
    },
    {
      "cell_type": "code",
      "execution_count": 63,
      "metadata": {},
      "outputs": [
        {
          "data": {
            "text/html": [
              "<div>\n",
              "<style scoped>\n",
              "    .dataframe tbody tr th:only-of-type {\n",
              "        vertical-align: middle;\n",
              "    }\n",
              "\n",
              "    .dataframe tbody tr th {\n",
              "        vertical-align: top;\n",
              "    }\n",
              "\n",
              "    .dataframe thead th {\n",
              "        text-align: right;\n",
              "    }\n",
              "</style>\n",
              "<table border=\"1\" class=\"dataframe\">\n",
              "  <thead>\n",
              "    <tr style=\"text-align: right;\">\n",
              "      <th></th>\n",
              "      <th>A</th>\n",
              "      <th>B</th>\n",
              "    </tr>\n",
              "  </thead>\n",
              "  <tbody>\n",
              "    <tr>\n",
              "      <th>0</th>\n",
              "      <td>a</td>\n",
              "      <td>b</td>\n",
              "    </tr>\n",
              "    <tr>\n",
              "      <th>1</th>\n",
              "      <td>c</td>\n",
              "      <td>d</td>\n",
              "    </tr>\n",
              "    <tr>\n",
              "      <th>0</th>\n",
              "      <td>a</td>\n",
              "      <td>b</td>\n",
              "    </tr>\n",
              "    <tr>\n",
              "      <th>1</th>\n",
              "      <td>c</td>\n",
              "      <td>d</td>\n",
              "    </tr>\n",
              "  </tbody>\n",
              "</table>\n",
              "</div>"
            ],
            "text/plain": [
              "   A  B\n",
              "0  a  b\n",
              "1  c  d\n",
              "0  a  b\n",
              "1  c  d"
            ]
          },
          "execution_count": 63,
          "metadata": {},
          "output_type": "execute_result"
        }
      ],
      "source": [
        "df9.append(df9)"
      ]
    },
    {
      "cell_type": "markdown",
      "metadata": {},
      "source": [
        "**Important point**: Unlike the `append()` and `extend()` methods of Python lists, the `append()` method in pandas does not modify the original object. Instead, it creates a new object with the combined data.\n",
        "\n",
        "> **Takeaway:** A large part of the value you can provide as a data scientist comes from connecting multiple, often disparate, datasets to find new insights. Learning how to join and merge data is an essential part of your skill set."
      ]
    },
    {
      "cell_type": "markdown",
      "metadata": {},
      "source": [
        "## Exploratory statistics and visualization\n",
        "\n",
        "> **Learning goal:** By the end of this subsection, you should be familiar with some of the ways to visually explore the data stored in `DataFrame`s.\n",
        "\n",
        "Often when probing a new dataset, it is invaluable to get high-level information about what the dataset holds. Earlier in this section, you used methods, such as `DataFrame.info`, `DataFrame.head`, and `DataFrame.tail` to examine some aspects of a `DataFrame`. While these methods are critical, they are often insufficient to get enough information to know how to approach a new dataset. This is where exploratory statistics and visualizations for datasets come in.\n",
        "\n",
        "To see what this means in terms of gaining exploratory insight (both visually and numerically), let's dig into the Pizza Sales dataset. It is given to you as a CSV file that can easily be read and converted into a pandas DataFrame, pandas also supports Excel spreadsheets, JSON files, SQL tables... "
      ]
    },
    {
      "cell_type": "code",
      "execution_count": 64,
      "metadata": {},
      "outputs": [
        {
          "data": {
            "text/html": [
              "<div>\n",
              "<style scoped>\n",
              "    .dataframe tbody tr th:only-of-type {\n",
              "        vertical-align: middle;\n",
              "    }\n",
              "\n",
              "    .dataframe tbody tr th {\n",
              "        vertical-align: top;\n",
              "    }\n",
              "\n",
              "    .dataframe thead th {\n",
              "        text-align: right;\n",
              "    }\n",
              "</style>\n",
              "<table border=\"1\" class=\"dataframe\">\n",
              "  <thead>\n",
              "    <tr style=\"text-align: right;\">\n",
              "      <th></th>\n",
              "      <th>pizza_id</th>\n",
              "      <th>order_id</th>\n",
              "      <th>pizza_name</th>\n",
              "      <th>quantity</th>\n",
              "      <th>order_date</th>\n",
              "      <th>order_time</th>\n",
              "      <th>unit_price</th>\n",
              "      <th>total_price</th>\n",
              "      <th>pizza_size</th>\n",
              "      <th>pizza_category</th>\n",
              "      <th>num_of_ingredients</th>\n",
              "    </tr>\n",
              "  </thead>\n",
              "  <tbody>\n",
              "    <tr>\n",
              "      <th>0</th>\n",
              "      <td>1</td>\n",
              "      <td>1</td>\n",
              "      <td>The Pepperoni Pizza</td>\n",
              "      <td>1</td>\n",
              "      <td>01/03/2015</td>\n",
              "      <td>11:34</td>\n",
              "      <td>12.50</td>\n",
              "      <td>NaN</td>\n",
              "      <td>M</td>\n",
              "      <td>Classic</td>\n",
              "      <td>2</td>\n",
              "    </tr>\n",
              "    <tr>\n",
              "      <th>1</th>\n",
              "      <td>2</td>\n",
              "      <td>2</td>\n",
              "      <td>The Southwest Chicken Pizza</td>\n",
              "      <td>1</td>\n",
              "      <td>01/03/2015</td>\n",
              "      <td>11:49</td>\n",
              "      <td>12.75</td>\n",
              "      <td>NaN</td>\n",
              "      <td>S</td>\n",
              "      <td>Chicken</td>\n",
              "      <td>8</td>\n",
              "    </tr>\n",
              "    <tr>\n",
              "      <th>2</th>\n",
              "      <td>3</td>\n",
              "      <td>3</td>\n",
              "      <td>The Four Cheese Pizza</td>\n",
              "      <td>1</td>\n",
              "      <td>01/03/2015</td>\n",
              "      <td>12:08</td>\n",
              "      <td>17.95</td>\n",
              "      <td>NaN</td>\n",
              "      <td>L</td>\n",
              "      <td>Veggie</td>\n",
              "      <td>5</td>\n",
              "    </tr>\n",
              "    <tr>\n",
              "      <th>3</th>\n",
              "      <td>4</td>\n",
              "      <td>3</td>\n",
              "      <td>The Italian Supreme Pizza</td>\n",
              "      <td>1</td>\n",
              "      <td>01/03/2015</td>\n",
              "      <td>12:08</td>\n",
              "      <td>16.50</td>\n",
              "      <td>NaN</td>\n",
              "      <td>M</td>\n",
              "      <td>Supreme</td>\n",
              "      <td>6</td>\n",
              "    </tr>\n",
              "    <tr>\n",
              "      <th>4</th>\n",
              "      <td>5</td>\n",
              "      <td>3</td>\n",
              "      <td>The Vegetables + Vegetables Pizza</td>\n",
              "      <td>1</td>\n",
              "      <td>01/03/2015</td>\n",
              "      <td>12:08</td>\n",
              "      <td>20.25</td>\n",
              "      <td>NaN</td>\n",
              "      <td>L</td>\n",
              "      <td>Veggie</td>\n",
              "      <td>8</td>\n",
              "    </tr>\n",
              "  </tbody>\n",
              "</table>\n",
              "</div>"
            ],
            "text/plain": [
              "   pizza_id  order_id                         pizza_name  quantity  \\\n",
              "0         1         1                The Pepperoni Pizza         1   \n",
              "1         2         2        The Southwest Chicken Pizza         1   \n",
              "2         3         3              The Four Cheese Pizza         1   \n",
              "3         4         3          The Italian Supreme Pizza         1   \n",
              "4         5         3  The Vegetables + Vegetables Pizza         1   \n",
              "\n",
              "   order_date order_time  unit_price  total_price pizza_size pizza_category  \\\n",
              "0  01/03/2015      11:34       12.50          NaN          M        Classic   \n",
              "1  01/03/2015      11:49       12.75          NaN          S        Chicken   \n",
              "2  01/03/2015      12:08       17.95          NaN          L         Veggie   \n",
              "3  01/03/2015      12:08       16.50          NaN          M        Supreme   \n",
              "4  01/03/2015      12:08       20.25          NaN          L         Veggie   \n",
              "\n",
              "   num_of_ingredients  \n",
              "0                   2  \n",
              "1                   8  \n",
              "2                   5  \n",
              "3                   6  \n",
              "4                   8  "
            ]
          },
          "execution_count": 64,
          "metadata": {},
          "output_type": "execute_result"
        }
      ],
      "source": [
        "df = pd.read_csv('Data/pizza_dataset.csv')\n",
        "df.head()"
      ]
    },
    {
      "cell_type": "markdown",
      "metadata": {},
      "source": [
        "This dataset contains information concerning the sales of a pizzeria during the month of March 2015, it is organized as follows:\n",
        " - **pizza_id**: Unique identifier for each pizza that has been ordered.\n",
        " - **order_id**: Unique identifier for each order, an order can contain multiple pizzas.\n",
        " - **pizza_name**: The kind of pizza that has been ordered.\n",
        " - **quantity**: Number of pies, multiple pizzas of the same name and same order have the same `pizza_id`.\n",
        " - **order_date**: Date of purchase in DD/MM/YYYY format.\n",
        " - **order_time**: Time of purchase in HH:MM:SS format.\n",
        " - **unit_price**: Price of one pizza pie.\n",
        " - **total_price**: Price of one pizza of this type multiplied by the quantity ordered.\n",
        " - **pizza_size**: Pizza size: `S`mall, `M`edium, `L`arge, E`x`tra `L`arge or E`x`tra E`x`tra `L`arge.\n",
        " - **pizza_category**: Categories that group many pizza types into the same theme: Chicken, Veggie, Supreme, Classic."
      ]
    },
    {
      "cell_type": "markdown",
      "metadata": {},
      "source": [
        "One of the first methods you can use to understand this dataset is `DataFrame.shape`:"
      ]
    },
    {
      "cell_type": "code",
      "execution_count": 65,
      "metadata": {},
      "outputs": [
        {
          "data": {
            "text/plain": [
              "(4186, 11)"
            ]
          },
          "execution_count": 65,
          "metadata": {},
          "output_type": "execute_result"
        }
      ],
      "source": [
        "df.shape"
      ]
    },
    {
      "cell_type": "markdown",
      "metadata": {},
      "source": [
        "The dataset has 4186 rows and 11 columns."
      ]
    },
    {
      "cell_type": "markdown",
      "metadata": {},
      "source": [
        "You can examine specific descriptive statistics for numerical columns:"
      ]
    },
    {
      "cell_type": "code",
      "execution_count": 66,
      "metadata": {},
      "outputs": [
        {
          "data": {
            "text/plain": [
              "16.53081700907788"
            ]
          },
          "execution_count": 66,
          "metadata": {},
          "output_type": "execute_result"
        }
      ],
      "source": [
        "df['unit_price'].mean()"
      ]
    },
    {
      "cell_type": "code",
      "execution_count": 67,
      "metadata": {},
      "outputs": [
        {
          "data": {
            "text/plain": [
              "1.0"
            ]
          },
          "execution_count": 67,
          "metadata": {},
          "output_type": "execute_result"
        }
      ],
      "source": [
        "# Why is it better to look at the median rather than the average?\n",
        "df['quantity'].median()"
      ]
    },
    {
      "cell_type": "markdown",
      "metadata": {},
      "source": [
        "### Exercise:"
      ]
    },
    {
      "cell_type": "code",
      "execution_count": 68,
      "metadata": {},
      "outputs": [
        {
          "name": "stderr",
          "output_type": "stream",
          "text": [
            "d:\\DevTools\\Python3\\lib\\site-packages\\ipykernel_launcher.py:7: SettingWithCopyWarning: \n",
            "A value is trying to be set on a copy of a slice from a DataFrame\n",
            "\n",
            "See the caveats in the documentation: https://pandas.pydata.org/pandas-docs/stable/user_guide/indexing.html#returning-a-view-versus-a-copy\n",
            "  import sys\n"
          ]
        },
        {
          "data": {
            "text/plain": [
              "48.0"
            ]
          },
          "execution_count": 68,
          "metadata": {},
          "output_type": "execute_result"
        }
      ],
      "source": [
        "# We want to find the maximum value of money spent on a single pizza type,\n",
        "# but it seems that the total_price column is all nulls! \n",
        "# Fix it by filling with the correct values before trying to find the max.\n",
        "\n",
        "# TODO REMOVE SOLUTION\n",
        "for i in range(0, len(df.index)):\n",
        "    df['total_price'][i] = df['unit_price'][i] * df['quantity'][i]\n",
        "\n",
        "df['total_price'].max()"
      ]
    },
    {
      "cell_type": "markdown",
      "metadata": {},
      "source": [
        "Other information that you will want to see is the relationship between different columns. You do this with the `DataFrame.groupby` method. For example, you could examine the average `unit_price` for each value of `pizza_category`:"
      ]
    },
    {
      "cell_type": "code",
      "execution_count": 69,
      "metadata": {},
      "outputs": [
        {
          "data": {
            "text/plain": [
              "pizza_category\n",
              "Chicken    17.728593\n",
              "Classic    14.690834\n",
              "Supreme    17.482492\n",
              "Veggie     16.657038\n",
              "Name: unit_price, dtype: float64"
            ]
          },
          "execution_count": 69,
          "metadata": {},
          "output_type": "execute_result"
        }
      ],
      "source": [
        "df.groupby(['pizza_category'])['unit_price'].mean()"
      ]
    },
    {
      "cell_type": "markdown",
      "metadata": {},
      "source": [
        "### Exercise:"
      ]
    },
    {
      "cell_type": "code",
      "execution_count": 70,
      "metadata": {},
      "outputs": [],
      "source": [
        "# Now try to find the median value for 'unit_price' for each value of 'pizza_size'.\n"
      ]
    },
    {
      "cell_type": "markdown",
      "metadata": {},
      "source": [
        "Data may not always arrive to us in a convenient form, for example the pizza sizes were recorded in terms of the typical designatons you'd see at pizzerias (M for medium, L for Large...) but let's say we wanted a numerical interpretation instead, we can rectify this by replacing those strings with the diameter in centimeteres:"
      ]
    },
    {
      "cell_type": "code",
      "execution_count": 71,
      "metadata": {},
      "outputs": [
        {
          "name": "stderr",
          "output_type": "stream",
          "text": [
            "d:\\DevTools\\Python3\\lib\\site-packages\\ipykernel_launcher.py:6: SettingWithCopyWarning: \n",
            "A value is trying to be set on a copy of a slice from a DataFrame\n",
            "\n",
            "See the caveats in the documentation: https://pandas.pydata.org/pandas-docs/stable/user_guide/indexing.html#returning-a-view-versus-a-copy\n",
            "  \n",
            "d:\\DevTools\\Python3\\lib\\site-packages\\ipykernel_launcher.py:4: SettingWithCopyWarning: \n",
            "A value is trying to be set on a copy of a slice from a DataFrame\n",
            "\n",
            "See the caveats in the documentation: https://pandas.pydata.org/pandas-docs/stable/user_guide/indexing.html#returning-a-view-versus-a-copy\n",
            "  after removing the cwd from sys.path.\n",
            "d:\\DevTools\\Python3\\lib\\site-packages\\ipykernel_launcher.py:8: SettingWithCopyWarning: \n",
            "A value is trying to be set on a copy of a slice from a DataFrame\n",
            "\n",
            "See the caveats in the documentation: https://pandas.pydata.org/pandas-docs/stable/user_guide/indexing.html#returning-a-view-versus-a-copy\n",
            "  \n",
            "d:\\DevTools\\Python3\\lib\\site-packages\\ipykernel_launcher.py:10: SettingWithCopyWarning: \n",
            "A value is trying to be set on a copy of a slice from a DataFrame\n",
            "\n",
            "See the caveats in the documentation: https://pandas.pydata.org/pandas-docs/stable/user_guide/indexing.html#returning-a-view-versus-a-copy\n",
            "  # Remove the CWD from sys.path while we load stuff.\n",
            "d:\\DevTools\\Python3\\lib\\site-packages\\ipykernel_launcher.py:12: SettingWithCopyWarning: \n",
            "A value is trying to be set on a copy of a slice from a DataFrame\n",
            "\n",
            "See the caveats in the documentation: https://pandas.pydata.org/pandas-docs/stable/user_guide/indexing.html#returning-a-view-versus-a-copy\n",
            "  if sys.path[0] == \"\":\n"
          ]
        },
        {
          "data": {
            "text/html": [
              "<div>\n",
              "<style scoped>\n",
              "    .dataframe tbody tr th:only-of-type {\n",
              "        vertical-align: middle;\n",
              "    }\n",
              "\n",
              "    .dataframe tbody tr th {\n",
              "        vertical-align: top;\n",
              "    }\n",
              "\n",
              "    .dataframe thead th {\n",
              "        text-align: right;\n",
              "    }\n",
              "</style>\n",
              "<table border=\"1\" class=\"dataframe\">\n",
              "  <thead>\n",
              "    <tr style=\"text-align: right;\">\n",
              "      <th></th>\n",
              "      <th>pizza_id</th>\n",
              "      <th>order_id</th>\n",
              "      <th>pizza_name</th>\n",
              "      <th>quantity</th>\n",
              "      <th>order_date</th>\n",
              "      <th>order_time</th>\n",
              "      <th>unit_price</th>\n",
              "      <th>total_price</th>\n",
              "      <th>pizza_size</th>\n",
              "      <th>pizza_category</th>\n",
              "      <th>num_of_ingredients</th>\n",
              "    </tr>\n",
              "  </thead>\n",
              "  <tbody>\n",
              "    <tr>\n",
              "      <th>0</th>\n",
              "      <td>1</td>\n",
              "      <td>1</td>\n",
              "      <td>The Pepperoni Pizza</td>\n",
              "      <td>1</td>\n",
              "      <td>01/03/2015</td>\n",
              "      <td>11:34</td>\n",
              "      <td>12.50</td>\n",
              "      <td>12.50</td>\n",
              "      <td>30</td>\n",
              "      <td>Classic</td>\n",
              "      <td>2</td>\n",
              "    </tr>\n",
              "    <tr>\n",
              "      <th>1</th>\n",
              "      <td>2</td>\n",
              "      <td>2</td>\n",
              "      <td>The Southwest Chicken Pizza</td>\n",
              "      <td>1</td>\n",
              "      <td>01/03/2015</td>\n",
              "      <td>11:49</td>\n",
              "      <td>12.75</td>\n",
              "      <td>12.75</td>\n",
              "      <td>25</td>\n",
              "      <td>Chicken</td>\n",
              "      <td>8</td>\n",
              "    </tr>\n",
              "    <tr>\n",
              "      <th>2</th>\n",
              "      <td>3</td>\n",
              "      <td>3</td>\n",
              "      <td>The Four Cheese Pizza</td>\n",
              "      <td>1</td>\n",
              "      <td>01/03/2015</td>\n",
              "      <td>12:08</td>\n",
              "      <td>17.95</td>\n",
              "      <td>17.95</td>\n",
              "      <td>35</td>\n",
              "      <td>Veggie</td>\n",
              "      <td>5</td>\n",
              "    </tr>\n",
              "    <tr>\n",
              "      <th>3</th>\n",
              "      <td>4</td>\n",
              "      <td>3</td>\n",
              "      <td>The Italian Supreme Pizza</td>\n",
              "      <td>1</td>\n",
              "      <td>01/03/2015</td>\n",
              "      <td>12:08</td>\n",
              "      <td>16.50</td>\n",
              "      <td>16.50</td>\n",
              "      <td>30</td>\n",
              "      <td>Supreme</td>\n",
              "      <td>6</td>\n",
              "    </tr>\n",
              "    <tr>\n",
              "      <th>4</th>\n",
              "      <td>5</td>\n",
              "      <td>3</td>\n",
              "      <td>The Vegetables + Vegetables Pizza</td>\n",
              "      <td>1</td>\n",
              "      <td>01/03/2015</td>\n",
              "      <td>12:08</td>\n",
              "      <td>20.25</td>\n",
              "      <td>20.25</td>\n",
              "      <td>35</td>\n",
              "      <td>Veggie</td>\n",
              "      <td>8</td>\n",
              "    </tr>\n",
              "    <tr>\n",
              "      <th>...</th>\n",
              "      <td>...</td>\n",
              "      <td>...</td>\n",
              "      <td>...</td>\n",
              "      <td>...</td>\n",
              "      <td>...</td>\n",
              "      <td>...</td>\n",
              "      <td>...</td>\n",
              "      <td>...</td>\n",
              "      <td>...</td>\n",
              "      <td>...</td>\n",
              "      <td>...</td>\n",
              "    </tr>\n",
              "    <tr>\n",
              "      <th>4181</th>\n",
              "      <td>4182</td>\n",
              "      <td>1839</td>\n",
              "      <td>The Hawaiian Pizza</td>\n",
              "      <td>1</td>\n",
              "      <td>31/03/2015</td>\n",
              "      <td>22:05</td>\n",
              "      <td>16.50</td>\n",
              "      <td>16.50</td>\n",
              "      <td>35</td>\n",
              "      <td>Classic</td>\n",
              "      <td>3</td>\n",
              "    </tr>\n",
              "    <tr>\n",
              "      <th>4182</th>\n",
              "      <td>4183</td>\n",
              "      <td>1839</td>\n",
              "      <td>The Mexicana Pizza</td>\n",
              "      <td>1</td>\n",
              "      <td>31/03/2015</td>\n",
              "      <td>22:05</td>\n",
              "      <td>20.25</td>\n",
              "      <td>20.25</td>\n",
              "      <td>35</td>\n",
              "      <td>Veggie</td>\n",
              "      <td>8</td>\n",
              "    </tr>\n",
              "    <tr>\n",
              "      <th>4183</th>\n",
              "      <td>4184</td>\n",
              "      <td>1839</td>\n",
              "      <td>The Sicilian Pizza</td>\n",
              "      <td>1</td>\n",
              "      <td>31/03/2015</td>\n",
              "      <td>22:05</td>\n",
              "      <td>12.25</td>\n",
              "      <td>12.25</td>\n",
              "      <td>25</td>\n",
              "      <td>Supreme</td>\n",
              "      <td>6</td>\n",
              "    </tr>\n",
              "    <tr>\n",
              "      <th>4184</th>\n",
              "      <td>4185</td>\n",
              "      <td>1839</td>\n",
              "      <td>The Spicy Italian Pizza</td>\n",
              "      <td>1</td>\n",
              "      <td>31/03/2015</td>\n",
              "      <td>22:05</td>\n",
              "      <td>20.75</td>\n",
              "      <td>20.75</td>\n",
              "      <td>35</td>\n",
              "      <td>Supreme</td>\n",
              "      <td>6</td>\n",
              "    </tr>\n",
              "    <tr>\n",
              "      <th>4185</th>\n",
              "      <td>4186</td>\n",
              "      <td>1840</td>\n",
              "      <td>The Spicy Italian Pizza</td>\n",
              "      <td>1</td>\n",
              "      <td>31/03/2015</td>\n",
              "      <td>22:15</td>\n",
              "      <td>16.50</td>\n",
              "      <td>16.50</td>\n",
              "      <td>30</td>\n",
              "      <td>Supreme</td>\n",
              "      <td>6</td>\n",
              "    </tr>\n",
              "  </tbody>\n",
              "</table>\n",
              "<p>4186 rows × 11 columns</p>\n",
              "</div>"
            ],
            "text/plain": [
              "      pizza_id  order_id                         pizza_name  quantity  \\\n",
              "0            1         1                The Pepperoni Pizza         1   \n",
              "1            2         2        The Southwest Chicken Pizza         1   \n",
              "2            3         3              The Four Cheese Pizza         1   \n",
              "3            4         3          The Italian Supreme Pizza         1   \n",
              "4            5         3  The Vegetables + Vegetables Pizza         1   \n",
              "...        ...       ...                                ...       ...   \n",
              "4181      4182      1839                 The Hawaiian Pizza         1   \n",
              "4182      4183      1839                 The Mexicana Pizza         1   \n",
              "4183      4184      1839                 The Sicilian Pizza         1   \n",
              "4184      4185      1839            The Spicy Italian Pizza         1   \n",
              "4185      4186      1840            The Spicy Italian Pizza         1   \n",
              "\n",
              "      order_date order_time  unit_price  total_price  pizza_size  \\\n",
              "0     01/03/2015      11:34       12.50        12.50          30   \n",
              "1     01/03/2015      11:49       12.75        12.75          25   \n",
              "2     01/03/2015      12:08       17.95        17.95          35   \n",
              "3     01/03/2015      12:08       16.50        16.50          30   \n",
              "4     01/03/2015      12:08       20.25        20.25          35   \n",
              "...          ...        ...         ...          ...         ...   \n",
              "4181  31/03/2015      22:05       16.50        16.50          35   \n",
              "4182  31/03/2015      22:05       20.25        20.25          35   \n",
              "4183  31/03/2015      22:05       12.25        12.25          25   \n",
              "4184  31/03/2015      22:05       20.75        20.75          35   \n",
              "4185  31/03/2015      22:15       16.50        16.50          30   \n",
              "\n",
              "     pizza_category  num_of_ingredients  \n",
              "0           Classic                   2  \n",
              "1           Chicken                   8  \n",
              "2            Veggie                   5  \n",
              "3           Supreme                   6  \n",
              "4            Veggie                   8  \n",
              "...             ...                 ...  \n",
              "4181        Classic                   3  \n",
              "4182         Veggie                   8  \n",
              "4183        Supreme                   6  \n",
              "4184        Supreme                   6  \n",
              "4185        Supreme                   6  \n",
              "\n",
              "[4186 rows x 11 columns]"
            ]
          },
          "execution_count": 71,
          "metadata": {},
          "output_type": "execute_result"
        }
      ],
      "source": [
        "for i in range(0, len(df.index)):\n",
        "    catSize = df['pizza_size'][i]\n",
        "    if (catSize == 'S'):\n",
        "        df['pizza_size'][i] = 25\n",
        "    elif (catSize == 'M'):\n",
        "        df['pizza_size'][i] = 30\n",
        "    elif (catSize == 'L'):\n",
        "        df['pizza_size'][i] = 35\n",
        "    elif (catSize == 'XL'):\n",
        "        df['pizza_size'][i] = 40\n",
        "    elif (catSize == 'XXL'):\n",
        "        df['pizza_size'][i] = 45\n",
        "# Cast the size series into int so that we can do math on it         \n",
        "df['pizza_size'] = df['pizza_size'].astype(int)\n",
        "df"
      ]
    },
    {
      "cell_type": "markdown",
      "metadata": {},
      "source": [
        "We will also create a new `Hour` column based on `order_time`:"
      ]
    },
    {
      "cell_type": "code",
      "execution_count": 72,
      "metadata": {},
      "outputs": [
        {
          "data": {
            "text/plain": [
              "0       11\n",
              "1       11\n",
              "2       12\n",
              "3       12\n",
              "4       12\n",
              "        ..\n",
              "4181    22\n",
              "4182    22\n",
              "4183    22\n",
              "4184    22\n",
              "4185    22\n",
              "Name: Hour, Length: 4186, dtype: int32"
            ]
          },
          "execution_count": 72,
          "metadata": {},
          "output_type": "execute_result"
        }
      ],
      "source": [
        "df['order_time']=df['order_time'].astype('string')\n",
        "df[['Hour','Minute']]= df['order_time'].str.split(\":\",expand=True)\n",
        "df['Hour'] = df['Hour'].astype(int)\n",
        "df['Hour']"
      ]
    },
    {
      "cell_type": "markdown",
      "metadata": {},
      "source": [
        "Python provides a special type for handling date and time information, let's cast the `order_date` column into `datetime64`:"
      ]
    },
    {
      "cell_type": "code",
      "execution_count": 73,
      "metadata": {},
      "outputs": [
        {
          "data": {
            "text/plain": [
              "0      2015-03-01\n",
              "1      2015-03-01\n",
              "2      2015-03-01\n",
              "3      2015-03-01\n",
              "4      2015-03-01\n",
              "          ...    \n",
              "4181   2015-03-31\n",
              "4182   2015-03-31\n",
              "4183   2015-03-31\n",
              "4184   2015-03-31\n",
              "4185   2015-03-31\n",
              "Name: order_date, Length: 4186, dtype: datetime64[ns]"
            ]
          },
          "execution_count": 73,
          "metadata": {},
          "output_type": "execute_result"
        }
      ],
      "source": [
        "df['order_date'] = pd.to_datetime(df.order_date, format=\"%d/%m/%Y\")\n",
        "df['order_date']"
      ]
    },
    {
      "cell_type": "markdown",
      "metadata": {
        "collapsed": true
      },
      "source": [
        "It is often valuable to know how many unique values a column has in it with the `nunique` method:"
      ]
    },
    {
      "cell_type": "code",
      "execution_count": 74,
      "metadata": {},
      "outputs": [
        {
          "data": {
            "text/plain": [
              "32"
            ]
          },
          "execution_count": 74,
          "metadata": {},
          "output_type": "execute_result"
        }
      ],
      "source": [
        "df['pizza_name'].nunique()"
      ]
    },
    {
      "cell_type": "markdown",
      "metadata": {},
      "source": [
        "Complementary to that, you will likely want to know what those unique values are, which is where the `unique` method helps:"
      ]
    },
    {
      "cell_type": "code",
      "execution_count": 75,
      "metadata": {},
      "outputs": [
        {
          "data": {
            "text/plain": [
              "array(['The Pepperoni Pizza', 'The Southwest Chicken Pizza',\n",
              "       'The Four Cheese Pizza', 'The Italian Supreme Pizza',\n",
              "       'The Vegetables + Vegetables Pizza', 'The Barbecue Chicken Pizza',\n",
              "       'The California Chicken Pizza', 'The Green Garden Pizza',\n",
              "       'The Mediterranean Pizza', 'The Hawaiian Pizza',\n",
              "       'The Sicilian Pizza', 'The Pepperoni, Mushroom, and Peppers Pizza',\n",
              "       'The Spinach and Feta Pizza', 'The Calabrese Pizza',\n",
              "       'The Classic Deluxe Pizza', 'The Five Cheese Pizza',\n",
              "       'The Spinach Pesto Pizza', 'The Thai Chicken Pizza',\n",
              "       'The Big Meat Pizza', 'The Prosciutto and Arugula Pizza',\n",
              "       'The Italian Capocollo Pizza', 'The Spicy Italian Pizza',\n",
              "       'The Pepper Salami Pizza', 'The Napolitana Pizza',\n",
              "       'The Chicken Pesto Pizza', 'The Greek Pizza', 'The Mexicana Pizza',\n",
              "       'The Italian Vegetables Pizza', 'The Brie Carre Pizza',\n",
              "       'The Chicken Alfredo Pizza', 'The Soppressata Pizza',\n",
              "       'The Spinach Supreme Pizza'], dtype=object)"
            ]
          },
          "execution_count": 75,
          "metadata": {},
          "output_type": "execute_result"
        }
      ],
      "source": [
        "df['pizza_name'].unique()"
      ]
    },
    {
      "cell_type": "markdown",
      "metadata": {},
      "source": [
        "You can use the `value_counts` method to see how many of each unique value there are in a column:"
      ]
    },
    {
      "cell_type": "code",
      "execution_count": 76,
      "metadata": {},
      "outputs": [
        {
          "data": {
            "text/plain": [
              "The Barbecue Chicken Pizza                    229\n",
              "The Hawaiian Pizza                            212\n",
              "The Thai Chicken Pizza                        210\n",
              "The Classic Deluxe Pizza                      200\n",
              "The California Chicken Pizza                  186\n",
              "The Pepperoni Pizza                           184\n",
              "The Southwest Chicken Pizza                   175\n",
              "The Spicy Italian Pizza                       172\n",
              "The Big Meat Pizza                            166\n",
              "The Four Cheese Pizza                         164\n",
              "The Sicilian Pizza                            149\n",
              "The Italian Supreme Pizza                     148\n",
              "The Vegetables + Vegetables Pizza             138\n",
              "The Spinach and Feta Pizza                    134\n",
              "The Prosciutto and Arugula Pizza              126\n",
              "The Mexicana Pizza                            126\n",
              "The Five Cheese Pizza                         121\n",
              "The Pepper Salami Pizza                       119\n",
              "The Italian Capocollo Pizza                   117\n",
              "The Pepperoni, Mushroom, and Peppers Pizza    115\n",
              "The Greek Pizza                               110\n",
              "The Napolitana Pizza                          107\n",
              "The Chicken Alfredo Pizza                     100\n",
              "The Spinach Pesto Pizza                        90\n",
              "The Green Garden Pizza                         87\n",
              "The Italian Vegetables Pizza                   86\n",
              "The Chicken Pesto Pizza                        81\n",
              "The Soppressata Pizza                          78\n",
              "The Mediterranean Pizza                        77\n",
              "The Spinach Supreme Pizza                      71\n",
              "The Calabrese Pizza                            63\n",
              "The Brie Carre Pizza                           45\n",
              "Name: pizza_name, dtype: int64"
            ]
          },
          "execution_count": 76,
          "metadata": {},
          "output_type": "execute_result"
        }
      ],
      "source": [
        "df['pizza_name'].value_counts()"
      ]
    },
    {
      "cell_type": "markdown",
      "metadata": {},
      "source": [
        "Or you can easily plot a bar graph to visually see the breakdown:"
      ]
    },
    {
      "cell_type": "code",
      "execution_count": 77,
      "metadata": {},
      "outputs": [
        {
          "data": {
            "text/plain": [
              "<AxesSubplot:>"
            ]
          },
          "execution_count": 77,
          "metadata": {},
          "output_type": "execute_result"
        },
        {
          "data": {
            "image/png": "[encoded data removed]",
            "text/plain": [
              "<Figure size 640x480 with 1 Axes>"
            ]
          },
          "metadata": {},
          "output_type": "display_data"
        }
      ],
      "source": [
        "# pandas relies on matplotlib by default to plot its graphs\n",
        "\n",
        "df['pizza_name'].value_counts().plot(kind='bar')"
      ]
    },
    {
      "cell_type": "markdown",
      "metadata": {},
      "source": [
        "Let's pull back to the dataset as a whole for a moment. Two major things that you will look for in almost any dataset are trends and relationships. A typical relationship between variables to explore is the Pearson correlation coefficient, or the extent to which two variables are linearly related.\n",
        "\n",
        "![](media/pearson_coefficient.png)"
      ]
    },
    {
      "cell_type": "markdown",
      "metadata": {},
      "source": [
        "The `corr` method will show this in table format for all the columns in a `DataFrame`:"
      ]
    },
    {
      "cell_type": "code",
      "execution_count": 78,
      "metadata": {},
      "outputs": [
        {
          "data": {
            "text/html": [
              "<div>\n",
              "<style scoped>\n",
              "    .dataframe tbody tr th:only-of-type {\n",
              "        vertical-align: middle;\n",
              "    }\n",
              "\n",
              "    .dataframe tbody tr th {\n",
              "        vertical-align: top;\n",
              "    }\n",
              "\n",
              "    .dataframe thead th {\n",
              "        text-align: right;\n",
              "    }\n",
              "</style>\n",
              "<table border=\"1\" class=\"dataframe\">\n",
              "  <thead>\n",
              "    <tr style=\"text-align: right;\">\n",
              "      <th></th>\n",
              "      <th>pizza_id</th>\n",
              "      <th>order_id</th>\n",
              "      <th>quantity</th>\n",
              "      <th>unit_price</th>\n",
              "      <th>total_price</th>\n",
              "      <th>pizza_size</th>\n",
              "      <th>num_of_ingredients</th>\n",
              "      <th>Hour</th>\n",
              "    </tr>\n",
              "  </thead>\n",
              "  <tbody>\n",
              "    <tr>\n",
              "      <th>pizza_id</th>\n",
              "      <td>1.000000</td>\n",
              "      <td>0.999930</td>\n",
              "      <td>-0.025671</td>\n",
              "      <td>-0.004410</td>\n",
              "      <td>-0.017074</td>\n",
              "      <td>-0.009226</td>\n",
              "      <td>0.008845</td>\n",
              "      <td>0.048508</td>\n",
              "    </tr>\n",
              "    <tr>\n",
              "      <th>order_id</th>\n",
              "      <td>0.999930</td>\n",
              "      <td>1.000000</td>\n",
              "      <td>-0.025856</td>\n",
              "      <td>-0.004408</td>\n",
              "      <td>-0.017147</td>\n",
              "      <td>-0.009251</td>\n",
              "      <td>0.008906</td>\n",
              "      <td>0.048209</td>\n",
              "    </tr>\n",
              "    <tr>\n",
              "      <th>quantity</th>\n",
              "      <td>-0.025671</td>\n",
              "      <td>-0.025856</td>\n",
              "      <td>1.000000</td>\n",
              "      <td>-0.019387</td>\n",
              "      <td>0.488917</td>\n",
              "      <td>-0.017983</td>\n",
              "      <td>-0.012829</td>\n",
              "      <td>-0.060411</td>\n",
              "    </tr>\n",
              "    <tr>\n",
              "      <th>unit_price</th>\n",
              "      <td>-0.004410</td>\n",
              "      <td>-0.004408</td>\n",
              "      <td>-0.019387</td>\n",
              "      <td>1.000000</td>\n",
              "      <td>0.854652</td>\n",
              "      <td>0.882504</td>\n",
              "      <td>0.361711</td>\n",
              "      <td>0.007356</td>\n",
              "    </tr>\n",
              "    <tr>\n",
              "      <th>total_price</th>\n",
              "      <td>-0.017074</td>\n",
              "      <td>-0.017147</td>\n",
              "      <td>0.488917</td>\n",
              "      <td>0.854652</td>\n",
              "      <td>1.000000</td>\n",
              "      <td>0.754092</td>\n",
              "      <td>0.308099</td>\n",
              "      <td>-0.023631</td>\n",
              "    </tr>\n",
              "    <tr>\n",
              "      <th>pizza_size</th>\n",
              "      <td>-0.009226</td>\n",
              "      <td>-0.009251</td>\n",
              "      <td>-0.017983</td>\n",
              "      <td>0.882504</td>\n",
              "      <td>0.754092</td>\n",
              "      <td>1.000000</td>\n",
              "      <td>0.150863</td>\n",
              "      <td>0.007086</td>\n",
              "    </tr>\n",
              "    <tr>\n",
              "      <th>num_of_ingredients</th>\n",
              "      <td>0.008845</td>\n",
              "      <td>0.008906</td>\n",
              "      <td>-0.012829</td>\n",
              "      <td>0.361711</td>\n",
              "      <td>0.308099</td>\n",
              "      <td>0.150863</td>\n",
              "      <td>1.000000</td>\n",
              "      <td>-0.003454</td>\n",
              "    </tr>\n",
              "    <tr>\n",
              "      <th>Hour</th>\n",
              "      <td>0.048508</td>\n",
              "      <td>0.048209</td>\n",
              "      <td>-0.060411</td>\n",
              "      <td>0.007356</td>\n",
              "      <td>-0.023631</td>\n",
              "      <td>0.007086</td>\n",
              "      <td>-0.003454</td>\n",
              "      <td>1.000000</td>\n",
              "    </tr>\n",
              "  </tbody>\n",
              "</table>\n",
              "</div>"
            ],
            "text/plain": [
              "                    pizza_id  order_id  quantity  unit_price  total_price  \\\n",
              "pizza_id            1.000000  0.999930 -0.025671   -0.004410    -0.017074   \n",
              "order_id            0.999930  1.000000 -0.025856   -0.004408    -0.017147   \n",
              "quantity           -0.025671 -0.025856  1.000000   -0.019387     0.488917   \n",
              "unit_price         -0.004410 -0.004408 -0.019387    1.000000     0.854652   \n",
              "total_price        -0.017074 -0.017147  0.488917    0.854652     1.000000   \n",
              "pizza_size         -0.009226 -0.009251 -0.017983    0.882504     0.754092   \n",
              "num_of_ingredients  0.008845  0.008906 -0.012829    0.361711     0.308099   \n",
              "Hour                0.048508  0.048209 -0.060411    0.007356    -0.023631   \n",
              "\n",
              "                    pizza_size  num_of_ingredients      Hour  \n",
              "pizza_id             -0.009226            0.008845  0.048508  \n",
              "order_id             -0.009251            0.008906  0.048209  \n",
              "quantity             -0.017983           -0.012829 -0.060411  \n",
              "unit_price            0.882504            0.361711  0.007356  \n",
              "total_price           0.754092            0.308099 -0.023631  \n",
              "pizza_size            1.000000            0.150863  0.007086  \n",
              "num_of_ingredients    0.150863            1.000000 -0.003454  \n",
              "Hour                  0.007086           -0.003454  1.000000  "
            ]
          },
          "execution_count": 78,
          "metadata": {},
          "output_type": "execute_result"
        }
      ],
      "source": [
        "df.corr(method='pearson')"
      ]
    },
    {
      "cell_type": "markdown",
      "metadata": {},
      "source": [
        "Suppose you wanted to look at the correlations between all the columns and only one variable. Let's examine the correlation between all other variables and the percentage of owner-occupied houses built before 1940 (AGE). You will do this by accessing the column by index number:"
      ]
    },
    {
      "cell_type": "code",
      "execution_count": 79,
      "metadata": {},
      "outputs": [
        {
          "data": {
            "text/plain": [
              "Hour                  1.000000\n",
              "pizza_id              0.048508\n",
              "order_id              0.048209\n",
              "unit_price            0.007356\n",
              "pizza_size            0.007086\n",
              "num_of_ingredients   -0.003454\n",
              "total_price          -0.023631\n",
              "quantity             -0.060411\n",
              "Name: Hour, dtype: float64"
            ]
          },
          "execution_count": 79,
          "metadata": {},
          "output_type": "execute_result"
        }
      ],
      "source": [
        "corr = df.corr(method='pearson')\n",
        "corr_with_homevalue = corr.iloc[-1]\n",
        "corr_with_homevalue[corr_with_homevalue.argsort()[::-1]]"
      ]
    },
    {
      "cell_type": "markdown",
      "metadata": {},
      "source": [
        "### heatmap"
      ]
    },
    {
      "cell_type": "markdown",
      "metadata": {},
      "source": [
        "Graphically, you can see the correlations using a heatmap from the Seaborn library:"
      ]
    },
    {
      "cell_type": "code",
      "execution_count": 80,
      "metadata": {},
      "outputs": [
        {
          "data": {
            "text/plain": [
              "<AxesSubplot:>"
            ]
          },
          "execution_count": 80,
          "metadata": {},
          "output_type": "execute_result"
        },
        {
          "data": {
            "image/png": "[encoded data removed]",
            "text/plain": [
              "<Figure size 640x480 with 2 Axes>"
            ]
          },
          "metadata": {},
          "output_type": "display_data"
        }
      ],
      "source": [
        "import matplotlib.pyplot as plt\n",
        "import seaborn as sns\n",
        "\n",
        "#The argument is a color palette that maps:\n",
        "# weak corr -> strong corr into light -> dark\n",
        "sns.heatmap(df.corr(),cmap=sns.cubehelix_palette(20, light=0.95, dark=0.15))"
      ]
    },
    {
      "cell_type": "markdown",
      "metadata": {},
      "source": [
        "### histplot"
      ]
    },
    {
      "cell_type": "markdown",
      "metadata": {},
      "source": [
        "Histograms are another valuable tool for investigating your data. For example, what is the overall distribution of orders across every day of the month?"
      ]
    },
    {
      "cell_type": "code",
      "execution_count": 81,
      "metadata": {},
      "outputs": [
        {
          "data": {
            "text/plain": [
              "<AxesSubplot:xlabel='order_date', ylabel='Count'>"
            ]
          },
          "execution_count": 81,
          "metadata": {},
          "output_type": "execute_result"
        },
        {
          "data": {
            "image/png": "[encoded data removed]",
            "text/plain": [
              "<Figure size 1000x400 with 1 Axes>"
            ]
          },
          "metadata": {},
          "output_type": "display_data"
        }
      ],
      "source": [
        "#(width, height) adjustment\n",
        "sns.set(rc={\"figure.figsize\":(10, 4)})\n",
        "#change color palette\n",
        "sns.set_palette(\"bright\")\n",
        "#print labels at a diagonal to fit them\n",
        "plt.xticks(rotation = 25)\n",
        "\n",
        "\n",
        "sns.histplot(df['order_date'])"
      ]
    },
    {
      "cell_type": "markdown",
      "metadata": {},
      "source": [
        "Histograms group data into intervals or \"bins\", we can set the binwidth argument to get more control over how wide the bars are:"
      ]
    },
    {
      "cell_type": "code",
      "execution_count": 82,
      "metadata": {},
      "outputs": [
        {
          "data": {
            "text/plain": [
              "<AxesSubplot:xlabel='Count', ylabel='order_date'>"
            ]
          },
          "execution_count": 82,
          "metadata": {},
          "output_type": "execute_result"
        },
        {
          "data": {
            "image/png": "[encoded data removed]",
            "text/plain": [
              "<Figure size 1000x400 with 1 Axes>"
            ]
          },
          "metadata": {},
          "output_type": "display_data"
        }
      ],
      "source": [
        "# Usually we just pass the Series directly, \n",
        "# but it has been explicitly assigned to the y-axis to fit the long text\n",
        "sns.histplot(y = df['order_date'], binwidth = 4)"
      ]
    },
    {
      "cell_type": "markdown",
      "metadata": {},
      "source": [
        "We can enable the `kde` parameter to obtain a Kernel Density Estimation curve, it serves as a continuous envelope for our histogram: "
      ]
    },
    {
      "cell_type": "code",
      "execution_count": 83,
      "metadata": {},
      "outputs": [
        {
          "data": {
            "text/plain": [
              "<AxesSubplot:xlabel='order_date', ylabel='Count'>"
            ]
          },
          "execution_count": 83,
          "metadata": {},
          "output_type": "execute_result"
        },
        {
          "data": {
            "image/png": "[encoded data removed]",
            "text/plain": [
              "<Figure size 1000x400 with 1 Axes>"
            ]
          },
          "metadata": {},
          "output_type": "display_data"
        }
      ],
      "source": [
        "plt.xticks(rotation = 25)\n",
        "sns.histplot(df['order_date'], binwidth = 4, kde=True)"
      ]
    },
    {
      "cell_type": "markdown",
      "metadata": {},
      "source": [
        "### jointplot"
      ]
    },
    {
      "cell_type": "markdown",
      "metadata": {},
      "source": [
        "Another commonly-used plot is the Seaborn jointplot, which combines histograms for two columns along with a scatterplot:"
      ]
    },
    {
      "cell_type": "code",
      "execution_count": 84,
      "metadata": {},
      "outputs": [
        {
          "data": {
            "text/plain": [
              "<seaborn.axisgrid.JointGrid at 0x17764488>"
            ]
          },
          "execution_count": 84,
          "metadata": {},
          "output_type": "execute_result"
        },
        {
          "data": {
            "image/png": "[encoded data removed]",
            "text/plain": [
              "<Figure size 600x600 with 3 Axes>"
            ]
          },
          "metadata": {},
          "output_type": "display_data"
        }
      ],
      "source": [
        "sns.jointplot(data = df, x = 'order_id', y = 'total_price', kind='scatter')"
      ]
    },
    {
      "cell_type": "markdown",
      "metadata": {},
      "source": [
        "Unfortunately, many of the dots print over each other. You can address this by adding some alpha blending, a figure that sets the transparency for the dots so that concentrations of them drawing over one another will be apparent:"
      ]
    },
    {
      "cell_type": "code",
      "execution_count": 85,
      "metadata": {},
      "outputs": [
        {
          "data": {
            "text/plain": [
              "<seaborn.axisgrid.JointGrid at 0x17db6948>"
            ]
          },
          "execution_count": 85,
          "metadata": {},
          "output_type": "execute_result"
        },
        {
          "data": {
            "image/png": "[encoded data removed]",
            "text/plain": [
              "<Figure size 600x600 with 3 Axes>"
            ]
          },
          "metadata": {},
          "output_type": "display_data"
        }
      ],
      "source": [
        "sns.jointplot(data = df, x = 'order_id', y = 'total_price', kind='scatter', alpha=0.3)"
      ]
    },
    {
      "cell_type": "markdown",
      "metadata": {},
      "source": [
        "### kdeplot"
      ]
    },
    {
      "cell_type": "markdown",
      "metadata": {},
      "source": [
        "Another way to see patterns in your data is with a two-dimensional KDE plot. Darker colors here represent a higher concentration of data points:"
      ]
    },
    {
      "cell_type": "code",
      "execution_count": 86,
      "metadata": {},
      "outputs": [
        {
          "data": {
            "text/plain": [
              "<AxesSubplot:xlabel='order_id', ylabel='total_price'>"
            ]
          },
          "execution_count": 86,
          "metadata": {},
          "output_type": "execute_result"
        },
        {
          "data": {
            "image/png": "[encoded data removed]",
            "text/plain": [
              "<Figure size 1000x400 with 1 Axes>"
            ]
          },
          "metadata": {},
          "output_type": "display_data"
        }
      ],
      "source": [
        "sns.kdeplot(data = df, x = 'order_id', y = 'total_price', fill=True)"
      ]
    },
    {
      "cell_type": "markdown",
      "metadata": {
        "collapsed": true
      },
      "source": [
        "Note that while the KDE plot is very good at showing concentrations of data points, finer structures like linear relationships (such as the clear relationship between the unit price and the total price) are lost in the KDE plot."
      ]
    },
    {
      "cell_type": "markdown",
      "metadata": {},
      "source": [
        "### Linear regression and pairplot"
      ]
    },
    {
      "cell_type": "markdown",
      "metadata": {},
      "source": [
        "Linear regression is an algorithm that attempts to show a linear relationship between two variables, it can be used to interpolate values between gaps in the x-axis and also as a rough indicator of where the data is headed when we extrapolate to x-axis values beyond the range we have at hand.\n",
        "\n",
        "![](media/linear_regression_example.png)"
      ]
    },
    {
      "cell_type": "markdown",
      "metadata": {},
      "source": [
        "In linear regression, the observations (red) are assumed to be the result of random deviations (green) from an underlying relationship (blue) between a dependent variable (y) and an independent variable (x)."
      ]
    },
    {
      "cell_type": "markdown",
      "metadata": {},
      "source": [
        "The pairplot in Seaborn allows you to see scatterplots and histograms for several columns in one table. Below, some of the keywords have been altered to produce a more sophisticated and easier to read pairplot that incorporates both alpha blending and linear regression lines for the scatterplots."
      ]
    },
    {
      "cell_type": "code",
      "execution_count": 87,
      "metadata": {},
      "outputs": [
        {
          "data": {
            "text/plain": [
              "<seaborn.axisgrid.PairGrid at 0x18a36e88>"
            ]
          },
          "execution_count": 87,
          "metadata": {},
          "output_type": "execute_result"
        },
        {
          "data": {
            "image/png": "[encoded data removed]",
            "text/plain": [
              "<Figure size 750x750 with 12 Axes>"
            ]
          },
          "metadata": {},
          "output_type": "display_data"
        }
      ],
      "source": [
        "sns.pairplot(df[['pizza_size', 'num_of_ingredients', 'total_price']], kind=\"reg\", plot_kws={'line_kws':{'color':'red'}, 'scatter_kws': {'alpha': 0.1}})"
      ]
    },
    {
      "cell_type": "markdown",
      "metadata": {},
      "source": [
        "### boxplot (Box & Whisker)"
      ]
    },
    {
      "cell_type": "markdown",
      "metadata": {},
      "source": [
        "Box plots are used to show the spread and distribution of data points across \"quartiles\". Quartiles divide our data series into quarters, therefore the three quartiles are defined as:\n",
        "\n",
        "* Q1: Lower quartile, 25% of the data is below this point.\n",
        "* Q2: Middle quartile (median), 50% of the data is below this point.\n",
        "* Q3: Upper quartile, 75% of the data is below this point."
      ]
    },
    {
      "cell_type": "markdown",
      "metadata": {},
      "source": [
        "![](media/box_plot.png)"
      ]
    },
    {
      "cell_type": "markdown",
      "metadata": {},
      "source": [
        "It is common to exclude outliers (typically >150% deviation from the mean), they are often still shown as single data points outside the box-whisker structure."
      ]
    },
    {
      "cell_type": "markdown",
      "metadata": {},
      "source": [
        "Let's see the distribution of pizza orders depending on the hour of day:"
      ]
    },
    {
      "cell_type": "code",
      "execution_count": 88,
      "metadata": {},
      "outputs": [
        {
          "data": {
            "text/plain": [
              "<AxesSubplot:xlabel='Hour'>"
            ]
          },
          "execution_count": 88,
          "metadata": {},
          "output_type": "execute_result"
        },
        {
          "data": {
            "image/png": "[encoded data removed]",
            "text/plain": [
              "<Figure size 1000x400 with 1 Axes>"
            ]
          },
          "metadata": {},
          "output_type": "display_data"
        }
      ],
      "source": [
        "sns.boxplot(x=df['Hour'])"
      ]
    },
    {
      "cell_type": "markdown",
      "metadata": {},
      "source": [
        "### Pie charts"
      ]
    },
    {
      "cell_type": "markdown",
      "metadata": {},
      "source": [
        "Pie charts round up our data into a 360° circle, the circle is then sliced up according to categories making it excellent for visualizing value counts of non-numerical data. Seaborn does not offer a pie chart utility at the moment, so we'll have to manually tweak Matplotlib to get what we want:"
      ]
    },
    {
      "cell_type": "code",
      "execution_count": 99,
      "metadata": {},
      "outputs": [
        {
          "data": {
            "image/png": "[encoded data removed]",
            "text/plain": [
              "<Figure size 1000x400 with 1 Axes>"
            ]
          },
          "metadata": {},
          "output_type": "display_data"
        }
      ],
      "source": [
        "categoryCounts = df['pizza_category'].value_counts()\n",
        "categoryNames = categoryCounts.index\n",
        "\n",
        "# pass the data, display percentages with 2 places after the decimal point\n",
        "plt.pie(x = categoryCounts, labels = categoryNames, autopct='%.2f%%')\n",
        "plt.show()"
      ]
    },
    {
      "cell_type": "markdown",
      "metadata": {
        "collapsed": true
      },
      "source": [
        "Visualization is the start of the really cool, fun part of data science. So play around with these visualization tools and see what you can learn from the data!"
      ]
    },
    {
      "cell_type": "markdown",
      "metadata": {},
      "source": [
        "> **Takeaway:** An old joke goes, “What do data scientists see when they look at a dataset? A bunch of numbers.” There is more than a little truth in that joke. Visualization is often the key to finding patterns and correlations in your data. While visualization cannot deliver precise results, it can point you in the right direction to ask better questions and efficiently find value in the data."
      ]
    }
  ],
  "metadata": {
    "anaconda-cloud": {},
    "kernelspec": {
      "display_name": "Python 3.7.7 64-bit",
      "language": "python",
      "name": "python3"
    },
    "language_info": {
      "codemirror_mode": {
        "name": "ipython",
        "version": 3
      },
      "file_extension": ".py",
      "mimetype": "text/x-python",
      "name": "python",
      "nbconvert_exporter": "python",
      "pygments_lexer": "ipython3",
      "version": "3.7.7"
    },
    "vscode": {
      "interpreter": {
        "hash": "e1bc3b8ba007694469a176c0f9047264bfe3db70b6f3c86f83b3a6badd2be025"
      }
    }
  },
  "nbformat": 4,
  "nbformat_minor": 1
}
