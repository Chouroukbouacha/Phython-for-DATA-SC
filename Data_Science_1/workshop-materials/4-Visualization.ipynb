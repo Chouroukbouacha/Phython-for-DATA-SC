{
 "cells": [
  {
   "cell_type": "markdown",
   "metadata": {},
   "source": [
    "# Visualizing data with Seaborn\n",
    "**TODO** Insert intro to visualizstion, why we do it and a small background on seaborn+matplotlib"
   ]
  },
  {
   "cell_type": "code",
   "execution_count": null,
   "metadata": {},
   "outputs": [],
   "source": [
    "##TODO code cell for importing stuff we need (pandas, seaborn, scikit maybe?)"
   ]
  },
  {
   "cell_type": "markdown",
   "metadata": {},
   "source": [
    "### Exploring `DataFrame` information\n",
    "**TODO** how to load dataset from csv(mystery_dataset), how to use df.info(), df.head() and df.tail()\n",
    "\n",
    "**TODO** talk about obtaining more practice datasets from scikit-learn, Kaggle"
   ]
  },
  {
   "cell_type": "markdown",
   "metadata": {},
   "source": []
  }
 ],
 "metadata": {
  "kernelspec": {
   "display_name": "Python 3.7.7 64-bit",
   "language": "python",
   "name": "python3"
  },
  "language_info": {
   "name": "python",
   "version": "3.7.7"
  },
  "orig_nbformat": 4,
  "vscode": {
   "interpreter": {
    "hash": "e1bc3b8ba007694469a176c0f9047264bfe3db70b6f3c86f83b3a6badd2be025"
   }
  }
 },
 "nbformat": 4,
 "nbformat_minor": 2
}
